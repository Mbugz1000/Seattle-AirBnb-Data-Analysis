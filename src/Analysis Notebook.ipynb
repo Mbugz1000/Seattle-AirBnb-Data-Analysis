{
 "cells": [
  {
   "cell_type": "markdown",
   "metadata": {
    "tags": []
   },
   "source": [
    "# Introduction\n",
    "\n",
    "In this notebook, I will analyse the Seattle AirBNB Dataset from [Inside AirBnb](http://insideairbnb.com/). I will follow the CRISP-DM process when analysing their data. The CRISP-DM stages are:\n",
    "- Business Understanding\n",
    "- Data Understanding\n",
    "- Data Preparation\n",
    "- Modelling\n",
    "- Evaluation\n",
    "- Deployment"
   ]
  },
  {
   "cell_type": "markdown",
   "metadata": {},
   "source": [
    "## Imports"
   ]
  },
  {
   "cell_type": "code",
   "execution_count": 179,
   "metadata": {},
   "outputs": [],
   "source": [
    "import pandas as pd\n",
    "import numpy as np\n",
    "import pandas_profiling as pp\n",
    "import altair as alt\n",
    "import matplotlib.pyplot as plt\n",
    "from geopy.distance import geodesic\n",
    "from multiprocessing import Pool\n",
    "from multiprocessing_fn import distance_method\n",
    "from sklearn.linear_model import LinearRegression\n",
    "from sklearn.model_selection import train_test_split\n",
    "from sklearn.metrics import r2_score, mean_squared_error\n",
    "from sklearn.preprocessing import FunctionTransformer\n",
    "import lightgbm as lgb\n",
    "import _pickle as cPickle\n",
    "import copy \n",
    "\n",
    "pd.set_option(\"display.max_columns\",50)\n",
    "alt.data_transformers.disable_max_rows()\n",
    "%matplotlib inline"
   ]
  },
  {
   "cell_type": "markdown",
   "metadata": {
    "tags": []
   },
   "source": [
    "# Business and Data Understanding\n",
    "\n",
    "I will answer the following 3 business questions:\n",
    "1. Is there a significant difference between the returns of verified and non-verified host's listings in Seattle?\n",
    "1. Is there a significant difference between the returns of super-Host Listings and Non-Superhost in Seattle?\n",
    "1. Does close proximity to competition/ certain kinds of competition affect returns of surrounding AirBnB listings?\n",
    "1. What factors strongly contribute to the price hosts set for their listings in Seattle?\n",
    "1. Do communication verification methods chosen by host linked to their communication reviews?"
   ]
  },
  {
   "cell_type": "code",
   "execution_count": 2,
   "metadata": {},
   "outputs": [],
   "source": [
    "data_dir = '../data'\n",
    "raw_dir = data_dir + '/raw'\n",
    "processed_dir = data_dir + '/processed'\n",
    "\n",
    "reviews_df = pd.read_csv(raw_dir + '/reviews.csv')\n",
    "calendar_df = pd.read_csv(raw_dir + '/calendar.csv')\n",
    "listings_df = pd.read_csv(raw_dir + '/listings.csv')\n",
    "\n",
    "reviews_df['date'] = pd.to_datetime(reviews_df['date'])\n",
    "calendar_df['date'] = pd.to_datetime(calendar_df['date'])\n",
    "listings_df['last_scraped'] = pd.to_datetime(listings_df['last_scraped'])\n",
    "listings_df['host_since'] = pd.to_datetime(listings_df['host_since'])"
   ]
  },
  {
   "cell_type": "code",
   "execution_count": 20,
   "metadata": {
    "tags": []
   },
   "outputs": [],
   "source": [
    "pp.ProfileReport(reviews_df).to_file(raw_dir + '/reviews_profile_report.html')\n",
    "\n",
    "pp.ProfileReport(calendar_df).to_file(raw_dir + '/calendar_profile_report.html')\n",
    "\n",
    "pp.ProfileReport(listings_df).to_file(raw_dir + '/listings_profile_report.html')"
   ]
  },
  {
   "cell_type": "markdown",
   "metadata": {},
   "source": [
    "I used the Profile Reports from Pandas Profiling as well as this [data dictionary](../../data/raw/Inside%20Airbnb%20Data%20Dictionary.xlsx) from InsideAirBnB to understand the Data. The profile reports can be found here:\n",
    "- [reviews_profile_report](../../data/raw/reviews_profile_report.html)\n",
    "- [calendar_profile_report](../../data/raw/calendar_profile_report.html)\n",
    "- [listings_profile_report](../../data/raw/listings_profile_report.html)"
   ]
  },
  {
   "cell_type": "markdown",
   "metadata": {
    "tags": []
   },
   "source": [
    "# Data Preparation"
   ]
  },
  {
   "cell_type": "markdown",
   "metadata": {
    "tags": []
   },
   "source": [
    "## Cleaning Dataset\n",
    " \n",
    " In this section, I fill nulls, drop unnecessary columns and correct datatypes"
   ]
  },
  {
   "cell_type": "code",
   "execution_count": 3,
   "metadata": {},
   "outputs": [],
   "source": [
    "# Selecting the columes required for the analysis\n",
    "listings_filtered_df = listings_df[['name', 'description', 'host_id','host_response_time', 'host_response_rate', 'host_acceptance_rate', 'host_is_superhost', 'host_listings_count',\n",
    "       'host_verifications', 'host_has_profile_pic', 'host_identity_verified', 'latitude',\n",
    "       'longitude', 'neighbourhood_group_cleansed', 'property_type', 'room_type', 'accommodates', 'bathrooms_text', 'bedrooms', 'beds', 'amenities', 'price',\n",
    "       'minimum_nights', 'availability_30', 'availability_60', 'availability_90', 'availability_365', 'number_of_reviews',\n",
    "       'number_of_reviews_ltm', 'number_of_reviews_l30d', 'review_scores_rating', 'review_scores_accuracy',\n",
    "       'review_scores_cleanliness', 'review_scores_checkin',  'review_scores_communication', 'review_scores_location', 'review_scores_value', 'calculated_host_listings_count',\n",
    "       'calculated_host_listings_count_entire_homes', 'calculated_host_listings_count_private_rooms', 'calculated_host_listings_count_shared_rooms', 'reviews_per_month']].copy()"
   ]
  },
  {
   "cell_type": "code",
   "execution_count": 4,
   "metadata": {},
   "outputs": [],
   "source": [
    "listings_filtered_df[['host_has_profile_pic', 'host_is_superhost', 'host_identity_verified']] = listings_filtered_df[['host_has_profile_pic', 'host_is_superhost', 'host_identity_verified']].replace({'t':True, 'f':False})"
   ]
  },
  {
   "cell_type": "code",
   "execution_count": 5,
   "metadata": {},
   "outputs": [],
   "source": [
    "# Filling Nulls\n",
    "for col in ['host_response_time', 'host_response_rate', 'host_acceptance_rate', 'bedrooms', 'beds', 'bathrooms_text']:\n",
    "    listings_filtered_df[col] = listings_filtered_df[col].fillna(listings_filtered_df[col].mode().iloc[0])\n",
    "    \n",
    "zero_cols = ['review_scores_rating', 'review_scores_accuracy', 'review_scores_cleanliness', 'review_scores_checkin', 'review_scores_communication', 'review_scores_location', 'review_scores_value', 'reviews_per_month']    \n",
    "listings_filtered_df[zero_cols] = listings_filtered_df[zero_cols].fillna(0)\n",
    "\n",
    "listings_filtered_df['description'] = listings_filtered_df['description'].fillna('')"
   ]
  },
  {
   "cell_type": "code",
   "execution_count": 6,
   "metadata": {},
   "outputs": [],
   "source": [
    "listings_filtered_df = listings_filtered_df.assign(host_response_rate=listings_filtered_df['host_response_rate'].replace('[\\%]', '', regex=True).astype(int))\n",
    "listings_filtered_df = listings_filtered_df.assign(host_acceptance_rate=listings_filtered_df['host_acceptance_rate'].replace('[\\%]', '', regex=True).astype(int))\n",
    "listings_filtered_df = listings_filtered_df.assign(bathrooms_text=listings_filtered_df['bathrooms_text'].replace('Half|half', '0.5', regex=True).replace('[\\sA-Za-z\\-]+', '', regex=True).astype(float))\n",
    "\n",
    "listings_filtered_df = listings_filtered_df.assign(price=listings_filtered_df['price'].replace('[\\$\\,]', '', regex=True).astype(float))"
   ]
  },
  {
   "cell_type": "markdown",
   "metadata": {
    "tags": []
   },
   "source": [
    "## Derive Occupancy, Income per month and Nights per year \n",
    "\n",
    "In this section, I use the occupancy model described [here](http://insideairbnb.com/about.html#disclaimers)  or [here](http://insideairbnb.com/seattle/?neighbourhood=&filterEntireHomes=false&filterHighlyAvailable=false&filterRecentReviews=false&filterMultiListings=false#) to calculate the mentioned features. "
   ]
  },
  {
   "cell_type": "code",
   "execution_count": 7,
   "metadata": {},
   "outputs": [],
   "source": [
    "listings_filtered_df['estimated_bookings'] = listings_filtered_df.number_of_reviews_ltm * 2\n",
    "\n",
    "listings_filtered_df['avg_length_of_stay'] = [min_nights if min_nights > 3 else 3 for min_nights in  listings_filtered_df['minimum_nights']]\n",
    "uncapped_nights_per_year  = listings_filtered_df['estimated_bookings'] * listings_filtered_df['avg_length_of_stay']\n",
    "\n",
    "# By limiting the nights to 255 in a year, we limit the occupancy to 70% as recommended by InsideAirBnB\n",
    "listings_filtered_df['nights_per_year'] = [255 if nights > 255 else nights for nights in uncapped_nights_per_year]\n",
    "listings_filtered_df['occupancy_rate'] = listings_filtered_df['nights_per_year']/365*100\n",
    "listings_filtered_df['income_per_month']  = listings_filtered_df['nights_per_year']*listings_filtered_df['price']/12"
   ]
  },
  {
   "cell_type": "markdown",
   "metadata": {
    "tags": []
   },
   "source": [
    "## Extract Other Features"
   ]
  },
  {
   "cell_type": "code",
   "execution_count": 8,
   "metadata": {
    "tags": []
   },
   "outputs": [],
   "source": [
    "def item_list_counter(items_series):\n",
    "    \"\"\"\n",
    "    This method takes a series that contains elements with list of strings and returns a dictionary that contains the total number of times each string in the lists \n",
    "    are mentioned in the entire series.\n",
    "    \n",
    "    :param series: Pandas Series object\n",
    "    :return: dict \n",
    "    \"\"\"\n",
    "    items_list = items_series.apply(eval).tolist()\n",
    "    counts_dict = {}\n",
    "    for i, items in enumerate(items_list):\n",
    "        for item in items:\n",
    "            if counts_dict.get(item, None) is None:\n",
    "                counts_dict[item] = 1\n",
    "            else:\n",
    "                counts_dict[item] += 1\n",
    "    return counts_dict"
   ]
  },
  {
   "cell_type": "markdown",
   "metadata": {
    "tags": []
   },
   "source": [
    "### Host verification methods"
   ]
  },
  {
   "cell_type": "code",
   "execution_count": 9,
   "metadata": {},
   "outputs": [
    {
     "name": "stdout",
     "output_type": "stream",
     "text": [
      "Wall time: 124 ms\n"
     ]
    },
    {
     "data": {
      "text/html": [
       "<div>\n",
       "<style scoped>\n",
       "    .dataframe tbody tr th:only-of-type {\n",
       "        vertical-align: middle;\n",
       "    }\n",
       "\n",
       "    .dataframe tbody tr th {\n",
       "        vertical-align: top;\n",
       "    }\n",
       "\n",
       "    .dataframe thead th {\n",
       "        text-align: right;\n",
       "    }\n",
       "</style>\n",
       "<table border=\"1\" class=\"dataframe\">\n",
       "  <thead>\n",
       "    <tr style=\"text-align: right;\">\n",
       "      <th></th>\n",
       "      <th>verif_email</th>\n",
       "      <th>verif_phone</th>\n",
       "      <th>verif_reviews</th>\n",
       "      <th>verif_jumio</th>\n",
       "      <th>verif_selfie</th>\n",
       "      <th>verif_facebook</th>\n",
       "      <th>verif_kba</th>\n",
       "      <th>verif_work_email</th>\n",
       "      <th>verif_google</th>\n",
       "    </tr>\n",
       "  </thead>\n",
       "  <tbody>\n",
       "    <tr>\n",
       "      <th>2438</th>\n",
       "      <td>1</td>\n",
       "      <td>1</td>\n",
       "      <td>0</td>\n",
       "      <td>0</td>\n",
       "      <td>0</td>\n",
       "      <td>0</td>\n",
       "      <td>0</td>\n",
       "      <td>0</td>\n",
       "      <td>0</td>\n",
       "    </tr>\n",
       "    <tr>\n",
       "      <th>1092</th>\n",
       "      <td>1</td>\n",
       "      <td>1</td>\n",
       "      <td>1</td>\n",
       "      <td>1</td>\n",
       "      <td>0</td>\n",
       "      <td>0</td>\n",
       "      <td>0</td>\n",
       "      <td>0</td>\n",
       "      <td>0</td>\n",
       "    </tr>\n",
       "    <tr>\n",
       "      <th>1506</th>\n",
       "      <td>1</td>\n",
       "      <td>1</td>\n",
       "      <td>1</td>\n",
       "      <td>1</td>\n",
       "      <td>1</td>\n",
       "      <td>0</td>\n",
       "      <td>0</td>\n",
       "      <td>0</td>\n",
       "      <td>0</td>\n",
       "    </tr>\n",
       "    <tr>\n",
       "      <th>2516</th>\n",
       "      <td>1</td>\n",
       "      <td>1</td>\n",
       "      <td>1</td>\n",
       "      <td>0</td>\n",
       "      <td>0</td>\n",
       "      <td>0</td>\n",
       "      <td>1</td>\n",
       "      <td>1</td>\n",
       "      <td>0</td>\n",
       "    </tr>\n",
       "    <tr>\n",
       "      <th>3816</th>\n",
       "      <td>0</td>\n",
       "      <td>1</td>\n",
       "      <td>1</td>\n",
       "      <td>0</td>\n",
       "      <td>1</td>\n",
       "      <td>0</td>\n",
       "      <td>0</td>\n",
       "      <td>0</td>\n",
       "      <td>0</td>\n",
       "    </tr>\n",
       "  </tbody>\n",
       "</table>\n",
       "</div>"
      ],
      "text/plain": [
       "      verif_email  verif_phone  verif_reviews  verif_jumio  verif_selfie  \\\n",
       "2438            1            1              0            0             0   \n",
       "1092            1            1              1            1             0   \n",
       "1506            1            1              1            1             1   \n",
       "2516            1            1              1            0             0   \n",
       "3816            0            1              1            0             1   \n",
       "\n",
       "      verif_facebook  verif_kba  verif_work_email  verif_google  \n",
       "2438               0          0                 0             0  \n",
       "1092               0          0                 0             0  \n",
       "1506               0          0                 0             0  \n",
       "2516               0          1                 1             0  \n",
       "3816               0          0                 0             0  "
      ]
     },
     "execution_count": 9,
     "metadata": {},
     "output_type": "execute_result"
    }
   ],
   "source": [
    "%%time\n",
    "verifications = listings_filtered_df.host_verifications.apply(eval).tolist()\n",
    "\n",
    "# Selecting the Top Verification options\n",
    "top_verification_options = ['email', 'phone', 'reviews', 'jumio', 'selfie', 'facebook', 'kba', 'work_email', 'google']  # 'identity_manual', 'offline_government_id', 'government_id', \n",
    "\n",
    "row_list = []\n",
    "row = {}\n",
    "for i, verif in enumerate(verifications):\n",
    "    for item in top_verification_options:\n",
    "        row[item] = int(item in verif)\n",
    "    row_list.append(copy.deepcopy(row))\n",
    "    \n",
    "verifications_df = pd.DataFrame(row_list)\n",
    "verifications_df.columns=['verif_'+col for col in top_verification_options]\n",
    "verifications_df.sample(5)"
   ]
  },
  {
   "cell_type": "markdown",
   "metadata": {
    "tags": []
   },
   "source": [
    "### Grouping Amenities\n",
    "\n",
    "In this section, I categorise the Amenities that are available in each listing"
   ]
  },
  {
   "cell_type": "code",
   "execution_count": 10,
   "metadata": {
    "tags": []
   },
   "outputs": [],
   "source": [
    "# Here we rank all amenities based on how often they are mentioned. We will use this to build categories for them\n",
    "amenity_counter = item_list_counter(listings_filtered_df.amenities)\n",
    "ammenity_counts_df = pd.DataFrame({'ammenity':amenity_counter.keys(), 'counts':amenity_counter.values()})\n",
    "ammenity_counts_df.sort_values(by=['counts'], ascending=False).to_csv(processed_dir + \"/ranking_of_ammenites.csv\")"
   ]
  },
  {
   "cell_type": "code",
   "execution_count": 11,
   "metadata": {
    "tags": []
   },
   "outputs": [
    {
     "name": "stdout",
     "output_type": "stream",
     "text": [
      "Wall time: 1min\n"
     ]
    },
    {
     "data": {
      "text/html": [
       "<div>\n",
       "<style scoped>\n",
       "    .dataframe tbody tr th:only-of-type {\n",
       "        vertical-align: middle;\n",
       "    }\n",
       "\n",
       "    .dataframe tbody tr th {\n",
       "        vertical-align: top;\n",
       "    }\n",
       "\n",
       "    .dataframe thead th {\n",
       "        text-align: right;\n",
       "    }\n",
       "</style>\n",
       "<table border=\"1\" class=\"dataframe\">\n",
       "  <thead>\n",
       "    <tr style=\"text-align: right;\">\n",
       "      <th></th>\n",
       "      <th>amen_TV</th>\n",
       "      <th>amen_TV_Entertainment</th>\n",
       "      <th>amen_Sound_System</th>\n",
       "      <th>amen_WorkSpace</th>\n",
       "      <th>amen_Internet</th>\n",
       "      <th>amen_Paid_Parking</th>\n",
       "      <th>amen_Free_Parking</th>\n",
       "      <th>amen_Clothing_Storage</th>\n",
       "      <th>amen_Linens</th>\n",
       "      <th>amen_House_Keeping</th>\n",
       "      <th>amen_Bathroom_Essentials</th>\n",
       "      <th>amen_Restuarant</th>\n",
       "      <th>amen_Breakfast</th>\n",
       "      <th>amen_Gym</th>\n",
       "      <th>amen_Pool_Sauna</th>\n",
       "      <th>amen_Games</th>\n",
       "      <th>amen_Children_Babies</th>\n",
       "      <th>amen_Dryer_Washer</th>\n",
       "      <th>amen_Backyard_Garden</th>\n",
       "      <th>amen_Beach_Water_Front</th>\n",
       "      <th>amen_Pets</th>\n",
       "      <th>amen_Kitchen</th>\n",
       "      <th>amen_Kitchen_Appliances</th>\n",
       "      <th>amen_Cooking_Dishes</th>\n",
       "      <th>amen_Host_Greeting</th>\n",
       "      <th>amen_Long_Term_Stay</th>\n",
       "      <th>amen_Indoor_Fireplace</th>\n",
       "      <th>amen_Outdoor</th>\n",
       "      <th>amen_Air_Conditioning</th>\n",
       "      <th>amen_Heating</th>\n",
       "      <th>amen_Safety_Security_First_Aid</th>\n",
       "      <th>amen_Staff</th>\n",
       "    </tr>\n",
       "  </thead>\n",
       "  <tbody>\n",
       "    <tr>\n",
       "      <th>1766</th>\n",
       "      <td>1</td>\n",
       "      <td>0</td>\n",
       "      <td>0</td>\n",
       "      <td>0</td>\n",
       "      <td>1</td>\n",
       "      <td>0</td>\n",
       "      <td>1</td>\n",
       "      <td>1</td>\n",
       "      <td>2</td>\n",
       "      <td>1</td>\n",
       "      <td>2</td>\n",
       "      <td>0</td>\n",
       "      <td>1</td>\n",
       "      <td>0</td>\n",
       "      <td>0</td>\n",
       "      <td>0</td>\n",
       "      <td>0</td>\n",
       "      <td>4</td>\n",
       "      <td>1</td>\n",
       "      <td>0</td>\n",
       "      <td>0</td>\n",
       "      <td>1</td>\n",
       "      <td>5</td>\n",
       "      <td>2</td>\n",
       "      <td>0</td>\n",
       "      <td>1</td>\n",
       "      <td>0</td>\n",
       "      <td>3</td>\n",
       "      <td>1</td>\n",
       "      <td>1</td>\n",
       "      <td>3</td>\n",
       "      <td>0</td>\n",
       "    </tr>\n",
       "    <tr>\n",
       "      <th>4066</th>\n",
       "      <td>1</td>\n",
       "      <td>0</td>\n",
       "      <td>0</td>\n",
       "      <td>0</td>\n",
       "      <td>1</td>\n",
       "      <td>0</td>\n",
       "      <td>0</td>\n",
       "      <td>1</td>\n",
       "      <td>1</td>\n",
       "      <td>1</td>\n",
       "      <td>2</td>\n",
       "      <td>0</td>\n",
       "      <td>0</td>\n",
       "      <td>0</td>\n",
       "      <td>0</td>\n",
       "      <td>0</td>\n",
       "      <td>0</td>\n",
       "      <td>1</td>\n",
       "      <td>0</td>\n",
       "      <td>0</td>\n",
       "      <td>0</td>\n",
       "      <td>1</td>\n",
       "      <td>4</td>\n",
       "      <td>0</td>\n",
       "      <td>0</td>\n",
       "      <td>1</td>\n",
       "      <td>0</td>\n",
       "      <td>1</td>\n",
       "      <td>0</td>\n",
       "      <td>1</td>\n",
       "      <td>3</td>\n",
       "      <td>0</td>\n",
       "    </tr>\n",
       "    <tr>\n",
       "      <th>1788</th>\n",
       "      <td>1</td>\n",
       "      <td>0</td>\n",
       "      <td>0</td>\n",
       "      <td>1</td>\n",
       "      <td>1</td>\n",
       "      <td>0</td>\n",
       "      <td>2</td>\n",
       "      <td>1</td>\n",
       "      <td>2</td>\n",
       "      <td>1</td>\n",
       "      <td>3</td>\n",
       "      <td>0</td>\n",
       "      <td>0</td>\n",
       "      <td>0</td>\n",
       "      <td>0</td>\n",
       "      <td>0</td>\n",
       "      <td>3</td>\n",
       "      <td>4</td>\n",
       "      <td>1</td>\n",
       "      <td>0</td>\n",
       "      <td>0</td>\n",
       "      <td>0</td>\n",
       "      <td>5</td>\n",
       "      <td>2</td>\n",
       "      <td>0</td>\n",
       "      <td>1</td>\n",
       "      <td>0</td>\n",
       "      <td>2</td>\n",
       "      <td>3</td>\n",
       "      <td>1</td>\n",
       "      <td>7</td>\n",
       "      <td>0</td>\n",
       "    </tr>\n",
       "    <tr>\n",
       "      <th>874</th>\n",
       "      <td>1</td>\n",
       "      <td>0</td>\n",
       "      <td>0</td>\n",
       "      <td>0</td>\n",
       "      <td>1</td>\n",
       "      <td>0</td>\n",
       "      <td>2</td>\n",
       "      <td>0</td>\n",
       "      <td>0</td>\n",
       "      <td>1</td>\n",
       "      <td>1</td>\n",
       "      <td>0</td>\n",
       "      <td>0</td>\n",
       "      <td>0</td>\n",
       "      <td>0</td>\n",
       "      <td>0</td>\n",
       "      <td>0</td>\n",
       "      <td>4</td>\n",
       "      <td>0</td>\n",
       "      <td>0</td>\n",
       "      <td>0</td>\n",
       "      <td>1</td>\n",
       "      <td>1</td>\n",
       "      <td>0</td>\n",
       "      <td>0</td>\n",
       "      <td>0</td>\n",
       "      <td>0</td>\n",
       "      <td>0</td>\n",
       "      <td>0</td>\n",
       "      <td>1</td>\n",
       "      <td>2</td>\n",
       "      <td>0</td>\n",
       "    </tr>\n",
       "    <tr>\n",
       "      <th>877</th>\n",
       "      <td>0</td>\n",
       "      <td>2</td>\n",
       "      <td>0</td>\n",
       "      <td>1</td>\n",
       "      <td>1</td>\n",
       "      <td>0</td>\n",
       "      <td>1</td>\n",
       "      <td>1</td>\n",
       "      <td>2</td>\n",
       "      <td>1</td>\n",
       "      <td>3</td>\n",
       "      <td>0</td>\n",
       "      <td>1</td>\n",
       "      <td>0</td>\n",
       "      <td>0</td>\n",
       "      <td>0</td>\n",
       "      <td>1</td>\n",
       "      <td>4</td>\n",
       "      <td>0</td>\n",
       "      <td>0</td>\n",
       "      <td>0</td>\n",
       "      <td>1</td>\n",
       "      <td>8</td>\n",
       "      <td>4</td>\n",
       "      <td>0</td>\n",
       "      <td>1</td>\n",
       "      <td>0</td>\n",
       "      <td>0</td>\n",
       "      <td>0</td>\n",
       "      <td>1</td>\n",
       "      <td>4</td>\n",
       "      <td>0</td>\n",
       "    </tr>\n",
       "  </tbody>\n",
       "</table>\n",
       "</div>"
      ],
      "text/plain": [
       "      amen_TV  amen_TV_Entertainment  amen_Sound_System  amen_WorkSpace  \\\n",
       "1766        1                      0                  0               0   \n",
       "4066        1                      0                  0               0   \n",
       "1788        1                      0                  0               1   \n",
       "874         1                      0                  0               0   \n",
       "877         0                      2                  0               1   \n",
       "\n",
       "      amen_Internet  amen_Paid_Parking  amen_Free_Parking  \\\n",
       "1766              1                  0                  1   \n",
       "4066              1                  0                  0   \n",
       "1788              1                  0                  2   \n",
       "874               1                  0                  2   \n",
       "877               1                  0                  1   \n",
       "\n",
       "      amen_Clothing_Storage  amen_Linens  amen_House_Keeping  \\\n",
       "1766                      1            2                   1   \n",
       "4066                      1            1                   1   \n",
       "1788                      1            2                   1   \n",
       "874                       0            0                   1   \n",
       "877                       1            2                   1   \n",
       "\n",
       "      amen_Bathroom_Essentials  amen_Restuarant  amen_Breakfast  amen_Gym  \\\n",
       "1766                         2                0               1         0   \n",
       "4066                         2                0               0         0   \n",
       "1788                         3                0               0         0   \n",
       "874                          1                0               0         0   \n",
       "877                          3                0               1         0   \n",
       "\n",
       "      amen_Pool_Sauna  amen_Games  amen_Children_Babies  amen_Dryer_Washer  \\\n",
       "1766                0           0                     0                  4   \n",
       "4066                0           0                     0                  1   \n",
       "1788                0           0                     3                  4   \n",
       "874                 0           0                     0                  4   \n",
       "877                 0           0                     1                  4   \n",
       "\n",
       "      amen_Backyard_Garden  amen_Beach_Water_Front  amen_Pets  amen_Kitchen  \\\n",
       "1766                     1                       0          0             1   \n",
       "4066                     0                       0          0             1   \n",
       "1788                     1                       0          0             0   \n",
       "874                      0                       0          0             1   \n",
       "877                      0                       0          0             1   \n",
       "\n",
       "      amen_Kitchen_Appliances  amen_Cooking_Dishes  amen_Host_Greeting  \\\n",
       "1766                        5                    2                   0   \n",
       "4066                        4                    0                   0   \n",
       "1788                        5                    2                   0   \n",
       "874                         1                    0                   0   \n",
       "877                         8                    4                   0   \n",
       "\n",
       "      amen_Long_Term_Stay  amen_Indoor_Fireplace  amen_Outdoor  \\\n",
       "1766                    1                      0             3   \n",
       "4066                    1                      0             1   \n",
       "1788                    1                      0             2   \n",
       "874                     0                      0             0   \n",
       "877                     1                      0             0   \n",
       "\n",
       "      amen_Air_Conditioning  amen_Heating  amen_Safety_Security_First_Aid  \\\n",
       "1766                      1             1                               3   \n",
       "4066                      0             1                               3   \n",
       "1788                      3             1                               7   \n",
       "874                       0             1                               2   \n",
       "877                       0             1                               4   \n",
       "\n",
       "      amen_Staff  \n",
       "1766           0  \n",
       "4066           0  \n",
       "1788           0  \n",
       "874            0  \n",
       "877            0  "
      ]
     },
     "execution_count": 11,
     "metadata": {},
     "output_type": "execute_result"
    }
   ],
   "source": [
    "%%time\n",
    "with open(processed_dir + '/ammenity_categories.txt') as fp:\n",
    "    out = fp.read()\n",
    "\n",
    "categories = []\n",
    "categories\n",
    "for string_ in out.split('\\n'):\n",
    "    if string_ == '':\n",
    "        break\n",
    "    categories.append(tuple(string_.split(':')))\n",
    "\n",
    "amenities = listings_filtered_df.amenities.apply(eval).tolist()\n",
    "\n",
    "row_list = []\n",
    "row = {}\n",
    "for amen in amenities:\n",
    "    for item, categ_name in categories:\n",
    "        row[categ_name] = pd.Series(amen).str.contains('(?i)'+item, regex=True).sum()\n",
    "        \n",
    "    row_list.append(copy.deepcopy(row))\n",
    "    \n",
    "amenities_df = pd.DataFrame(row_list)\n",
    "amenities_df['TV'] = amenities_df['TV'] - amenities_df['TV_Entertainment']  # We separate TV with entertainment options from a TV set amenity\n",
    "amenities_df.loc[amenities_df['TV'] < 0, 'TV'] = 0\n",
    "\n",
    "amenities_df.columns=['amen_'+col for col in amenities_df.columns]\n",
    "amenities_df.sample(5)"
   ]
  },
  {
   "cell_type": "markdown",
   "metadata": {
    "tags": []
   },
   "source": [
    "### Proximity to Other Listings\n",
    "\n",
    "In this section, I categorise the listings based on their proximity to other listings. The median distance between any 2 listings is about 5 km, so I choose categories below this value. i.e: below 500m, 500-1.5km and 1.5-4km"
   ]
  },
  {
   "cell_type": "code",
   "execution_count": 12,
   "metadata": {
    "tags": []
   },
   "outputs": [
    {
     "name": "stdout",
     "output_type": "stream",
     "text": [
      "Wall time: 14.6 s\n"
     ]
    }
   ],
   "source": [
    "%%time\n",
    "# Measuring Similarity\n",
    "similar_locations_bool = [(listings_filtered_df[['property_type', 'bedrooms', 'beds']] == listings_filtered_df[['property_type', 'bedrooms', 'beds']].iloc[i]).sum(axis=1) >= 3 for i in range(listings_filtered_df.shape[0])]"
   ]
  },
  {
   "cell_type": "code",
   "execution_count": 13,
   "metadata": {
    "tags": []
   },
   "outputs": [],
   "source": [
    "index = listings_filtered_df.index.tolist()\n",
    "lat_long_values = listings_filtered_df[['latitude','longitude']].values\n",
    "\n",
    "list_of_lists = list(zip(list(lat_long_values), [lat_long_values]*len(lat_long_values), similar_locations_bool))"
   ]
  },
  {
   "cell_type": "code",
   "execution_count": 15,
   "metadata": {},
   "outputs": [
    {
     "data": {
      "text/plain": [
       "(array([4., 1., 2., 3., 6., 5., 7., 8.]),\n",
       " array([ 4.,  1.,  2.,  3.,  5.,  0., 13.,  8.,  7.,  6., 14., 10., 15.,\n",
       "         9., 16., 19., 12., 11.]))"
      ]
     },
     "execution_count": 15,
     "metadata": {},
     "output_type": "execute_result"
    }
   ],
   "source": [
    "listings_filtered_df.bedrooms.unique(), listings_filtered_df.beds.unique()"
   ]
  },
  {
   "cell_type": "code",
   "execution_count": 16,
   "metadata": {
    "tags": []
   },
   "outputs": [
    {
     "name": "stdout",
     "output_type": "stream",
     "text": [
      "Wall time: 16min 58s\n"
     ]
    }
   ],
   "source": [
    "%%time\n",
    "pool = Pool(8)\n",
    "distances_list = pool.map(distance_method, list_of_lists)\n",
    "pool.close()"
   ]
  },
  {
   "cell_type": "code",
   "execution_count": 18,
   "metadata": {},
   "outputs": [],
   "source": [
    "distances_df = pd.DataFrame(distances_list, columns=['dist_500m', 'dist_1500m', 'dist_4000m'])"
   ]
  },
  {
   "cell_type": "code",
   "execution_count": 19,
   "metadata": {},
   "outputs": [
    {
     "data": {
      "text/html": [
       "<div>\n",
       "<style scoped>\n",
       "    .dataframe tbody tr th:only-of-type {\n",
       "        vertical-align: middle;\n",
       "    }\n",
       "\n",
       "    .dataframe tbody tr th {\n",
       "        vertical-align: top;\n",
       "    }\n",
       "\n",
       "    .dataframe thead th {\n",
       "        text-align: right;\n",
       "    }\n",
       "</style>\n",
       "<table border=\"1\" class=\"dataframe\">\n",
       "  <thead>\n",
       "    <tr style=\"text-align: right;\">\n",
       "      <th></th>\n",
       "      <th>dist_500m</th>\n",
       "      <th>dist_1500m</th>\n",
       "      <th>dist_4000m</th>\n",
       "    </tr>\n",
       "  </thead>\n",
       "  <tbody>\n",
       "    <tr>\n",
       "      <th>586</th>\n",
       "      <td>5</td>\n",
       "      <td>15</td>\n",
       "      <td>46</td>\n",
       "    </tr>\n",
       "    <tr>\n",
       "      <th>2244</th>\n",
       "      <td>1</td>\n",
       "      <td>6</td>\n",
       "      <td>34</td>\n",
       "    </tr>\n",
       "    <tr>\n",
       "      <th>1287</th>\n",
       "      <td>1</td>\n",
       "      <td>1</td>\n",
       "      <td>12</td>\n",
       "    </tr>\n",
       "    <tr>\n",
       "      <th>2732</th>\n",
       "      <td>10</td>\n",
       "      <td>29</td>\n",
       "      <td>75</td>\n",
       "    </tr>\n",
       "    <tr>\n",
       "      <th>2048</th>\n",
       "      <td>2</td>\n",
       "      <td>7</td>\n",
       "      <td>16</td>\n",
       "    </tr>\n",
       "  </tbody>\n",
       "</table>\n",
       "</div>"
      ],
      "text/plain": [
       "      dist_500m  dist_1500m  dist_4000m\n",
       "586           5          15          46\n",
       "2244          1           6          34\n",
       "1287          1           1          12\n",
       "2732         10          29          75\n",
       "2048          2           7          16"
      ]
     },
     "execution_count": 19,
     "metadata": {},
     "output_type": "execute_result"
    }
   ],
   "source": [
    "distances_df.sample(5)"
   ]
  },
  {
   "cell_type": "code",
   "execution_count": 29,
   "metadata": {},
   "outputs": [
    {
     "data": {
      "text/html": [
       "\n",
       "<div id=\"altair-viz-49c60c8f393142d99fc7e1af6bbc501b\"></div>\n",
       "<script type=\"text/javascript\">\n",
       "  (function(spec, embedOpt){\n",
       "    let outputDiv = document.currentScript.previousElementSibling;\n",
       "    if (outputDiv.id !== \"altair-viz-49c60c8f393142d99fc7e1af6bbc501b\") {\n",
       "      outputDiv = document.getElementById(\"altair-viz-49c60c8f393142d99fc7e1af6bbc501b\");\n",
       "    }\n",
       "    const paths = {\n",
       "      \"vega\": \"https://cdn.jsdelivr.net/npm//vega@5?noext\",\n",
       "      \"vega-lib\": \"https://cdn.jsdelivr.net/npm//vega-lib?noext\",\n",
       "      \"vega-lite\": \"https://cdn.jsdelivr.net/npm//vega-lite@4.8.1?noext\",\n",
       "      \"vega-embed\": \"https://cdn.jsdelivr.net/npm//vega-embed@6?noext\",\n",
       "    };\n",
       "\n",
       "    function loadScript(lib) {\n",
       "      return new Promise(function(resolve, reject) {\n",
       "        var s = document.createElement('script');\n",
       "        s.src = paths[lib];\n",
       "        s.async = true;\n",
       "        s.onload = () => resolve(paths[lib]);\n",
       "        s.onerror = () => reject(`Error loading script: ${paths[lib]}`);\n",
       "        document.getElementsByTagName(\"head\")[0].appendChild(s);\n",
       "      });\n",
       "    }\n",
       "\n",
       "    function showError(err) {\n",
       "      outputDiv.innerHTML = `<div class=\"error\" style=\"color:red;\">${err}</div>`;\n",
       "      throw err;\n",
       "    }\n",
       "\n",
       "    function displayChart(vegaEmbed) {\n",
       "      vegaEmbed(outputDiv, spec, embedOpt)\n",
       "        .catch(err => showError(`Javascript Error: ${err.message}<br>This usually means there's a typo in your chart specification. See the javascript console for the full traceback.`));\n",
       "    }\n",
       "\n",
       "    if(typeof define === \"function\" && define.amd) {\n",
       "      requirejs.config({paths});\n",
       "      require([\"vega-embed\"], displayChart, err => showError(`Error loading script: ${err.message}`));\n",
       "    } else if (typeof vegaEmbed === \"function\") {\n",
       "      displayChart(vegaEmbed);\n",
       "    } else {\n",
       "      loadScript(\"vega\")\n",
       "        .then(() => loadScript(\"vega-lite\"))\n",
       "        .then(() => loadScript(\"vega-embed\"))\n",
       "        .catch(showError)\n",
       "        .then(() => displayChart(vegaEmbed));\n",
       "    }\n",
       "  })({\"config\": {\"view\": {\"continuousWidth\": 400, \"continuousHeight\": 300}}, \"data\": {\"name\": \"data-d6db3369e75fd4f6a4f91abe32e580cc\"}, \"mark\": \"bar\", \"encoding\": {\"x\": {\"type\": \"quantitative\", \"bin\": {\"step\": 1}, \"field\": \"dist_500m\"}, \"y\": {\"type\": \"quantitative\", \"aggregate\": \"count\"}}, \"$schema\": \"https://vega.github.io/schema/vega-lite/v4.8.1.json\", \"datasets\": {\"data-d6db3369e75fd4f6a4f91abe32e580cc\": [{\"dist_500m\": 2, \"dist_1500m\": 5, \"dist_4000m\": 7}, {\"dist_500m\": 3, \"dist_1500m\": 8, \"dist_4000m\": 36}, {\"dist_500m\": 2, \"dist_1500m\": 2, \"dist_4000m\": 2}, {\"dist_500m\": 1, \"dist_1500m\": 1, \"dist_4000m\": 9}, {\"dist_500m\": 1, \"dist_1500m\": 4, \"dist_4000m\": 11}, {\"dist_500m\": 2, \"dist_1500m\": 5, \"dist_4000m\": 26}, {\"dist_500m\": 1, \"dist_1500m\": 1, \"dist_4000m\": 3}, {\"dist_500m\": 4, \"dist_1500m\": 13, \"dist_4000m\": 41}, {\"dist_500m\": 3, \"dist_1500m\": 5, \"dist_4000m\": 27}, {\"dist_500m\": 2, \"dist_1500m\": 17, \"dist_4000m\": 54}, {\"dist_500m\": 1, \"dist_1500m\": 1, \"dist_4000m\": 4}, {\"dist_500m\": 8, \"dist_1500m\": 12, \"dist_4000m\": 106}, {\"dist_500m\": 2, \"dist_1500m\": 27, \"dist_4000m\": 185}, {\"dist_500m\": 1, \"dist_1500m\": 2, \"dist_4000m\": 21}, {\"dist_500m\": 1, \"dist_1500m\": 2, \"dist_4000m\": 12}, {\"dist_500m\": 2, \"dist_1500m\": 20, \"dist_4000m\": 139}, {\"dist_500m\": 4, \"dist_1500m\": 5, \"dist_4000m\": 16}, {\"dist_500m\": 2, \"dist_1500m\": 11, \"dist_4000m\": 65}, {\"dist_500m\": 1, \"dist_1500m\": 1, \"dist_4000m\": 8}, {\"dist_500m\": 1, \"dist_1500m\": 4, \"dist_4000m\": 7}, {\"dist_500m\": 1, \"dist_1500m\": 1, \"dist_4000m\": 1}, {\"dist_500m\": 5, \"dist_1500m\": 15, \"dist_4000m\": 72}, {\"dist_500m\": 12, \"dist_1500m\": 31, \"dist_4000m\": 40}, {\"dist_500m\": 26, \"dist_1500m\": 54, \"dist_4000m\": 101}, {\"dist_500m\": 2, \"dist_1500m\": 2, \"dist_4000m\": 2}, {\"dist_500m\": 5, \"dist_1500m\": 5, \"dist_4000m\": 5}, {\"dist_500m\": 2, \"dist_1500m\": 9, \"dist_4000m\": 29}, {\"dist_500m\": 2, \"dist_1500m\": 10, \"dist_4000m\": 35}, {\"dist_500m\": 2, \"dist_1500m\": 11, \"dist_4000m\": 219}, {\"dist_500m\": 3, \"dist_1500m\": 14, \"dist_4000m\": 123}, {\"dist_500m\": 3, \"dist_1500m\": 17, \"dist_4000m\": 68}, {\"dist_500m\": 58, \"dist_1500m\": 91, \"dist_4000m\": 111}, {\"dist_500m\": 1, \"dist_1500m\": 9, \"dist_4000m\": 28}, {\"dist_500m\": 4, \"dist_1500m\": 22, \"dist_4000m\": 91}, {\"dist_500m\": 12, \"dist_1500m\": 37, \"dist_4000m\": 40}, {\"dist_500m\": 1, \"dist_1500m\": 1, \"dist_4000m\": 32}, {\"dist_500m\": 5, \"dist_1500m\": 45, \"dist_4000m\": 102}, {\"dist_500m\": 6, \"dist_1500m\": 42, \"dist_4000m\": 221}, {\"dist_500m\": 2, \"dist_1500m\": 8, \"dist_4000m\": 19}, {\"dist_500m\": 1, \"dist_1500m\": 1, \"dist_4000m\": 3}, {\"dist_500m\": 2, \"dist_1500m\": 15, \"dist_4000m\": 96}, {\"dist_500m\": 3, \"dist_1500m\": 44, \"dist_4000m\": 75}, {\"dist_500m\": 1, \"dist_1500m\": 2, \"dist_4000m\": 3}, {\"dist_500m\": 1, \"dist_1500m\": 1, \"dist_4000m\": 1}, {\"dist_500m\": 3, \"dist_1500m\": 24, \"dist_4000m\": 109}, {\"dist_500m\": 21, \"dist_1500m\": 143, \"dist_4000m\": 340}, {\"dist_500m\": 2, \"dist_1500m\": 12, \"dist_4000m\": 68}, {\"dist_500m\": 1, \"dist_1500m\": 3, \"dist_4000m\": 4}, {\"dist_500m\": 1, \"dist_1500m\": 1, \"dist_4000m\": 2}, {\"dist_500m\": 2, \"dist_1500m\": 6, \"dist_4000m\": 22}, {\"dist_500m\": 3, \"dist_1500m\": 11, \"dist_4000m\": 59}, {\"dist_500m\": 1, \"dist_1500m\": 1, \"dist_4000m\": 1}, {\"dist_500m\": 3, \"dist_1500m\": 11, \"dist_4000m\": 32}, {\"dist_500m\": 5, \"dist_1500m\": 13, \"dist_4000m\": 72}, {\"dist_500m\": 14, \"dist_1500m\": 93, \"dist_4000m\": 303}, {\"dist_500m\": 2, \"dist_1500m\": 15, \"dist_4000m\": 96}, {\"dist_500m\": 2, \"dist_1500m\": 2, \"dist_4000m\": 2}, {\"dist_500m\": 2, \"dist_1500m\": 2, \"dist_4000m\": 2}, {\"dist_500m\": 3, \"dist_1500m\": 7, \"dist_4000m\": 69}, {\"dist_500m\": 5, \"dist_1500m\": 13, \"dist_4000m\": 72}, {\"dist_500m\": 5, \"dist_1500m\": 5, \"dist_4000m\": 5}, {\"dist_500m\": 18, \"dist_1500m\": 190, \"dist_4000m\": 308}, {\"dist_500m\": 1, \"dist_1500m\": 4, \"dist_4000m\": 34}, {\"dist_500m\": 13, \"dist_1500m\": 87, \"dist_4000m\": 124}, {\"dist_500m\": 3, \"dist_1500m\": 7, \"dist_4000m\": 16}, {\"dist_500m\": 1, \"dist_1500m\": 2, \"dist_4000m\": 6}, {\"dist_500m\": 1, \"dist_1500m\": 11, \"dist_4000m\": 38}, {\"dist_500m\": 2, \"dist_1500m\": 21, \"dist_4000m\": 135}, {\"dist_500m\": 2, \"dist_1500m\": 17, \"dist_4000m\": 88}, {\"dist_500m\": 14, \"dist_1500m\": 50, \"dist_4000m\": 119}, {\"dist_500m\": 17, \"dist_1500m\": 32, \"dist_4000m\": 75}, {\"dist_500m\": 1, \"dist_1500m\": 1, \"dist_4000m\": 2}, {\"dist_500m\": 16, \"dist_1500m\": 82, \"dist_4000m\": 122}, {\"dist_500m\": 1, \"dist_1500m\": 1, \"dist_4000m\": 4}, {\"dist_500m\": 5, \"dist_1500m\": 5, \"dist_4000m\": 5}, {\"dist_500m\": 1, \"dist_1500m\": 2, \"dist_4000m\": 7}, {\"dist_500m\": 3, \"dist_1500m\": 27, \"dist_4000m\": 69}, {\"dist_500m\": 4, \"dist_1500m\": 7, \"dist_4000m\": 46}, {\"dist_500m\": 1, \"dist_1500m\": 1, \"dist_4000m\": 56}, {\"dist_500m\": 1, \"dist_1500m\": 7, \"dist_4000m\": 46}, {\"dist_500m\": 4, \"dist_1500m\": 11, \"dist_4000m\": 67}, {\"dist_500m\": 2, \"dist_1500m\": 6, \"dist_4000m\": 177}, {\"dist_500m\": 2, \"dist_1500m\": 13, \"dist_4000m\": 21}, {\"dist_500m\": 3, \"dist_1500m\": 6, \"dist_4000m\": 20}, {\"dist_500m\": 3, \"dist_1500m\": 6, \"dist_4000m\": 13}, {\"dist_500m\": 2, \"dist_1500m\": 17, \"dist_4000m\": 77}, {\"dist_500m\": 1, \"dist_1500m\": 1, \"dist_4000m\": 1}, {\"dist_500m\": 10, \"dist_1500m\": 18, \"dist_4000m\": 298}, {\"dist_500m\": 2, \"dist_1500m\": 3, \"dist_4000m\": 14}, {\"dist_500m\": 2, \"dist_1500m\": 7, \"dist_4000m\": 19}, {\"dist_500m\": 1, \"dist_1500m\": 7, \"dist_4000m\": 47}, {\"dist_500m\": 26, \"dist_1500m\": 59, \"dist_4000m\": 101}, {\"dist_500m\": 7, \"dist_1500m\": 27, \"dist_4000m\": 115}, {\"dist_500m\": 6, \"dist_1500m\": 27, \"dist_4000m\": 63}, {\"dist_500m\": 1, \"dist_1500m\": 5, \"dist_4000m\": 12}, {\"dist_500m\": 1, \"dist_1500m\": 6, \"dist_4000m\": 6}, {\"dist_500m\": 1, \"dist_1500m\": 4, \"dist_4000m\": 16}, {\"dist_500m\": 1, \"dist_1500m\": 4, \"dist_4000m\": 15}, {\"dist_500m\": 1, \"dist_1500m\": 1, \"dist_4000m\": 4}, {\"dist_500m\": 1, \"dist_1500m\": 4, \"dist_4000m\": 31}, {\"dist_500m\": 3, \"dist_1500m\": 6, \"dist_4000m\": 18}, {\"dist_500m\": 1, \"dist_1500m\": 1, \"dist_4000m\": 1}, {\"dist_500m\": 1, \"dist_1500m\": 5, \"dist_4000m\": 12}, {\"dist_500m\": 3, \"dist_1500m\": 4, \"dist_4000m\": 147}, {\"dist_500m\": 20, \"dist_1500m\": 80, \"dist_4000m\": 123}, {\"dist_500m\": 1, \"dist_1500m\": 2, \"dist_4000m\": 7}, {\"dist_500m\": 1, \"dist_1500m\": 7, \"dist_4000m\": 66}, {\"dist_500m\": 3, \"dist_1500m\": 10, \"dist_4000m\": 38}, {\"dist_500m\": 1, \"dist_1500m\": 1, \"dist_4000m\": 2}, {\"dist_500m\": 2, \"dist_1500m\": 17, \"dist_4000m\": 40}, {\"dist_500m\": 1, \"dist_1500m\": 1, \"dist_4000m\": 2}, {\"dist_500m\": 26, \"dist_1500m\": 138, \"dist_4000m\": 343}, {\"dist_500m\": 1, \"dist_1500m\": 2, \"dist_4000m\": 8}, {\"dist_500m\": 1, \"dist_1500m\": 2, \"dist_4000m\": 16}, {\"dist_500m\": 12, \"dist_1500m\": 35, \"dist_4000m\": 40}, {\"dist_500m\": 2, \"dist_1500m\": 12, \"dist_4000m\": 32}, {\"dist_500m\": 2, \"dist_1500m\": 12, \"dist_4000m\": 32}, {\"dist_500m\": 4, \"dist_1500m\": 23, \"dist_4000m\": 57}, {\"dist_500m\": 1, \"dist_1500m\": 4, \"dist_4000m\": 21}, {\"dist_500m\": 2, \"dist_1500m\": 2, \"dist_4000m\": 46}, {\"dist_500m\": 2, \"dist_1500m\": 2, \"dist_4000m\": 44}, {\"dist_500m\": 1, \"dist_1500m\": 1, \"dist_4000m\": 1}, {\"dist_500m\": 1, \"dist_1500m\": 5, \"dist_4000m\": 77}, {\"dist_500m\": 1, \"dist_1500m\": 1, \"dist_4000m\": 2}, {\"dist_500m\": 2, \"dist_1500m\": 5, \"dist_4000m\": 24}, {\"dist_500m\": 3, \"dist_1500m\": 4, \"dist_4000m\": 18}, {\"dist_500m\": 2, \"dist_1500m\": 6, \"dist_4000m\": 17}, {\"dist_500m\": 2, \"dist_1500m\": 6, \"dist_4000m\": 22}, {\"dist_500m\": 5, \"dist_1500m\": 6, \"dist_4000m\": 24}, {\"dist_500m\": 26, \"dist_1500m\": 161, \"dist_4000m\": 336}, {\"dist_500m\": 3, \"dist_1500m\": 4, \"dist_4000m\": 12}, {\"dist_500m\": 1, \"dist_1500m\": 2, \"dist_4000m\": 9}, {\"dist_500m\": 22, \"dist_1500m\": 32, \"dist_4000m\": 77}, {\"dist_500m\": 1, \"dist_1500m\": 4, \"dist_4000m\": 13}, {\"dist_500m\": 30, \"dist_1500m\": 51, \"dist_4000m\": 158}, {\"dist_500m\": 1, \"dist_1500m\": 1, \"dist_4000m\": 1}, {\"dist_500m\": 8, \"dist_1500m\": 12, \"dist_4000m\": 105}, {\"dist_500m\": 3, \"dist_1500m\": 36, \"dist_4000m\": 347}, {\"dist_500m\": 27, \"dist_1500m\": 50, \"dist_4000m\": 164}, {\"dist_500m\": 4, \"dist_1500m\": 61, \"dist_4000m\": 110}, {\"dist_500m\": 4, \"dist_1500m\": 10, \"dist_4000m\": 65}, {\"dist_500m\": 1, \"dist_1500m\": 1, \"dist_4000m\": 11}, {\"dist_500m\": 3, \"dist_1500m\": 3, \"dist_4000m\": 13}, {\"dist_500m\": 1, \"dist_1500m\": 8, \"dist_4000m\": 29}, {\"dist_500m\": 2, \"dist_1500m\": 3, \"dist_4000m\": 8}, {\"dist_500m\": 4, \"dist_1500m\": 6, \"dist_4000m\": 24}, {\"dist_500m\": 1, \"dist_1500m\": 1, \"dist_4000m\": 1}, {\"dist_500m\": 31, \"dist_1500m\": 54, \"dist_4000m\": 133}, {\"dist_500m\": 2, \"dist_1500m\": 4, \"dist_4000m\": 17}, {\"dist_500m\": 13, \"dist_1500m\": 65, \"dist_4000m\": 102}, {\"dist_500m\": 1, \"dist_1500m\": 1, \"dist_4000m\": 2}, {\"dist_500m\": 23, \"dist_1500m\": 201, \"dist_4000m\": 310}, {\"dist_500m\": 3, \"dist_1500m\": 5, \"dist_4000m\": 17}, {\"dist_500m\": 1, \"dist_1500m\": 1, \"dist_4000m\": 1}, {\"dist_500m\": 1, \"dist_1500m\": 1, \"dist_4000m\": 1}, {\"dist_500m\": 39, \"dist_1500m\": 178, \"dist_4000m\": 317}, {\"dist_500m\": 3, \"dist_1500m\": 16, \"dist_4000m\": 65}, {\"dist_500m\": 1, \"dist_1500m\": 2, \"dist_4000m\": 9}, {\"dist_500m\": 24, \"dist_1500m\": 48, \"dist_4000m\": 162}, {\"dist_500m\": 1, \"dist_1500m\": 7, \"dist_4000m\": 81}, {\"dist_500m\": 1, \"dist_1500m\": 4, \"dist_4000m\": 42}, {\"dist_500m\": 1, \"dist_1500m\": 1, \"dist_4000m\": 26}, {\"dist_500m\": 2, \"dist_1500m\": 14, \"dist_4000m\": 64}, {\"dist_500m\": 1, \"dist_1500m\": 3, \"dist_4000m\": 55}, {\"dist_500m\": 1, \"dist_1500m\": 1, \"dist_4000m\": 1}, {\"dist_500m\": 4, \"dist_1500m\": 30, \"dist_4000m\": 63}, {\"dist_500m\": 1, \"dist_1500m\": 1, \"dist_4000m\": 3}, {\"dist_500m\": 5, \"dist_1500m\": 18, \"dist_4000m\": 65}, {\"dist_500m\": 1, \"dist_1500m\": 2, \"dist_4000m\": 14}, {\"dist_500m\": 3, \"dist_1500m\": 17, \"dist_4000m\": 73}, {\"dist_500m\": 3, \"dist_1500m\": 7, \"dist_4000m\": 48}, {\"dist_500m\": 24, \"dist_1500m\": 138, \"dist_4000m\": 344}, {\"dist_500m\": 1, \"dist_1500m\": 4, \"dist_4000m\": 20}, {\"dist_500m\": 1, \"dist_1500m\": 1, \"dist_4000m\": 2}, {\"dist_500m\": 2, \"dist_1500m\": 2, \"dist_4000m\": 2}, {\"dist_500m\": 2, \"dist_1500m\": 3, \"dist_4000m\": 18}, {\"dist_500m\": 3, \"dist_1500m\": 25, \"dist_4000m\": 107}, {\"dist_500m\": 4, \"dist_1500m\": 8, \"dist_4000m\": 66}, {\"dist_500m\": 1, \"dist_1500m\": 8, \"dist_4000m\": 25}, {\"dist_500m\": 2, \"dist_1500m\": 4, \"dist_4000m\": 13}, {\"dist_500m\": 1, \"dist_1500m\": 1, \"dist_4000m\": 3}, {\"dist_500m\": 1, \"dist_1500m\": 1, \"dist_4000m\": 3}, {\"dist_500m\": 2, \"dist_1500m\": 11, \"dist_4000m\": 59}, {\"dist_500m\": 33, \"dist_1500m\": 56, \"dist_4000m\": 134}, {\"dist_500m\": 1, \"dist_1500m\": 1, \"dist_4000m\": 4}, {\"dist_500m\": 1, \"dist_1500m\": 1, \"dist_4000m\": 2}, {\"dist_500m\": 1, \"dist_1500m\": 2, \"dist_4000m\": 90}, {\"dist_500m\": 27, \"dist_1500m\": 50, \"dist_4000m\": 161}, {\"dist_500m\": 4, \"dist_1500m\": 20, \"dist_4000m\": 121}, {\"dist_500m\": 1, \"dist_1500m\": 1, \"dist_4000m\": 1}, {\"dist_500m\": 1, \"dist_1500m\": 1, \"dist_4000m\": 1}, {\"dist_500m\": 2, \"dist_1500m\": 13, \"dist_4000m\": 95}, {\"dist_500m\": 1, \"dist_1500m\": 1, \"dist_4000m\": 4}, {\"dist_500m\": 1, \"dist_1500m\": 6, \"dist_4000m\": 13}, {\"dist_500m\": 2, \"dist_1500m\": 8, \"dist_4000m\": 31}, {\"dist_500m\": 1, \"dist_1500m\": 1, \"dist_4000m\": 5}, {\"dist_500m\": 4, \"dist_1500m\": 10, \"dist_4000m\": 66}, {\"dist_500m\": 4, \"dist_1500m\": 8, \"dist_4000m\": 41}, {\"dist_500m\": 1, \"dist_1500m\": 1, \"dist_4000m\": 1}, {\"dist_500m\": 5, \"dist_1500m\": 10, \"dist_4000m\": 26}, {\"dist_500m\": 1, \"dist_1500m\": 4, \"dist_4000m\": 20}, {\"dist_500m\": 1, \"dist_1500m\": 8, \"dist_4000m\": 73}, {\"dist_500m\": 1, \"dist_1500m\": 2, \"dist_4000m\": 10}, {\"dist_500m\": 1, \"dist_1500m\": 6, \"dist_4000m\": 16}, {\"dist_500m\": 1, \"dist_1500m\": 1, \"dist_4000m\": 1}, {\"dist_500m\": 1, \"dist_1500m\": 1, \"dist_4000m\": 38}, {\"dist_500m\": 5, \"dist_1500m\": 21, \"dist_4000m\": 123}, {\"dist_500m\": 5, \"dist_1500m\": 6, \"dist_4000m\": 6}, {\"dist_500m\": 1, \"dist_1500m\": 11, \"dist_4000m\": 27}, {\"dist_500m\": 1, \"dist_1500m\": 1, \"dist_4000m\": 1}, {\"dist_500m\": 4, \"dist_1500m\": 11, \"dist_4000m\": 32}, {\"dist_500m\": 1, \"dist_1500m\": 15, \"dist_4000m\": 99}, {\"dist_500m\": 1, \"dist_1500m\": 4, \"dist_4000m\": 21}, {\"dist_500m\": 4, \"dist_1500m\": 69, \"dist_4000m\": 352}, {\"dist_500m\": 20, \"dist_1500m\": 65, \"dist_4000m\": 102}, {\"dist_500m\": 1, \"dist_1500m\": 7, \"dist_4000m\": 28}, {\"dist_500m\": 2, \"dist_1500m\": 2, \"dist_4000m\": 2}, {\"dist_500m\": 3, \"dist_1500m\": 11, \"dist_4000m\": 34}, {\"dist_500m\": 12, \"dist_1500m\": 21, \"dist_4000m\": 123}, {\"dist_500m\": 4, \"dist_1500m\": 8, \"dist_4000m\": 41}, {\"dist_500m\": 5, \"dist_1500m\": 23, \"dist_4000m\": 83}, {\"dist_500m\": 4, \"dist_1500m\": 25, \"dist_4000m\": 85}, {\"dist_500m\": 1, \"dist_1500m\": 3, \"dist_4000m\": 24}, {\"dist_500m\": 1, \"dist_1500m\": 4, \"dist_4000m\": 13}, {\"dist_500m\": 21, \"dist_1500m\": 59, \"dist_4000m\": 125}, {\"dist_500m\": 15, \"dist_1500m\": 92, \"dist_4000m\": 302}, {\"dist_500m\": 1, \"dist_1500m\": 7, \"dist_4000m\": 24}, {\"dist_500m\": 2, \"dist_1500m\": 7, \"dist_4000m\": 89}, {\"dist_500m\": 3, \"dist_1500m\": 10, \"dist_4000m\": 50}, {\"dist_500m\": 9, \"dist_1500m\": 20, \"dist_4000m\": 33}, {\"dist_500m\": 19, \"dist_1500m\": 31, \"dist_4000m\": 78}, {\"dist_500m\": 1, \"dist_1500m\": 13, \"dist_4000m\": 72}, {\"dist_500m\": 30, \"dist_1500m\": 161, \"dist_4000m\": 331}, {\"dist_500m\": 4, \"dist_1500m\": 15, \"dist_4000m\": 49}, {\"dist_500m\": 2, \"dist_1500m\": 7, \"dist_4000m\": 20}, {\"dist_500m\": 5, \"dist_1500m\": 16, \"dist_4000m\": 76}, {\"dist_500m\": 1, \"dist_1500m\": 5, \"dist_4000m\": 14}, {\"dist_500m\": 1, \"dist_1500m\": 2, \"dist_4000m\": 5}, {\"dist_500m\": 2, \"dist_1500m\": 8, \"dist_4000m\": 29}, {\"dist_500m\": 2, \"dist_1500m\": 7, \"dist_4000m\": 13}, {\"dist_500m\": 1, \"dist_1500m\": 2, \"dist_4000m\": 3}, {\"dist_500m\": 2, \"dist_1500m\": 17, \"dist_4000m\": 91}, {\"dist_500m\": 1, \"dist_1500m\": 28, \"dist_4000m\": 66}, {\"dist_500m\": 49, \"dist_1500m\": 136, \"dist_4000m\": 305}, {\"dist_500m\": 4, \"dist_1500m\": 57, \"dist_4000m\": 229}, {\"dist_500m\": 34, \"dist_1500m\": 51, \"dist_4000m\": 149}, {\"dist_500m\": 1, \"dist_1500m\": 7, \"dist_4000m\": 26}, {\"dist_500m\": 31, \"dist_1500m\": 54, \"dist_4000m\": 131}, {\"dist_500m\": 7, \"dist_1500m\": 10, \"dist_4000m\": 17}, {\"dist_500m\": 2, \"dist_1500m\": 2, \"dist_4000m\": 2}, {\"dist_500m\": 1, \"dist_1500m\": 3, \"dist_4000m\": 14}, {\"dist_500m\": 1, \"dist_1500m\": 1, \"dist_4000m\": 2}, {\"dist_500m\": 45, \"dist_1500m\": 122, \"dist_4000m\": 303}, {\"dist_500m\": 1, \"dist_1500m\": 1, \"dist_4000m\": 23}, {\"dist_500m\": 1, \"dist_1500m\": 1, \"dist_4000m\": 7}, {\"dist_500m\": 5, \"dist_1500m\": 5, \"dist_4000m\": 24}, {\"dist_500m\": 13, \"dist_1500m\": 63, \"dist_4000m\": 100}, {\"dist_500m\": 2, \"dist_1500m\": 27, \"dist_4000m\": 100}, {\"dist_500m\": 1, \"dist_1500m\": 11, \"dist_4000m\": 28}, {\"dist_500m\": 2, \"dist_1500m\": 29, \"dist_4000m\": 72}, {\"dist_500m\": 2, \"dist_1500m\": 3, \"dist_4000m\": 9}, {\"dist_500m\": 2, \"dist_1500m\": 3, \"dist_4000m\": 12}, {\"dist_500m\": 8, \"dist_1500m\": 15, \"dist_4000m\": 43}, {\"dist_500m\": 4, \"dist_1500m\": 24, \"dist_4000m\": 106}, {\"dist_500m\": 1, \"dist_1500m\": 1, \"dist_4000m\": 8}, {\"dist_500m\": 26, \"dist_1500m\": 55, \"dist_4000m\": 128}, {\"dist_500m\": 7, \"dist_1500m\": 16, \"dist_4000m\": 45}, {\"dist_500m\": 1, \"dist_1500m\": 1, \"dist_4000m\": 2}, {\"dist_500m\": 15, \"dist_1500m\": 56, \"dist_4000m\": 102}, {\"dist_500m\": 1, \"dist_1500m\": 4, \"dist_4000m\": 9}, {\"dist_500m\": 7, \"dist_1500m\": 15, \"dist_4000m\": 75}, {\"dist_500m\": 1, \"dist_1500m\": 8, \"dist_4000m\": 36}, {\"dist_500m\": 1, \"dist_1500m\": 1, \"dist_4000m\": 2}, {\"dist_500m\": 7, \"dist_1500m\": 23, \"dist_4000m\": 118}, {\"dist_500m\": 20, \"dist_1500m\": 32, \"dist_4000m\": 77}, {\"dist_500m\": 1, \"dist_1500m\": 8, \"dist_4000m\": 31}, {\"dist_500m\": 3, \"dist_1500m\": 17, \"dist_4000m\": 67}, {\"dist_500m\": 2, \"dist_1500m\": 4, \"dist_4000m\": 14}, {\"dist_500m\": 2, \"dist_1500m\": 7, \"dist_4000m\": 73}, {\"dist_500m\": 2, \"dist_1500m\": 13, \"dist_4000m\": 47}, {\"dist_500m\": 6, \"dist_1500m\": 16, \"dist_4000m\": 59}, {\"dist_500m\": 1, \"dist_1500m\": 1, \"dist_4000m\": 1}, {\"dist_500m\": 4, \"dist_1500m\": 22, \"dist_4000m\": 125}, {\"dist_500m\": 2, \"dist_1500m\": 15, \"dist_4000m\": 81}, {\"dist_500m\": 11, \"dist_1500m\": 95, \"dist_4000m\": 339}, {\"dist_500m\": 1, \"dist_1500m\": 2, \"dist_4000m\": 16}, {\"dist_500m\": 2, \"dist_1500m\": 9, \"dist_4000m\": 125}, {\"dist_500m\": 21, \"dist_1500m\": 65, \"dist_4000m\": 102}, {\"dist_500m\": 1, \"dist_1500m\": 1, \"dist_4000m\": 9}, {\"dist_500m\": 2, \"dist_1500m\": 17, \"dist_4000m\": 130}, {\"dist_500m\": 2, \"dist_1500m\": 10, \"dist_4000m\": 39}, {\"dist_500m\": 1, \"dist_1500m\": 6, \"dist_4000m\": 39}, {\"dist_500m\": 1, \"dist_1500m\": 14, \"dist_4000m\": 53}, {\"dist_500m\": 1, \"dist_1500m\": 1, \"dist_4000m\": 1}, {\"dist_500m\": 3, \"dist_1500m\": 7, \"dist_4000m\": 17}, {\"dist_500m\": 3, \"dist_1500m\": 3, \"dist_4000m\": 3}, {\"dist_500m\": 6, \"dist_1500m\": 38, \"dist_4000m\": 127}, {\"dist_500m\": 2, \"dist_1500m\": 2, \"dist_4000m\": 2}, {\"dist_500m\": 29, \"dist_1500m\": 51, \"dist_4000m\": 158}, {\"dist_500m\": 4, \"dist_1500m\": 18, \"dist_4000m\": 57}, {\"dist_500m\": 5, \"dist_1500m\": 17, \"dist_4000m\": 72}, {\"dist_500m\": 1, \"dist_1500m\": 3, \"dist_4000m\": 5}, {\"dist_500m\": 1, \"dist_1500m\": 1, \"dist_4000m\": 1}, {\"dist_500m\": 1, \"dist_1500m\": 4, \"dist_4000m\": 23}, {\"dist_500m\": 2, \"dist_1500m\": 4, \"dist_4000m\": 34}, {\"dist_500m\": 1, \"dist_1500m\": 1, \"dist_4000m\": 5}, {\"dist_500m\": 3, \"dist_1500m\": 44, \"dist_4000m\": 292}, {\"dist_500m\": 1, \"dist_1500m\": 5, \"dist_4000m\": 20}, {\"dist_500m\": 1, \"dist_1500m\": 7, \"dist_4000m\": 59}, {\"dist_500m\": 4, \"dist_1500m\": 15, \"dist_4000m\": 82}, {\"dist_500m\": 1, \"dist_1500m\": 1, \"dist_4000m\": 1}, {\"dist_500m\": 1, \"dist_1500m\": 1, \"dist_4000m\": 16}, {\"dist_500m\": 1, \"dist_1500m\": 3, \"dist_4000m\": 6}, {\"dist_500m\": 2, \"dist_1500m\": 22, \"dist_4000m\": 56}, {\"dist_500m\": 16, \"dist_1500m\": 76, \"dist_4000m\": 108}, {\"dist_500m\": 4, \"dist_1500m\": 30, \"dist_4000m\": 39}, {\"dist_500m\": 1, \"dist_1500m\": 2, \"dist_4000m\": 8}, {\"dist_500m\": 2, \"dist_1500m\": 2, \"dist_4000m\": 3}, {\"dist_500m\": 3, \"dist_1500m\": 9, \"dist_4000m\": 38}, {\"dist_500m\": 1, \"dist_1500m\": 1, \"dist_4000m\": 1}, {\"dist_500m\": 1, \"dist_1500m\": 1, \"dist_4000m\": 1}, {\"dist_500m\": 1, \"dist_1500m\": 3, \"dist_4000m\": 28}, {\"dist_500m\": 3, \"dist_1500m\": 6, \"dist_4000m\": 22}, {\"dist_500m\": 1, \"dist_1500m\": 2, \"dist_4000m\": 8}, {\"dist_500m\": 4, \"dist_1500m\": 7, \"dist_4000m\": 32}, {\"dist_500m\": 2, \"dist_1500m\": 9, \"dist_4000m\": 118}, {\"dist_500m\": 1, \"dist_1500m\": 1, \"dist_4000m\": 1}, {\"dist_500m\": 1, \"dist_1500m\": 1, \"dist_4000m\": 1}, {\"dist_500m\": 3, \"dist_1500m\": 8, \"dist_4000m\": 40}, {\"dist_500m\": 5, \"dist_1500m\": 12, \"dist_4000m\": 19}, {\"dist_500m\": 2, \"dist_1500m\": 8, \"dist_4000m\": 25}, {\"dist_500m\": 2, \"dist_1500m\": 44, \"dist_4000m\": 296}, {\"dist_500m\": 4, \"dist_1500m\": 18, \"dist_4000m\": 66}, {\"dist_500m\": 6, \"dist_1500m\": 25, \"dist_4000m\": 89}, {\"dist_500m\": 1, \"dist_1500m\": 22, \"dist_4000m\": 83}, {\"dist_500m\": 7, \"dist_1500m\": 24, \"dist_4000m\": 88}, {\"dist_500m\": 1, \"dist_1500m\": 4, \"dist_4000m\": 15}, {\"dist_500m\": 1, \"dist_1500m\": 4, \"dist_4000m\": 25}, {\"dist_500m\": 4, \"dist_1500m\": 17, \"dist_4000m\": 22}, {\"dist_500m\": 15, \"dist_1500m\": 213, \"dist_4000m\": 309}, {\"dist_500m\": 1, \"dist_1500m\": 2, \"dist_4000m\": 10}, {\"dist_500m\": 2, \"dist_1500m\": 2, \"dist_4000m\": 17}, {\"dist_500m\": 1, \"dist_1500m\": 2, \"dist_4000m\": 8}, {\"dist_500m\": 1, \"dist_1500m\": 1, \"dist_4000m\": 1}, {\"dist_500m\": 1, \"dist_1500m\": 1, \"dist_4000m\": 1}, {\"dist_500m\": 3, \"dist_1500m\": 3, \"dist_4000m\": 3}, {\"dist_500m\": 1, \"dist_1500m\": 9, \"dist_4000m\": 28}, {\"dist_500m\": 5, \"dist_1500m\": 18, \"dist_4000m\": 106}, {\"dist_500m\": 3, \"dist_1500m\": 9, \"dist_4000m\": 60}, {\"dist_500m\": 5, \"dist_1500m\": 13, \"dist_4000m\": 45}, {\"dist_500m\": 5, \"dist_1500m\": 6, \"dist_4000m\": 23}, {\"dist_500m\": 1, \"dist_1500m\": 1, \"dist_4000m\": 7}, {\"dist_500m\": 1, \"dist_1500m\": 4, \"dist_4000m\": 39}, {\"dist_500m\": 5, \"dist_1500m\": 18, \"dist_4000m\": 71}, {\"dist_500m\": 4, \"dist_1500m\": 6, \"dist_4000m\": 11}, {\"dist_500m\": 6, \"dist_1500m\": 26, \"dist_4000m\": 80}, {\"dist_500m\": 7, \"dist_1500m\": 28, \"dist_4000m\": 80}, {\"dist_500m\": 1, \"dist_1500m\": 2, \"dist_4000m\": 17}, {\"dist_500m\": 1, \"dist_1500m\": 2, \"dist_4000m\": 6}, {\"dist_500m\": 2, \"dist_1500m\": 2, \"dist_4000m\": 18}, {\"dist_500m\": 3, \"dist_1500m\": 6, \"dist_4000m\": 20}, {\"dist_500m\": 1, \"dist_1500m\": 1, \"dist_4000m\": 6}, {\"dist_500m\": 5, \"dist_1500m\": 71, \"dist_4000m\": 101}, {\"dist_500m\": 1, \"dist_1500m\": 2, \"dist_4000m\": 3}, {\"dist_500m\": 3, \"dist_1500m\": 17, \"dist_4000m\": 32}, {\"dist_500m\": 1, \"dist_1500m\": 1, \"dist_4000m\": 2}, {\"dist_500m\": 1, \"dist_1500m\": 2, \"dist_4000m\": 2}, {\"dist_500m\": 8, \"dist_1500m\": 52, \"dist_4000m\": 118}, {\"dist_500m\": 2, \"dist_1500m\": 4, \"dist_4000m\": 12}, {\"dist_500m\": 42, \"dist_1500m\": 135, \"dist_4000m\": 306}, {\"dist_500m\": 1, \"dist_1500m\": 2, \"dist_4000m\": 5}, {\"dist_500m\": 3, \"dist_1500m\": 14, \"dist_4000m\": 52}, {\"dist_500m\": 1, \"dist_1500m\": 20, \"dist_4000m\": 88}, {\"dist_500m\": 6, \"dist_1500m\": 33, \"dist_4000m\": 115}, {\"dist_500m\": 6, \"dist_1500m\": 28, \"dist_4000m\": 117}, {\"dist_500m\": 3, \"dist_1500m\": 4, \"dist_4000m\": 143}, {\"dist_500m\": 5, \"dist_1500m\": 26, \"dist_4000m\": 282}, {\"dist_500m\": 1, \"dist_1500m\": 2, \"dist_4000m\": 7}, {\"dist_500m\": 1, \"dist_1500m\": 27, \"dist_4000m\": 73}, {\"dist_500m\": 2, \"dist_1500m\": 23, \"dist_4000m\": 93}, {\"dist_500m\": 3, \"dist_1500m\": 7, \"dist_4000m\": 29}, {\"dist_500m\": 1, \"dist_1500m\": 2, \"dist_4000m\": 2}, {\"dist_500m\": 2, \"dist_1500m\": 5, \"dist_4000m\": 16}, {\"dist_500m\": 2, \"dist_1500m\": 12, \"dist_4000m\": 221}, {\"dist_500m\": 1, \"dist_1500m\": 1, \"dist_4000m\": 6}, {\"dist_500m\": 20, \"dist_1500m\": 58, \"dist_4000m\": 101}, {\"dist_500m\": 1, \"dist_1500m\": 2, \"dist_4000m\": 5}, {\"dist_500m\": 3, \"dist_1500m\": 10, \"dist_4000m\": 28}, {\"dist_500m\": 2, \"dist_1500m\": 3, \"dist_4000m\": 26}, {\"dist_500m\": 2, \"dist_1500m\": 4, \"dist_4000m\": 41}, {\"dist_500m\": 1, \"dist_1500m\": 1, \"dist_4000m\": 1}, {\"dist_500m\": 1, \"dist_1500m\": 1, \"dist_4000m\": 1}, {\"dist_500m\": 3, \"dist_1500m\": 10, \"dist_4000m\": 20}, {\"dist_500m\": 15, \"dist_1500m\": 120, \"dist_4000m\": 308}, {\"dist_500m\": 1, \"dist_1500m\": 2, \"dist_4000m\": 8}, {\"dist_500m\": 1, \"dist_1500m\": 1, \"dist_4000m\": 4}, {\"dist_500m\": 3, \"dist_1500m\": 17, \"dist_4000m\": 95}, {\"dist_500m\": 2, \"dist_1500m\": 5, \"dist_4000m\": 8}, {\"dist_500m\": 1, \"dist_1500m\": 1, \"dist_4000m\": 1}, {\"dist_500m\": 4, \"dist_1500m\": 18, \"dist_4000m\": 54}, {\"dist_500m\": 1, \"dist_1500m\": 8, \"dist_4000m\": 49}, {\"dist_500m\": 1, \"dist_1500m\": 3, \"dist_4000m\": 38}, {\"dist_500m\": 1, \"dist_1500m\": 7, \"dist_4000m\": 24}, {\"dist_500m\": 1, \"dist_1500m\": 1, \"dist_4000m\": 1}, {\"dist_500m\": 12, \"dist_1500m\": 24, \"dist_4000m\": 34}, {\"dist_500m\": 4, \"dist_1500m\": 20, \"dist_4000m\": 107}, {\"dist_500m\": 2, \"dist_1500m\": 26, \"dist_4000m\": 108}, {\"dist_500m\": 2, \"dist_1500m\": 10, \"dist_4000m\": 38}, {\"dist_500m\": 1, \"dist_1500m\": 1, \"dist_4000m\": 3}, {\"dist_500m\": 1, \"dist_1500m\": 1, \"dist_4000m\": 1}, {\"dist_500m\": 26, \"dist_1500m\": 56, \"dist_4000m\": 101}, {\"dist_500m\": 30, \"dist_1500m\": 162, \"dist_4000m\": 333}, {\"dist_500m\": 1, \"dist_1500m\": 1, \"dist_4000m\": 6}, {\"dist_500m\": 2, \"dist_1500m\": 2, \"dist_4000m\": 18}, {\"dist_500m\": 3, \"dist_1500m\": 7, \"dist_4000m\": 28}, {\"dist_500m\": 1, \"dist_1500m\": 3, \"dist_4000m\": 43}, {\"dist_500m\": 15, \"dist_1500m\": 50, \"dist_4000m\": 122}, {\"dist_500m\": 1, \"dist_1500m\": 5, \"dist_4000m\": 48}, {\"dist_500m\": 4, \"dist_1500m\": 17, \"dist_4000m\": 54}, {\"dist_500m\": 3, \"dist_1500m\": 17, \"dist_4000m\": 137}, {\"dist_500m\": 1, \"dist_1500m\": 1, \"dist_4000m\": 2}, {\"dist_500m\": 1, \"dist_1500m\": 11, \"dist_4000m\": 26}, {\"dist_500m\": 1, \"dist_1500m\": 4, \"dist_4000m\": 27}, {\"dist_500m\": 1, \"dist_1500m\": 5, \"dist_4000m\": 24}, {\"dist_500m\": 1, \"dist_1500m\": 8, \"dist_4000m\": 20}, {\"dist_500m\": 1, \"dist_1500m\": 2, \"dist_4000m\": 12}, {\"dist_500m\": 2, \"dist_1500m\": 8, \"dist_4000m\": 37}, {\"dist_500m\": 1, \"dist_1500m\": 2, \"dist_4000m\": 2}, {\"dist_500m\": 1, \"dist_1500m\": 3, \"dist_4000m\": 22}, {\"dist_500m\": 1, \"dist_1500m\": 1, \"dist_4000m\": 4}, {\"dist_500m\": 2, \"dist_1500m\": 23, \"dist_4000m\": 168}, {\"dist_500m\": 3, \"dist_1500m\": 4, \"dist_4000m\": 134}, {\"dist_500m\": 4, \"dist_1500m\": 11, \"dist_4000m\": 69}, {\"dist_500m\": 1, \"dist_1500m\": 10, \"dist_4000m\": 79}, {\"dist_500m\": 2, \"dist_1500m\": 6, \"dist_4000m\": 52}, {\"dist_500m\": 3, \"dist_1500m\": 14, \"dist_4000m\": 33}, {\"dist_500m\": 5, \"dist_1500m\": 34, \"dist_4000m\": 76}, {\"dist_500m\": 1, \"dist_1500m\": 1, \"dist_4000m\": 1}, {\"dist_500m\": 1, \"dist_1500m\": 13, \"dist_4000m\": 34}, {\"dist_500m\": 1, \"dist_1500m\": 1, \"dist_4000m\": 2}, {\"dist_500m\": 7, \"dist_1500m\": 38, \"dist_4000m\": 102}, {\"dist_500m\": 1, \"dist_1500m\": 7, \"dist_4000m\": 94}, {\"dist_500m\": 1, \"dist_1500m\": 3, \"dist_4000m\": 16}, {\"dist_500m\": 1, \"dist_1500m\": 6, \"dist_4000m\": 22}, {\"dist_500m\": 1, \"dist_1500m\": 2, \"dist_4000m\": 4}, {\"dist_500m\": 1, \"dist_1500m\": 5, \"dist_4000m\": 26}, {\"dist_500m\": 1, \"dist_1500m\": 2, \"dist_4000m\": 11}, {\"dist_500m\": 2, \"dist_1500m\": 10, \"dist_4000m\": 29}, {\"dist_500m\": 1, \"dist_1500m\": 1, \"dist_4000m\": 4}, {\"dist_500m\": 54, \"dist_1500m\": 92, \"dist_4000m\": 111}, {\"dist_500m\": 2, \"dist_1500m\": 5, \"dist_4000m\": 11}, {\"dist_500m\": 2, \"dist_1500m\": 22, \"dist_4000m\": 32}, {\"dist_500m\": 2, \"dist_1500m\": 11, \"dist_4000m\": 106}, {\"dist_500m\": 1, \"dist_1500m\": 1, \"dist_4000m\": 2}, {\"dist_500m\": 39, \"dist_1500m\": 174, \"dist_4000m\": 309}, {\"dist_500m\": 1, \"dist_1500m\": 6, \"dist_4000m\": 24}, {\"dist_500m\": 1, \"dist_1500m\": 4, \"dist_4000m\": 23}, {\"dist_500m\": 3, \"dist_1500m\": 7, \"dist_4000m\": 18}, {\"dist_500m\": 17, \"dist_1500m\": 119, \"dist_4000m\": 311}, {\"dist_500m\": 1, \"dist_1500m\": 1, \"dist_4000m\": 1}, {\"dist_500m\": 4, \"dist_1500m\": 35, \"dist_4000m\": 83}, {\"dist_500m\": 1, \"dist_1500m\": 1, \"dist_4000m\": 16}, {\"dist_500m\": 1, \"dist_1500m\": 8, \"dist_4000m\": 21}, {\"dist_500m\": 1, \"dist_1500m\": 2, \"dist_4000m\": 3}, {\"dist_500m\": 3, \"dist_1500m\": 9, \"dist_4000m\": 17}, {\"dist_500m\": 1, \"dist_1500m\": 2, \"dist_4000m\": 43}, {\"dist_500m\": 2, \"dist_1500m\": 3, \"dist_4000m\": 53}, {\"dist_500m\": 2, \"dist_1500m\": 3, \"dist_4000m\": 13}, {\"dist_500m\": 1, \"dist_1500m\": 1, \"dist_4000m\": 9}, {\"dist_500m\": 8, \"dist_1500m\": 37, \"dist_4000m\": 103}, {\"dist_500m\": 1, \"dist_1500m\": 1, \"dist_4000m\": 1}, {\"dist_500m\": 1, \"dist_1500m\": 1, \"dist_4000m\": 9}, {\"dist_500m\": 1, \"dist_1500m\": 2, \"dist_4000m\": 6}, {\"dist_500m\": 3, \"dist_1500m\": 11, \"dist_4000m\": 26}, {\"dist_500m\": 1, \"dist_1500m\": 2, \"dist_4000m\": 31}, {\"dist_500m\": 1, \"dist_1500m\": 1, \"dist_4000m\": 1}, {\"dist_500m\": 1, \"dist_1500m\": 1, \"dist_4000m\": 4}, {\"dist_500m\": 1, \"dist_1500m\": 2, \"dist_4000m\": 7}, {\"dist_500m\": 1, \"dist_1500m\": 13, \"dist_4000m\": 23}, {\"dist_500m\": 1, \"dist_1500m\": 2, \"dist_4000m\": 11}, {\"dist_500m\": 12, \"dist_1500m\": 38, \"dist_4000m\": 133}, {\"dist_500m\": 2, \"dist_1500m\": 9, \"dist_4000m\": 35}, {\"dist_500m\": 1, \"dist_1500m\": 1, \"dist_4000m\": 1}, {\"dist_500m\": 2, \"dist_1500m\": 5, \"dist_4000m\": 11}, {\"dist_500m\": 1, \"dist_1500m\": 7, \"dist_4000m\": 20}, {\"dist_500m\": 20, \"dist_1500m\": 31, \"dist_4000m\": 76}, {\"dist_500m\": 10, \"dist_1500m\": 41, \"dist_4000m\": 133}, {\"dist_500m\": 1, \"dist_1500m\": 18, \"dist_4000m\": 67}, {\"dist_500m\": 5, \"dist_1500m\": 9, \"dist_4000m\": 20}, {\"dist_500m\": 1, \"dist_1500m\": 2, \"dist_4000m\": 9}, {\"dist_500m\": 1, \"dist_1500m\": 1, \"dist_4000m\": 2}, {\"dist_500m\": 2, \"dist_1500m\": 2, \"dist_4000m\": 10}, {\"dist_500m\": 33, \"dist_1500m\": 116, \"dist_4000m\": 341}, {\"dist_500m\": 1, \"dist_1500m\": 2, \"dist_4000m\": 64}, {\"dist_500m\": 1, \"dist_1500m\": 7, \"dist_4000m\": 18}, {\"dist_500m\": 1, \"dist_1500m\": 8, \"dist_4000m\": 41}, {\"dist_500m\": 1, \"dist_1500m\": 1, \"dist_4000m\": 2}, {\"dist_500m\": 8, \"dist_1500m\": 12, \"dist_4000m\": 105}, {\"dist_500m\": 6, \"dist_1500m\": 21, \"dist_4000m\": 57}, {\"dist_500m\": 2, \"dist_1500m\": 3, \"dist_4000m\": 4}, {\"dist_500m\": 2, \"dist_1500m\": 3, \"dist_4000m\": 17}, {\"dist_500m\": 1, \"dist_1500m\": 3, \"dist_4000m\": 23}, {\"dist_500m\": 2, \"dist_1500m\": 6, \"dist_4000m\": 20}, {\"dist_500m\": 3, \"dist_1500m\": 3, \"dist_4000m\": 14}, {\"dist_500m\": 1, \"dist_1500m\": 9, \"dist_4000m\": 19}, {\"dist_500m\": 1, \"dist_1500m\": 1, \"dist_4000m\": 2}, {\"dist_500m\": 1, \"dist_1500m\": 1, \"dist_4000m\": 4}, {\"dist_500m\": 1, \"dist_1500m\": 2, \"dist_4000m\": 18}, {\"dist_500m\": 2, \"dist_1500m\": 3, \"dist_4000m\": 16}, {\"dist_500m\": 1, \"dist_1500m\": 3, \"dist_4000m\": 11}, {\"dist_500m\": 1, \"dist_1500m\": 1, \"dist_4000m\": 1}, {\"dist_500m\": 7, \"dist_1500m\": 23, \"dist_4000m\": 83}, {\"dist_500m\": 1, \"dist_1500m\": 1, \"dist_4000m\": 1}, {\"dist_500m\": 18, \"dist_1500m\": 202, \"dist_4000m\": 311}, {\"dist_500m\": 1, \"dist_1500m\": 2, \"dist_4000m\": 4}, {\"dist_500m\": 5, \"dist_1500m\": 63, \"dist_4000m\": 294}, {\"dist_500m\": 5, \"dist_1500m\": 12, \"dist_4000m\": 28}, {\"dist_500m\": 1, \"dist_1500m\": 1, \"dist_4000m\": 11}, {\"dist_500m\": 5, \"dist_1500m\": 15, \"dist_4000m\": 76}, {\"dist_500m\": 1, \"dist_1500m\": 4, \"dist_4000m\": 9}, {\"dist_500m\": 1, \"dist_1500m\": 5, \"dist_4000m\": 40}, {\"dist_500m\": 4, \"dist_1500m\": 19, \"dist_4000m\": 70}, {\"dist_500m\": 1, \"dist_1500m\": 1, \"dist_4000m\": 2}, {\"dist_500m\": 2, \"dist_1500m\": 11, \"dist_4000m\": 56}, {\"dist_500m\": 4, \"dist_1500m\": 20, \"dist_4000m\": 70}, {\"dist_500m\": 7, \"dist_1500m\": 23, \"dist_4000m\": 33}, {\"dist_500m\": 1, \"dist_1500m\": 6, \"dist_4000m\": 27}, {\"dist_500m\": 1, \"dist_1500m\": 6, \"dist_4000m\": 12}, {\"dist_500m\": 1, \"dist_1500m\": 4, \"dist_4000m\": 27}, {\"dist_500m\": 2, \"dist_1500m\": 15, \"dist_4000m\": 64}, {\"dist_500m\": 5, \"dist_1500m\": 10, \"dist_4000m\": 38}, {\"dist_500m\": 5, \"dist_1500m\": 10, \"dist_4000m\": 38}, {\"dist_500m\": 1, \"dist_1500m\": 4, \"dist_4000m\": 13}, {\"dist_500m\": 1, \"dist_1500m\": 8, \"dist_4000m\": 37}, {\"dist_500m\": 3, \"dist_1500m\": 4, \"dist_4000m\": 16}, {\"dist_500m\": 1, \"dist_1500m\": 1, \"dist_4000m\": 1}, {\"dist_500m\": 1, \"dist_1500m\": 4, \"dist_4000m\": 77}, {\"dist_500m\": 1, \"dist_1500m\": 13, \"dist_4000m\": 50}, {\"dist_500m\": 2, \"dist_1500m\": 2, \"dist_4000m\": 12}, {\"dist_500m\": 1, \"dist_1500m\": 2, \"dist_4000m\": 4}, {\"dist_500m\": 2, \"dist_1500m\": 6, \"dist_4000m\": 30}, {\"dist_500m\": 4, \"dist_1500m\": 7, \"dist_4000m\": 33}, {\"dist_500m\": 3, \"dist_1500m\": 16, \"dist_4000m\": 60}, {\"dist_500m\": 1, \"dist_1500m\": 1, \"dist_4000m\": 15}, {\"dist_500m\": 3, \"dist_1500m\": 10, \"dist_4000m\": 38}, {\"dist_500m\": 1, \"dist_1500m\": 1, \"dist_4000m\": 6}, {\"dist_500m\": 5, \"dist_1500m\": 22, \"dist_4000m\": 89}, {\"dist_500m\": 53, \"dist_1500m\": 93, \"dist_4000m\": 109}, {\"dist_500m\": 2, \"dist_1500m\": 11, \"dist_4000m\": 102}, {\"dist_500m\": 2, \"dist_1500m\": 9, \"dist_4000m\": 18}, {\"dist_500m\": 3, \"dist_1500m\": 15, \"dist_4000m\": 61}, {\"dist_500m\": 1, \"dist_1500m\": 9, \"dist_4000m\": 72}, {\"dist_500m\": 6, \"dist_1500m\": 9, \"dist_4000m\": 18}, {\"dist_500m\": 2, \"dist_1500m\": 3, \"dist_4000m\": 48}, {\"dist_500m\": 13, \"dist_1500m\": 31, \"dist_4000m\": 40}, {\"dist_500m\": 9, \"dist_1500m\": 189, \"dist_4000m\": 310}, {\"dist_500m\": 1, \"dist_1500m\": 8, \"dist_4000m\": 43}, {\"dist_500m\": 1, \"dist_1500m\": 1, \"dist_4000m\": 3}, {\"dist_500m\": 1, \"dist_1500m\": 2, \"dist_4000m\": 8}, {\"dist_500m\": 1, \"dist_1500m\": 1, \"dist_4000m\": 1}, {\"dist_500m\": 1, \"dist_1500m\": 1, \"dist_4000m\": 9}, {\"dist_500m\": 5, \"dist_1500m\": 7, \"dist_4000m\": 27}, {\"dist_500m\": 3, \"dist_1500m\": 18, \"dist_4000m\": 56}, {\"dist_500m\": 1, \"dist_1500m\": 10, \"dist_4000m\": 33}, {\"dist_500m\": 1, \"dist_1500m\": 10, \"dist_4000m\": 54}, {\"dist_500m\": 1, \"dist_1500m\": 3, \"dist_4000m\": 24}, {\"dist_500m\": 3, \"dist_1500m\": 11, \"dist_4000m\": 31}, {\"dist_500m\": 1, \"dist_1500m\": 5, \"dist_4000m\": 21}, {\"dist_500m\": 2, \"dist_1500m\": 12, \"dist_4000m\": 70}, {\"dist_500m\": 16, \"dist_1500m\": 75, \"dist_4000m\": 123}, {\"dist_500m\": 18, \"dist_1500m\": 76, \"dist_4000m\": 121}, {\"dist_500m\": 3, \"dist_1500m\": 10, \"dist_4000m\": 26}, {\"dist_500m\": 1, \"dist_1500m\": 1, \"dist_4000m\": 2}, {\"dist_500m\": 34, \"dist_1500m\": 50, \"dist_4000m\": 152}, {\"dist_500m\": 1, \"dist_1500m\": 5, \"dist_4000m\": 56}, {\"dist_500m\": 1, \"dist_1500m\": 1, \"dist_4000m\": 3}, {\"dist_500m\": 8, \"dist_1500m\": 22, \"dist_4000m\": 127}, {\"dist_500m\": 2, \"dist_1500m\": 9, \"dist_4000m\": 14}, {\"dist_500m\": 1, \"dist_1500m\": 7, \"dist_4000m\": 16}, {\"dist_500m\": 3, \"dist_1500m\": 14, \"dist_4000m\": 37}, {\"dist_500m\": 1, \"dist_1500m\": 27, \"dist_4000m\": 70}, {\"dist_500m\": 1, \"dist_1500m\": 6, \"dist_4000m\": 17}, {\"dist_500m\": 5, \"dist_1500m\": 18, \"dist_4000m\": 72}, {\"dist_500m\": 1, \"dist_1500m\": 6, \"dist_4000m\": 42}, {\"dist_500m\": 2, \"dist_1500m\": 9, \"dist_4000m\": 24}, {\"dist_500m\": 1, \"dist_1500m\": 5, \"dist_4000m\": 57}, {\"dist_500m\": 5, \"dist_1500m\": 15, \"dist_4000m\": 46}, {\"dist_500m\": 4, \"dist_1500m\": 25, \"dist_4000m\": 85}, {\"dist_500m\": 2, \"dist_1500m\": 6, \"dist_4000m\": 25}, {\"dist_500m\": 2, \"dist_1500m\": 8, \"dist_4000m\": 73}, {\"dist_500m\": 3, \"dist_1500m\": 18, \"dist_4000m\": 96}, {\"dist_500m\": 1, \"dist_1500m\": 11, \"dist_4000m\": 22}, {\"dist_500m\": 1, \"dist_1500m\": 4, \"dist_4000m\": 18}, {\"dist_500m\": 1, \"dist_1500m\": 6, \"dist_4000m\": 16}, {\"dist_500m\": 1, \"dist_1500m\": 9, \"dist_4000m\": 44}, {\"dist_500m\": 1, \"dist_1500m\": 1, \"dist_4000m\": 4}, {\"dist_500m\": 5, \"dist_1500m\": 7, \"dist_4000m\": 39}, {\"dist_500m\": 2, \"dist_1500m\": 6, \"dist_4000m\": 17}, {\"dist_500m\": 1, \"dist_1500m\": 1, \"dist_4000m\": 1}, {\"dist_500m\": 1, \"dist_1500m\": 9, \"dist_4000m\": 67}, {\"dist_500m\": 3, \"dist_1500m\": 8, \"dist_4000m\": 62}, {\"dist_500m\": 2, \"dist_1500m\": 6, \"dist_4000m\": 17}, {\"dist_500m\": 1, \"dist_1500m\": 1, \"dist_4000m\": 14}, {\"dist_500m\": 1, \"dist_1500m\": 3, \"dist_4000m\": 26}, {\"dist_500m\": 1, \"dist_1500m\": 3, \"dist_4000m\": 29}, {\"dist_500m\": 20, \"dist_1500m\": 113, \"dist_4000m\": 340}, {\"dist_500m\": 29, \"dist_1500m\": 117, \"dist_4000m\": 341}, {\"dist_500m\": 1, \"dist_1500m\": 1, \"dist_4000m\": 1}, {\"dist_500m\": 1, \"dist_1500m\": 4, \"dist_4000m\": 13}, {\"dist_500m\": 3, \"dist_1500m\": 7, \"dist_4000m\": 34}, {\"dist_500m\": 6, \"dist_1500m\": 33, \"dist_4000m\": 98}, {\"dist_500m\": 27, \"dist_1500m\": 47, \"dist_4000m\": 75}, {\"dist_500m\": 7, \"dist_1500m\": 28, \"dist_4000m\": 95}, {\"dist_500m\": 3, \"dist_1500m\": 12, \"dist_4000m\": 64}, {\"dist_500m\": 1, \"dist_1500m\": 1, \"dist_4000m\": 5}, {\"dist_500m\": 1, \"dist_1500m\": 1, \"dist_4000m\": 3}, {\"dist_500m\": 17, \"dist_1500m\": 30, \"dist_4000m\": 75}, {\"dist_500m\": 1, \"dist_1500m\": 2, \"dist_4000m\": 11}, {\"dist_500m\": 2, \"dist_1500m\": 6, \"dist_4000m\": 21}, {\"dist_500m\": 1, \"dist_1500m\": 1, \"dist_4000m\": 7}, {\"dist_500m\": 7, \"dist_1500m\": 16, \"dist_4000m\": 66}, {\"dist_500m\": 1, \"dist_1500m\": 1, \"dist_4000m\": 1}, {\"dist_500m\": 2, \"dist_1500m\": 10, \"dist_4000m\": 61}, {\"dist_500m\": 1, \"dist_1500m\": 2, \"dist_4000m\": 17}, {\"dist_500m\": 2, \"dist_1500m\": 3, \"dist_4000m\": 18}, {\"dist_500m\": 1, \"dist_1500m\": 14, \"dist_4000m\": 57}, {\"dist_500m\": 1, \"dist_1500m\": 6, \"dist_4000m\": 20}, {\"dist_500m\": 1, \"dist_1500m\": 7, \"dist_4000m\": 25}, {\"dist_500m\": 1, \"dist_1500m\": 1, \"dist_4000m\": 1}, {\"dist_500m\": 1, \"dist_1500m\": 2, \"dist_4000m\": 7}, {\"dist_500m\": 1, \"dist_1500m\": 1, \"dist_4000m\": 2}, {\"dist_500m\": 2, \"dist_1500m\": 7, \"dist_4000m\": 53}, {\"dist_500m\": 1, \"dist_1500m\": 5, \"dist_4000m\": 6}, {\"dist_500m\": 1, \"dist_1500m\": 7, \"dist_4000m\": 16}, {\"dist_500m\": 2, \"dist_1500m\": 2, \"dist_4000m\": 2}, {\"dist_500m\": 4, \"dist_1500m\": 27, \"dist_4000m\": 144}, {\"dist_500m\": 3, \"dist_1500m\": 6, \"dist_4000m\": 14}, {\"dist_500m\": 22, \"dist_1500m\": 143, \"dist_4000m\": 339}, {\"dist_500m\": 1, \"dist_1500m\": 9, \"dist_4000m\": 20}, {\"dist_500m\": 2, \"dist_1500m\": 3, \"dist_4000m\": 8}, {\"dist_500m\": 1, \"dist_1500m\": 1, \"dist_4000m\": 1}, {\"dist_500m\": 1, \"dist_1500m\": 15, \"dist_4000m\": 37}, {\"dist_500m\": 2, \"dist_1500m\": 6, \"dist_4000m\": 16}, {\"dist_500m\": 1, \"dist_1500m\": 4, \"dist_4000m\": 7}, {\"dist_500m\": 1, \"dist_1500m\": 1, \"dist_4000m\": 3}, {\"dist_500m\": 1, \"dist_1500m\": 1, \"dist_4000m\": 4}, {\"dist_500m\": 1, \"dist_1500m\": 10, \"dist_4000m\": 43}, {\"dist_500m\": 7, \"dist_1500m\": 16, \"dist_4000m\": 54}, {\"dist_500m\": 2, \"dist_1500m\": 5, \"dist_4000m\": 25}, {\"dist_500m\": 3, \"dist_1500m\": 3, \"dist_4000m\": 3}, {\"dist_500m\": 2, \"dist_1500m\": 8, \"dist_4000m\": 29}, {\"dist_500m\": 1, \"dist_1500m\": 2, \"dist_4000m\": 5}, {\"dist_500m\": 1, \"dist_1500m\": 2, \"dist_4000m\": 19}, {\"dist_500m\": 3, \"dist_1500m\": 7, \"dist_4000m\": 199}, {\"dist_500m\": 9, \"dist_1500m\": 53, \"dist_4000m\": 308}, {\"dist_500m\": 3, \"dist_1500m\": 5, \"dist_4000m\": 12}, {\"dist_500m\": 1, \"dist_1500m\": 1, \"dist_4000m\": 7}, {\"dist_500m\": 7, \"dist_1500m\": 13, \"dist_4000m\": 41}, {\"dist_500m\": 7, \"dist_1500m\": 28, \"dist_4000m\": 80}, {\"dist_500m\": 7, \"dist_1500m\": 20, \"dist_4000m\": 110}, {\"dist_500m\": 2, \"dist_1500m\": 6, \"dist_4000m\": 35}, {\"dist_500m\": 8, \"dist_1500m\": 188, \"dist_4000m\": 309}, {\"dist_500m\": 3, \"dist_1500m\": 10, \"dist_4000m\": 41}, {\"dist_500m\": 2, \"dist_1500m\": 7, \"dist_4000m\": 22}, {\"dist_500m\": 1, \"dist_1500m\": 12, \"dist_4000m\": 199}, {\"dist_500m\": 21, \"dist_1500m\": 52, \"dist_4000m\": 173}, {\"dist_500m\": 3, \"dist_1500m\": 29, \"dist_4000m\": 62}, {\"dist_500m\": 1, \"dist_1500m\": 1, \"dist_4000m\": 1}, {\"dist_500m\": 1, \"dist_1500m\": 5, \"dist_4000m\": 40}, {\"dist_500m\": 2, \"dist_1500m\": 19, \"dist_4000m\": 100}, {\"dist_500m\": 1, \"dist_1500m\": 1, \"dist_4000m\": 10}, {\"dist_500m\": 29, \"dist_1500m\": 117, \"dist_4000m\": 339}, {\"dist_500m\": 4, \"dist_1500m\": 12, \"dist_4000m\": 50}, {\"dist_500m\": 1, \"dist_1500m\": 1, \"dist_4000m\": 3}, {\"dist_500m\": 36, \"dist_1500m\": 125, \"dist_4000m\": 317}, {\"dist_500m\": 1, \"dist_1500m\": 1, \"dist_4000m\": 14}, {\"dist_500m\": 1, \"dist_1500m\": 2, \"dist_4000m\": 17}, {\"dist_500m\": 4, \"dist_1500m\": 6, \"dist_4000m\": 15}, {\"dist_500m\": 25, \"dist_1500m\": 146, \"dist_4000m\": 299}, {\"dist_500m\": 5, \"dist_1500m\": 9, \"dist_4000m\": 18}, {\"dist_500m\": 10, \"dist_1500m\": 42, \"dist_4000m\": 132}, {\"dist_500m\": 1, \"dist_1500m\": 2, \"dist_4000m\": 2}, {\"dist_500m\": 2, \"dist_1500m\": 6, \"dist_4000m\": 46}, {\"dist_500m\": 3, \"dist_1500m\": 10, \"dist_4000m\": 22}, {\"dist_500m\": 1, \"dist_1500m\": 1, \"dist_4000m\": 6}, {\"dist_500m\": 3, \"dist_1500m\": 19, \"dist_4000m\": 207}, {\"dist_500m\": 30, \"dist_1500m\": 118, \"dist_4000m\": 337}, {\"dist_500m\": 1, \"dist_1500m\": 1, \"dist_4000m\": 1}, {\"dist_500m\": 3, \"dist_1500m\": 20, \"dist_4000m\": 93}, {\"dist_500m\": 1, \"dist_1500m\": 2, \"dist_4000m\": 7}, {\"dist_500m\": 1, \"dist_1500m\": 4, \"dist_4000m\": 32}, {\"dist_500m\": 43, \"dist_1500m\": 91, \"dist_4000m\": 107}, {\"dist_500m\": 1, \"dist_1500m\": 2, \"dist_4000m\": 2}, {\"dist_500m\": 6, \"dist_1500m\": 25, \"dist_4000m\": 94}, {\"dist_500m\": 1, \"dist_1500m\": 6, \"dist_4000m\": 15}, {\"dist_500m\": 3, \"dist_1500m\": 9, \"dist_4000m\": 46}, {\"dist_500m\": 10, \"dist_1500m\": 35, \"dist_4000m\": 83}, {\"dist_500m\": 1, \"dist_1500m\": 1, \"dist_4000m\": 12}, {\"dist_500m\": 2, \"dist_1500m\": 17, \"dist_4000m\": 73}, {\"dist_500m\": 1, \"dist_1500m\": 1, \"dist_4000m\": 7}, {\"dist_500m\": 1, \"dist_1500m\": 1, \"dist_4000m\": 3}, {\"dist_500m\": 1, \"dist_1500m\": 1, \"dist_4000m\": 10}, {\"dist_500m\": 41, \"dist_1500m\": 136, \"dist_4000m\": 318}, {\"dist_500m\": 2, \"dist_1500m\": 5, \"dist_4000m\": 13}, {\"dist_500m\": 3, \"dist_1500m\": 10, \"dist_4000m\": 26}, {\"dist_500m\": 1, \"dist_1500m\": 4, \"dist_4000m\": 77}, {\"dist_500m\": 3, \"dist_1500m\": 7, \"dist_4000m\": 58}, {\"dist_500m\": 1, \"dist_1500m\": 12, \"dist_4000m\": 95}, {\"dist_500m\": 3, \"dist_1500m\": 7, \"dist_4000m\": 18}, {\"dist_500m\": 1, \"dist_1500m\": 5, \"dist_4000m\": 42}, {\"dist_500m\": 7, \"dist_1500m\": 30, \"dist_4000m\": 78}, {\"dist_500m\": 1, \"dist_1500m\": 1, \"dist_4000m\": 1}, {\"dist_500m\": 8, \"dist_1500m\": 28, \"dist_4000m\": 215}, {\"dist_500m\": 3, \"dist_1500m\": 7, \"dist_4000m\": 45}, {\"dist_500m\": 1, \"dist_1500m\": 1, \"dist_4000m\": 1}, {\"dist_500m\": 3, \"dist_1500m\": 7, \"dist_4000m\": 18}, {\"dist_500m\": 1, \"dist_1500m\": 25, \"dist_4000m\": 132}, {\"dist_500m\": 1, \"dist_1500m\": 2, \"dist_4000m\": 20}, {\"dist_500m\": 1, \"dist_1500m\": 6, \"dist_4000m\": 16}, {\"dist_500m\": 1, \"dist_1500m\": 6, \"dist_4000m\": 23}, {\"dist_500m\": 1, \"dist_1500m\": 1, \"dist_4000m\": 13}, {\"dist_500m\": 5, \"dist_1500m\": 14, \"dist_4000m\": 46}, {\"dist_500m\": 1, \"dist_1500m\": 4, \"dist_4000m\": 8}, {\"dist_500m\": 1, \"dist_1500m\": 2, \"dist_4000m\": 3}, {\"dist_500m\": 39, \"dist_1500m\": 138, \"dist_4000m\": 318}, {\"dist_500m\": 5, \"dist_1500m\": 32, \"dist_4000m\": 76}, {\"dist_500m\": 1, \"dist_1500m\": 1, \"dist_4000m\": 1}, {\"dist_500m\": 1, \"dist_1500m\": 1, \"dist_4000m\": 5}, {\"dist_500m\": 1, \"dist_1500m\": 10, \"dist_4000m\": 134}, {\"dist_500m\": 2, \"dist_1500m\": 29, \"dist_4000m\": 148}, {\"dist_500m\": 4, \"dist_1500m\": 6, \"dist_4000m\": 12}, {\"dist_500m\": 4, \"dist_1500m\": 7, \"dist_4000m\": 17}, {\"dist_500m\": 1, \"dist_1500m\": 8, \"dist_4000m\": 27}, {\"dist_500m\": 19, \"dist_1500m\": 52, \"dist_4000m\": 174}, {\"dist_500m\": 4, \"dist_1500m\": 30, \"dist_4000m\": 276}, {\"dist_500m\": 1, \"dist_1500m\": 2, \"dist_4000m\": 17}, {\"dist_500m\": 1, \"dist_1500m\": 2, \"dist_4000m\": 3}, {\"dist_500m\": 58, \"dist_1500m\": 91, \"dist_4000m\": 111}, {\"dist_500m\": 1, \"dist_1500m\": 1, \"dist_4000m\": 1}, {\"dist_500m\": 8, \"dist_1500m\": 12, \"dist_4000m\": 106}, {\"dist_500m\": 1, \"dist_1500m\": 12, \"dist_4000m\": 87}, {\"dist_500m\": 4, \"dist_1500m\": 28, \"dist_4000m\": 137}, {\"dist_500m\": 4, \"dist_1500m\": 11, \"dist_4000m\": 38}, {\"dist_500m\": 3, \"dist_1500m\": 7, \"dist_4000m\": 35}, {\"dist_500m\": 1, \"dist_1500m\": 2, \"dist_4000m\": 7}, {\"dist_500m\": 3, \"dist_1500m\": 10, \"dist_4000m\": 26}, {\"dist_500m\": 1, \"dist_1500m\": 3, \"dist_4000m\": 16}, {\"dist_500m\": 2, \"dist_1500m\": 16, \"dist_4000m\": 87}, {\"dist_500m\": 1, \"dist_1500m\": 4, \"dist_4000m\": 36}, {\"dist_500m\": 1, \"dist_1500m\": 2, \"dist_4000m\": 9}, {\"dist_500m\": 3, \"dist_1500m\": 7, \"dist_4000m\": 57}, {\"dist_500m\": 1, \"dist_1500m\": 1, \"dist_4000m\": 1}, {\"dist_500m\": 4, \"dist_1500m\": 19, \"dist_4000m\": 123}, {\"dist_500m\": 2, \"dist_1500m\": 2, \"dist_4000m\": 2}, {\"dist_500m\": 4, \"dist_1500m\": 15, \"dist_4000m\": 106}, {\"dist_500m\": 1, \"dist_1500m\": 1, \"dist_4000m\": 2}, {\"dist_500m\": 4, \"dist_1500m\": 13, \"dist_4000m\": 50}, {\"dist_500m\": 1, \"dist_1500m\": 2, \"dist_4000m\": 8}, {\"dist_500m\": 35, \"dist_1500m\": 131, \"dist_4000m\": 311}, {\"dist_500m\": 3, \"dist_1500m\": 19, \"dist_4000m\": 78}, {\"dist_500m\": 8, \"dist_1500m\": 25, \"dist_4000m\": 95}, {\"dist_500m\": 1, \"dist_1500m\": 6, \"dist_4000m\": 29}, {\"dist_500m\": 11, \"dist_1500m\": 52, \"dist_4000m\": 131}, {\"dist_500m\": 33, \"dist_1500m\": 53, \"dist_4000m\": 133}, {\"dist_500m\": 1, \"dist_1500m\": 1, \"dist_4000m\": 1}, {\"dist_500m\": 2, \"dist_1500m\": 4, \"dist_4000m\": 26}, {\"dist_500m\": 20, \"dist_1500m\": 76, \"dist_4000m\": 123}, {\"dist_500m\": 3, \"dist_1500m\": 19, \"dist_4000m\": 81}, {\"dist_500m\": 2, \"dist_1500m\": 6, \"dist_4000m\": 24}, {\"dist_500m\": 6, \"dist_1500m\": 12, \"dist_4000m\": 72}, {\"dist_500m\": 1, \"dist_1500m\": 1, \"dist_4000m\": 1}, {\"dist_500m\": 10, \"dist_1500m\": 28, \"dist_4000m\": 80}, {\"dist_500m\": 1, \"dist_1500m\": 1, \"dist_4000m\": 6}, {\"dist_500m\": 2, \"dist_1500m\": 5, \"dist_4000m\": 8}, {\"dist_500m\": 38, \"dist_1500m\": 93, \"dist_4000m\": 110}, {\"dist_500m\": 3, \"dist_1500m\": 3, \"dist_4000m\": 3}, {\"dist_500m\": 35, \"dist_1500m\": 94, \"dist_4000m\": 109}, {\"dist_500m\": 1, \"dist_1500m\": 3, \"dist_4000m\": 3}, {\"dist_500m\": 2, \"dist_1500m\": 3, \"dist_4000m\": 8}, {\"dist_500m\": 1, \"dist_1500m\": 1, \"dist_4000m\": 1}, {\"dist_500m\": 1, \"dist_1500m\": 2, \"dist_4000m\": 6}, {\"dist_500m\": 3, \"dist_1500m\": 8, \"dist_4000m\": 67}, {\"dist_500m\": 1, \"dist_1500m\": 12, \"dist_4000m\": 84}, {\"dist_500m\": 15, \"dist_1500m\": 96, \"dist_4000m\": 310}, {\"dist_500m\": 15, \"dist_1500m\": 96, \"dist_4000m\": 310}, {\"dist_500m\": 2, \"dist_1500m\": 10, \"dist_4000m\": 28}, {\"dist_500m\": 1, \"dist_1500m\": 3, \"dist_4000m\": 8}, {\"dist_500m\": 1, \"dist_1500m\": 3, \"dist_4000m\": 38}, {\"dist_500m\": 1, \"dist_1500m\": 1, \"dist_4000m\": 14}, {\"dist_500m\": 2, \"dist_1500m\": 2, \"dist_4000m\": 2}, {\"dist_500m\": 8, \"dist_1500m\": 12, \"dist_4000m\": 105}, {\"dist_500m\": 4, \"dist_1500m\": 19, \"dist_4000m\": 76}, {\"dist_500m\": 1, \"dist_1500m\": 2, \"dist_4000m\": 4}, {\"dist_500m\": 1, \"dist_1500m\": 6, \"dist_4000m\": 14}, {\"dist_500m\": 5, \"dist_1500m\": 39, \"dist_4000m\": 118}, {\"dist_500m\": 2, \"dist_1500m\": 6, \"dist_4000m\": 36}, {\"dist_500m\": 3, \"dist_1500m\": 11, \"dist_4000m\": 26}, {\"dist_500m\": 6, \"dist_1500m\": 41, \"dist_4000m\": 115}, {\"dist_500m\": 9, \"dist_1500m\": 30, \"dist_4000m\": 83}, {\"dist_500m\": 1, \"dist_1500m\": 2, \"dist_4000m\": 3}, {\"dist_500m\": 1, \"dist_1500m\": 1, \"dist_4000m\": 3}, {\"dist_500m\": 1, \"dist_1500m\": 2, \"dist_4000m\": 7}, {\"dist_500m\": 2, \"dist_1500m\": 8, \"dist_4000m\": 20}, {\"dist_500m\": 4, \"dist_1500m\": 28, \"dist_4000m\": 89}, {\"dist_500m\": 1, \"dist_1500m\": 11, \"dist_4000m\": 38}, {\"dist_500m\": 4, \"dist_1500m\": 7, \"dist_4000m\": 49}, {\"dist_500m\": 1, \"dist_1500m\": 1, \"dist_4000m\": 1}, {\"dist_500m\": 4, \"dist_1500m\": 14, \"dist_4000m\": 40}, {\"dist_500m\": 1, \"dist_1500m\": 1, \"dist_4000m\": 2}, {\"dist_500m\": 2, \"dist_1500m\": 7, \"dist_4000m\": 15}, {\"dist_500m\": 2, \"dist_1500m\": 15, \"dist_4000m\": 53}, {\"dist_500m\": 4, \"dist_1500m\": 15, \"dist_4000m\": 52}, {\"dist_500m\": 1, \"dist_1500m\": 12, \"dist_4000m\": 23}, {\"dist_500m\": 1, \"dist_1500m\": 7, \"dist_4000m\": 28}, {\"dist_500m\": 4, \"dist_1500m\": 7, \"dist_4000m\": 18}, {\"dist_500m\": 1, \"dist_1500m\": 15, \"dist_4000m\": 34}, {\"dist_500m\": 1, \"dist_1500m\": 4, \"dist_4000m\": 21}, {\"dist_500m\": 17, \"dist_1500m\": 32, \"dist_4000m\": 75}, {\"dist_500m\": 1, \"dist_1500m\": 1, \"dist_4000m\": 3}, {\"dist_500m\": 1, \"dist_1500m\": 8, \"dist_4000m\": 87}, {\"dist_500m\": 3, \"dist_1500m\": 8, \"dist_4000m\": 22}, {\"dist_500m\": 1, \"dist_1500m\": 8, \"dist_4000m\": 17}, {\"dist_500m\": 3, \"dist_1500m\": 4, \"dist_4000m\": 16}, {\"dist_500m\": 1, \"dist_1500m\": 2, \"dist_4000m\": 9}, {\"dist_500m\": 1, \"dist_1500m\": 3, \"dist_4000m\": 18}, {\"dist_500m\": 1, \"dist_1500m\": 2, \"dist_4000m\": 3}, {\"dist_500m\": 4, \"dist_1500m\": 21, \"dist_4000m\": 122}, {\"dist_500m\": 1, \"dist_1500m\": 4, \"dist_4000m\": 17}, {\"dist_500m\": 1, \"dist_1500m\": 1, \"dist_4000m\": 1}, {\"dist_500m\": 4, \"dist_1500m\": 8, \"dist_4000m\": 43}, {\"dist_500m\": 5, \"dist_1500m\": 22, \"dist_4000m\": 33}, {\"dist_500m\": 2, \"dist_1500m\": 3, \"dist_4000m\": 15}, {\"dist_500m\": 1, \"dist_1500m\": 8, \"dist_4000m\": 15}, {\"dist_500m\": 6, \"dist_1500m\": 23, \"dist_4000m\": 94}, {\"dist_500m\": 1, \"dist_1500m\": 8, \"dist_4000m\": 60}, {\"dist_500m\": 4, \"dist_1500m\": 16, \"dist_4000m\": 96}, {\"dist_500m\": 7, \"dist_1500m\": 17, \"dist_4000m\": 66}, {\"dist_500m\": 2, \"dist_1500m\": 8, \"dist_4000m\": 27}, {\"dist_500m\": 2, \"dist_1500m\": 7, \"dist_4000m\": 45}, {\"dist_500m\": 1, \"dist_1500m\": 1, \"dist_4000m\": 2}, {\"dist_500m\": 1, \"dist_1500m\": 4, \"dist_4000m\": 11}, {\"dist_500m\": 4, \"dist_1500m\": 7, \"dist_4000m\": 18}, {\"dist_500m\": 2, \"dist_1500m\": 8, \"dist_4000m\": 79}, {\"dist_500m\": 3, \"dist_1500m\": 7, \"dist_4000m\": 29}, {\"dist_500m\": 22, \"dist_1500m\": 58, \"dist_4000m\": 126}, {\"dist_500m\": 1, \"dist_1500m\": 1, \"dist_4000m\": 1}, {\"dist_500m\": 39, \"dist_1500m\": 174, \"dist_4000m\": 309}, {\"dist_500m\": 2, \"dist_1500m\": 5, \"dist_4000m\": 52}, {\"dist_500m\": 2, \"dist_1500m\": 3, \"dist_4000m\": 8}, {\"dist_500m\": 11, \"dist_1500m\": 30, \"dist_4000m\": 81}, {\"dist_500m\": 2, \"dist_1500m\": 47, \"dist_4000m\": 75}, {\"dist_500m\": 2, \"dist_1500m\": 9, \"dist_4000m\": 22}, {\"dist_500m\": 1, \"dist_1500m\": 1, \"dist_4000m\": 1}, {\"dist_500m\": 6, \"dist_1500m\": 40, \"dist_4000m\": 308}, {\"dist_500m\": 1, \"dist_1500m\": 1, \"dist_4000m\": 3}, {\"dist_500m\": 35, \"dist_1500m\": 51, \"dist_4000m\": 150}, {\"dist_500m\": 1, \"dist_1500m\": 3, \"dist_4000m\": 8}, {\"dist_500m\": 4, \"dist_1500m\": 16, \"dist_4000m\": 22}, {\"dist_500m\": 5, \"dist_1500m\": 25, \"dist_4000m\": 73}, {\"dist_500m\": 2, \"dist_1500m\": 17, \"dist_4000m\": 121}, {\"dist_500m\": 5, \"dist_1500m\": 21, \"dist_4000m\": 64}, {\"dist_500m\": 3, \"dist_1500m\": 3, \"dist_4000m\": 3}, {\"dist_500m\": 1, \"dist_1500m\": 1, \"dist_4000m\": 2}, {\"dist_500m\": 52, \"dist_1500m\": 91, \"dist_4000m\": 111}, {\"dist_500m\": 5, \"dist_1500m\": 14, \"dist_4000m\": 44}, {\"dist_500m\": 1, \"dist_1500m\": 8, \"dist_4000m\": 37}, {\"dist_500m\": 1, \"dist_1500m\": 5, \"dist_4000m\": 25}, {\"dist_500m\": 2, \"dist_1500m\": 3, \"dist_4000m\": 12}, {\"dist_500m\": 2, \"dist_1500m\": 44, \"dist_4000m\": 93}, {\"dist_500m\": 1, \"dist_1500m\": 1, \"dist_4000m\": 1}, {\"dist_500m\": 7, \"dist_1500m\": 10, \"dist_4000m\": 18}, {\"dist_500m\": 1, \"dist_1500m\": 23, \"dist_4000m\": 125}, {\"dist_500m\": 1, \"dist_1500m\": 15, \"dist_4000m\": 74}, {\"dist_500m\": 1, \"dist_1500m\": 5, \"dist_4000m\": 25}, {\"dist_500m\": 5, \"dist_1500m\": 26, \"dist_4000m\": 106}, {\"dist_500m\": 1, \"dist_1500m\": 1, \"dist_4000m\": 9}, {\"dist_500m\": 1, \"dist_1500m\": 2, \"dist_4000m\": 12}, {\"dist_500m\": 5, \"dist_1500m\": 67, \"dist_4000m\": 296}, {\"dist_500m\": 4, \"dist_1500m\": 7, \"dist_4000m\": 21}, {\"dist_500m\": 3, \"dist_1500m\": 8, \"dist_4000m\": 28}, {\"dist_500m\": 4, \"dist_1500m\": 7, \"dist_4000m\": 18}, {\"dist_500m\": 1, \"dist_1500m\": 1, \"dist_4000m\": 2}, {\"dist_500m\": 1, \"dist_1500m\": 1, \"dist_4000m\": 1}, {\"dist_500m\": 1, \"dist_1500m\": 1, \"dist_4000m\": 1}, {\"dist_500m\": 4, \"dist_1500m\": 9, \"dist_4000m\": 37}, {\"dist_500m\": 1, \"dist_1500m\": 1, \"dist_4000m\": 7}, {\"dist_500m\": 1, \"dist_1500m\": 13, \"dist_4000m\": 52}, {\"dist_500m\": 1, \"dist_1500m\": 8, \"dist_4000m\": 42}, {\"dist_500m\": 1, \"dist_1500m\": 1, \"dist_4000m\": 3}, {\"dist_500m\": 1, \"dist_1500m\": 9, \"dist_4000m\": 26}, {\"dist_500m\": 1, \"dist_1500m\": 2, \"dist_4000m\": 2}, {\"dist_500m\": 2, \"dist_1500m\": 7, \"dist_4000m\": 13}, {\"dist_500m\": 14, \"dist_1500m\": 64, \"dist_4000m\": 101}, {\"dist_500m\": 1, \"dist_1500m\": 7, \"dist_4000m\": 107}, {\"dist_500m\": 10, \"dist_1500m\": 68, \"dist_4000m\": 123}, {\"dist_500m\": 2, \"dist_1500m\": 2, \"dist_4000m\": 11}, {\"dist_500m\": 1, \"dist_1500m\": 1, \"dist_4000m\": 4}, {\"dist_500m\": 3, \"dist_1500m\": 23, \"dist_4000m\": 107}, {\"dist_500m\": 3, \"dist_1500m\": 23, \"dist_4000m\": 106}, {\"dist_500m\": 3, \"dist_1500m\": 3, \"dist_4000m\": 13}, {\"dist_500m\": 5, \"dist_1500m\": 13, \"dist_4000m\": 23}, {\"dist_500m\": 1, \"dist_1500m\": 6, \"dist_4000m\": 17}, {\"dist_500m\": 2, \"dist_1500m\": 7, \"dist_4000m\": 32}, {\"dist_500m\": 1, \"dist_1500m\": 1, \"dist_4000m\": 1}, {\"dist_500m\": 1, \"dist_1500m\": 2, \"dist_4000m\": 7}, {\"dist_500m\": 3, \"dist_1500m\": 3, \"dist_4000m\": 3}, {\"dist_500m\": 1, \"dist_1500m\": 3, \"dist_4000m\": 14}, {\"dist_500m\": 1, \"dist_1500m\": 1, \"dist_4000m\": 8}, {\"dist_500m\": 2, \"dist_1500m\": 13, \"dist_4000m\": 32}, {\"dist_500m\": 1, \"dist_1500m\": 2, \"dist_4000m\": 7}, {\"dist_500m\": 1, \"dist_1500m\": 3, \"dist_4000m\": 8}, {\"dist_500m\": 1, \"dist_1500m\": 4, \"dist_4000m\": 15}, {\"dist_500m\": 1, \"dist_1500m\": 1, \"dist_4000m\": 1}, {\"dist_500m\": 4, \"dist_1500m\": 8, \"dist_4000m\": 28}, {\"dist_500m\": 3, \"dist_1500m\": 3, \"dist_4000m\": 7}, {\"dist_500m\": 1, \"dist_1500m\": 1, \"dist_4000m\": 1}, {\"dist_500m\": 26, \"dist_1500m\": 60, \"dist_4000m\": 101}, {\"dist_500m\": 15, \"dist_1500m\": 120, \"dist_4000m\": 309}, {\"dist_500m\": 1, \"dist_1500m\": 4, \"dist_4000m\": 13}, {\"dist_500m\": 2, \"dist_1500m\": 21, \"dist_4000m\": 85}, {\"dist_500m\": 12, \"dist_1500m\": 22, \"dist_4000m\": 118}, {\"dist_500m\": 3, \"dist_1500m\": 8, \"dist_4000m\": 53}, {\"dist_500m\": 1, \"dist_1500m\": 4, \"dist_4000m\": 6}, {\"dist_500m\": 2, \"dist_1500m\": 4, \"dist_4000m\": 16}, {\"dist_500m\": 1, \"dist_1500m\": 15, \"dist_4000m\": 42}, {\"dist_500m\": 1, \"dist_1500m\": 2, \"dist_4000m\": 4}, {\"dist_500m\": 1, \"dist_1500m\": 1, \"dist_4000m\": 5}, {\"dist_500m\": 1, \"dist_1500m\": 1, \"dist_4000m\": 4}, {\"dist_500m\": 7, \"dist_1500m\": 8, \"dist_4000m\": 17}, {\"dist_500m\": 24, \"dist_1500m\": 75, \"dist_4000m\": 123}, {\"dist_500m\": 2, \"dist_1500m\": 6, \"dist_4000m\": 38}, {\"dist_500m\": 3, \"dist_1500m\": 3, \"dist_4000m\": 4}, {\"dist_500m\": 19, \"dist_1500m\": 200, \"dist_4000m\": 309}, {\"dist_500m\": 1, \"dist_1500m\": 2, \"dist_4000m\": 7}, {\"dist_500m\": 1, \"dist_1500m\": 6, \"dist_4000m\": 28}, {\"dist_500m\": 1, \"dist_1500m\": 1, \"dist_4000m\": 2}, {\"dist_500m\": 1, \"dist_1500m\": 2, \"dist_4000m\": 10}, {\"dist_500m\": 2, \"dist_1500m\": 4, \"dist_4000m\": 56}, {\"dist_500m\": 5, \"dist_1500m\": 20, \"dist_4000m\": 113}, {\"dist_500m\": 1, \"dist_1500m\": 9, \"dist_4000m\": 29}, {\"dist_500m\": 2, \"dist_1500m\": 30, \"dist_4000m\": 117}, {\"dist_500m\": 5, \"dist_1500m\": 101, \"dist_4000m\": 307}, {\"dist_500m\": 8, \"dist_1500m\": 102, \"dist_4000m\": 305}, {\"dist_500m\": 1, \"dist_1500m\": 8, \"dist_4000m\": 26}, {\"dist_500m\": 1, \"dist_1500m\": 7, \"dist_4000m\": 23}, {\"dist_500m\": 1, \"dist_1500m\": 2, \"dist_4000m\": 2}, {\"dist_500m\": 3, \"dist_1500m\": 7, \"dist_4000m\": 23}, {\"dist_500m\": 2, \"dist_1500m\": 7, \"dist_4000m\": 20}, {\"dist_500m\": 2, \"dist_1500m\": 3, \"dist_4000m\": 46}, {\"dist_500m\": 1, \"dist_1500m\": 17, \"dist_4000m\": 43}, {\"dist_500m\": 7, \"dist_1500m\": 26, \"dist_4000m\": 80}, {\"dist_500m\": 1, \"dist_1500m\": 1, \"dist_4000m\": 3}, {\"dist_500m\": 6, \"dist_1500m\": 30, \"dist_4000m\": 117}, {\"dist_500m\": 1, \"dist_1500m\": 2, \"dist_4000m\": 4}, {\"dist_500m\": 1, \"dist_1500m\": 1, \"dist_4000m\": 2}, {\"dist_500m\": 1, \"dist_1500m\": 3, \"dist_4000m\": 10}, {\"dist_500m\": 13, \"dist_1500m\": 86, \"dist_4000m\": 311}, {\"dist_500m\": 1, \"dist_1500m\": 2, \"dist_4000m\": 14}, {\"dist_500m\": 5, \"dist_1500m\": 9, \"dist_4000m\": 40}, {\"dist_500m\": 10, \"dist_1500m\": 28, \"dist_4000m\": 217}, {\"dist_500m\": 1, \"dist_1500m\": 1, \"dist_4000m\": 6}, {\"dist_500m\": 2, \"dist_1500m\": 2, \"dist_4000m\": 13}, {\"dist_500m\": 2, \"dist_1500m\": 17, \"dist_4000m\": 78}, {\"dist_500m\": 5, \"dist_1500m\": 6, \"dist_4000m\": 6}, {\"dist_500m\": 1, \"dist_1500m\": 1, \"dist_4000m\": 4}, {\"dist_500m\": 4, \"dist_1500m\": 9, \"dist_4000m\": 31}, {\"dist_500m\": 2, \"dist_1500m\": 24, \"dist_4000m\": 142}, {\"dist_500m\": 1, \"dist_1500m\": 9, \"dist_4000m\": 22}, {\"dist_500m\": 1, \"dist_1500m\": 2, \"dist_4000m\": 5}, {\"dist_500m\": 3, \"dist_1500m\": 5, \"dist_4000m\": 23}, {\"dist_500m\": 2, \"dist_1500m\": 4, \"dist_4000m\": 14}, {\"dist_500m\": 1, \"dist_1500m\": 1, \"dist_4000m\": 2}, {\"dist_500m\": 2, \"dist_1500m\": 2, \"dist_4000m\": 5}, {\"dist_500m\": 1, \"dist_1500m\": 21, \"dist_4000m\": 289}, {\"dist_500m\": 3, \"dist_1500m\": 15, \"dist_4000m\": 66}, {\"dist_500m\": 3, \"dist_1500m\": 95, \"dist_4000m\": 331}, {\"dist_500m\": 18, \"dist_1500m\": 52, \"dist_4000m\": 122}, {\"dist_500m\": 3, \"dist_1500m\": 11, \"dist_4000m\": 204}, {\"dist_500m\": 12, \"dist_1500m\": 28, \"dist_4000m\": 40}, {\"dist_500m\": 2, \"dist_1500m\": 2, \"dist_4000m\": 10}, {\"dist_500m\": 4, \"dist_1500m\": 23, \"dist_4000m\": 63}, {\"dist_500m\": 2, \"dist_1500m\": 39, \"dist_4000m\": 307}, {\"dist_500m\": 6, \"dist_1500m\": 62, \"dist_4000m\": 113}, {\"dist_500m\": 2, \"dist_1500m\": 9, \"dist_4000m\": 17}, {\"dist_500m\": 1, \"dist_1500m\": 1, \"dist_4000m\": 3}, {\"dist_500m\": 1, \"dist_1500m\": 1, \"dist_4000m\": 6}, {\"dist_500m\": 13, \"dist_1500m\": 122, \"dist_4000m\": 357}, {\"dist_500m\": 5, \"dist_1500m\": 19, \"dist_4000m\": 33}, {\"dist_500m\": 1, \"dist_1500m\": 7, \"dist_4000m\": 34}, {\"dist_500m\": 1, \"dist_1500m\": 7, \"dist_4000m\": 21}, {\"dist_500m\": 1, \"dist_1500m\": 1, \"dist_4000m\": 13}, {\"dist_500m\": 1, \"dist_1500m\": 1, \"dist_4000m\": 17}, {\"dist_500m\": 1, \"dist_1500m\": 1, \"dist_4000m\": 1}, {\"dist_500m\": 1, \"dist_1500m\": 1, \"dist_4000m\": 1}, {\"dist_500m\": 16, \"dist_1500m\": 93, \"dist_4000m\": 108}, {\"dist_500m\": 4, \"dist_1500m\": 17, \"dist_4000m\": 23}, {\"dist_500m\": 9, \"dist_1500m\": 27, \"dist_4000m\": 101}, {\"dist_500m\": 4, \"dist_1500m\": 8, \"dist_4000m\": 14}, {\"dist_500m\": 3, \"dist_1500m\": 12, \"dist_4000m\": 92}, {\"dist_500m\": 2, \"dist_1500m\": 3, \"dist_4000m\": 4}, {\"dist_500m\": 1, \"dist_1500m\": 2, \"dist_4000m\": 5}, {\"dist_500m\": 1, \"dist_1500m\": 4, \"dist_4000m\": 56}, {\"dist_500m\": 3, \"dist_1500m\": 5, \"dist_4000m\": 20}, {\"dist_500m\": 2, \"dist_1500m\": 7, \"dist_4000m\": 19}, {\"dist_500m\": 3, \"dist_1500m\": 16, \"dist_4000m\": 61}, {\"dist_500m\": 2, \"dist_1500m\": 4, \"dist_4000m\": 13}, {\"dist_500m\": 1, \"dist_1500m\": 2, \"dist_4000m\": 2}, {\"dist_500m\": 1, \"dist_1500m\": 6, \"dist_4000m\": 22}, {\"dist_500m\": 1, \"dist_1500m\": 1, \"dist_4000m\": 3}, {\"dist_500m\": 9, \"dist_1500m\": 25, \"dist_4000m\": 108}, {\"dist_500m\": 1, \"dist_1500m\": 2, \"dist_4000m\": 28}, {\"dist_500m\": 39, \"dist_1500m\": 174, \"dist_4000m\": 309}, {\"dist_500m\": 3, \"dist_1500m\": 12, \"dist_4000m\": 150}, {\"dist_500m\": 4, \"dist_1500m\": 11, \"dist_4000m\": 13}, {\"dist_500m\": 14, \"dist_1500m\": 23, \"dist_4000m\": 125}, {\"dist_500m\": 1, \"dist_1500m\": 5, \"dist_4000m\": 15}, {\"dist_500m\": 1, \"dist_1500m\": 1, \"dist_4000m\": 5}, {\"dist_500m\": 14, \"dist_1500m\": 23, \"dist_4000m\": 124}, {\"dist_500m\": 8, \"dist_1500m\": 40, \"dist_4000m\": 115}, {\"dist_500m\": 1, \"dist_1500m\": 2, \"dist_4000m\": 10}, {\"dist_500m\": 2, \"dist_1500m\": 7, \"dist_4000m\": 28}, {\"dist_500m\": 5, \"dist_1500m\": 21, \"dist_4000m\": 95}, {\"dist_500m\": 49, \"dist_1500m\": 86, \"dist_4000m\": 111}, {\"dist_500m\": 2, \"dist_1500m\": 2, \"dist_4000m\": 6}, {\"dist_500m\": 6, \"dist_1500m\": 38, \"dist_4000m\": 76}, {\"dist_500m\": 14, \"dist_1500m\": 23, \"dist_4000m\": 125}, {\"dist_500m\": 1, \"dist_1500m\": 3, \"dist_4000m\": 4}, {\"dist_500m\": 5, \"dist_1500m\": 11, \"dist_4000m\": 33}, {\"dist_500m\": 12, \"dist_1500m\": 22, \"dist_4000m\": 122}, {\"dist_500m\": 1, \"dist_1500m\": 5, \"dist_4000m\": 54}, {\"dist_500m\": 4, \"dist_1500m\": 13, \"dist_4000m\": 41}, {\"dist_500m\": 2, \"dist_1500m\": 9, \"dist_4000m\": 38}, {\"dist_500m\": 3, \"dist_1500m\": 3, \"dist_4000m\": 15}, {\"dist_500m\": 1, \"dist_1500m\": 1, \"dist_4000m\": 1}, {\"dist_500m\": 1, \"dist_1500m\": 3, \"dist_4000m\": 12}, {\"dist_500m\": 1, \"dist_1500m\": 7, \"dist_4000m\": 20}, {\"dist_500m\": 1, \"dist_1500m\": 4, \"dist_4000m\": 14}, {\"dist_500m\": 1, \"dist_1500m\": 7, \"dist_4000m\": 35}, {\"dist_500m\": 7, \"dist_1500m\": 9, \"dist_4000m\": 17}, {\"dist_500m\": 10, \"dist_1500m\": 57, \"dist_4000m\": 126}, {\"dist_500m\": 1, \"dist_1500m\": 1, \"dist_4000m\": 9}, {\"dist_500m\": 1, \"dist_1500m\": 3, \"dist_4000m\": 10}, {\"dist_500m\": 1, \"dist_1500m\": 6, \"dist_4000m\": 17}, {\"dist_500m\": 3, \"dist_1500m\": 4, \"dist_4000m\": 8}, {\"dist_500m\": 1, \"dist_1500m\": 5, \"dist_4000m\": 16}, {\"dist_500m\": 3, \"dist_1500m\": 4, \"dist_4000m\": 8}, {\"dist_500m\": 4, \"dist_1500m\": 13, \"dist_4000m\": 33}, {\"dist_500m\": 2, \"dist_1500m\": 3, \"dist_4000m\": 11}, {\"dist_500m\": 17, \"dist_1500m\": 93, \"dist_4000m\": 108}, {\"dist_500m\": 1, \"dist_1500m\": 2, \"dist_4000m\": 4}, {\"dist_500m\": 3, \"dist_1500m\": 6, \"dist_4000m\": 28}, {\"dist_500m\": 9, \"dist_1500m\": 27, \"dist_4000m\": 217}, {\"dist_500m\": 1, \"dist_1500m\": 3, \"dist_4000m\": 7}, {\"dist_500m\": 6, \"dist_1500m\": 22, \"dist_4000m\": 127}, {\"dist_500m\": 1, \"dist_1500m\": 1, \"dist_4000m\": 1}, {\"dist_500m\": 3, \"dist_1500m\": 3, \"dist_4000m\": 12}, {\"dist_500m\": 1, \"dist_1500m\": 1, \"dist_4000m\": 4}, {\"dist_500m\": 4, \"dist_1500m\": 13, \"dist_4000m\": 38}, {\"dist_500m\": 1, \"dist_1500m\": 1, \"dist_4000m\": 1}, {\"dist_500m\": 2, \"dist_1500m\": 2, \"dist_4000m\": 2}, {\"dist_500m\": 1, \"dist_1500m\": 3, \"dist_4000m\": 13}, {\"dist_500m\": 9, \"dist_1500m\": 25, \"dist_4000m\": 249}, {\"dist_500m\": 1, \"dist_1500m\": 11, \"dist_4000m\": 73}, {\"dist_500m\": 1, \"dist_1500m\": 1, \"dist_4000m\": 9}, {\"dist_500m\": 3, \"dist_1500m\": 21, \"dist_4000m\": 92}, {\"dist_500m\": 1, \"dist_1500m\": 2, \"dist_4000m\": 6}, {\"dist_500m\": 1, \"dist_1500m\": 2, \"dist_4000m\": 10}, {\"dist_500m\": 1, \"dist_1500m\": 4, \"dist_4000m\": 7}, {\"dist_500m\": 3, \"dist_1500m\": 5, \"dist_4000m\": 27}, {\"dist_500m\": 12, \"dist_1500m\": 22, \"dist_4000m\": 121}, {\"dist_500m\": 12, \"dist_1500m\": 23, \"dist_4000m\": 122}, {\"dist_500m\": 1, \"dist_1500m\": 1, \"dist_4000m\": 4}, {\"dist_500m\": 1, \"dist_1500m\": 1, \"dist_4000m\": 5}, {\"dist_500m\": 1, \"dist_1500m\": 1, \"dist_4000m\": 58}, {\"dist_500m\": 1, \"dist_1500m\": 4, \"dist_4000m\": 11}, {\"dist_500m\": 2, \"dist_1500m\": 10, \"dist_4000m\": 59}, {\"dist_500m\": 7, \"dist_1500m\": 31, \"dist_4000m\": 75}, {\"dist_500m\": 1, \"dist_1500m\": 2, \"dist_4000m\": 17}, {\"dist_500m\": 1, \"dist_1500m\": 3, \"dist_4000m\": 8}, {\"dist_500m\": 1, \"dist_1500m\": 1, \"dist_4000m\": 6}, {\"dist_500m\": 3, \"dist_1500m\": 18, \"dist_4000m\": 234}, {\"dist_500m\": 1, \"dist_1500m\": 9, \"dist_4000m\": 41}, {\"dist_500m\": 1, \"dist_1500m\": 3, \"dist_4000m\": 10}, {\"dist_500m\": 1, \"dist_1500m\": 1, \"dist_4000m\": 1}, {\"dist_500m\": 6, \"dist_1500m\": 12, \"dist_4000m\": 84}, {\"dist_500m\": 2, \"dist_1500m\": 19, \"dist_4000m\": 40}, {\"dist_500m\": 1, \"dist_1500m\": 4, \"dist_4000m\": 41}, {\"dist_500m\": 3, \"dist_1500m\": 13, \"dist_4000m\": 63}, {\"dist_500m\": 1, \"dist_1500m\": 1, \"dist_4000m\": 16}, {\"dist_500m\": 3, \"dist_1500m\": 26, \"dist_4000m\": 97}, {\"dist_500m\": 2, \"dist_1500m\": 3, \"dist_4000m\": 7}, {\"dist_500m\": 1, \"dist_1500m\": 11, \"dist_4000m\": 83}, {\"dist_500m\": 12, \"dist_1500m\": 75, \"dist_4000m\": 119}, {\"dist_500m\": 3, \"dist_1500m\": 7, \"dist_4000m\": 12}, {\"dist_500m\": 1, \"dist_1500m\": 1, \"dist_4000m\": 2}, {\"dist_500m\": 3, \"dist_1500m\": 11, \"dist_4000m\": 37}, {\"dist_500m\": 5, \"dist_1500m\": 17, \"dist_4000m\": 60}, {\"dist_500m\": 5, \"dist_1500m\": 17, \"dist_4000m\": 59}, {\"dist_500m\": 1, \"dist_1500m\": 4, \"dist_4000m\": 13}, {\"dist_500m\": 26, \"dist_1500m\": 56, \"dist_4000m\": 129}, {\"dist_500m\": 2, \"dist_1500m\": 12, \"dist_4000m\": 117}, {\"dist_500m\": 1, \"dist_1500m\": 1, \"dist_4000m\": 14}, {\"dist_500m\": 3, \"dist_1500m\": 11, \"dist_4000m\": 38}, {\"dist_500m\": 1, \"dist_1500m\": 1, \"dist_4000m\": 1}, {\"dist_500m\": 4, \"dist_1500m\": 9, \"dist_4000m\": 33}, {\"dist_500m\": 2, \"dist_1500m\": 19, \"dist_4000m\": 128}, {\"dist_500m\": 1, \"dist_1500m\": 2, \"dist_4000m\": 2}, {\"dist_500m\": 1, \"dist_1500m\": 1, \"dist_4000m\": 2}, {\"dist_500m\": 3, \"dist_1500m\": 56, \"dist_4000m\": 112}, {\"dist_500m\": 1, \"dist_1500m\": 2, \"dist_4000m\": 8}, {\"dist_500m\": 2, \"dist_1500m\": 6, \"dist_4000m\": 47}, {\"dist_500m\": 1, \"dist_1500m\": 1, \"dist_4000m\": 4}, {\"dist_500m\": 1, \"dist_1500m\": 1, \"dist_4000m\": 3}, {\"dist_500m\": 1, \"dist_1500m\": 2, \"dist_4000m\": 3}, {\"dist_500m\": 1, \"dist_1500m\": 4, \"dist_4000m\": 15}, {\"dist_500m\": 2, \"dist_1500m\": 4, \"dist_4000m\": 13}, {\"dist_500m\": 1, \"dist_1500m\": 2, \"dist_4000m\": 5}, {\"dist_500m\": 1, \"dist_1500m\": 14, \"dist_4000m\": 64}, {\"dist_500m\": 1, \"dist_1500m\": 2, \"dist_4000m\": 2}, {\"dist_500m\": 11, \"dist_1500m\": 33, \"dist_4000m\": 122}, {\"dist_500m\": 2, \"dist_1500m\": 2, \"dist_4000m\": 3}, {\"dist_500m\": 2, \"dist_1500m\": 9, \"dist_4000m\": 57}, {\"dist_500m\": 3, \"dist_1500m\": 17, \"dist_4000m\": 78}, {\"dist_500m\": 1, \"dist_1500m\": 2, \"dist_4000m\": 31}, {\"dist_500m\": 1, \"dist_1500m\": 1, \"dist_4000m\": 2}, {\"dist_500m\": 1, \"dist_1500m\": 10, \"dist_4000m\": 73}, {\"dist_500m\": 1, \"dist_1500m\": 1, \"dist_4000m\": 1}, {\"dist_500m\": 1, \"dist_1500m\": 1, \"dist_4000m\": 1}, {\"dist_500m\": 1, \"dist_1500m\": 1, \"dist_4000m\": 1}, {\"dist_500m\": 5, \"dist_1500m\": 30, \"dist_4000m\": 155}, {\"dist_500m\": 3, \"dist_1500m\": 3, \"dist_4000m\": 3}, {\"dist_500m\": 3, \"dist_1500m\": 3, \"dist_4000m\": 3}, {\"dist_500m\": 2, \"dist_1500m\": 8, \"dist_4000m\": 36}, {\"dist_500m\": 61, \"dist_1500m\": 92, \"dist_4000m\": 111}, {\"dist_500m\": 6, \"dist_1500m\": 32, \"dist_4000m\": 76}, {\"dist_500m\": 2, \"dist_1500m\": 65, \"dist_4000m\": 309}, {\"dist_500m\": 3, \"dist_1500m\": 3, \"dist_4000m\": 60}, {\"dist_500m\": 3, \"dist_1500m\": 21, \"dist_4000m\": 91}, {\"dist_500m\": 1, \"dist_1500m\": 3, \"dist_4000m\": 14}, {\"dist_500m\": 1, \"dist_1500m\": 1, \"dist_4000m\": 3}, {\"dist_500m\": 14, \"dist_1500m\": 67, \"dist_4000m\": 101}, {\"dist_500m\": 1, \"dist_1500m\": 6, \"dist_4000m\": 14}, {\"dist_500m\": 2, \"dist_1500m\": 15, \"dist_4000m\": 113}, {\"dist_500m\": 1, \"dist_1500m\": 1, \"dist_4000m\": 2}, {\"dist_500m\": 2, \"dist_1500m\": 5, \"dist_4000m\": 16}, {\"dist_500m\": 1, \"dist_1500m\": 3, \"dist_4000m\": 8}, {\"dist_500m\": 1, \"dist_1500m\": 4, \"dist_4000m\": 31}, {\"dist_500m\": 2, \"dist_1500m\": 2, \"dist_4000m\": 3}, {\"dist_500m\": 1, \"dist_1500m\": 1, \"dist_4000m\": 7}, {\"dist_500m\": 1, \"dist_1500m\": 1, \"dist_4000m\": 1}, {\"dist_500m\": 2, \"dist_1500m\": 24, \"dist_4000m\": 138}, {\"dist_500m\": 1, \"dist_1500m\": 1, \"dist_4000m\": 1}, {\"dist_500m\": 1, \"dist_1500m\": 3, \"dist_4000m\": 36}, {\"dist_500m\": 3, \"dist_1500m\": 18, \"dist_4000m\": 56}, {\"dist_500m\": 4, \"dist_1500m\": 12, \"dist_4000m\": 50}, {\"dist_500m\": 1, \"dist_1500m\": 2, \"dist_4000m\": 7}, {\"dist_500m\": 3, \"dist_1500m\": 6, \"dist_4000m\": 16}, {\"dist_500m\": 1, \"dist_1500m\": 1, \"dist_4000m\": 10}, {\"dist_500m\": 2, \"dist_1500m\": 7, \"dist_4000m\": 21}, {\"dist_500m\": 1, \"dist_1500m\": 2, \"dist_4000m\": 5}, {\"dist_500m\": 2, \"dist_1500m\": 15, \"dist_4000m\": 73}, {\"dist_500m\": 1, \"dist_1500m\": 5, \"dist_4000m\": 35}, {\"dist_500m\": 1, \"dist_1500m\": 2, \"dist_4000m\": 7}, {\"dist_500m\": 3, \"dist_1500m\": 19, \"dist_4000m\": 32}, {\"dist_500m\": 1, \"dist_1500m\": 1, \"dist_4000m\": 1}, {\"dist_500m\": 2, \"dist_1500m\": 19, \"dist_4000m\": 65}, {\"dist_500m\": 3, \"dist_1500m\": 6, \"dist_4000m\": 35}, {\"dist_500m\": 4, \"dist_1500m\": 9, \"dist_4000m\": 25}, {\"dist_500m\": 1, \"dist_1500m\": 1, \"dist_4000m\": 6}, {\"dist_500m\": 2, \"dist_1500m\": 2, \"dist_4000m\": 14}, {\"dist_500m\": 2, \"dist_1500m\": 5, \"dist_4000m\": 16}, {\"dist_500m\": 2, \"dist_1500m\": 9, \"dist_4000m\": 53}, {\"dist_500m\": 1, \"dist_1500m\": 1, \"dist_4000m\": 1}, {\"dist_500m\": 1, \"dist_1500m\": 5, \"dist_4000m\": 28}, {\"dist_500m\": 2, \"dist_1500m\": 2, \"dist_4000m\": 14}, {\"dist_500m\": 3, \"dist_1500m\": 17, \"dist_4000m\": 68}, {\"dist_500m\": 1, \"dist_1500m\": 1, \"dist_4000m\": 2}, {\"dist_500m\": 1, \"dist_1500m\": 1, \"dist_4000m\": 5}, {\"dist_500m\": 2, \"dist_1500m\": 5, \"dist_4000m\": 17}, {\"dist_500m\": 3, \"dist_1500m\": 3, \"dist_4000m\": 3}, {\"dist_500m\": 1, \"dist_1500m\": 1, \"dist_4000m\": 10}, {\"dist_500m\": 1, \"dist_1500m\": 2, \"dist_4000m\": 35}, {\"dist_500m\": 1, \"dist_1500m\": 3, \"dist_4000m\": 15}, {\"dist_500m\": 2, \"dist_1500m\": 4, \"dist_4000m\": 9}, {\"dist_500m\": 18, \"dist_1500m\": 55, \"dist_4000m\": 125}, {\"dist_500m\": 8, \"dist_1500m\": 20, \"dist_4000m\": 117}, {\"dist_500m\": 8, \"dist_1500m\": 20, \"dist_4000m\": 118}, {\"dist_500m\": 5, \"dist_1500m\": 16, \"dist_4000m\": 24}, {\"dist_500m\": 4, \"dist_1500m\": 18, \"dist_4000m\": 71}, {\"dist_500m\": 1, \"dist_1500m\": 1, \"dist_4000m\": 7}, {\"dist_500m\": 3, \"dist_1500m\": 5, \"dist_4000m\": 18}, {\"dist_500m\": 1, \"dist_1500m\": 1, \"dist_4000m\": 20}, {\"dist_500m\": 8, \"dist_1500m\": 21, \"dist_4000m\": 120}, {\"dist_500m\": 1, \"dist_1500m\": 2, \"dist_4000m\": 20}, {\"dist_500m\": 2, \"dist_1500m\": 7, \"dist_4000m\": 47}, {\"dist_500m\": 4, \"dist_1500m\": 15, \"dist_4000m\": 49}, {\"dist_500m\": 20, \"dist_1500m\": 54, \"dist_4000m\": 121}, {\"dist_500m\": 9, \"dist_1500m\": 92, \"dist_4000m\": 105}, {\"dist_500m\": 10, \"dist_1500m\": 17, \"dist_4000m\": 19}, {\"dist_500m\": 10, \"dist_1500m\": 16, \"dist_4000m\": 19}, {\"dist_500m\": 1, \"dist_1500m\": 1, \"dist_4000m\": 15}, {\"dist_500m\": 1, \"dist_1500m\": 1, \"dist_4000m\": 1}, {\"dist_500m\": 62, \"dist_1500m\": 93, \"dist_4000m\": 111}, {\"dist_500m\": 12, \"dist_1500m\": 37, \"dist_4000m\": 40}, {\"dist_500m\": 18, \"dist_1500m\": 53, \"dist_4000m\": 122}, {\"dist_500m\": 2, \"dist_1500m\": 19, \"dist_4000m\": 19}, {\"dist_500m\": 55, \"dist_1500m\": 89, \"dist_4000m\": 111}, {\"dist_500m\": 4, \"dist_1500m\": 31, \"dist_4000m\": 40}, {\"dist_500m\": 2, \"dist_1500m\": 19, \"dist_4000m\": 19}, {\"dist_500m\": 2, \"dist_1500m\": 5, \"dist_4000m\": 7}, {\"dist_500m\": 1, \"dist_1500m\": 2, \"dist_4000m\": 4}, {\"dist_500m\": 3, \"dist_1500m\": 15, \"dist_4000m\": 32}, {\"dist_500m\": 2, \"dist_1500m\": 5, \"dist_4000m\": 16}, {\"dist_500m\": 2, \"dist_1500m\": 9, \"dist_4000m\": 18}, {\"dist_500m\": 1, \"dist_1500m\": 1, \"dist_4000m\": 32}, {\"dist_500m\": 1, \"dist_1500m\": 1, \"dist_4000m\": 4}, {\"dist_500m\": 1, \"dist_1500m\": 1, \"dist_4000m\": 1}, {\"dist_500m\": 2, \"dist_1500m\": 18, \"dist_4000m\": 92}, {\"dist_500m\": 2, \"dist_1500m\": 5, \"dist_4000m\": 16}, {\"dist_500m\": 2, \"dist_1500m\": 2, \"dist_4000m\": 4}, {\"dist_500m\": 2, \"dist_1500m\": 12, \"dist_4000m\": 198}, {\"dist_500m\": 2, \"dist_1500m\": 8, \"dist_4000m\": 19}, {\"dist_500m\": 4, \"dist_1500m\": 21, \"dist_4000m\": 107}, {\"dist_500m\": 1, \"dist_1500m\": 9, \"dist_4000m\": 35}, {\"dist_500m\": 1, \"dist_1500m\": 1, \"dist_4000m\": 5}, {\"dist_500m\": 1, \"dist_1500m\": 27, \"dist_4000m\": 292}, {\"dist_500m\": 4, \"dist_1500m\": 15, \"dist_4000m\": 58}, {\"dist_500m\": 17, \"dist_1500m\": 81, \"dist_4000m\": 108}, {\"dist_500m\": 2, \"dist_1500m\": 12, \"dist_4000m\": 82}, {\"dist_500m\": 3, \"dist_1500m\": 12, \"dist_4000m\": 38}, {\"dist_500m\": 2, \"dist_1500m\": 2, \"dist_4000m\": 9}, {\"dist_500m\": 21, \"dist_1500m\": 62, \"dist_4000m\": 102}, {\"dist_500m\": 2, \"dist_1500m\": 10, \"dist_4000m\": 82}, {\"dist_500m\": 2, \"dist_1500m\": 2, \"dist_4000m\": 4}, {\"dist_500m\": 2, \"dist_1500m\": 10, \"dist_4000m\": 82}, {\"dist_500m\": 8, \"dist_1500m\": 11, \"dist_4000m\": 102}, {\"dist_500m\": 1, \"dist_1500m\": 1, \"dist_4000m\": 7}, {\"dist_500m\": 8, \"dist_1500m\": 11, \"dist_4000m\": 36}, {\"dist_500m\": 2, \"dist_1500m\": 13, \"dist_4000m\": 83}, {\"dist_500m\": 2, \"dist_1500m\": 16, \"dist_4000m\": 41}, {\"dist_500m\": 2, \"dist_1500m\": 4, \"dist_4000m\": 16}, {\"dist_500m\": 8, \"dist_1500m\": 11, \"dist_4000m\": 36}, {\"dist_500m\": 3, \"dist_1500m\": 8, \"dist_4000m\": 62}, {\"dist_500m\": 1, \"dist_1500m\": 1, \"dist_4000m\": 2}, {\"dist_500m\": 7, \"dist_1500m\": 23, \"dist_4000m\": 102}, {\"dist_500m\": 10, \"dist_1500m\": 57, \"dist_4000m\": 126}, {\"dist_500m\": 2, \"dist_1500m\": 47, \"dist_4000m\": 78}, {\"dist_500m\": 1, \"dist_1500m\": 4, \"dist_4000m\": 15}, {\"dist_500m\": 2, \"dist_1500m\": 6, \"dist_4000m\": 12}, {\"dist_500m\": 6, \"dist_1500m\": 13, \"dist_4000m\": 81}, {\"dist_500m\": 1, \"dist_1500m\": 5, \"dist_4000m\": 13}, {\"dist_500m\": 4, \"dist_1500m\": 10, \"dist_4000m\": 13}, {\"dist_500m\": 1, \"dist_1500m\": 6, \"dist_4000m\": 19}, {\"dist_500m\": 1, \"dist_1500m\": 13, \"dist_4000m\": 86}, {\"dist_500m\": 5, \"dist_1500m\": 17, \"dist_4000m\": 80}, {\"dist_500m\": 1, \"dist_1500m\": 4, \"dist_4000m\": 19}, {\"dist_500m\": 2, \"dist_1500m\": 15, \"dist_4000m\": 130}, {\"dist_500m\": 6, \"dist_1500m\": 18, \"dist_4000m\": 66}, {\"dist_500m\": 1, \"dist_1500m\": 6, \"dist_4000m\": 28}, {\"dist_500m\": 4, \"dist_1500m\": 19, \"dist_4000m\": 40}, {\"dist_500m\": 1, \"dist_1500m\": 1, \"dist_4000m\": 5}, {\"dist_500m\": 1, \"dist_1500m\": 4, \"dist_4000m\": 24}, {\"dist_500m\": 2, \"dist_1500m\": 21, \"dist_4000m\": 61}, {\"dist_500m\": 2, \"dist_1500m\": 2, \"dist_4000m\": 4}, {\"dist_500m\": 6, \"dist_1500m\": 19, \"dist_4000m\": 66}, {\"dist_500m\": 21, \"dist_1500m\": 58, \"dist_4000m\": 125}, {\"dist_500m\": 1, \"dist_1500m\": 1, \"dist_4000m\": 4}, {\"dist_500m\": 1, \"dist_1500m\": 2, \"dist_4000m\": 4}, {\"dist_500m\": 2, \"dist_1500m\": 6, \"dist_4000m\": 26}, {\"dist_500m\": 1, \"dist_1500m\": 3, \"dist_4000m\": 10}, {\"dist_500m\": 14, \"dist_1500m\": 59, \"dist_4000m\": 121}, {\"dist_500m\": 2, \"dist_1500m\": 2, \"dist_4000m\": 9}, {\"dist_500m\": 1, \"dist_1500m\": 3, \"dist_4000m\": 39}, {\"dist_500m\": 1, \"dist_1500m\": 1, \"dist_4000m\": 2}, {\"dist_500m\": 5, \"dist_1500m\": 14, \"dist_4000m\": 44}, {\"dist_500m\": 1, \"dist_1500m\": 3, \"dist_4000m\": 28}, {\"dist_500m\": 1, \"dist_1500m\": 1, \"dist_4000m\": 3}, {\"dist_500m\": 1, \"dist_1500m\": 1, \"dist_4000m\": 1}, {\"dist_500m\": 1, \"dist_1500m\": 6, \"dist_4000m\": 30}, {\"dist_500m\": 2, \"dist_1500m\": 19, \"dist_4000m\": 55}, {\"dist_500m\": 6, \"dist_1500m\": 21, \"dist_4000m\": 48}, {\"dist_500m\": 1, \"dist_1500m\": 1, \"dist_4000m\": 5}, {\"dist_500m\": 1, \"dist_1500m\": 7, \"dist_4000m\": 31}, {\"dist_500m\": 6, \"dist_1500m\": 18, \"dist_4000m\": 45}, {\"dist_500m\": 3, \"dist_1500m\": 11, \"dist_4000m\": 70}, {\"dist_500m\": 5, \"dist_1500m\": 14, \"dist_4000m\": 45}, {\"dist_500m\": 1, \"dist_1500m\": 1, \"dist_4000m\": 2}, {\"dist_500m\": 1, \"dist_1500m\": 1, \"dist_4000m\": 12}, {\"dist_500m\": 3, \"dist_1500m\": 8, \"dist_4000m\": 18}, {\"dist_500m\": 2, \"dist_1500m\": 22, \"dist_4000m\": 68}, {\"dist_500m\": 1, \"dist_1500m\": 6, \"dist_4000m\": 41}, {\"dist_500m\": 1, \"dist_1500m\": 2, \"dist_4000m\": 2}, {\"dist_500m\": 1, \"dist_1500m\": 1, \"dist_4000m\": 2}, {\"dist_500m\": 64, \"dist_1500m\": 93, \"dist_4000m\": 111}, {\"dist_500m\": 3, \"dist_1500m\": 35, \"dist_4000m\": 135}, {\"dist_500m\": 4, \"dist_1500m\": 12, \"dist_4000m\": 67}, {\"dist_500m\": 4, \"dist_1500m\": 7, \"dist_4000m\": 18}, {\"dist_500m\": 22, \"dist_1500m\": 113, \"dist_4000m\": 338}, {\"dist_500m\": 2, \"dist_1500m\": 2, \"dist_4000m\": 7}, {\"dist_500m\": 1, \"dist_1500m\": 3, \"dist_4000m\": 9}, {\"dist_500m\": 1, \"dist_1500m\": 2, \"dist_4000m\": 8}, {\"dist_500m\": 1, \"dist_1500m\": 7, \"dist_4000m\": 16}, {\"dist_500m\": 2, \"dist_1500m\": 11, \"dist_4000m\": 28}, {\"dist_500m\": 1, \"dist_1500m\": 3, \"dist_4000m\": 7}, {\"dist_500m\": 1, \"dist_1500m\": 3, \"dist_4000m\": 18}, {\"dist_500m\": 3, \"dist_1500m\": 5, \"dist_4000m\": 27}, {\"dist_500m\": 2, \"dist_1500m\": 15, \"dist_4000m\": 71}, {\"dist_500m\": 1, \"dist_1500m\": 1, \"dist_4000m\": 10}, {\"dist_500m\": 2, \"dist_1500m\": 3, \"dist_4000m\": 8}, {\"dist_500m\": 1, \"dist_1500m\": 1, \"dist_4000m\": 6}, {\"dist_500m\": 2, \"dist_1500m\": 8, \"dist_4000m\": 37}, {\"dist_500m\": 1, \"dist_1500m\": 1, \"dist_4000m\": 1}, {\"dist_500m\": 1, \"dist_1500m\": 3, \"dist_4000m\": 12}, {\"dist_500m\": 1, \"dist_1500m\": 4, \"dist_4000m\": 31}, {\"dist_500m\": 1, \"dist_1500m\": 8, \"dist_4000m\": 72}, {\"dist_500m\": 15, \"dist_1500m\": 59, \"dist_4000m\": 100}, {\"dist_500m\": 1, \"dist_1500m\": 1, \"dist_4000m\": 3}, {\"dist_500m\": 6, \"dist_1500m\": 33, \"dist_4000m\": 122}, {\"dist_500m\": 1, \"dist_1500m\": 2, \"dist_4000m\": 6}, {\"dist_500m\": 2, \"dist_1500m\": 3, \"dist_4000m\": 14}, {\"dist_500m\": 1, \"dist_1500m\": 4, \"dist_4000m\": 11}, {\"dist_500m\": 3, \"dist_1500m\": 11, \"dist_4000m\": 34}, {\"dist_500m\": 2, \"dist_1500m\": 5, \"dist_4000m\": 16}, {\"dist_500m\": 3, \"dist_1500m\": 3, \"dist_4000m\": 8}, {\"dist_500m\": 2, \"dist_1500m\": 3, \"dist_4000m\": 11}, {\"dist_500m\": 1, \"dist_1500m\": 4, \"dist_4000m\": 21}, {\"dist_500m\": 1, \"dist_1500m\": 7, \"dist_4000m\": 19}, {\"dist_500m\": 1, \"dist_1500m\": 4, \"dist_4000m\": 15}, {\"dist_500m\": 3, \"dist_1500m\": 4, \"dist_4000m\": 6}, {\"dist_500m\": 1, \"dist_1500m\": 3, \"dist_4000m\": 16}, {\"dist_500m\": 1, \"dist_1500m\": 4, \"dist_4000m\": 40}, {\"dist_500m\": 1, \"dist_1500m\": 1, \"dist_4000m\": 2}, {\"dist_500m\": 1, \"dist_1500m\": 4, \"dist_4000m\": 14}, {\"dist_500m\": 3, \"dist_1500m\": 17, \"dist_4000m\": 78}, {\"dist_500m\": 1, \"dist_1500m\": 10, \"dist_4000m\": 39}, {\"dist_500m\": 1, \"dist_1500m\": 1, \"dist_4000m\": 1}, {\"dist_500m\": 1, \"dist_1500m\": 3, \"dist_4000m\": 4}, {\"dist_500m\": 3, \"dist_1500m\": 7, \"dist_4000m\": 28}, {\"dist_500m\": 3, \"dist_1500m\": 6, \"dist_4000m\": 26}, {\"dist_500m\": 1, \"dist_1500m\": 2, \"dist_4000m\": 17}, {\"dist_500m\": 1, \"dist_1500m\": 1, \"dist_4000m\": 3}, {\"dist_500m\": 1, \"dist_1500m\": 10, \"dist_4000m\": 36}, {\"dist_500m\": 1, \"dist_1500m\": 2, \"dist_4000m\": 33}, {\"dist_500m\": 6, \"dist_1500m\": 99, \"dist_4000m\": 326}, {\"dist_500m\": 2, \"dist_1500m\": 5, \"dist_4000m\": 16}, {\"dist_500m\": 13, \"dist_1500m\": 77, \"dist_4000m\": 124}, {\"dist_500m\": 1, \"dist_1500m\": 4, \"dist_4000m\": 11}, {\"dist_500m\": 2, \"dist_1500m\": 3, \"dist_4000m\": 21}, {\"dist_500m\": 2, \"dist_1500m\": 2, \"dist_4000m\": 3}, {\"dist_500m\": 1, \"dist_1500m\": 9, \"dist_4000m\": 34}, {\"dist_500m\": 1, \"dist_1500m\": 6, \"dist_4000m\": 19}, {\"dist_500m\": 3, \"dist_1500m\": 18, \"dist_4000m\": 32}, {\"dist_500m\": 6, \"dist_1500m\": 20, \"dist_4000m\": 48}, {\"dist_500m\": 1, \"dist_1500m\": 1, \"dist_4000m\": 1}, {\"dist_500m\": 2, \"dist_1500m\": 8, \"dist_4000m\": 54}, {\"dist_500m\": 3, \"dist_1500m\": 3, \"dist_4000m\": 3}, {\"dist_500m\": 2, \"dist_1500m\": 7, \"dist_4000m\": 19}, {\"dist_500m\": 2, \"dist_1500m\": 6, \"dist_4000m\": 22}, {\"dist_500m\": 2, \"dist_1500m\": 7, \"dist_4000m\": 15}, {\"dist_500m\": 2, \"dist_1500m\": 25, \"dist_4000m\": 59}, {\"dist_500m\": 1, \"dist_1500m\": 1, \"dist_4000m\": 1}, {\"dist_500m\": 5, \"dist_1500m\": 10, \"dist_4000m\": 39}, {\"dist_500m\": 7, \"dist_1500m\": 10, \"dist_4000m\": 18}, {\"dist_500m\": 16, \"dist_1500m\": 119, \"dist_4000m\": 311}, {\"dist_500m\": 1, \"dist_1500m\": 5, \"dist_4000m\": 66}, {\"dist_500m\": 6, \"dist_1500m\": 31, \"dist_4000m\": 116}, {\"dist_500m\": 6, \"dist_1500m\": 11, \"dist_4000m\": 38}, {\"dist_500m\": 2, \"dist_1500m\": 7, \"dist_4000m\": 23}, {\"dist_500m\": 1, \"dist_1500m\": 2, \"dist_4000m\": 7}, {\"dist_500m\": 20, \"dist_1500m\": 59, \"dist_4000m\": 101}, {\"dist_500m\": 2, \"dist_1500m\": 2, \"dist_4000m\": 9}, {\"dist_500m\": 4, \"dist_1500m\": 8, \"dist_4000m\": 42}, {\"dist_500m\": 3, \"dist_1500m\": 6, \"dist_4000m\": 11}, {\"dist_500m\": 5, \"dist_1500m\": 8, \"dist_4000m\": 13}, {\"dist_500m\": 5, \"dist_1500m\": 32, \"dist_4000m\": 135}, {\"dist_500m\": 1, \"dist_1500m\": 1, \"dist_4000m\": 1}, {\"dist_500m\": 2, \"dist_1500m\": 8, \"dist_4000m\": 103}, {\"dist_500m\": 1, \"dist_1500m\": 1, \"dist_4000m\": 2}, {\"dist_500m\": 1, \"dist_1500m\": 2, \"dist_4000m\": 2}, {\"dist_500m\": 1, \"dist_1500m\": 1, \"dist_4000m\": 4}, {\"dist_500m\": 3, \"dist_1500m\": 10, \"dist_4000m\": 96}, {\"dist_500m\": 1, \"dist_1500m\": 3, \"dist_4000m\": 22}, {\"dist_500m\": 1, \"dist_1500m\": 1, \"dist_4000m\": 1}, {\"dist_500m\": 1, \"dist_1500m\": 1, \"dist_4000m\": 1}, {\"dist_500m\": 2, \"dist_1500m\": 6, \"dist_4000m\": 6}, {\"dist_500m\": 5, \"dist_1500m\": 23, \"dist_4000m\": 49}, {\"dist_500m\": 4, \"dist_1500m\": 23, \"dist_4000m\": 49}, {\"dist_500m\": 5, \"dist_1500m\": 23, \"dist_4000m\": 49}, {\"dist_500m\": 4, \"dist_1500m\": 19, \"dist_4000m\": 40}, {\"dist_500m\": 1, \"dist_1500m\": 4, \"dist_4000m\": 29}, {\"dist_500m\": 1, \"dist_1500m\": 2, \"dist_4000m\": 13}, {\"dist_500m\": 1, \"dist_1500m\": 1, \"dist_4000m\": 1}, {\"dist_500m\": 2, \"dist_1500m\": 15, \"dist_4000m\": 61}, {\"dist_500m\": 1, \"dist_1500m\": 1, \"dist_4000m\": 3}, {\"dist_500m\": 1, \"dist_1500m\": 3, \"dist_4000m\": 11}, {\"dist_500m\": 63, \"dist_1500m\": 92, \"dist_4000m\": 111}, {\"dist_500m\": 1, \"dist_1500m\": 6, \"dist_4000m\": 14}, {\"dist_500m\": 1, \"dist_1500m\": 2, \"dist_4000m\": 5}, {\"dist_500m\": 2, \"dist_1500m\": 4, \"dist_4000m\": 10}, {\"dist_500m\": 2, \"dist_1500m\": 5, \"dist_4000m\": 8}, {\"dist_500m\": 1, \"dist_1500m\": 1, \"dist_4000m\": 1}, {\"dist_500m\": 9, \"dist_1500m\": 26, \"dist_4000m\": 33}, {\"dist_500m\": 2, \"dist_1500m\": 29, \"dist_4000m\": 101}, {\"dist_500m\": 3, \"dist_1500m\": 4, \"dist_4000m\": 8}, {\"dist_500m\": 2, \"dist_1500m\": 5, \"dist_4000m\": 13}, {\"dist_500m\": 3, \"dist_1500m\": 7, \"dist_4000m\": 31}, {\"dist_500m\": 63, \"dist_1500m\": 158, \"dist_4000m\": 308}, {\"dist_500m\": 5, \"dist_1500m\": 20, \"dist_4000m\": 58}, {\"dist_500m\": 2, \"dist_1500m\": 15, \"dist_4000m\": 44}, {\"dist_500m\": 15, \"dist_1500m\": 59, \"dist_4000m\": 100}, {\"dist_500m\": 3, \"dist_1500m\": 9, \"dist_4000m\": 41}, {\"dist_500m\": 1, \"dist_1500m\": 10, \"dist_4000m\": 24}, {\"dist_500m\": 1, \"dist_1500m\": 4, \"dist_4000m\": 30}, {\"dist_500m\": 2, \"dist_1500m\": 11, \"dist_4000m\": 38}, {\"dist_500m\": 1, \"dist_1500m\": 1, \"dist_4000m\": 1}, {\"dist_500m\": 5, \"dist_1500m\": 13, \"dist_4000m\": 80}, {\"dist_500m\": 21, \"dist_1500m\": 62, \"dist_4000m\": 124}, {\"dist_500m\": 3, \"dist_1500m\": 13, \"dist_4000m\": 28}, {\"dist_500m\": 2, \"dist_1500m\": 9, \"dist_4000m\": 70}, {\"dist_500m\": 4, \"dist_1500m\": 8, \"dist_4000m\": 54}, {\"dist_500m\": 1, \"dist_1500m\": 6, \"dist_4000m\": 37}, {\"dist_500m\": 2, \"dist_1500m\": 20, \"dist_4000m\": 88}, {\"dist_500m\": 2, \"dist_1500m\": 4, \"dist_4000m\": 7}, {\"dist_500m\": 9, \"dist_1500m\": 32, \"dist_4000m\": 204}, {\"dist_500m\": 2, \"dist_1500m\": 5, \"dist_4000m\": 12}, {\"dist_500m\": 1, \"dist_1500m\": 1, \"dist_4000m\": 6}, {\"dist_500m\": 3, \"dist_1500m\": 23, \"dist_4000m\": 93}, {\"dist_500m\": 1, \"dist_1500m\": 2, \"dist_4000m\": 23}, {\"dist_500m\": 1, \"dist_1500m\": 1, \"dist_4000m\": 1}, {\"dist_500m\": 1, \"dist_1500m\": 1, \"dist_4000m\": 2}, {\"dist_500m\": 2, \"dist_1500m\": 4, \"dist_4000m\": 16}, {\"dist_500m\": 2, \"dist_1500m\": 13, \"dist_4000m\": 66}, {\"dist_500m\": 1, \"dist_1500m\": 4, \"dist_4000m\": 12}, {\"dist_500m\": 2, \"dist_1500m\": 6, \"dist_4000m\": 12}, {\"dist_500m\": 2, \"dist_1500m\": 2, \"dist_4000m\": 2}, {\"dist_500m\": 2, \"dist_1500m\": 5, \"dist_4000m\": 19}, {\"dist_500m\": 3, \"dist_1500m\": 13, \"dist_4000m\": 43}, {\"dist_500m\": 1, \"dist_1500m\": 1, \"dist_4000m\": 1}, {\"dist_500m\": 3, \"dist_1500m\": 24, \"dist_4000m\": 76}, {\"dist_500m\": 1, \"dist_1500m\": 5, \"dist_4000m\": 25}, {\"dist_500m\": 1, \"dist_1500m\": 2, \"dist_4000m\": 16}, {\"dist_500m\": 1, \"dist_1500m\": 1, \"dist_4000m\": 5}, {\"dist_500m\": 2, \"dist_1500m\": 3, \"dist_4000m\": 8}, {\"dist_500m\": 1, \"dist_1500m\": 8, \"dist_4000m\": 12}, {\"dist_500m\": 3, \"dist_1500m\": 5, \"dist_4000m\": 7}, {\"dist_500m\": 3, \"dist_1500m\": 6, \"dist_4000m\": 28}, {\"dist_500m\": 6, \"dist_1500m\": 23, \"dist_4000m\": 49}, {\"dist_500m\": 1, \"dist_1500m\": 2, \"dist_4000m\": 2}, {\"dist_500m\": 2, \"dist_1500m\": 5, \"dist_4000m\": 11}, {\"dist_500m\": 5, \"dist_1500m\": 20, \"dist_4000m\": 58}, {\"dist_500m\": 4, \"dist_1500m\": 33, \"dist_4000m\": 74}, {\"dist_500m\": 2, \"dist_1500m\": 15, \"dist_4000m\": 61}, {\"dist_500m\": 3, \"dist_1500m\": 16, \"dist_4000m\": 71}, {\"dist_500m\": 1, \"dist_1500m\": 1, \"dist_4000m\": 1}, {\"dist_500m\": 1, \"dist_1500m\": 1, \"dist_4000m\": 6}, {\"dist_500m\": 1, \"dist_1500m\": 1, \"dist_4000m\": 1}, {\"dist_500m\": 15, \"dist_1500m\": 59, \"dist_4000m\": 100}, {\"dist_500m\": 16, \"dist_1500m\": 58, \"dist_4000m\": 128}, {\"dist_500m\": 1, \"dist_1500m\": 4, \"dist_4000m\": 14}, {\"dist_500m\": 4, \"dist_1500m\": 70, \"dist_4000m\": 348}, {\"dist_500m\": 2, \"dist_1500m\": 3, \"dist_4000m\": 53}, {\"dist_500m\": 1, \"dist_1500m\": 1, \"dist_4000m\": 4}, {\"dist_500m\": 6, \"dist_1500m\": 37, \"dist_4000m\": 134}, {\"dist_500m\": 7, \"dist_1500m\": 40, \"dist_4000m\": 134}, {\"dist_500m\": 3, \"dist_1500m\": 38, \"dist_4000m\": 136}, {\"dist_500m\": 5, \"dist_1500m\": 12, \"dist_4000m\": 44}, {\"dist_500m\": 3, \"dist_1500m\": 11, \"dist_4000m\": 21}, {\"dist_500m\": 1, \"dist_1500m\": 12, \"dist_4000m\": 74}, {\"dist_500m\": 5, \"dist_1500m\": 12, \"dist_4000m\": 105}, {\"dist_500m\": 2, \"dist_1500m\": 6, \"dist_4000m\": 19}, {\"dist_500m\": 1, \"dist_1500m\": 3, \"dist_4000m\": 8}, {\"dist_500m\": 2, \"dist_1500m\": 2, \"dist_4000m\": 3}, {\"dist_500m\": 2, \"dist_1500m\": 14, \"dist_4000m\": 37}, {\"dist_500m\": 1, \"dist_1500m\": 1, \"dist_4000m\": 4}, {\"dist_500m\": 2, \"dist_1500m\": 2, \"dist_4000m\": 4}, {\"dist_500m\": 2, \"dist_1500m\": 3, \"dist_4000m\": 19}, {\"dist_500m\": 2, \"dist_1500m\": 6, \"dist_4000m\": 17}, {\"dist_500m\": 12, \"dist_1500m\": 97, \"dist_4000m\": 365}, {\"dist_500m\": 7, \"dist_1500m\": 12, \"dist_4000m\": 13}, {\"dist_500m\": 13, \"dist_1500m\": 49, \"dist_4000m\": 119}, {\"dist_500m\": 3, \"dist_1500m\": 7, \"dist_4000m\": 28}, {\"dist_500m\": 2, \"dist_1500m\": 5, \"dist_4000m\": 11}, {\"dist_500m\": 3, \"dist_1500m\": 7, \"dist_4000m\": 32}, {\"dist_500m\": 1, \"dist_1500m\": 1, \"dist_4000m\": 1}, {\"dist_500m\": 1, \"dist_1500m\": 14, \"dist_4000m\": 50}, {\"dist_500m\": 4, \"dist_1500m\": 19, \"dist_4000m\": 40}, {\"dist_500m\": 1, \"dist_1500m\": 1, \"dist_4000m\": 5}, {\"dist_500m\": 1, \"dist_1500m\": 1, \"dist_4000m\": 4}, {\"dist_500m\": 1, \"dist_1500m\": 23, \"dist_4000m\": 107}, {\"dist_500m\": 2, \"dist_1500m\": 5, \"dist_4000m\": 10}, {\"dist_500m\": 1, \"dist_1500m\": 1, \"dist_4000m\": 5}, {\"dist_500m\": 2, \"dist_1500m\": 6, \"dist_4000m\": 22}, {\"dist_500m\": 2, \"dist_1500m\": 10, \"dist_4000m\": 32}, {\"dist_500m\": 1, \"dist_1500m\": 1, \"dist_4000m\": 1}, {\"dist_500m\": 1, \"dist_1500m\": 1, \"dist_4000m\": 1}, {\"dist_500m\": 1, \"dist_1500m\": 1, \"dist_4000m\": 1}, {\"dist_500m\": 4, \"dist_1500m\": 15, \"dist_4000m\": 108}, {\"dist_500m\": 1, \"dist_1500m\": 1, \"dist_4000m\": 1}, {\"dist_500m\": 2, \"dist_1500m\": 2, \"dist_4000m\": 4}, {\"dist_500m\": 3, \"dist_1500m\": 3, \"dist_4000m\": 5}, {\"dist_500m\": 1, \"dist_1500m\": 8, \"dist_4000m\": 8}, {\"dist_500m\": 6, \"dist_1500m\": 7, \"dist_4000m\": 8}, {\"dist_500m\": 2, \"dist_1500m\": 2, \"dist_4000m\": 4}, {\"dist_500m\": 1, \"dist_1500m\": 2, \"dist_4000m\": 2}, {\"dist_500m\": 6, \"dist_1500m\": 7, \"dist_4000m\": 8}, {\"dist_500m\": 3, \"dist_1500m\": 4, \"dist_4000m\": 5}, {\"dist_500m\": 3, \"dist_1500m\": 3, \"dist_4000m\": 3}, {\"dist_500m\": 3, \"dist_1500m\": 5, \"dist_4000m\": 28}, {\"dist_500m\": 3, \"dist_1500m\": 5, \"dist_4000m\": 28}, {\"dist_500m\": 6, \"dist_1500m\": 7, \"dist_4000m\": 8}, {\"dist_500m\": 3, \"dist_1500m\": 4, \"dist_4000m\": 5}, {\"dist_500m\": 6, \"dist_1500m\": 7, \"dist_4000m\": 8}, {\"dist_500m\": 1, \"dist_1500m\": 14, \"dist_4000m\": 59}, {\"dist_500m\": 13, \"dist_1500m\": 60, \"dist_4000m\": 102}, {\"dist_500m\": 1, \"dist_1500m\": 1, \"dist_4000m\": 1}, {\"dist_500m\": 1, \"dist_1500m\": 1, \"dist_4000m\": 6}, {\"dist_500m\": 2, \"dist_1500m\": 15, \"dist_4000m\": 59}, {\"dist_500m\": 2, \"dist_1500m\": 13, \"dist_4000m\": 102}, {\"dist_500m\": 7, \"dist_1500m\": 29, \"dist_4000m\": 78}, {\"dist_500m\": 1, \"dist_1500m\": 3, \"dist_4000m\": 53}, {\"dist_500m\": 1, \"dist_1500m\": 7, \"dist_4000m\": 39}, {\"dist_500m\": 1, \"dist_1500m\": 7, \"dist_4000m\": 38}, {\"dist_500m\": 2, \"dist_1500m\": 4, \"dist_4000m\": 41}, {\"dist_500m\": 6, \"dist_1500m\": 28, \"dist_4000m\": 75}, {\"dist_500m\": 1, \"dist_1500m\": 2, \"dist_4000m\": 4}, {\"dist_500m\": 1, \"dist_1500m\": 3, \"dist_4000m\": 10}, {\"dist_500m\": 1, \"dist_1500m\": 1, \"dist_4000m\": 2}, {\"dist_500m\": 2, \"dist_1500m\": 6, \"dist_4000m\": 16}, {\"dist_500m\": 12, \"dist_1500m\": 31, \"dist_4000m\": 40}, {\"dist_500m\": 2, \"dist_1500m\": 6, \"dist_4000m\": 27}, {\"dist_500m\": 1, \"dist_1500m\": 10, \"dist_4000m\": 23}, {\"dist_500m\": 1, \"dist_1500m\": 8, \"dist_4000m\": 24}, {\"dist_500m\": 1, \"dist_1500m\": 1, \"dist_4000m\": 4}, {\"dist_500m\": 2, \"dist_1500m\": 4, \"dist_4000m\": 12}, {\"dist_500m\": 1, \"dist_1500m\": 1, \"dist_4000m\": 6}, {\"dist_500m\": 1, \"dist_1500m\": 1, \"dist_4000m\": 1}, {\"dist_500m\": 1, \"dist_1500m\": 4, \"dist_4000m\": 24}, {\"dist_500m\": 2, \"dist_1500m\": 14, \"dist_4000m\": 36}, {\"dist_500m\": 1, \"dist_1500m\": 3, \"dist_4000m\": 4}, {\"dist_500m\": 1, \"dist_1500m\": 4, \"dist_4000m\": 24}, {\"dist_500m\": 1, \"dist_1500m\": 1, \"dist_4000m\": 1}, {\"dist_500m\": 1, \"dist_1500m\": 2, \"dist_4000m\": 9}, {\"dist_500m\": 2, \"dist_1500m\": 2, \"dist_4000m\": 4}, {\"dist_500m\": 2, \"dist_1500m\": 11, \"dist_4000m\": 60}, {\"dist_500m\": 2, \"dist_1500m\": 7, \"dist_4000m\": 30}, {\"dist_500m\": 1, \"dist_1500m\": 14, \"dist_4000m\": 41}, {\"dist_500m\": 1, \"dist_1500m\": 1, \"dist_4000m\": 26}, {\"dist_500m\": 2, \"dist_1500m\": 39, \"dist_4000m\": 87}, {\"dist_500m\": 4, \"dist_1500m\": 57, \"dist_4000m\": 104}, {\"dist_500m\": 1, \"dist_1500m\": 16, \"dist_4000m\": 29}, {\"dist_500m\": 1, \"dist_1500m\": 2, \"dist_4000m\": 39}, {\"dist_500m\": 3, \"dist_1500m\": 6, \"dist_4000m\": 81}, {\"dist_500m\": 5, \"dist_1500m\": 15, \"dist_4000m\": 19}, {\"dist_500m\": 1, \"dist_1500m\": 1, \"dist_4000m\": 1}, {\"dist_500m\": 1, \"dist_1500m\": 5, \"dist_4000m\": 13}, {\"dist_500m\": 1, \"dist_1500m\": 1, \"dist_4000m\": 1}, {\"dist_500m\": 3, \"dist_1500m\": 11, \"dist_4000m\": 25}, {\"dist_500m\": 1, \"dist_1500m\": 8, \"dist_4000m\": 21}, {\"dist_500m\": 15, \"dist_1500m\": 75, \"dist_4000m\": 120}, {\"dist_500m\": 2, \"dist_1500m\": 3, \"dist_4000m\": 28}, {\"dist_500m\": 2, \"dist_1500m\": 8, \"dist_4000m\": 30}, {\"dist_500m\": 1, \"dist_1500m\": 2, \"dist_4000m\": 17}, {\"dist_500m\": 2, \"dist_1500m\": 2, \"dist_4000m\": 6}, {\"dist_500m\": 10, \"dist_1500m\": 14, \"dist_4000m\": 19}, {\"dist_500m\": 18, \"dist_1500m\": 91, \"dist_4000m\": 105}, {\"dist_500m\": 3, \"dist_1500m\": 16, \"dist_4000m\": 225}, {\"dist_500m\": 2, \"dist_1500m\": 7, \"dist_4000m\": 21}, {\"dist_500m\": 2, \"dist_1500m\": 8, \"dist_4000m\": 84}, {\"dist_500m\": 46, \"dist_1500m\": 92, \"dist_4000m\": 108}, {\"dist_500m\": 1, \"dist_1500m\": 3, \"dist_4000m\": 6}, {\"dist_500m\": 1, \"dist_1500m\": 2, \"dist_4000m\": 6}, {\"dist_500m\": 1, \"dist_1500m\": 1, \"dist_4000m\": 3}, {\"dist_500m\": 2, \"dist_1500m\": 3, \"dist_4000m\": 7}, {\"dist_500m\": 1, \"dist_1500m\": 5, \"dist_4000m\": 44}, {\"dist_500m\": 1, \"dist_1500m\": 2, \"dist_4000m\": 2}, {\"dist_500m\": 2, \"dist_1500m\": 8, \"dist_4000m\": 38}, {\"dist_500m\": 1, \"dist_1500m\": 6, \"dist_4000m\": 71}, {\"dist_500m\": 2, \"dist_1500m\": 5, \"dist_4000m\": 9}, {\"dist_500m\": 4, \"dist_1500m\": 13, \"dist_4000m\": 41}, {\"dist_500m\": 1, \"dist_1500m\": 3, \"dist_4000m\": 30}, {\"dist_500m\": 1, \"dist_1500m\": 14, \"dist_4000m\": 62}, {\"dist_500m\": 2, \"dist_1500m\": 2, \"dist_4000m\": 16}, {\"dist_500m\": 6, \"dist_1500m\": 11, \"dist_4000m\": 24}, {\"dist_500m\": 4, \"dist_1500m\": 9, \"dist_4000m\": 33}, {\"dist_500m\": 3, \"dist_1500m\": 36, \"dist_4000m\": 288}, {\"dist_500m\": 27, \"dist_1500m\": 51, \"dist_4000m\": 160}, {\"dist_500m\": 1, \"dist_1500m\": 5, \"dist_4000m\": 7}, {\"dist_500m\": 1, \"dist_1500m\": 6, \"dist_4000m\": 22}, {\"dist_500m\": 1, \"dist_1500m\": 1, \"dist_4000m\": 1}, {\"dist_500m\": 3, \"dist_1500m\": 5, \"dist_4000m\": 150}, {\"dist_500m\": 3, \"dist_1500m\": 12, \"dist_4000m\": 36}, {\"dist_500m\": 3, \"dist_1500m\": 13, \"dist_4000m\": 32}, {\"dist_500m\": 3, \"dist_1500m\": 13, \"dist_4000m\": 34}, {\"dist_500m\": 1, \"dist_1500m\": 1, \"dist_4000m\": 1}, {\"dist_500m\": 1, \"dist_1500m\": 3, \"dist_4000m\": 27}, {\"dist_500m\": 1, \"dist_1500m\": 7, \"dist_4000m\": 36}, {\"dist_500m\": 1, \"dist_1500m\": 1, \"dist_4000m\": 1}, {\"dist_500m\": 12, \"dist_1500m\": 65, \"dist_4000m\": 122}, {\"dist_500m\": 2, \"dist_1500m\": 9, \"dist_4000m\": 17}, {\"dist_500m\": 1, \"dist_1500m\": 1, \"dist_4000m\": 25}, {\"dist_500m\": 17, \"dist_1500m\": 32, \"dist_4000m\": 76}, {\"dist_500m\": 1, \"dist_1500m\": 10, \"dist_4000m\": 38}, {\"dist_500m\": 4, \"dist_1500m\": 7, \"dist_4000m\": 12}, {\"dist_500m\": 6, \"dist_1500m\": 16, \"dist_4000m\": 59}, {\"dist_500m\": 3, \"dist_1500m\": 3, \"dist_4000m\": 7}, {\"dist_500m\": 2, \"dist_1500m\": 5, \"dist_4000m\": 11}, {\"dist_500m\": 10, \"dist_1500m\": 95, \"dist_4000m\": 109}, {\"dist_500m\": 2, \"dist_1500m\": 15, \"dist_4000m\": 64}, {\"dist_500m\": 1, \"dist_1500m\": 2, \"dist_4000m\": 19}, {\"dist_500m\": 1, \"dist_1500m\": 5, \"dist_4000m\": 25}, {\"dist_500m\": 1, \"dist_1500m\": 18, \"dist_4000m\": 55}, {\"dist_500m\": 1, \"dist_1500m\": 4, \"dist_4000m\": 46}, {\"dist_500m\": 15, \"dist_1500m\": 70, \"dist_4000m\": 102}, {\"dist_500m\": 2, \"dist_1500m\": 7, \"dist_4000m\": 17}, {\"dist_500m\": 2, \"dist_1500m\": 8, \"dist_4000m\": 18}, {\"dist_500m\": 3, \"dist_1500m\": 9, \"dist_4000m\": 23}, {\"dist_500m\": 4, \"dist_1500m\": 7, \"dist_4000m\": 17}, {\"dist_500m\": 17, \"dist_1500m\": 93, \"dist_4000m\": 108}, {\"dist_500m\": 6, \"dist_1500m\": 7, \"dist_4000m\": 8}, {\"dist_500m\": 2, \"dist_1500m\": 3, \"dist_4000m\": 13}, {\"dist_500m\": 2, \"dist_1500m\": 16, \"dist_4000m\": 262}, {\"dist_500m\": 1, \"dist_1500m\": 11, \"dist_4000m\": 65}, {\"dist_500m\": 1, \"dist_1500m\": 1, \"dist_4000m\": 1}, {\"dist_500m\": 2, \"dist_1500m\": 7, \"dist_4000m\": 8}, {\"dist_500m\": 1, \"dist_1500m\": 6, \"dist_4000m\": 21}, {\"dist_500m\": 3, \"dist_1500m\": 11, \"dist_4000m\": 26}, {\"dist_500m\": 2, \"dist_1500m\": 5, \"dist_4000m\": 25}, {\"dist_500m\": 4, \"dist_1500m\": 11, \"dist_4000m\": 28}, {\"dist_500m\": 2, \"dist_1500m\": 5, \"dist_4000m\": 16}, {\"dist_500m\": 1, \"dist_1500m\": 4, \"dist_4000m\": 22}, {\"dist_500m\": 2, \"dist_1500m\": 5, \"dist_4000m\": 18}, {\"dist_500m\": 2, \"dist_1500m\": 4, \"dist_4000m\": 24}, {\"dist_500m\": 1, \"dist_1500m\": 1, \"dist_4000m\": 1}, {\"dist_500m\": 3, \"dist_1500m\": 5, \"dist_4000m\": 8}, {\"dist_500m\": 2, \"dist_1500m\": 13, \"dist_4000m\": 81}, {\"dist_500m\": 2, \"dist_1500m\": 5, \"dist_4000m\": 33}, {\"dist_500m\": 1, \"dist_1500m\": 1, \"dist_4000m\": 6}, {\"dist_500m\": 14, \"dist_1500m\": 65, \"dist_4000m\": 102}, {\"dist_500m\": 1, \"dist_1500m\": 1, \"dist_4000m\": 7}, {\"dist_500m\": 1, \"dist_1500m\": 4, \"dist_4000m\": 14}, {\"dist_500m\": 2, \"dist_1500m\": 9, \"dist_4000m\": 69}, {\"dist_500m\": 2, \"dist_1500m\": 5, \"dist_4000m\": 15}, {\"dist_500m\": 2, \"dist_1500m\": 8, \"dist_4000m\": 17}, {\"dist_500m\": 65, \"dist_1500m\": 152, \"dist_4000m\": 305}, {\"dist_500m\": 1, \"dist_1500m\": 5, \"dist_4000m\": 8}, {\"dist_500m\": 1, \"dist_1500m\": 1, \"dist_4000m\": 3}, {\"dist_500m\": 4, \"dist_1500m\": 5, \"dist_4000m\": 6}, {\"dist_500m\": 1, \"dist_1500m\": 6, \"dist_4000m\": 69}, {\"dist_500m\": 1, \"dist_1500m\": 2, \"dist_4000m\": 5}, {\"dist_500m\": 3, \"dist_1500m\": 16, \"dist_4000m\": 71}, {\"dist_500m\": 6, \"dist_1500m\": 45, \"dist_4000m\": 119}, {\"dist_500m\": 1, \"dist_1500m\": 1, \"dist_4000m\": 2}, {\"dist_500m\": 1, \"dist_1500m\": 1, \"dist_4000m\": 8}, {\"dist_500m\": 50, \"dist_1500m\": 92, \"dist_4000m\": 109}, {\"dist_500m\": 2, \"dist_1500m\": 5, \"dist_4000m\": 16}, {\"dist_500m\": 5, \"dist_1500m\": 19, \"dist_4000m\": 40}, {\"dist_500m\": 3, \"dist_1500m\": 11, \"dist_4000m\": 28}, {\"dist_500m\": 1, \"dist_1500m\": 1, \"dist_4000m\": 2}, {\"dist_500m\": 1, \"dist_1500m\": 3, \"dist_4000m\": 20}, {\"dist_500m\": 1, \"dist_1500m\": 3, \"dist_4000m\": 8}, {\"dist_500m\": 2, \"dist_1500m\": 3, \"dist_4000m\": 13}, {\"dist_500m\": 51, \"dist_1500m\": 93, \"dist_4000m\": 110}, {\"dist_500m\": 1, \"dist_1500m\": 2, \"dist_4000m\": 4}, {\"dist_500m\": 14, \"dist_1500m\": 49, \"dist_4000m\": 119}, {\"dist_500m\": 2, \"dist_1500m\": 3, \"dist_4000m\": 5}, {\"dist_500m\": 1, \"dist_1500m\": 1, \"dist_4000m\": 11}, {\"dist_500m\": 1, \"dist_1500m\": 2, \"dist_4000m\": 18}, {\"dist_500m\": 2, \"dist_1500m\": 17, \"dist_4000m\": 64}, {\"dist_500m\": 1, \"dist_1500m\": 1, \"dist_4000m\": 3}, {\"dist_500m\": 1, \"dist_1500m\": 6, \"dist_4000m\": 26}, {\"dist_500m\": 1, \"dist_1500m\": 8, \"dist_4000m\": 54}, {\"dist_500m\": 1, \"dist_1500m\": 2, \"dist_4000m\": 9}, {\"dist_500m\": 1, \"dist_1500m\": 8, \"dist_4000m\": 40}, {\"dist_500m\": 1, \"dist_1500m\": 2, \"dist_4000m\": 39}, {\"dist_500m\": 1, \"dist_1500m\": 4, \"dist_4000m\": 10}, {\"dist_500m\": 3, \"dist_1500m\": 16, \"dist_4000m\": 61}, {\"dist_500m\": 1, \"dist_1500m\": 1, \"dist_4000m\": 4}, {\"dist_500m\": 1, \"dist_1500m\": 1, \"dist_4000m\": 1}, {\"dist_500m\": 1, \"dist_1500m\": 8, \"dist_4000m\": 18}, {\"dist_500m\": 1, \"dist_1500m\": 1, \"dist_4000m\": 2}, {\"dist_500m\": 1, \"dist_1500m\": 3, \"dist_4000m\": 13}, {\"dist_500m\": 1, \"dist_1500m\": 13, \"dist_4000m\": 46}, {\"dist_500m\": 2, \"dist_1500m\": 3, \"dist_4000m\": 14}, {\"dist_500m\": 1, \"dist_1500m\": 3, \"dist_4000m\": 12}, {\"dist_500m\": 1, \"dist_1500m\": 2, \"dist_4000m\": 11}, {\"dist_500m\": 3, \"dist_1500m\": 5, \"dist_4000m\": 10}, {\"dist_500m\": 2, \"dist_1500m\": 6, \"dist_4000m\": 25}, {\"dist_500m\": 3, \"dist_1500m\": 10, \"dist_4000m\": 24}, {\"dist_500m\": 1, \"dist_1500m\": 2, \"dist_4000m\": 2}, {\"dist_500m\": 1, \"dist_1500m\": 5, \"dist_4000m\": 15}, {\"dist_500m\": 2, \"dist_1500m\": 11, \"dist_4000m\": 41}, {\"dist_500m\": 1, \"dist_1500m\": 1, \"dist_4000m\": 1}, {\"dist_500m\": 3, \"dist_1500m\": 6, \"dist_4000m\": 26}, {\"dist_500m\": 13, \"dist_1500m\": 66, \"dist_4000m\": 102}, {\"dist_500m\": 1, \"dist_1500m\": 1, \"dist_4000m\": 1}, {\"dist_500m\": 2, \"dist_1500m\": 14, \"dist_4000m\": 96}, {\"dist_500m\": 34, \"dist_1500m\": 53, \"dist_4000m\": 134}, {\"dist_500m\": 16, \"dist_1500m\": 93, \"dist_4000m\": 108}, {\"dist_500m\": 26, \"dist_1500m\": 62, \"dist_4000m\": 101}, {\"dist_500m\": 1, \"dist_1500m\": 1, \"dist_4000m\": 1}, {\"dist_500m\": 1, \"dist_1500m\": 1, \"dist_4000m\": 2}, {\"dist_500m\": 1, \"dist_1500m\": 2, \"dist_4000m\": 101}, {\"dist_500m\": 23, \"dist_1500m\": 54, \"dist_4000m\": 125}, {\"dist_500m\": 11, \"dist_1500m\": 55, \"dist_4000m\": 129}, {\"dist_500m\": 29, \"dist_1500m\": 144, \"dist_4000m\": 299}, {\"dist_500m\": 2, \"dist_1500m\": 4, \"dist_4000m\": 28}, {\"dist_500m\": 1, \"dist_1500m\": 10, \"dist_4000m\": 27}, {\"dist_500m\": 3, \"dist_1500m\": 7, \"dist_4000m\": 15}, {\"dist_500m\": 4, \"dist_1500m\": 54, \"dist_4000m\": 109}, {\"dist_500m\": 6, \"dist_1500m\": 9, \"dist_4000m\": 36}, {\"dist_500m\": 1, \"dist_1500m\": 1, \"dist_4000m\": 1}, {\"dist_500m\": 1, \"dist_1500m\": 1, \"dist_4000m\": 3}, {\"dist_500m\": 2, \"dist_1500m\": 6, \"dist_4000m\": 38}, {\"dist_500m\": 2, \"dist_1500m\": 6, \"dist_4000m\": 32}, {\"dist_500m\": 1, \"dist_1500m\": 1, \"dist_4000m\": 7}, {\"dist_500m\": 1, \"dist_1500m\": 2, \"dist_4000m\": 4}, {\"dist_500m\": 1, \"dist_1500m\": 1, \"dist_4000m\": 44}, {\"dist_500m\": 4, \"dist_1500m\": 16, \"dist_4000m\": 59}, {\"dist_500m\": 5, \"dist_1500m\": 28, \"dist_4000m\": 168}, {\"dist_500m\": 1, \"dist_1500m\": 2, \"dist_4000m\": 4}, {\"dist_500m\": 7, \"dist_1500m\": 10, \"dist_4000m\": 18}, {\"dist_500m\": 6, \"dist_1500m\": 7, \"dist_4000m\": 8}, {\"dist_500m\": 1, \"dist_1500m\": 7, \"dist_4000m\": 41}, {\"dist_500m\": 1, \"dist_1500m\": 1, \"dist_4000m\": 2}, {\"dist_500m\": 1, \"dist_1500m\": 8, \"dist_4000m\": 309}, {\"dist_500m\": 1, \"dist_1500m\": 9, \"dist_4000m\": 22}, {\"dist_500m\": 1, \"dist_1500m\": 1, \"dist_4000m\": 4}, {\"dist_500m\": 1, \"dist_1500m\": 12, \"dist_4000m\": 14}, {\"dist_500m\": 1, \"dist_1500m\": 1, \"dist_4000m\": 5}, {\"dist_500m\": 5, \"dist_1500m\": 10, \"dist_4000m\": 24}, {\"dist_500m\": 1, \"dist_1500m\": 7, \"dist_4000m\": 81}, {\"dist_500m\": 27, \"dist_1500m\": 50, \"dist_4000m\": 172}, {\"dist_500m\": 2, \"dist_1500m\": 5, \"dist_4000m\": 16}, {\"dist_500m\": 19, \"dist_1500m\": 48, \"dist_4000m\": 177}, {\"dist_500m\": 4, \"dist_1500m\": 24, \"dist_4000m\": 62}, {\"dist_500m\": 4, \"dist_1500m\": 24, \"dist_4000m\": 62}, {\"dist_500m\": 2, \"dist_1500m\": 15, \"dist_4000m\": 55}, {\"dist_500m\": 22, \"dist_1500m\": 113, \"dist_4000m\": 340}, {\"dist_500m\": 1, \"dist_1500m\": 8, \"dist_4000m\": 36}, {\"dist_500m\": 1, \"dist_1500m\": 1, \"dist_4000m\": 4}, {\"dist_500m\": 5, \"dist_1500m\": 7, \"dist_4000m\": 28}, {\"dist_500m\": 3, \"dist_1500m\": 4, \"dist_4000m\": 18}, {\"dist_500m\": 1, \"dist_1500m\": 4, \"dist_4000m\": 20}, {\"dist_500m\": 7, \"dist_1500m\": 35, \"dist_4000m\": 119}, {\"dist_500m\": 1, \"dist_1500m\": 2, \"dist_4000m\": 5}, {\"dist_500m\": 4, \"dist_1500m\": 5, \"dist_4000m\": 6}, {\"dist_500m\": 1, \"dist_1500m\": 1, \"dist_4000m\": 2}, {\"dist_500m\": 2, \"dist_1500m\": 14, \"dist_4000m\": 35}, {\"dist_500m\": 1, \"dist_1500m\": 6, \"dist_4000m\": 21}, {\"dist_500m\": 2, \"dist_1500m\": 3, \"dist_4000m\": 23}, {\"dist_500m\": 2, \"dist_1500m\": 9, \"dist_4000m\": 39}, {\"dist_500m\": 23, \"dist_1500m\": 93, \"dist_4000m\": 110}, {\"dist_500m\": 2, \"dist_1500m\": 12, \"dist_4000m\": 19}, {\"dist_500m\": 3, \"dist_1500m\": 7, \"dist_4000m\": 24}, {\"dist_500m\": 1, \"dist_1500m\": 4, \"dist_4000m\": 37}, {\"dist_500m\": 4, \"dist_1500m\": 9, \"dist_4000m\": 20}, {\"dist_500m\": 5, \"dist_1500m\": 12, \"dist_4000m\": 49}, {\"dist_500m\": 3, \"dist_1500m\": 8, \"dist_4000m\": 9}, {\"dist_500m\": 17, \"dist_1500m\": 79, \"dist_4000m\": 123}, {\"dist_500m\": 1, \"dist_1500m\": 1, \"dist_4000m\": 1}, {\"dist_500m\": 1, \"dist_1500m\": 8, \"dist_4000m\": 125}, {\"dist_500m\": 6, \"dist_1500m\": 26, \"dist_4000m\": 118}, {\"dist_500m\": 4, \"dist_1500m\": 10, \"dist_4000m\": 24}, {\"dist_500m\": 8, \"dist_1500m\": 20, \"dist_4000m\": 118}, {\"dist_500m\": 8, \"dist_1500m\": 20, \"dist_4000m\": 118}, {\"dist_500m\": 2, \"dist_1500m\": 17, \"dist_4000m\": 56}, {\"dist_500m\": 2, \"dist_1500m\": 12, \"dist_4000m\": 61}, {\"dist_500m\": 1, \"dist_1500m\": 1, \"dist_4000m\": 6}, {\"dist_500m\": 1, \"dist_1500m\": 1, \"dist_4000m\": 3}, {\"dist_500m\": 4, \"dist_1500m\": 39, \"dist_4000m\": 287}, {\"dist_500m\": 3, \"dist_1500m\": 12, \"dist_4000m\": 60}, {\"dist_500m\": 4, \"dist_1500m\": 24, \"dist_4000m\": 62}, {\"dist_500m\": 3, \"dist_1500m\": 3, \"dist_4000m\": 3}, {\"dist_500m\": 11, \"dist_1500m\": 32, \"dist_4000m\": 113}, {\"dist_500m\": 5, \"dist_1500m\": 11, \"dist_4000m\": 35}, {\"dist_500m\": 7, \"dist_1500m\": 12, \"dist_4000m\": 40}, {\"dist_500m\": 8, \"dist_1500m\": 12, \"dist_4000m\": 40}, {\"dist_500m\": 7, \"dist_1500m\": 12, \"dist_4000m\": 40}, {\"dist_500m\": 2, \"dist_1500m\": 6, \"dist_4000m\": 18}, {\"dist_500m\": 12, \"dist_1500m\": 28, \"dist_4000m\": 79}, {\"dist_500m\": 3, \"dist_1500m\": 4, \"dist_4000m\": 9}, {\"dist_500m\": 1, \"dist_1500m\": 4, \"dist_4000m\": 16}, {\"dist_500m\": 3, \"dist_1500m\": 17, \"dist_4000m\": 69}, {\"dist_500m\": 5, \"dist_1500m\": 68, \"dist_4000m\": 101}, {\"dist_500m\": 1, \"dist_1500m\": 1, \"dist_4000m\": 9}, {\"dist_500m\": 3, \"dist_1500m\": 32, \"dist_4000m\": 40}, {\"dist_500m\": 2, \"dist_1500m\": 9, \"dist_4000m\": 42}, {\"dist_500m\": 8, \"dist_1500m\": 12, \"dist_4000m\": 40}, {\"dist_500m\": 7, \"dist_1500m\": 12, \"dist_4000m\": 40}, {\"dist_500m\": 4, \"dist_1500m\": 10, \"dist_4000m\": 24}, {\"dist_500m\": 1, \"dist_1500m\": 1, \"dist_4000m\": 8}, {\"dist_500m\": 1, \"dist_1500m\": 9, \"dist_4000m\": 106}, {\"dist_500m\": 7, \"dist_1500m\": 13, \"dist_4000m\": 41}, {\"dist_500m\": 14, \"dist_1500m\": 59, \"dist_4000m\": 100}, {\"dist_500m\": 3, \"dist_1500m\": 9, \"dist_4000m\": 20}, {\"dist_500m\": 2, \"dist_1500m\": 2, \"dist_4000m\": 14}, {\"dist_500m\": 1, \"dist_1500m\": 1, \"dist_4000m\": 3}, {\"dist_500m\": 1, \"dist_1500m\": 1, \"dist_4000m\": 7}, {\"dist_500m\": 2, \"dist_1500m\": 4, \"dist_4000m\": 18}, {\"dist_500m\": 2, \"dist_1500m\": 67, \"dist_4000m\": 111}, {\"dist_500m\": 3, \"dist_1500m\": 5, \"dist_4000m\": 17}, {\"dist_500m\": 1, \"dist_1500m\": 2, \"dist_4000m\": 5}, {\"dist_500m\": 1, \"dist_1500m\": 1, \"dist_4000m\": 3}, {\"dist_500m\": 2, \"dist_1500m\": 5, \"dist_4000m\": 18}, {\"dist_500m\": 1, \"dist_1500m\": 4, \"dist_4000m\": 19}, {\"dist_500m\": 6, \"dist_1500m\": 43, \"dist_4000m\": 119}, {\"dist_500m\": 39, \"dist_1500m\": 128, \"dist_4000m\": 310}, {\"dist_500m\": 1, \"dist_1500m\": 2, \"dist_4000m\": 14}, {\"dist_500m\": 12, \"dist_1500m\": 37, \"dist_4000m\": 40}, {\"dist_500m\": 19, \"dist_1500m\": 55, \"dist_4000m\": 101}, {\"dist_500m\": 2, \"dist_1500m\": 2, \"dist_4000m\": 10}, {\"dist_500m\": 1, \"dist_1500m\": 1, \"dist_4000m\": 1}, {\"dist_500m\": 1, \"dist_1500m\": 2, \"dist_4000m\": 11}, {\"dist_500m\": 3, \"dist_1500m\": 12, \"dist_4000m\": 62}, {\"dist_500m\": 1, \"dist_1500m\": 4, \"dist_4000m\": 18}, {\"dist_500m\": 1, \"dist_1500m\": 25, \"dist_4000m\": 97}, {\"dist_500m\": 1, \"dist_1500m\": 1, \"dist_4000m\": 8}, {\"dist_500m\": 4, \"dist_1500m\": 24, \"dist_4000m\": 62}, {\"dist_500m\": 3, \"dist_1500m\": 8, \"dist_4000m\": 10}, {\"dist_500m\": 56, \"dist_1500m\": 92, \"dist_4000m\": 111}, {\"dist_500m\": 3, \"dist_1500m\": 6, \"dist_4000m\": 19}, {\"dist_500m\": 1, \"dist_1500m\": 3, \"dist_4000m\": 18}, {\"dist_500m\": 1, \"dist_1500m\": 2, \"dist_4000m\": 5}, {\"dist_500m\": 2, \"dist_1500m\": 5, \"dist_4000m\": 22}, {\"dist_500m\": 1, \"dist_1500m\": 1, \"dist_4000m\": 1}, {\"dist_500m\": 1, \"dist_1500m\": 2, \"dist_4000m\": 10}, {\"dist_500m\": 1, \"dist_1500m\": 1, \"dist_4000m\": 1}, {\"dist_500m\": 3, \"dist_1500m\": 8, \"dist_4000m\": 69}, {\"dist_500m\": 1, \"dist_1500m\": 1, \"dist_4000m\": 1}, {\"dist_500m\": 2, \"dist_1500m\": 16, \"dist_4000m\": 24}, {\"dist_500m\": 2, \"dist_1500m\": 3, \"dist_4000m\": 37}, {\"dist_500m\": 2, \"dist_1500m\": 17, \"dist_4000m\": 51}, {\"dist_500m\": 1, \"dist_1500m\": 1, \"dist_4000m\": 2}, {\"dist_500m\": 1, \"dist_1500m\": 1, \"dist_4000m\": 1}, {\"dist_500m\": 2, \"dist_1500m\": 2, \"dist_4000m\": 7}, {\"dist_500m\": 4, \"dist_1500m\": 9, \"dist_4000m\": 31}, {\"dist_500m\": 15, \"dist_1500m\": 51, \"dist_4000m\": 123}, {\"dist_500m\": 1, \"dist_1500m\": 1, \"dist_4000m\": 2}, {\"dist_500m\": 12, \"dist_1500m\": 31, \"dist_4000m\": 40}, {\"dist_500m\": 9, \"dist_1500m\": 89, \"dist_4000m\": 366}, {\"dist_500m\": 12, \"dist_1500m\": 37, \"dist_4000m\": 40}, {\"dist_500m\": 1, \"dist_1500m\": 1, \"dist_4000m\": 5}, {\"dist_500m\": 8, \"dist_1500m\": 85, \"dist_4000m\": 369}, {\"dist_500m\": 8, \"dist_1500m\": 24, \"dist_4000m\": 131}, {\"dist_500m\": 2, \"dist_1500m\": 22, \"dist_4000m\": 55}, {\"dist_500m\": 2, \"dist_1500m\": 4, \"dist_4000m\": 12}, {\"dist_500m\": 1, \"dist_1500m\": 1, \"dist_4000m\": 3}, {\"dist_500m\": 1, \"dist_1500m\": 1, \"dist_4000m\": 4}, {\"dist_500m\": 1, \"dist_1500m\": 1, \"dist_4000m\": 2}, {\"dist_500m\": 1, \"dist_1500m\": 1, \"dist_4000m\": 4}, {\"dist_500m\": 8, \"dist_1500m\": 55, \"dist_4000m\": 117}, {\"dist_500m\": 2, \"dist_1500m\": 2, \"dist_4000m\": 6}, {\"dist_500m\": 1, \"dist_1500m\": 1, \"dist_4000m\": 2}, {\"dist_500m\": 5, \"dist_1500m\": 23, \"dist_4000m\": 83}, {\"dist_500m\": 4, \"dist_1500m\": 16, \"dist_4000m\": 80}, {\"dist_500m\": 4, \"dist_1500m\": 16, \"dist_4000m\": 80}, {\"dist_500m\": 16, \"dist_1500m\": 90, \"dist_4000m\": 108}, {\"dist_500m\": 1, \"dist_1500m\": 2, \"dist_4000m\": 17}, {\"dist_500m\": 2, \"dist_1500m\": 6, \"dist_4000m\": 105}, {\"dist_500m\": 37, \"dist_1500m\": 211, \"dist_4000m\": 312}, {\"dist_500m\": 4, \"dist_1500m\": 9, \"dist_4000m\": 31}, {\"dist_500m\": 1, \"dist_1500m\": 5, \"dist_4000m\": 11}, {\"dist_500m\": 1, \"dist_1500m\": 4, \"dist_4000m\": 9}, {\"dist_500m\": 1, \"dist_1500m\": 3, \"dist_4000m\": 9}, {\"dist_500m\": 2, \"dist_1500m\": 16, \"dist_4000m\": 117}, {\"dist_500m\": 1, \"dist_1500m\": 1, \"dist_4000m\": 7}, {\"dist_500m\": 2, \"dist_1500m\": 16, \"dist_4000m\": 73}, {\"dist_500m\": 1, \"dist_1500m\": 6, \"dist_4000m\": 23}, {\"dist_500m\": 2, \"dist_1500m\": 7, \"dist_4000m\": 38}, {\"dist_500m\": 2, \"dist_1500m\": 5, \"dist_4000m\": 31}, {\"dist_500m\": 4, \"dist_1500m\": 23, \"dist_4000m\": 56}, {\"dist_500m\": 4, \"dist_1500m\": 9, \"dist_4000m\": 32}, {\"dist_500m\": 2, \"dist_1500m\": 13, \"dist_4000m\": 22}, {\"dist_500m\": 3, \"dist_1500m\": 7, \"dist_4000m\": 26}, {\"dist_500m\": 13, \"dist_1500m\": 63, \"dist_4000m\": 100}, {\"dist_500m\": 12, \"dist_1500m\": 30, \"dist_4000m\": 80}, {\"dist_500m\": 2, \"dist_1500m\": 4, \"dist_4000m\": 13}, {\"dist_500m\": 1, \"dist_1500m\": 1, \"dist_4000m\": 2}, {\"dist_500m\": 1, \"dist_1500m\": 2, \"dist_4000m\": 10}, {\"dist_500m\": 6, \"dist_1500m\": 77, \"dist_4000m\": 317}, {\"dist_500m\": 1, \"dist_1500m\": 1, \"dist_4000m\": 11}, {\"dist_500m\": 1, \"dist_1500m\": 11, \"dist_4000m\": 37}, {\"dist_500m\": 39, \"dist_1500m\": 128, \"dist_4000m\": 310}, {\"dist_500m\": 3, \"dist_1500m\": 4, \"dist_4000m\": 27}, {\"dist_500m\": 1, \"dist_1500m\": 27, \"dist_4000m\": 97}, {\"dist_500m\": 4, \"dist_1500m\": 12, \"dist_4000m\": 68}, {\"dist_500m\": 1, \"dist_1500m\": 1, \"dist_4000m\": 1}, {\"dist_500m\": 2, \"dist_1500m\": 8, \"dist_4000m\": 17}, {\"dist_500m\": 1, \"dist_1500m\": 6, \"dist_4000m\": 10}, {\"dist_500m\": 64, \"dist_1500m\": 93, \"dist_4000m\": 111}, {\"dist_500m\": 1, \"dist_1500m\": 3, \"dist_4000m\": 18}, {\"dist_500m\": 1, \"dist_1500m\": 1, \"dist_4000m\": 1}, {\"dist_500m\": 2, \"dist_1500m\": 7, \"dist_4000m\": 35}, {\"dist_500m\": 1, \"dist_1500m\": 2, \"dist_4000m\": 7}, {\"dist_500m\": 9, \"dist_1500m\": 48, \"dist_4000m\": 77}, {\"dist_500m\": 12, \"dist_1500m\": 87, \"dist_4000m\": 310}, {\"dist_500m\": 1, \"dist_1500m\": 3, \"dist_4000m\": 13}, {\"dist_500m\": 61, \"dist_1500m\": 93, \"dist_4000m\": 111}, {\"dist_500m\": 4, \"dist_1500m\": 6, \"dist_4000m\": 13}, {\"dist_500m\": 1, \"dist_1500m\": 2, \"dist_4000m\": 5}, {\"dist_500m\": 1, \"dist_1500m\": 1, \"dist_4000m\": 4}, {\"dist_500m\": 4, \"dist_1500m\": 6, \"dist_4000m\": 13}, {\"dist_500m\": 1, \"dist_1500m\": 8, \"dist_4000m\": 21}, {\"dist_500m\": 4, \"dist_1500m\": 8, \"dist_4000m\": 13}, {\"dist_500m\": 14, \"dist_1500m\": 23, \"dist_4000m\": 109}, {\"dist_500m\": 1, \"dist_1500m\": 1, \"dist_4000m\": 1}, {\"dist_500m\": 3, \"dist_1500m\": 21, \"dist_4000m\": 83}, {\"dist_500m\": 1, \"dist_1500m\": 3, \"dist_4000m\": 7}, {\"dist_500m\": 13, \"dist_1500m\": 65, \"dist_4000m\": 101}, {\"dist_500m\": 1, \"dist_1500m\": 3, \"dist_4000m\": 19}, {\"dist_500m\": 1, \"dist_1500m\": 1, \"dist_4000m\": 21}, {\"dist_500m\": 1, \"dist_1500m\": 1, \"dist_4000m\": 4}, {\"dist_500m\": 2, \"dist_1500m\": 5, \"dist_4000m\": 6}, {\"dist_500m\": 1, \"dist_1500m\": 2, \"dist_4000m\": 4}, {\"dist_500m\": 4, \"dist_1500m\": 50, \"dist_4000m\": 234}, {\"dist_500m\": 4, \"dist_1500m\": 49, \"dist_4000m\": 236}, {\"dist_500m\": 2, \"dist_1500m\": 2, \"dist_4000m\": 4}, {\"dist_500m\": 1, \"dist_1500m\": 1, \"dist_4000m\": 1}, {\"dist_500m\": 24, \"dist_1500m\": 198, \"dist_4000m\": 325}, {\"dist_500m\": 1, \"dist_1500m\": 4, \"dist_4000m\": 33}, {\"dist_500m\": 1, \"dist_1500m\": 2, \"dist_4000m\": 4}, {\"dist_500m\": 2, \"dist_1500m\": 5, \"dist_4000m\": 17}, {\"dist_500m\": 1, \"dist_1500m\": 10, \"dist_4000m\": 14}, {\"dist_500m\": 1, \"dist_1500m\": 1, \"dist_4000m\": 1}, {\"dist_500m\": 14, \"dist_1500m\": 23, \"dist_4000m\": 113}, {\"dist_500m\": 3, \"dist_1500m\": 6, \"dist_4000m\": 28}, {\"dist_500m\": 1, \"dist_1500m\": 2, \"dist_4000m\": 16}, {\"dist_500m\": 5, \"dist_1500m\": 5, \"dist_4000m\": 5}, {\"dist_500m\": 5, \"dist_1500m\": 6, \"dist_4000m\": 13}, {\"dist_500m\": 1, \"dist_1500m\": 1, \"dist_4000m\": 7}, {\"dist_500m\": 1, \"dist_1500m\": 13, \"dist_4000m\": 49}, {\"dist_500m\": 2, \"dist_1500m\": 18, \"dist_4000m\": 61}, {\"dist_500m\": 2, \"dist_1500m\": 6, \"dist_4000m\": 21}, {\"dist_500m\": 1, \"dist_1500m\": 5, \"dist_4000m\": 41}, {\"dist_500m\": 1, \"dist_1500m\": 2, \"dist_4000m\": 15}, {\"dist_500m\": 3, \"dist_1500m\": 4, \"dist_4000m\": 105}, {\"dist_500m\": 2, \"dist_1500m\": 9, \"dist_4000m\": 36}, {\"dist_500m\": 2, \"dist_1500m\": 16, \"dist_4000m\": 153}, {\"dist_500m\": 4, \"dist_1500m\": 9, \"dist_4000m\": 31}, {\"dist_500m\": 4, \"dist_1500m\": 16, \"dist_4000m\": 48}, {\"dist_500m\": 2, \"dist_1500m\": 16, \"dist_4000m\": 66}, {\"dist_500m\": 1, \"dist_1500m\": 3, \"dist_4000m\": 7}, {\"dist_500m\": 1, \"dist_1500m\": 4, \"dist_4000m\": 11}, {\"dist_500m\": 3, \"dist_1500m\": 6, \"dist_4000m\": 25}, {\"dist_500m\": 1, \"dist_1500m\": 2, \"dist_4000m\": 9}, {\"dist_500m\": 8, \"dist_1500m\": 14, \"dist_4000m\": 71}, {\"dist_500m\": 4, \"dist_1500m\": 4, \"dist_4000m\": 12}, {\"dist_500m\": 8, \"dist_1500m\": 92, \"dist_4000m\": 105}, {\"dist_500m\": 2, \"dist_1500m\": 17, \"dist_4000m\": 75}, {\"dist_500m\": 2, \"dist_1500m\": 3, \"dist_4000m\": 11}, {\"dist_500m\": 22, \"dist_1500m\": 46, \"dist_4000m\": 75}, {\"dist_500m\": 7, \"dist_1500m\": 37, \"dist_4000m\": 119}, {\"dist_500m\": 14, \"dist_1500m\": 68, \"dist_4000m\": 102}, {\"dist_500m\": 1, \"dist_1500m\": 2, \"dist_4000m\": 11}, {\"dist_500m\": 1, \"dist_1500m\": 10, \"dist_4000m\": 54}, {\"dist_500m\": 3, \"dist_1500m\": 5, \"dist_4000m\": 15}, {\"dist_500m\": 1, \"dist_1500m\": 3, \"dist_4000m\": 10}, {\"dist_500m\": 2, \"dist_1500m\": 16, \"dist_4000m\": 76}, {\"dist_500m\": 2, \"dist_1500m\": 5, \"dist_4000m\": 11}, {\"dist_500m\": 1, \"dist_1500m\": 1, \"dist_4000m\": 8}, {\"dist_500m\": 3, \"dist_1500m\": 17, \"dist_4000m\": 24}, {\"dist_500m\": 4, \"dist_1500m\": 13, \"dist_4000m\": 13}, {\"dist_500m\": 2, \"dist_1500m\": 2, \"dist_4000m\": 2}, {\"dist_500m\": 1, \"dist_1500m\": 2, \"dist_4000m\": 8}, {\"dist_500m\": 1, \"dist_1500m\": 1, \"dist_4000m\": 16}, {\"dist_500m\": 62, \"dist_1500m\": 92, \"dist_4000m\": 111}, {\"dist_500m\": 2, \"dist_1500m\": 7, \"dist_4000m\": 13}, {\"dist_500m\": 1, \"dist_1500m\": 1, \"dist_4000m\": 5}, {\"dist_500m\": 1, \"dist_1500m\": 2, \"dist_4000m\": 5}, {\"dist_500m\": 9, \"dist_1500m\": 90, \"dist_4000m\": 309}, {\"dist_500m\": 1, \"dist_1500m\": 1, \"dist_4000m\": 1}, {\"dist_500m\": 2, \"dist_1500m\": 3, \"dist_4000m\": 4}, {\"dist_500m\": 6, \"dist_1500m\": 31, \"dist_4000m\": 39}, {\"dist_500m\": 2, \"dist_1500m\": 5, \"dist_4000m\": 35}, {\"dist_500m\": 1, \"dist_1500m\": 4, \"dist_4000m\": 8}, {\"dist_500m\": 1, \"dist_1500m\": 8, \"dist_4000m\": 35}, {\"dist_500m\": 7, \"dist_1500m\": 45, \"dist_4000m\": 119}, {\"dist_500m\": 2, \"dist_1500m\": 12, \"dist_4000m\": 23}, {\"dist_500m\": 2, \"dist_1500m\": 5, \"dist_4000m\": 18}, {\"dist_500m\": 26, \"dist_1500m\": 59, \"dist_4000m\": 102}, {\"dist_500m\": 3, \"dist_1500m\": 4, \"dist_4000m\": 64}, {\"dist_500m\": 2, \"dist_1500m\": 2, \"dist_4000m\": 69}, {\"dist_500m\": 53, \"dist_1500m\": 162, \"dist_4000m\": 308}, {\"dist_500m\": 51, \"dist_1500m\": 169, \"dist_4000m\": 308}, {\"dist_500m\": 1, \"dist_1500m\": 22, \"dist_4000m\": 78}, {\"dist_500m\": 2, \"dist_1500m\": 2, \"dist_4000m\": 2}, {\"dist_500m\": 2, \"dist_1500m\": 5, \"dist_4000m\": 6}, {\"dist_500m\": 1, \"dist_1500m\": 6, \"dist_4000m\": 34}, {\"dist_500m\": 3, \"dist_1500m\": 5, \"dist_4000m\": 146}, {\"dist_500m\": 16, \"dist_1500m\": 60, \"dist_4000m\": 100}, {\"dist_500m\": 25, \"dist_1500m\": 44, \"dist_4000m\": 75}, {\"dist_500m\": 24, \"dist_1500m\": 44, \"dist_4000m\": 75}, {\"dist_500m\": 2, \"dist_1500m\": 3, \"dist_4000m\": 3}, {\"dist_500m\": 4, \"dist_1500m\": 7, \"dist_4000m\": 8}, {\"dist_500m\": 1, \"dist_1500m\": 1, \"dist_4000m\": 1}, {\"dist_500m\": 1, \"dist_1500m\": 2, \"dist_4000m\": 9}, {\"dist_500m\": 1, \"dist_1500m\": 1, \"dist_4000m\": 5}, {\"dist_500m\": 13, \"dist_1500m\": 64, \"dist_4000m\": 122}, {\"dist_500m\": 2, \"dist_1500m\": 9, \"dist_4000m\": 29}, {\"dist_500m\": 1, \"dist_1500m\": 2, \"dist_4000m\": 9}, {\"dist_500m\": 22, \"dist_1500m\": 63, \"dist_4000m\": 122}, {\"dist_500m\": 1, \"dist_1500m\": 2, \"dist_4000m\": 2}, {\"dist_500m\": 1, \"dist_1500m\": 1, \"dist_4000m\": 1}, {\"dist_500m\": 9, \"dist_1500m\": 79, \"dist_4000m\": 310}, {\"dist_500m\": 1, \"dist_1500m\": 1, \"dist_4000m\": 14}, {\"dist_500m\": 1, \"dist_1500m\": 1, \"dist_4000m\": 5}, {\"dist_500m\": 5, \"dist_1500m\": 6, \"dist_4000m\": 6}, {\"dist_500m\": 1, \"dist_1500m\": 1, \"dist_4000m\": 2}, {\"dist_500m\": 6, \"dist_1500m\": 49, \"dist_4000m\": 308}, {\"dist_500m\": 2, \"dist_1500m\": 24, \"dist_4000m\": 62}, {\"dist_500m\": 2, \"dist_1500m\": 9, \"dist_4000m\": 35}, {\"dist_500m\": 1, \"dist_1500m\": 5, \"dist_4000m\": 14}, {\"dist_500m\": 1, \"dist_1500m\": 3, \"dist_4000m\": 9}, {\"dist_500m\": 1, \"dist_1500m\": 6, \"dist_4000m\": 9}, {\"dist_500m\": 1, \"dist_1500m\": 4, \"dist_4000m\": 22}, {\"dist_500m\": 2, \"dist_1500m\": 5, \"dist_4000m\": 21}, {\"dist_500m\": 3, \"dist_1500m\": 27, \"dist_4000m\": 151}, {\"dist_500m\": 1, \"dist_1500m\": 4, \"dist_4000m\": 29}, {\"dist_500m\": 1, \"dist_1500m\": 5, \"dist_4000m\": 23}, {\"dist_500m\": 2, \"dist_1500m\": 4, \"dist_4000m\": 13}, {\"dist_500m\": 7, \"dist_1500m\": 44, \"dist_4000m\": 119}, {\"dist_500m\": 2, \"dist_1500m\": 6, \"dist_4000m\": 16}, {\"dist_500m\": 1, \"dist_1500m\": 8, \"dist_4000m\": 28}, {\"dist_500m\": 1, \"dist_1500m\": 1, \"dist_4000m\": 1}, {\"dist_500m\": 1, \"dist_1500m\": 3, \"dist_4000m\": 32}, {\"dist_500m\": 1, \"dist_1500m\": 10, \"dist_4000m\": 43}, {\"dist_500m\": 1, \"dist_1500m\": 1, \"dist_4000m\": 4}, {\"dist_500m\": 18, \"dist_1500m\": 111, \"dist_4000m\": 359}, {\"dist_500m\": 24, \"dist_1500m\": 121, \"dist_4000m\": 345}, {\"dist_500m\": 1, \"dist_1500m\": 3, \"dist_4000m\": 16}, {\"dist_500m\": 1, \"dist_1500m\": 7, \"dist_4000m\": 31}, {\"dist_500m\": 2, \"dist_1500m\": 3, \"dist_4000m\": 29}, {\"dist_500m\": 2, \"dist_1500m\": 3, \"dist_4000m\": 31}, {\"dist_500m\": 1, \"dist_1500m\": 1, \"dist_4000m\": 27}, {\"dist_500m\": 1, \"dist_1500m\": 1, \"dist_4000m\": 1}, {\"dist_500m\": 2, \"dist_1500m\": 10, \"dist_4000m\": 15}, {\"dist_500m\": 9, \"dist_1500m\": 46, \"dist_4000m\": 77}, {\"dist_500m\": 1, \"dist_1500m\": 4, \"dist_4000m\": 8}, {\"dist_500m\": 1, \"dist_1500m\": 2, \"dist_4000m\": 9}, {\"dist_500m\": 3, \"dist_1500m\": 4, \"dist_4000m\": 103}, {\"dist_500m\": 1, \"dist_1500m\": 1, \"dist_4000m\": 8}, {\"dist_500m\": 64, \"dist_1500m\": 93, \"dist_4000m\": 111}, {\"dist_500m\": 3, \"dist_1500m\": 29, \"dist_4000m\": 62}, {\"dist_500m\": 1, \"dist_1500m\": 18, \"dist_4000m\": 295}, {\"dist_500m\": 6, \"dist_1500m\": 34, \"dist_4000m\": 117}, {\"dist_500m\": 6, \"dist_1500m\": 33, \"dist_4000m\": 118}, {\"dist_500m\": 6, \"dist_1500m\": 33, \"dist_4000m\": 118}, {\"dist_500m\": 19, \"dist_1500m\": 77, \"dist_4000m\": 123}, {\"dist_500m\": 2, \"dist_1500m\": 7, \"dist_4000m\": 16}, {\"dist_500m\": 3, \"dist_1500m\": 8, \"dist_4000m\": 15}, {\"dist_500m\": 4, \"dist_1500m\": 8, \"dist_4000m\": 54}, {\"dist_500m\": 1, \"dist_1500m\": 1, \"dist_4000m\": 2}, {\"dist_500m\": 1, \"dist_1500m\": 4, \"dist_4000m\": 31}, {\"dist_500m\": 1, \"dist_1500m\": 1, \"dist_4000m\": 6}, {\"dist_500m\": 25, \"dist_1500m\": 50, \"dist_4000m\": 75}, {\"dist_500m\": 17, \"dist_1500m\": 49, \"dist_4000m\": 75}, {\"dist_500m\": 17, \"dist_1500m\": 53, \"dist_4000m\": 75}, {\"dist_500m\": 10, \"dist_1500m\": 50, \"dist_4000m\": 75}, {\"dist_500m\": 1, \"dist_1500m\": 2, \"dist_4000m\": 21}, {\"dist_500m\": 1, \"dist_1500m\": 1, \"dist_4000m\": 1}, {\"dist_500m\": 3, \"dist_1500m\": 8, \"dist_4000m\": 33}, {\"dist_500m\": 1, \"dist_1500m\": 3, \"dist_4000m\": 24}, {\"dist_500m\": 1, \"dist_1500m\": 4, \"dist_4000m\": 7}, {\"dist_500m\": 12, \"dist_1500m\": 31, \"dist_4000m\": 40}, {\"dist_500m\": 4, \"dist_1500m\": 29, \"dist_4000m\": 143}, {\"dist_500m\": 4, \"dist_1500m\": 9, \"dist_4000m\": 28}, {\"dist_500m\": 1, \"dist_1500m\": 2, \"dist_4000m\": 3}, {\"dist_500m\": 1, \"dist_1500m\": 1, \"dist_4000m\": 1}, {\"dist_500m\": 4, \"dist_1500m\": 9, \"dist_4000m\": 18}, {\"dist_500m\": 16, \"dist_1500m\": 90, \"dist_4000m\": 108}, {\"dist_500m\": 3, \"dist_1500m\": 3, \"dist_4000m\": 11}, {\"dist_500m\": 2, \"dist_1500m\": 5, \"dist_4000m\": 113}, {\"dist_500m\": 1, \"dist_1500m\": 7, \"dist_4000m\": 22}, {\"dist_500m\": 1, \"dist_1500m\": 4, \"dist_4000m\": 9}, {\"dist_500m\": 1, \"dist_1500m\": 1, \"dist_4000m\": 13}, {\"dist_500m\": 6, \"dist_1500m\": 19, \"dist_4000m\": 117}, {\"dist_500m\": 3, \"dist_1500m\": 8, \"dist_4000m\": 23}, {\"dist_500m\": 3, \"dist_1500m\": 6, \"dist_4000m\": 28}, {\"dist_500m\": 1, \"dist_1500m\": 2, \"dist_4000m\": 4}, {\"dist_500m\": 1, \"dist_1500m\": 1, \"dist_4000m\": 3}, {\"dist_500m\": 4, \"dist_1500m\": 13, \"dist_4000m\": 22}, {\"dist_500m\": 5, \"dist_1500m\": 15, \"dist_4000m\": 76}, {\"dist_500m\": 3, \"dist_1500m\": 3, \"dist_4000m\": 11}, {\"dist_500m\": 1, \"dist_1500m\": 3, \"dist_4000m\": 6}, {\"dist_500m\": 1, \"dist_1500m\": 6, \"dist_4000m\": 114}, {\"dist_500m\": 1, \"dist_1500m\": 6, \"dist_4000m\": 42}, {\"dist_500m\": 2, \"dist_1500m\": 2, \"dist_4000m\": 8}, {\"dist_500m\": 5, \"dist_1500m\": 17, \"dist_4000m\": 58}, {\"dist_500m\": 1, \"dist_1500m\": 1, \"dist_4000m\": 1}, {\"dist_500m\": 3, \"dist_1500m\": 12, \"dist_4000m\": 126}, {\"dist_500m\": 2, \"dist_1500m\": 11, \"dist_4000m\": 23}, {\"dist_500m\": 4, \"dist_1500m\": 14, \"dist_4000m\": 59}, {\"dist_500m\": 3, \"dist_1500m\": 3, \"dist_4000m\": 11}, {\"dist_500m\": 4, \"dist_1500m\": 16, \"dist_4000m\": 58}, {\"dist_500m\": 1, \"dist_1500m\": 1, \"dist_4000m\": 6}, {\"dist_500m\": 1, \"dist_1500m\": 4, \"dist_4000m\": 15}, {\"dist_500m\": 2, \"dist_1500m\": 8, \"dist_4000m\": 38}, {\"dist_500m\": 1, \"dist_1500m\": 1, \"dist_4000m\": 6}, {\"dist_500m\": 27, \"dist_1500m\": 50, \"dist_4000m\": 161}, {\"dist_500m\": 1, \"dist_1500m\": 3, \"dist_4000m\": 12}, {\"dist_500m\": 4, \"dist_1500m\": 16, \"dist_4000m\": 60}, {\"dist_500m\": 1, \"dist_1500m\": 1, \"dist_4000m\": 8}, {\"dist_500m\": 3, \"dist_1500m\": 6, \"dist_4000m\": 19}, {\"dist_500m\": 1, \"dist_1500m\": 12, \"dist_4000m\": 53}, {\"dist_500m\": 1, \"dist_1500m\": 5, \"dist_4000m\": 8}, {\"dist_500m\": 1, \"dist_1500m\": 1, \"dist_4000m\": 4}, {\"dist_500m\": 1, \"dist_1500m\": 1, \"dist_4000m\": 4}, {\"dist_500m\": 1, \"dist_1500m\": 1, \"dist_4000m\": 39}, {\"dist_500m\": 1, \"dist_1500m\": 3, \"dist_4000m\": 23}, {\"dist_500m\": 6, \"dist_1500m\": 26, \"dist_4000m\": 88}, {\"dist_500m\": 7, \"dist_1500m\": 12, \"dist_4000m\": 13}, {\"dist_500m\": 17, \"dist_1500m\": 30, \"dist_4000m\": 80}, {\"dist_500m\": 1, \"dist_1500m\": 2, \"dist_4000m\": 45}, {\"dist_500m\": 5, \"dist_1500m\": 7, \"dist_4000m\": 29}, {\"dist_500m\": 1, \"dist_1500m\": 2, \"dist_4000m\": 23}, {\"dist_500m\": 3, \"dist_1500m\": 3, \"dist_4000m\": 7}, {\"dist_500m\": 1, \"dist_1500m\": 1, \"dist_4000m\": 2}, {\"dist_500m\": 5, \"dist_1500m\": 23, \"dist_4000m\": 50}, {\"dist_500m\": 6, \"dist_1500m\": 26, \"dist_4000m\": 52}, {\"dist_500m\": 2, \"dist_1500m\": 3, \"dist_4000m\": 15}, {\"dist_500m\": 3, \"dist_1500m\": 17, \"dist_4000m\": 43}, {\"dist_500m\": 6, \"dist_1500m\": 14, \"dist_4000m\": 100}, {\"dist_500m\": 1, \"dist_1500m\": 7, \"dist_4000m\": 16}, {\"dist_500m\": 5, \"dist_1500m\": 24, \"dist_4000m\": 52}, {\"dist_500m\": 6, \"dist_1500m\": 23, \"dist_4000m\": 51}, {\"dist_500m\": 2, \"dist_1500m\": 3, \"dist_4000m\": 15}, {\"dist_500m\": 3, \"dist_1500m\": 28, \"dist_4000m\": 291}, {\"dist_500m\": 2, \"dist_1500m\": 7, \"dist_4000m\": 35}, {\"dist_500m\": 2, \"dist_1500m\": 5, \"dist_4000m\": 8}, {\"dist_500m\": 12, \"dist_1500m\": 30, \"dist_4000m\": 40}, {\"dist_500m\": 3, \"dist_1500m\": 5, \"dist_4000m\": 11}, {\"dist_500m\": 2, \"dist_1500m\": 11, \"dist_4000m\": 87}, {\"dist_500m\": 38, \"dist_1500m\": 182, \"dist_4000m\": 313}, {\"dist_500m\": 3, \"dist_1500m\": 7, \"dist_4000m\": 29}, {\"dist_500m\": 1, \"dist_1500m\": 1, \"dist_4000m\": 2}, {\"dist_500m\": 1, \"dist_1500m\": 2, \"dist_4000m\": 5}, {\"dist_500m\": 2, \"dist_1500m\": 5, \"dist_4000m\": 16}, {\"dist_500m\": 6, \"dist_1500m\": 16, \"dist_4000m\": 61}, {\"dist_500m\": 1, \"dist_1500m\": 36, \"dist_4000m\": 78}, {\"dist_500m\": 2, \"dist_1500m\": 25, \"dist_4000m\": 86}, {\"dist_500m\": 6, \"dist_1500m\": 31, \"dist_4000m\": 40}, {\"dist_500m\": 2, \"dist_1500m\": 6, \"dist_4000m\": 22}, {\"dist_500m\": 1, \"dist_1500m\": 2, \"dist_4000m\": 7}, {\"dist_500m\": 2, \"dist_1500m\": 2, \"dist_4000m\": 2}, {\"dist_500m\": 1, \"dist_1500m\": 2, \"dist_4000m\": 7}, {\"dist_500m\": 1, \"dist_1500m\": 7, \"dist_4000m\": 8}, {\"dist_500m\": 4, \"dist_1500m\": 5, \"dist_4000m\": 6}, {\"dist_500m\": 2, \"dist_1500m\": 3, \"dist_4000m\": 19}, {\"dist_500m\": 1, \"dist_1500m\": 1, \"dist_4000m\": 3}, {\"dist_500m\": 6, \"dist_1500m\": 51, \"dist_4000m\": 102}, {\"dist_500m\": 1, \"dist_1500m\": 6, \"dist_4000m\": 27}, {\"dist_500m\": 2, \"dist_1500m\": 4, \"dist_4000m\": 15}, {\"dist_500m\": 1, \"dist_1500m\": 7, \"dist_4000m\": 23}, {\"dist_500m\": 1, \"dist_1500m\": 44, \"dist_4000m\": 111}, {\"dist_500m\": 1, \"dist_1500m\": 18, \"dist_4000m\": 124}, {\"dist_500m\": 24, \"dist_1500m\": 24, \"dist_4000m\": 25}, {\"dist_500m\": 24, \"dist_1500m\": 24, \"dist_4000m\": 25}, {\"dist_500m\": 24, \"dist_1500m\": 24, \"dist_4000m\": 25}, {\"dist_500m\": 24, \"dist_1500m\": 24, \"dist_4000m\": 25}, {\"dist_500m\": 24, \"dist_1500m\": 24, \"dist_4000m\": 25}, {\"dist_500m\": 24, \"dist_1500m\": 24, \"dist_4000m\": 25}, {\"dist_500m\": 24, \"dist_1500m\": 24, \"dist_4000m\": 25}, {\"dist_500m\": 24, \"dist_1500m\": 24, \"dist_4000m\": 25}, {\"dist_500m\": 24, \"dist_1500m\": 24, \"dist_4000m\": 25}, {\"dist_500m\": 24, \"dist_1500m\": 24, \"dist_4000m\": 25}, {\"dist_500m\": 24, \"dist_1500m\": 24, \"dist_4000m\": 25}, {\"dist_500m\": 24, \"dist_1500m\": 24, \"dist_4000m\": 25}, {\"dist_500m\": 24, \"dist_1500m\": 24, \"dist_4000m\": 25}, {\"dist_500m\": 24, \"dist_1500m\": 24, \"dist_4000m\": 25}, {\"dist_500m\": 24, \"dist_1500m\": 24, \"dist_4000m\": 25}, {\"dist_500m\": 24, \"dist_1500m\": 24, \"dist_4000m\": 25}, {\"dist_500m\": 24, \"dist_1500m\": 24, \"dist_4000m\": 25}, {\"dist_500m\": 24, \"dist_1500m\": 24, \"dist_4000m\": 25}, {\"dist_500m\": 24, \"dist_1500m\": 24, \"dist_4000m\": 25}, {\"dist_500m\": 24, \"dist_1500m\": 24, \"dist_4000m\": 25}, {\"dist_500m\": 24, \"dist_1500m\": 24, \"dist_4000m\": 25}, {\"dist_500m\": 24, \"dist_1500m\": 24, \"dist_4000m\": 25}, {\"dist_500m\": 24, \"dist_1500m\": 24, \"dist_4000m\": 25}, {\"dist_500m\": 24, \"dist_1500m\": 24, \"dist_4000m\": 25}, {\"dist_500m\": 4, \"dist_1500m\": 25, \"dist_4000m\": 58}, {\"dist_500m\": 5, \"dist_1500m\": 34, \"dist_4000m\": 76}, {\"dist_500m\": 1, \"dist_1500m\": 2, \"dist_4000m\": 15}, {\"dist_500m\": 1, \"dist_1500m\": 8, \"dist_4000m\": 21}, {\"dist_500m\": 2, \"dist_1500m\": 4, \"dist_4000m\": 11}, {\"dist_500m\": 1, \"dist_1500m\": 5, \"dist_4000m\": 38}, {\"dist_500m\": 2, \"dist_1500m\": 6, \"dist_4000m\": 29}, {\"dist_500m\": 1, \"dist_1500m\": 12, \"dist_4000m\": 46}, {\"dist_500m\": 1, \"dist_1500m\": 1, \"dist_4000m\": 1}, {\"dist_500m\": 2, \"dist_1500m\": 16, \"dist_4000m\": 251}, {\"dist_500m\": 1, \"dist_1500m\": 4, \"dist_4000m\": 8}, {\"dist_500m\": 2, \"dist_1500m\": 8, \"dist_4000m\": 18}, {\"dist_500m\": 9, \"dist_1500m\": 48, \"dist_4000m\": 77}, {\"dist_500m\": 1, \"dist_1500m\": 1, \"dist_4000m\": 3}, {\"dist_500m\": 1, \"dist_1500m\": 4, \"dist_4000m\": 17}, {\"dist_500m\": 1, \"dist_1500m\": 1, \"dist_4000m\": 3}, {\"dist_500m\": 4, \"dist_1500m\": 16, \"dist_4000m\": 51}, {\"dist_500m\": 3, \"dist_1500m\": 12, \"dist_4000m\": 31}, {\"dist_500m\": 4, \"dist_1500m\": 24, \"dist_4000m\": 86}, {\"dist_500m\": 1, \"dist_1500m\": 5, \"dist_4000m\": 17}, {\"dist_500m\": 1, \"dist_1500m\": 4, \"dist_4000m\": 9}, {\"dist_500m\": 2, \"dist_1500m\": 3, \"dist_4000m\": 3}, {\"dist_500m\": 1, \"dist_1500m\": 1, \"dist_4000m\": 13}, {\"dist_500m\": 2, \"dist_1500m\": 5, \"dist_4000m\": 11}, {\"dist_500m\": 1, \"dist_1500m\": 2, \"dist_4000m\": 3}, {\"dist_500m\": 1, \"dist_1500m\": 2, \"dist_4000m\": 28}, {\"dist_500m\": 1, \"dist_1500m\": 3, \"dist_4000m\": 13}, {\"dist_500m\": 1, \"dist_1500m\": 2, \"dist_4000m\": 7}, {\"dist_500m\": 2, \"dist_1500m\": 6, \"dist_4000m\": 26}, {\"dist_500m\": 2, \"dist_1500m\": 6, \"dist_4000m\": 26}, {\"dist_500m\": 3, \"dist_1500m\": 4, \"dist_4000m\": 6}, {\"dist_500m\": 3, \"dist_1500m\": 4, \"dist_4000m\": 6}, {\"dist_500m\": 3, \"dist_1500m\": 4, \"dist_4000m\": 6}, {\"dist_500m\": 2, \"dist_1500m\": 2, \"dist_4000m\": 2}, {\"dist_500m\": 2, \"dist_1500m\": 2, \"dist_4000m\": 2}, {\"dist_500m\": 2, \"dist_1500m\": 9, \"dist_4000m\": 18}, {\"dist_500m\": 16, \"dist_1500m\": 200, \"dist_4000m\": 308}, {\"dist_500m\": 1, \"dist_1500m\": 1, \"dist_4000m\": 8}, {\"dist_500m\": 3, \"dist_1500m\": 6, \"dist_4000m\": 25}, {\"dist_500m\": 4, \"dist_1500m\": 15, \"dist_4000m\": 47}, {\"dist_500m\": 1, \"dist_1500m\": 1, \"dist_4000m\": 3}, {\"dist_500m\": 4, \"dist_1500m\": 9, \"dist_4000m\": 26}, {\"dist_500m\": 4, \"dist_1500m\": 9, \"dist_4000m\": 26}, {\"dist_500m\": 4, \"dist_1500m\": 9, \"dist_4000m\": 26}, {\"dist_500m\": 1, \"dist_1500m\": 4, \"dist_4000m\": 6}, {\"dist_500m\": 5, \"dist_1500m\": 5, \"dist_4000m\": 5}, {\"dist_500m\": 1, \"dist_1500m\": 6, \"dist_4000m\": 29}, {\"dist_500m\": 1, \"dist_1500m\": 1, \"dist_4000m\": 1}, {\"dist_500m\": 1, \"dist_1500m\": 1, \"dist_4000m\": 1}, {\"dist_500m\": 1, \"dist_1500m\": 1, \"dist_4000m\": 1}, {\"dist_500m\": 5, \"dist_1500m\": 5, \"dist_4000m\": 5}, {\"dist_500m\": 6, \"dist_1500m\": 7, \"dist_4000m\": 7}, {\"dist_500m\": 6, \"dist_1500m\": 7, \"dist_4000m\": 7}, {\"dist_500m\": 6, \"dist_1500m\": 7, \"dist_4000m\": 7}, {\"dist_500m\": 6, \"dist_1500m\": 7, \"dist_4000m\": 7}, {\"dist_500m\": 5, \"dist_1500m\": 5, \"dist_4000m\": 5}, {\"dist_500m\": 5, \"dist_1500m\": 5, \"dist_4000m\": 5}, {\"dist_500m\": 4, \"dist_1500m\": 7, \"dist_4000m\": 7}, {\"dist_500m\": 5, \"dist_1500m\": 5, \"dist_4000m\": 5}, {\"dist_500m\": 5, \"dist_1500m\": 7, \"dist_4000m\": 7}, {\"dist_500m\": 5, \"dist_1500m\": 7, \"dist_4000m\": 7}, {\"dist_500m\": 15, \"dist_1500m\": 180, \"dist_4000m\": 311}, {\"dist_500m\": 17, \"dist_1500m\": 63, \"dist_4000m\": 124}, {\"dist_500m\": 1, \"dist_1500m\": 7, \"dist_4000m\": 28}, {\"dist_500m\": 1, \"dist_1500m\": 1, \"dist_4000m\": 3}, {\"dist_500m\": 1, \"dist_1500m\": 6, \"dist_4000m\": 34}, {\"dist_500m\": 2, \"dist_1500m\": 2, \"dist_4000m\": 2}, {\"dist_500m\": 15, \"dist_1500m\": 35, \"dist_4000m\": 78}, {\"dist_500m\": 14, \"dist_1500m\": 18, \"dist_4000m\": 107}, {\"dist_500m\": 14, \"dist_1500m\": 18, \"dist_4000m\": 108}, {\"dist_500m\": 2, \"dist_1500m\": 2, \"dist_4000m\": 2}, {\"dist_500m\": 3, \"dist_1500m\": 3, \"dist_4000m\": 6}, {\"dist_500m\": 1, \"dist_1500m\": 1, \"dist_4000m\": 1}, {\"dist_500m\": 2, \"dist_1500m\": 5, \"dist_4000m\": 24}, {\"dist_500m\": 2, \"dist_1500m\": 7, \"dist_4000m\": 57}, {\"dist_500m\": 1, \"dist_1500m\": 1, \"dist_4000m\": 12}, {\"dist_500m\": 14, \"dist_1500m\": 67, \"dist_4000m\": 108}, {\"dist_500m\": 7, \"dist_1500m\": 23, \"dist_4000m\": 88}, {\"dist_500m\": 1, \"dist_1500m\": 1, \"dist_4000m\": 3}, {\"dist_500m\": 1, \"dist_1500m\": 1, \"dist_4000m\": 1}, {\"dist_500m\": 1, \"dist_1500m\": 3, \"dist_4000m\": 13}, {\"dist_500m\": 5, \"dist_1500m\": 64, \"dist_4000m\": 382}, {\"dist_500m\": 7, \"dist_1500m\": 10, \"dist_4000m\": 17}, {\"dist_500m\": 2, \"dist_1500m\": 11, \"dist_4000m\": 34}, {\"dist_500m\": 1, \"dist_1500m\": 1, \"dist_4000m\": 3}, {\"dist_500m\": 34, \"dist_1500m\": 121, \"dist_4000m\": 311}, {\"dist_500m\": 2, \"dist_1500m\": 3, \"dist_4000m\": 8}, {\"dist_500m\": 1, \"dist_1500m\": 1, \"dist_4000m\": 6}, {\"dist_500m\": 2, \"dist_1500m\": 4, \"dist_4000m\": 4}, {\"dist_500m\": 1, \"dist_1500m\": 3, \"dist_4000m\": 44}, {\"dist_500m\": 2, \"dist_1500m\": 6, \"dist_4000m\": 16}, {\"dist_500m\": 2, \"dist_1500m\": 7, \"dist_4000m\": 33}, {\"dist_500m\": 1, \"dist_1500m\": 4, \"dist_4000m\": 17}, {\"dist_500m\": 1, \"dist_1500m\": 19, \"dist_4000m\": 91}, {\"dist_500m\": 1, \"dist_1500m\": 1, \"dist_4000m\": 1}, {\"dist_500m\": 2, \"dist_1500m\": 6, \"dist_4000m\": 17}, {\"dist_500m\": 2, \"dist_1500m\": 6, \"dist_4000m\": 26}, {\"dist_500m\": 3, \"dist_1500m\": 15, \"dist_4000m\": 32}, {\"dist_500m\": 41, \"dist_1500m\": 91, \"dist_4000m\": 111}, {\"dist_500m\": 1, \"dist_1500m\": 10, \"dist_4000m\": 28}, {\"dist_500m\": 1, \"dist_1500m\": 2, \"dist_4000m\": 6}, {\"dist_500m\": 4, \"dist_1500m\": 10, \"dist_4000m\": 38}, {\"dist_500m\": 1, \"dist_1500m\": 1, \"dist_4000m\": 5}, {\"dist_500m\": 2, \"dist_1500m\": 6, \"dist_4000m\": 18}, {\"dist_500m\": 1, \"dist_1500m\": 2, \"dist_4000m\": 3}, {\"dist_500m\": 11, \"dist_1500m\": 27, \"dist_4000m\": 103}, {\"dist_500m\": 5, \"dist_1500m\": 17, \"dist_4000m\": 77}, {\"dist_500m\": 1, \"dist_1500m\": 1, \"dist_4000m\": 1}, {\"dist_500m\": 2, \"dist_1500m\": 12, \"dist_4000m\": 32}, {\"dist_500m\": 1, \"dist_1500m\": 4, \"dist_4000m\": 62}, {\"dist_500m\": 2, \"dist_1500m\": 8, \"dist_4000m\": 59}, {\"dist_500m\": 2, \"dist_1500m\": 30, \"dist_4000m\": 72}, {\"dist_500m\": 1, \"dist_1500m\": 1, \"dist_4000m\": 13}, {\"dist_500m\": 1, \"dist_1500m\": 1, \"dist_4000m\": 1}, {\"dist_500m\": 12, \"dist_1500m\": 37, \"dist_4000m\": 40}, {\"dist_500m\": 4, \"dist_1500m\": 29, \"dist_4000m\": 133}, {\"dist_500m\": 1, \"dist_1500m\": 7, \"dist_4000m\": 24}, {\"dist_500m\": 3, \"dist_1500m\": 3, \"dist_4000m\": 3}, {\"dist_500m\": 1, \"dist_1500m\": 1, \"dist_4000m\": 1}, {\"dist_500m\": 7, \"dist_1500m\": 29, \"dist_4000m\": 101}, {\"dist_500m\": 3, \"dist_1500m\": 6, \"dist_4000m\": 11}, {\"dist_500m\": 1, \"dist_1500m\": 1, \"dist_4000m\": 3}, {\"dist_500m\": 1, \"dist_1500m\": 1, \"dist_4000m\": 1}, {\"dist_500m\": 2, \"dist_1500m\": 5, \"dist_4000m\": 13}, {\"dist_500m\": 2, \"dist_1500m\": 2, \"dist_4000m\": 6}, {\"dist_500m\": 1, \"dist_1500m\": 1, \"dist_4000m\": 1}, {\"dist_500m\": 1, \"dist_1500m\": 4, \"dist_4000m\": 16}, {\"dist_500m\": 1, \"dist_1500m\": 2, \"dist_4000m\": 8}, {\"dist_500m\": 13, \"dist_1500m\": 36, \"dist_4000m\": 82}, {\"dist_500m\": 1, \"dist_1500m\": 1, \"dist_4000m\": 2}, {\"dist_500m\": 1, \"dist_1500m\": 10, \"dist_4000m\": 21}, {\"dist_500m\": 3, \"dist_1500m\": 6, \"dist_4000m\": 25}, {\"dist_500m\": 1, \"dist_1500m\": 2, \"dist_4000m\": 7}, {\"dist_500m\": 2, \"dist_1500m\": 9, \"dist_4000m\": 19}, {\"dist_500m\": 5, \"dist_1500m\": 14, \"dist_4000m\": 76}, {\"dist_500m\": 14, \"dist_1500m\": 22, \"dist_4000m\": 112}, {\"dist_500m\": 1, \"dist_1500m\": 3, \"dist_4000m\": 260}, {\"dist_500m\": 1, \"dist_1500m\": 2, \"dist_4000m\": 12}, {\"dist_500m\": 1, \"dist_1500m\": 2, \"dist_4000m\": 5}, {\"dist_500m\": 2, \"dist_1500m\": 11, \"dist_4000m\": 37}, {\"dist_500m\": 1, \"dist_1500m\": 7, \"dist_4000m\": 91}, {\"dist_500m\": 2, \"dist_1500m\": 3, \"dist_4000m\": 10}, {\"dist_500m\": 2, \"dist_1500m\": 6, \"dist_4000m\": 13}, {\"dist_500m\": 1, \"dist_1500m\": 1, \"dist_4000m\": 12}, {\"dist_500m\": 2, \"dist_1500m\": 2, \"dist_4000m\": 13}, {\"dist_500m\": 1, \"dist_1500m\": 1, \"dist_4000m\": 4}, {\"dist_500m\": 6, \"dist_1500m\": 15, \"dist_4000m\": 33}, {\"dist_500m\": 5, \"dist_1500m\": 14, \"dist_4000m\": 38}, {\"dist_500m\": 2, \"dist_1500m\": 21, \"dist_4000m\": 126}, {\"dist_500m\": 1, \"dist_1500m\": 13, \"dist_4000m\": 76}, {\"dist_500m\": 1, \"dist_1500m\": 1, \"dist_4000m\": 1}, {\"dist_500m\": 5, \"dist_1500m\": 15, \"dist_4000m\": 55}, {\"dist_500m\": 1, \"dist_1500m\": 1, \"dist_4000m\": 4}, {\"dist_500m\": 27, \"dist_1500m\": 93, \"dist_4000m\": 111}, {\"dist_500m\": 13, \"dist_1500m\": 70, \"dist_4000m\": 102}, {\"dist_500m\": 9, \"dist_1500m\": 63, \"dist_4000m\": 119}, {\"dist_500m\": 3, \"dist_1500m\": 5, \"dist_4000m\": 7}, {\"dist_500m\": 10, \"dist_1500m\": 53, \"dist_4000m\": 75}, {\"dist_500m\": 3, \"dist_1500m\": 57, \"dist_4000m\": 75}, {\"dist_500m\": 3, \"dist_1500m\": 56, \"dist_4000m\": 75}, {\"dist_500m\": 1, \"dist_1500m\": 2, \"dist_4000m\": 22}, {\"dist_500m\": 1, \"dist_1500m\": 2, \"dist_4000m\": 2}, {\"dist_500m\": 1, \"dist_1500m\": 2, \"dist_4000m\": 15}, {\"dist_500m\": 1, \"dist_1500m\": 3, \"dist_4000m\": 12}, {\"dist_500m\": 4, \"dist_1500m\": 16, \"dist_4000m\": 34}, {\"dist_500m\": 1, \"dist_1500m\": 11, \"dist_4000m\": 33}, {\"dist_500m\": 1, \"dist_1500m\": 3, \"dist_4000m\": 5}, {\"dist_500m\": 1, \"dist_1500m\": 1, \"dist_4000m\": 2}, {\"dist_500m\": 3, \"dist_1500m\": 14, \"dist_4000m\": 53}, {\"dist_500m\": 4, \"dist_1500m\": 8, \"dist_4000m\": 111}, {\"dist_500m\": 2, \"dist_1500m\": 5, \"dist_4000m\": 82}, {\"dist_500m\": 14, \"dist_1500m\": 18, \"dist_4000m\": 108}, {\"dist_500m\": 10, \"dist_1500m\": 49, \"dist_4000m\": 77}, {\"dist_500m\": 12, \"dist_1500m\": 50, \"dist_4000m\": 77}, {\"dist_500m\": 1, \"dist_1500m\": 2, \"dist_4000m\": 2}, {\"dist_500m\": 9, \"dist_1500m\": 47, \"dist_4000m\": 77}, {\"dist_500m\": 10, \"dist_1500m\": 49, \"dist_4000m\": 77}, {\"dist_500m\": 12, \"dist_1500m\": 50, \"dist_4000m\": 77}, {\"dist_500m\": 9, \"dist_1500m\": 48, \"dist_4000m\": 77}, {\"dist_500m\": 3, \"dist_1500m\": 8, \"dist_4000m\": 15}, {\"dist_500m\": 1, \"dist_1500m\": 15, \"dist_4000m\": 79}, {\"dist_500m\": 1, \"dist_1500m\": 1, \"dist_4000m\": 11}, {\"dist_500m\": 2, \"dist_1500m\": 2, \"dist_4000m\": 2}, {\"dist_500m\": 1, \"dist_1500m\": 1, \"dist_4000m\": 6}, {\"dist_500m\": 15, \"dist_1500m\": 36, \"dist_4000m\": 76}, {\"dist_500m\": 1, \"dist_1500m\": 5, \"dist_4000m\": 23}, {\"dist_500m\": 1, \"dist_1500m\": 2, \"dist_4000m\": 2}, {\"dist_500m\": 2, \"dist_1500m\": 9, \"dist_4000m\": 27}, {\"dist_500m\": 2, \"dist_1500m\": 15, \"dist_4000m\": 63}, {\"dist_500m\": 3, \"dist_1500m\": 5, \"dist_4000m\": 19}, {\"dist_500m\": 3, \"dist_1500m\": 18, \"dist_4000m\": 123}, {\"dist_500m\": 1, \"dist_1500m\": 1, \"dist_4000m\": 10}, {\"dist_500m\": 8, \"dist_1500m\": 49, \"dist_4000m\": 118}, {\"dist_500m\": 5, \"dist_1500m\": 16, \"dist_4000m\": 63}, {\"dist_500m\": 2, \"dist_1500m\": 11, \"dist_4000m\": 32}, {\"dist_500m\": 4, \"dist_1500m\": 8, \"dist_4000m\": 110}, {\"dist_500m\": 1, \"dist_1500m\": 1, \"dist_4000m\": 1}, {\"dist_500m\": 7, \"dist_1500m\": 16, \"dist_4000m\": 41}, {\"dist_500m\": 1, \"dist_1500m\": 1, \"dist_4000m\": 2}, {\"dist_500m\": 3, \"dist_1500m\": 13, \"dist_4000m\": 51}, {\"dist_500m\": 1, \"dist_1500m\": 2, \"dist_4000m\": 9}, {\"dist_500m\": 1, \"dist_1500m\": 4, \"dist_4000m\": 11}, {\"dist_500m\": 16, \"dist_1500m\": 68, \"dist_4000m\": 101}, {\"dist_500m\": 1, \"dist_1500m\": 2, \"dist_4000m\": 11}, {\"dist_500m\": 2, \"dist_1500m\": 8, \"dist_4000m\": 32}, {\"dist_500m\": 1, \"dist_1500m\": 2, \"dist_4000m\": 14}, {\"dist_500m\": 1, \"dist_1500m\": 1, \"dist_4000m\": 1}, {\"dist_500m\": 5, \"dist_1500m\": 13, \"dist_4000m\": 22}, {\"dist_500m\": 2, \"dist_1500m\": 3, \"dist_4000m\": 6}, {\"dist_500m\": 7, \"dist_1500m\": 13, \"dist_4000m\": 41}, {\"dist_500m\": 2, \"dist_1500m\": 5, \"dist_4000m\": 19}, {\"dist_500m\": 1, \"dist_1500m\": 2, \"dist_4000m\": 6}, {\"dist_500m\": 9, \"dist_1500m\": 25, \"dist_4000m\": 34}, {\"dist_500m\": 1, \"dist_1500m\": 1, \"dist_4000m\": 6}, {\"dist_500m\": 2, \"dist_1500m\": 5, \"dist_4000m\": 22}, {\"dist_500m\": 1, \"dist_1500m\": 1, \"dist_4000m\": 4}, {\"dist_500m\": 1, \"dist_1500m\": 4, \"dist_4000m\": 11}, {\"dist_500m\": 1, \"dist_1500m\": 15, \"dist_4000m\": 302}, {\"dist_500m\": 1, \"dist_1500m\": 1, \"dist_4000m\": 2}, {\"dist_500m\": 13, \"dist_1500m\": 37, \"dist_4000m\": 40}, {\"dist_500m\": 1, \"dist_1500m\": 1, \"dist_4000m\": 3}, {\"dist_500m\": 3, \"dist_1500m\": 10, \"dist_4000m\": 20}, {\"dist_500m\": 3, \"dist_1500m\": 11, \"dist_4000m\": 32}, {\"dist_500m\": 7, \"dist_1500m\": 62, \"dist_4000m\": 75}, {\"dist_500m\": 5, \"dist_1500m\": 58, \"dist_4000m\": 76}, {\"dist_500m\": 5, \"dist_1500m\": 62, \"dist_4000m\": 75}, {\"dist_500m\": 2, \"dist_1500m\": 7, \"dist_4000m\": 7}, {\"dist_500m\": 2, \"dist_1500m\": 6, \"dist_4000m\": 8}, {\"dist_500m\": 1, \"dist_1500m\": 11, \"dist_4000m\": 15}, {\"dist_500m\": 1, \"dist_1500m\": 9, \"dist_4000m\": 21}, {\"dist_500m\": 11, \"dist_1500m\": 55, \"dist_4000m\": 129}, {\"dist_500m\": 1, \"dist_1500m\": 8, \"dist_4000m\": 25}, {\"dist_500m\": 2, \"dist_1500m\": 2, \"dist_4000m\": 6}, {\"dist_500m\": 53, \"dist_1500m\": 89, \"dist_4000m\": 111}, {\"dist_500m\": 5, \"dist_1500m\": 14, \"dist_4000m\": 76}, {\"dist_500m\": 1, \"dist_1500m\": 5, \"dist_4000m\": 28}, {\"dist_500m\": 2, \"dist_1500m\": 5, \"dist_4000m\": 19}, {\"dist_500m\": 4, \"dist_1500m\": 7, \"dist_4000m\": 29}, {\"dist_500m\": 6, \"dist_1500m\": 9, \"dist_4000m\": 13}, {\"dist_500m\": 2, \"dist_1500m\": 7, \"dist_4000m\": 20}, {\"dist_500m\": 8, \"dist_1500m\": 12, \"dist_4000m\": 107}, {\"dist_500m\": 1, \"dist_1500m\": 1, \"dist_4000m\": 5}, {\"dist_500m\": 3, \"dist_1500m\": 8, \"dist_4000m\": 41}, {\"dist_500m\": 3, \"dist_1500m\": 6, \"dist_4000m\": 19}, {\"dist_500m\": 6, \"dist_1500m\": 11, \"dist_4000m\": 39}, {\"dist_500m\": 3, \"dist_1500m\": 11, \"dist_4000m\": 21}, {\"dist_500m\": 1, \"dist_1500m\": 2, \"dist_4000m\": 6}, {\"dist_500m\": 1, \"dist_1500m\": 1, \"dist_4000m\": 4}, {\"dist_500m\": 1, \"dist_1500m\": 1, \"dist_4000m\": 1}, {\"dist_500m\": 4, \"dist_1500m\": 19, \"dist_4000m\": 38}, {\"dist_500m\": 1, \"dist_1500m\": 2, \"dist_4000m\": 6}, {\"dist_500m\": 1, \"dist_1500m\": 2, \"dist_4000m\": 8}, {\"dist_500m\": 1, \"dist_1500m\": 1, \"dist_4000m\": 3}, {\"dist_500m\": 1, \"dist_1500m\": 2, \"dist_4000m\": 15}, {\"dist_500m\": 1, \"dist_1500m\": 1, \"dist_4000m\": 1}, {\"dist_500m\": 1, \"dist_1500m\": 6, \"dist_4000m\": 17}, {\"dist_500m\": 1, \"dist_1500m\": 2, \"dist_4000m\": 8}, {\"dist_500m\": 1, \"dist_1500m\": 5, \"dist_4000m\": 8}, {\"dist_500m\": 1, \"dist_1500m\": 1, \"dist_4000m\": 2}, {\"dist_500m\": 1, \"dist_1500m\": 3, \"dist_4000m\": 11}, {\"dist_500m\": 15, \"dist_1500m\": 121, \"dist_4000m\": 309}, {\"dist_500m\": 1, \"dist_1500m\": 1, \"dist_4000m\": 3}, {\"dist_500m\": 3, \"dist_1500m\": 16, \"dist_4000m\": 71}, {\"dist_500m\": 1, \"dist_1500m\": 1, \"dist_4000m\": 1}, {\"dist_500m\": 2, \"dist_1500m\": 11, \"dist_4000m\": 22}, {\"dist_500m\": 3, \"dist_1500m\": 5, \"dist_4000m\": 22}, {\"dist_500m\": 2, \"dist_1500m\": 2, \"dist_4000m\": 17}, {\"dist_500m\": 9, \"dist_1500m\": 26, \"dist_4000m\": 231}, {\"dist_500m\": 5, \"dist_1500m\": 35, \"dist_4000m\": 136}, {\"dist_500m\": 5, \"dist_1500m\": 15, \"dist_4000m\": 24}, {\"dist_500m\": 1, \"dist_1500m\": 1, \"dist_4000m\": 3}, {\"dist_500m\": 4, \"dist_1500m\": 7, \"dist_4000m\": 7}, {\"dist_500m\": 1, \"dist_1500m\": 4, \"dist_4000m\": 40}, {\"dist_500m\": 1, \"dist_1500m\": 8, \"dist_4000m\": 17}, {\"dist_500m\": 1, \"dist_1500m\": 5, \"dist_4000m\": 43}, {\"dist_500m\": 1, \"dist_1500m\": 6, \"dist_4000m\": 30}, {\"dist_500m\": 10, \"dist_1500m\": 52, \"dist_4000m\": 131}, {\"dist_500m\": 1, \"dist_1500m\": 3, \"dist_4000m\": 16}, {\"dist_500m\": 14, \"dist_1500m\": 45, \"dist_4000m\": 75}, {\"dist_500m\": 1, \"dist_1500m\": 10, \"dist_4000m\": 48}, {\"dist_500m\": 29, \"dist_1500m\": 118, \"dist_4000m\": 306}, {\"dist_500m\": 1, \"dist_1500m\": 3, \"dist_4000m\": 13}, {\"dist_500m\": 6, \"dist_1500m\": 14, \"dist_4000m\": 26}, {\"dist_500m\": 1, \"dist_1500m\": 5, \"dist_4000m\": 21}, {\"dist_500m\": 1, \"dist_1500m\": 8, \"dist_4000m\": 46}, {\"dist_500m\": 3, \"dist_1500m\": 7, \"dist_4000m\": 11}, {\"dist_500m\": 5, \"dist_1500m\": 7, \"dist_4000m\": 12}, {\"dist_500m\": 7, \"dist_1500m\": 7, \"dist_4000m\": 7}, {\"dist_500m\": 5, \"dist_1500m\": 7, \"dist_4000m\": 7}, {\"dist_500m\": 5, \"dist_1500m\": 7, \"dist_4000m\": 7}, {\"dist_500m\": 3, \"dist_1500m\": 31, \"dist_4000m\": 92}, {\"dist_500m\": 1, \"dist_1500m\": 1, \"dist_4000m\": 1}, {\"dist_500m\": 3, \"dist_1500m\": 11, \"dist_4000m\": 71}, {\"dist_500m\": 2, \"dist_1500m\": 8, \"dist_4000m\": 80}, {\"dist_500m\": 2, \"dist_1500m\": 6, \"dist_4000m\": 14}, {\"dist_500m\": 2, \"dist_1500m\": 4, \"dist_4000m\": 8}, {\"dist_500m\": 2, \"dist_1500m\": 16, \"dist_4000m\": 53}, {\"dist_500m\": 2, \"dist_1500m\": 5, \"dist_4000m\": 10}, {\"dist_500m\": 2, \"dist_1500m\": 7, \"dist_4000m\": 14}, {\"dist_500m\": 2, \"dist_1500m\": 4, \"dist_4000m\": 6}, {\"dist_500m\": 6, \"dist_1500m\": 29, \"dist_4000m\": 134}, {\"dist_500m\": 1, \"dist_1500m\": 2, \"dist_4000m\": 12}, {\"dist_500m\": 21, \"dist_1500m\": 63, \"dist_4000m\": 102}, {\"dist_500m\": 4, \"dist_1500m\": 14, \"dist_4000m\": 60}, {\"dist_500m\": 2, \"dist_1500m\": 12, \"dist_4000m\": 50}, {\"dist_500m\": 3, \"dist_1500m\": 7, \"dist_4000m\": 25}, {\"dist_500m\": 5, \"dist_1500m\": 6, \"dist_4000m\": 6}, {\"dist_500m\": 10, \"dist_1500m\": 14, \"dist_4000m\": 19}, {\"dist_500m\": 4, \"dist_1500m\": 24, \"dist_4000m\": 101}, {\"dist_500m\": 1, \"dist_1500m\": 2, \"dist_4000m\": 10}, {\"dist_500m\": 1, \"dist_1500m\": 2, \"dist_4000m\": 6}, {\"dist_500m\": 3, \"dist_1500m\": 4, \"dist_4000m\": 12}, {\"dist_500m\": 2, \"dist_1500m\": 5, \"dist_4000m\": 18}, {\"dist_500m\": 2, \"dist_1500m\": 3, \"dist_4000m\": 13}, {\"dist_500m\": 1, \"dist_1500m\": 1, \"dist_4000m\": 2}, {\"dist_500m\": 4, \"dist_1500m\": 61, \"dist_4000m\": 148}, {\"dist_500m\": 1, \"dist_1500m\": 2, \"dist_4000m\": 27}, {\"dist_500m\": 27, \"dist_1500m\": 59, \"dist_4000m\": 101}, {\"dist_500m\": 1, \"dist_1500m\": 1, \"dist_4000m\": 1}, {\"dist_500m\": 1, \"dist_1500m\": 8, \"dist_4000m\": 17}, {\"dist_500m\": 1, \"dist_1500m\": 1, \"dist_4000m\": 1}, {\"dist_500m\": 1, \"dist_1500m\": 1, \"dist_4000m\": 3}, {\"dist_500m\": 2, \"dist_1500m\": 2, \"dist_4000m\": 2}, {\"dist_500m\": 7, \"dist_1500m\": 17, \"dist_4000m\": 40}, {\"dist_500m\": 1, \"dist_1500m\": 6, \"dist_4000m\": 25}, {\"dist_500m\": 11, \"dist_1500m\": 40, \"dist_4000m\": 79}, {\"dist_500m\": 5, \"dist_1500m\": 30, \"dist_4000m\": 128}, {\"dist_500m\": 51, \"dist_1500m\": 156, \"dist_4000m\": 306}, {\"dist_500m\": 1, \"dist_1500m\": 5, \"dist_4000m\": 15}, {\"dist_500m\": 1, \"dist_1500m\": 1, \"dist_4000m\": 12}, {\"dist_500m\": 1, \"dist_1500m\": 1, \"dist_4000m\": 1}, {\"dist_500m\": 2, \"dist_1500m\": 2, \"dist_4000m\": 2}, {\"dist_500m\": 56, \"dist_1500m\": 92, \"dist_4000m\": 111}, {\"dist_500m\": 14, \"dist_1500m\": 18, \"dist_4000m\": 108}, {\"dist_500m\": 4, \"dist_1500m\": 25, \"dist_4000m\": 79}, {\"dist_500m\": 6, \"dist_1500m\": 36, \"dist_4000m\": 118}, {\"dist_500m\": 22, \"dist_1500m\": 144, \"dist_4000m\": 339}, {\"dist_500m\": 3, \"dist_1500m\": 4, \"dist_4000m\": 105}, {\"dist_500m\": 45, \"dist_1500m\": 134, \"dist_4000m\": 320}, {\"dist_500m\": 1, \"dist_1500m\": 1, \"dist_4000m\": 1}, {\"dist_500m\": 1, \"dist_1500m\": 1, \"dist_4000m\": 2}, {\"dist_500m\": 2, \"dist_1500m\": 2, \"dist_4000m\": 2}, {\"dist_500m\": 2, \"dist_1500m\": 3, \"dist_4000m\": 83}, {\"dist_500m\": 13, \"dist_1500m\": 61, \"dist_4000m\": 102}, {\"dist_500m\": 1, \"dist_1500m\": 1, \"dist_4000m\": 1}, {\"dist_500m\": 2, \"dist_1500m\": 6, \"dist_4000m\": 16}, {\"dist_500m\": 1, \"dist_1500m\": 5, \"dist_4000m\": 29}, {\"dist_500m\": 1, \"dist_1500m\": 4, \"dist_4000m\": 9}, {\"dist_500m\": 1, \"dist_1500m\": 1, \"dist_4000m\": 10}, {\"dist_500m\": 4, \"dist_1500m\": 21, \"dist_4000m\": 275}, {\"dist_500m\": 1, \"dist_1500m\": 6, \"dist_4000m\": 29}, {\"dist_500m\": 1, \"dist_1500m\": 1, \"dist_4000m\": 6}, {\"dist_500m\": 1, \"dist_1500m\": 1, \"dist_4000m\": 2}, {\"dist_500m\": 4, \"dist_1500m\": 5, \"dist_4000m\": 17}, {\"dist_500m\": 1, \"dist_1500m\": 4, \"dist_4000m\": 25}, {\"dist_500m\": 4, \"dist_1500m\": 8, \"dist_4000m\": 14}, {\"dist_500m\": 1, \"dist_1500m\": 5, \"dist_4000m\": 8}, {\"dist_500m\": 63, \"dist_1500m\": 92, \"dist_4000m\": 111}, {\"dist_500m\": 1, \"dist_1500m\": 1, \"dist_4000m\": 7}, {\"dist_500m\": 1, \"dist_1500m\": 1, \"dist_4000m\": 5}, {\"dist_500m\": 2, \"dist_1500m\": 3, \"dist_4000m\": 5}, {\"dist_500m\": 2, \"dist_1500m\": 9, \"dist_4000m\": 38}, {\"dist_500m\": 3, \"dist_1500m\": 10, \"dist_4000m\": 28}, {\"dist_500m\": 1, \"dist_1500m\": 1, \"dist_4000m\": 1}, {\"dist_500m\": 5, \"dist_1500m\": 11, \"dist_4000m\": 28}, {\"dist_500m\": 1, \"dist_1500m\": 3, \"dist_4000m\": 19}, {\"dist_500m\": 1, \"dist_1500m\": 4, \"dist_4000m\": 11}, {\"dist_500m\": 1, \"dist_1500m\": 4, \"dist_4000m\": 35}, {\"dist_500m\": 1, \"dist_1500m\": 1, \"dist_4000m\": 3}, {\"dist_500m\": 3, \"dist_1500m\": 10, \"dist_4000m\": 24}, {\"dist_500m\": 2, \"dist_1500m\": 5, \"dist_4000m\": 17}, {\"dist_500m\": 11, \"dist_1500m\": 50, \"dist_4000m\": 132}, {\"dist_500m\": 26, \"dist_1500m\": 63, \"dist_4000m\": 101}, {\"dist_500m\": 15, \"dist_1500m\": 93, \"dist_4000m\": 300}, {\"dist_500m\": 1, \"dist_1500m\": 2, \"dist_4000m\": 6}, {\"dist_500m\": 20, \"dist_1500m\": 53, \"dist_4000m\": 121}, {\"dist_500m\": 5, \"dist_1500m\": 24, \"dist_4000m\": 96}, {\"dist_500m\": 1, \"dist_1500m\": 6, \"dist_4000m\": 24}, {\"dist_500m\": 1, \"dist_1500m\": 3, \"dist_4000m\": 5}, {\"dist_500m\": 2, \"dist_1500m\": 4, \"dist_4000m\": 12}, {\"dist_500m\": 2, \"dist_1500m\": 29, \"dist_4000m\": 72}, {\"dist_500m\": 3, \"dist_1500m\": 5, \"dist_4000m\": 7}, {\"dist_500m\": 3, \"dist_1500m\": 5, \"dist_4000m\": 7}, {\"dist_500m\": 8, \"dist_1500m\": 25, \"dist_4000m\": 52}, {\"dist_500m\": 4, \"dist_1500m\": 5, \"dist_4000m\": 7}, {\"dist_500m\": 5, \"dist_1500m\": 25, \"dist_4000m\": 52}, {\"dist_500m\": 1, \"dist_1500m\": 1, \"dist_4000m\": 1}, {\"dist_500m\": 1, \"dist_1500m\": 2, \"dist_4000m\": 2}, {\"dist_500m\": 1, \"dist_1500m\": 4, \"dist_4000m\": 39}, {\"dist_500m\": 4, \"dist_1500m\": 43, \"dist_4000m\": 102}, {\"dist_500m\": 1, \"dist_1500m\": 1, \"dist_4000m\": 3}, {\"dist_500m\": 24, \"dist_1500m\": 189, \"dist_4000m\": 322}, {\"dist_500m\": 1, \"dist_1500m\": 3, \"dist_4000m\": 20}, {\"dist_500m\": 1, \"dist_1500m\": 3, \"dist_4000m\": 7}, {\"dist_500m\": 1, \"dist_1500m\": 3, \"dist_4000m\": 6}, {\"dist_500m\": 1, \"dist_1500m\": 5, \"dist_4000m\": 17}, {\"dist_500m\": 5, \"dist_1500m\": 19, \"dist_4000m\": 40}, {\"dist_500m\": 3, \"dist_1500m\": 9, \"dist_4000m\": 30}, {\"dist_500m\": 3, \"dist_1500m\": 5, \"dist_4000m\": 14}, {\"dist_500m\": 1, \"dist_1500m\": 2, \"dist_4000m\": 6}, {\"dist_500m\": 1, \"dist_1500m\": 1, \"dist_4000m\": 1}, {\"dist_500m\": 6, \"dist_1500m\": 14, \"dist_4000m\": 99}, {\"dist_500m\": 7, \"dist_1500m\": 11, \"dist_4000m\": 109}, {\"dist_500m\": 11, \"dist_1500m\": 56, \"dist_4000m\": 122}, {\"dist_500m\": 1, \"dist_1500m\": 2, \"dist_4000m\": 17}, {\"dist_500m\": 2, \"dist_1500m\": 2, \"dist_4000m\": 2}, {\"dist_500m\": 20, \"dist_1500m\": 210, \"dist_4000m\": 322}, {\"dist_500m\": 12, \"dist_1500m\": 41, \"dist_4000m\": 87}, {\"dist_500m\": 18, \"dist_1500m\": 150, \"dist_4000m\": 310}, {\"dist_500m\": 1, \"dist_1500m\": 2, \"dist_4000m\": 17}, {\"dist_500m\": 59, \"dist_1500m\": 92, \"dist_4000m\": 111}, {\"dist_500m\": 1, \"dist_1500m\": 1, \"dist_4000m\": 4}, {\"dist_500m\": 18, \"dist_1500m\": 135, \"dist_4000m\": 311}, {\"dist_500m\": 18, \"dist_1500m\": 150, \"dist_4000m\": 310}, {\"dist_500m\": 10, \"dist_1500m\": 48, \"dist_4000m\": 305}, {\"dist_500m\": 2, \"dist_1500m\": 12, \"dist_4000m\": 31}, {\"dist_500m\": 3, \"dist_1500m\": 7, \"dist_4000m\": 20}, {\"dist_500m\": 24, \"dist_1500m\": 189, \"dist_4000m\": 322}, {\"dist_500m\": 24, \"dist_1500m\": 183, \"dist_4000m\": 325}, {\"dist_500m\": 24, \"dist_1500m\": 183, \"dist_4000m\": 325}, {\"dist_500m\": 3, \"dist_1500m\": 58, \"dist_4000m\": 377}, {\"dist_500m\": 2, \"dist_1500m\": 7, \"dist_4000m\": 25}, {\"dist_500m\": 1, \"dist_1500m\": 7, \"dist_4000m\": 50}, {\"dist_500m\": 10, \"dist_1500m\": 48, \"dist_4000m\": 305}, {\"dist_500m\": 10, \"dist_1500m\": 44, \"dist_4000m\": 306}, {\"dist_500m\": 47, \"dist_1500m\": 130, \"dist_4000m\": 320}, {\"dist_500m\": 40, \"dist_1500m\": 129, \"dist_4000m\": 307}, {\"dist_500m\": 24, \"dist_1500m\": 214, \"dist_4000m\": 309}, {\"dist_500m\": 2, \"dist_1500m\": 5, \"dist_4000m\": 173}, {\"dist_500m\": 2, \"dist_1500m\": 23, \"dist_4000m\": 107}, {\"dist_500m\": 1, \"dist_1500m\": 1, \"dist_4000m\": 2}, {\"dist_500m\": 1, \"dist_1500m\": 1, \"dist_4000m\": 1}, {\"dist_500m\": 3, \"dist_1500m\": 7, \"dist_4000m\": 7}, {\"dist_500m\": 3, \"dist_1500m\": 5, \"dist_4000m\": 17}, {\"dist_500m\": 3, \"dist_1500m\": 44, \"dist_4000m\": 75}, {\"dist_500m\": 2, \"dist_1500m\": 7, \"dist_4000m\": 18}, {\"dist_500m\": 1, \"dist_1500m\": 2, \"dist_4000m\": 7}, {\"dist_500m\": 10, \"dist_1500m\": 17, \"dist_4000m\": 19}, {\"dist_500m\": 1, \"dist_1500m\": 4, \"dist_4000m\": 35}, {\"dist_500m\": 3, \"dist_1500m\": 7, \"dist_4000m\": 33}, {\"dist_500m\": 5, \"dist_1500m\": 35, \"dist_4000m\": 96}, {\"dist_500m\": 23, \"dist_1500m\": 150, \"dist_4000m\": 344}, {\"dist_500m\": 18, \"dist_1500m\": 105, \"dist_4000m\": 302}, {\"dist_500m\": 18, \"dist_1500m\": 105, \"dist_4000m\": 302}, {\"dist_500m\": 1, \"dist_1500m\": 3, \"dist_4000m\": 10}, {\"dist_500m\": 1, \"dist_1500m\": 2, \"dist_4000m\": 3}, {\"dist_500m\": 1, \"dist_1500m\": 2, \"dist_4000m\": 6}, {\"dist_500m\": 1, \"dist_1500m\": 1, \"dist_4000m\": 2}, {\"dist_500m\": 1, \"dist_1500m\": 1, \"dist_4000m\": 8}, {\"dist_500m\": 3, \"dist_1500m\": 7, \"dist_4000m\": 39}, {\"dist_500m\": 1, \"dist_1500m\": 5, \"dist_4000m\": 10}, {\"dist_500m\": 1, \"dist_1500m\": 1, \"dist_4000m\": 1}, {\"dist_500m\": 1, \"dist_1500m\": 2, \"dist_4000m\": 12}, {\"dist_500m\": 1, \"dist_1500m\": 2, \"dist_4000m\": 9}, {\"dist_500m\": 1, \"dist_1500m\": 2, \"dist_4000m\": 19}, {\"dist_500m\": 10, \"dist_1500m\": 27, \"dist_4000m\": 103}, {\"dist_500m\": 1, \"dist_1500m\": 3, \"dist_4000m\": 12}, {\"dist_500m\": 1, \"dist_1500m\": 3, \"dist_4000m\": 6}, {\"dist_500m\": 1, \"dist_1500m\": 3, \"dist_4000m\": 19}, {\"dist_500m\": 2, \"dist_1500m\": 2, \"dist_4000m\": 7}, {\"dist_500m\": 13, \"dist_1500m\": 94, \"dist_4000m\": 109}, {\"dist_500m\": 1, \"dist_1500m\": 1, \"dist_4000m\": 6}, {\"dist_500m\": 1, \"dist_1500m\": 1, \"dist_4000m\": 1}, {\"dist_500m\": 1, \"dist_1500m\": 9, \"dist_4000m\": 18}, {\"dist_500m\": 1, \"dist_1500m\": 3, \"dist_4000m\": 5}, {\"dist_500m\": 14, \"dist_1500m\": 214, \"dist_4000m\": 311}, {\"dist_500m\": 10, \"dist_1500m\": 47, \"dist_4000m\": 85}, {\"dist_500m\": 14, \"dist_1500m\": 214, \"dist_4000m\": 311}, {\"dist_500m\": 1, \"dist_1500m\": 7, \"dist_4000m\": 23}, {\"dist_500m\": 3, \"dist_1500m\": 5, \"dist_4000m\": 29}, {\"dist_500m\": 1, \"dist_1500m\": 1, \"dist_4000m\": 1}, {\"dist_500m\": 1, \"dist_1500m\": 5, \"dist_4000m\": 10}, {\"dist_500m\": 1, \"dist_1500m\": 5, \"dist_4000m\": 13}, {\"dist_500m\": 1, \"dist_1500m\": 1, \"dist_4000m\": 1}, {\"dist_500m\": 2, \"dist_1500m\": 6, \"dist_4000m\": 17}, {\"dist_500m\": 9, \"dist_1500m\": 27, \"dist_4000m\": 102}, {\"dist_500m\": 12, \"dist_1500m\": 145, \"dist_4000m\": 299}, {\"dist_500m\": 1, \"dist_1500m\": 1, \"dist_4000m\": 3}, {\"dist_500m\": 5, \"dist_1500m\": 35, \"dist_4000m\": 96}, {\"dist_500m\": 10, \"dist_1500m\": 47, \"dist_4000m\": 85}, {\"dist_500m\": 1, \"dist_1500m\": 10, \"dist_4000m\": 31}, {\"dist_500m\": 1, \"dist_1500m\": 1, \"dist_4000m\": 2}, {\"dist_500m\": 1, \"dist_1500m\": 3, \"dist_4000m\": 5}, {\"dist_500m\": 1, \"dist_1500m\": 5, \"dist_4000m\": 9}, {\"dist_500m\": 14, \"dist_1500m\": 214, \"dist_4000m\": 311}, {\"dist_500m\": 1, \"dist_1500m\": 1, \"dist_4000m\": 1}, {\"dist_500m\": 3, \"dist_1500m\": 20, \"dist_4000m\": 117}, {\"dist_500m\": 2, \"dist_1500m\": 3, \"dist_4000m\": 7}, {\"dist_500m\": 7, \"dist_1500m\": 10, \"dist_4000m\": 13}, {\"dist_500m\": 2, \"dist_1500m\": 4, \"dist_4000m\": 7}, {\"dist_500m\": 2, \"dist_1500m\": 2, \"dist_4000m\": 12}, {\"dist_500m\": 1, \"dist_1500m\": 1, \"dist_4000m\": 8}, {\"dist_500m\": 1, \"dist_1500m\": 1, \"dist_4000m\": 9}, {\"dist_500m\": 1, \"dist_1500m\": 1, \"dist_4000m\": 6}, {\"dist_500m\": 9, \"dist_1500m\": 92, \"dist_4000m\": 105}, {\"dist_500m\": 3, \"dist_1500m\": 13, \"dist_4000m\": 33}, {\"dist_500m\": 1, \"dist_1500m\": 2, \"dist_4000m\": 19}, {\"dist_500m\": 25, \"dist_1500m\": 49, \"dist_4000m\": 170}, {\"dist_500m\": 3, \"dist_1500m\": 9, \"dist_4000m\": 18}, {\"dist_500m\": 2, \"dist_1500m\": 25, \"dist_4000m\": 111}, {\"dist_500m\": 1, \"dist_1500m\": 1, \"dist_4000m\": 4}, {\"dist_500m\": 14, \"dist_1500m\": 68, \"dist_4000m\": 102}, {\"dist_500m\": 2, \"dist_1500m\": 8, \"dist_4000m\": 38}, {\"dist_500m\": 32, \"dist_1500m\": 51, \"dist_4000m\": 156}, {\"dist_500m\": 17, \"dist_1500m\": 149, \"dist_4000m\": 307}, {\"dist_500m\": 31, \"dist_1500m\": 51, \"dist_4000m\": 159}, {\"dist_500m\": 23, \"dist_1500m\": 23, \"dist_4000m\": 23}, {\"dist_500m\": 1, \"dist_1500m\": 1, \"dist_4000m\": 1}, {\"dist_500m\": 1, \"dist_1500m\": 1, \"dist_4000m\": 11}, {\"dist_500m\": 14, \"dist_1500m\": 18, \"dist_4000m\": 108}, {\"dist_500m\": 14, \"dist_1500m\": 21, \"dist_4000m\": 110}, {\"dist_500m\": 14, \"dist_1500m\": 19, \"dist_4000m\": 108}, {\"dist_500m\": 14, \"dist_1500m\": 18, \"dist_4000m\": 107}, {\"dist_500m\": 1, \"dist_1500m\": 2, \"dist_4000m\": 3}, {\"dist_500m\": 14, \"dist_1500m\": 19, \"dist_4000m\": 109}, {\"dist_500m\": 3, \"dist_1500m\": 3, \"dist_4000m\": 14}, {\"dist_500m\": 3, \"dist_1500m\": 6, \"dist_4000m\": 14}, {\"dist_500m\": 6, \"dist_1500m\": 14, \"dist_4000m\": 44}, {\"dist_500m\": 57, \"dist_1500m\": 91, \"dist_4000m\": 111}, {\"dist_500m\": 9, \"dist_1500m\": 33, \"dist_4000m\": 121}, {\"dist_500m\": 10, \"dist_1500m\": 34, \"dist_4000m\": 120}, {\"dist_500m\": 9, \"dist_1500m\": 32, \"dist_4000m\": 119}, {\"dist_500m\": 9, \"dist_1500m\": 32, \"dist_4000m\": 119}, {\"dist_500m\": 10, \"dist_1500m\": 34, \"dist_4000m\": 120}, {\"dist_500m\": 14, \"dist_1500m\": 34, \"dist_4000m\": 125}, {\"dist_500m\": 6, \"dist_1500m\": 27, \"dist_4000m\": 62}, {\"dist_500m\": 6, \"dist_1500m\": 32, \"dist_4000m\": 62}, {\"dist_500m\": 6, \"dist_1500m\": 31, \"dist_4000m\": 62}, {\"dist_500m\": 2, \"dist_1500m\": 9, \"dist_4000m\": 20}, {\"dist_500m\": 54, \"dist_1500m\": 92, \"dist_4000m\": 110}, {\"dist_500m\": 1, \"dist_1500m\": 3, \"dist_4000m\": 4}, {\"dist_500m\": 3, \"dist_1500m\": 5, \"dist_4000m\": 17}, {\"dist_500m\": 4, \"dist_1500m\": 19, \"dist_4000m\": 97}, {\"dist_500m\": 1, \"dist_1500m\": 7, \"dist_4000m\": 67}, {\"dist_500m\": 1, \"dist_1500m\": 1, \"dist_4000m\": 2}, {\"dist_500m\": 4, \"dist_1500m\": 4, \"dist_4000m\": 6}, {\"dist_500m\": 1, \"dist_1500m\": 1, \"dist_4000m\": 2}, {\"dist_500m\": 2, \"dist_1500m\": 12, \"dist_4000m\": 53}, {\"dist_500m\": 53, \"dist_1500m\": 92, \"dist_4000m\": 111}, {\"dist_500m\": 1, \"dist_1500m\": 2, \"dist_4000m\": 9}, {\"dist_500m\": 7, \"dist_1500m\": 13, \"dist_4000m\": 41}, {\"dist_500m\": 1, \"dist_1500m\": 2, \"dist_4000m\": 2}, {\"dist_500m\": 43, \"dist_1500m\": 144, \"dist_4000m\": 303}, {\"dist_500m\": 1, \"dist_1500m\": 2, \"dist_4000m\": 17}, {\"dist_500m\": 1, \"dist_1500m\": 1, \"dist_4000m\": 21}, {\"dist_500m\": 53, \"dist_1500m\": 93, \"dist_4000m\": 110}, {\"dist_500m\": 24, \"dist_1500m\": 44, \"dist_4000m\": 75}, {\"dist_500m\": 8, \"dist_1500m\": 30, \"dist_4000m\": 75}, {\"dist_500m\": 1, \"dist_1500m\": 4, \"dist_4000m\": 11}, {\"dist_500m\": 1, \"dist_1500m\": 1, \"dist_4000m\": 1}, {\"dist_500m\": 1, \"dist_1500m\": 19, \"dist_4000m\": 108}, {\"dist_500m\": 2, \"dist_1500m\": 67, \"dist_4000m\": 111}, {\"dist_500m\": 27, \"dist_1500m\": 93, \"dist_4000m\": 111}, {\"dist_500m\": 10, \"dist_1500m\": 29, \"dist_4000m\": 75}, {\"dist_500m\": 6, \"dist_1500m\": 9, \"dist_4000m\": 10}, {\"dist_500m\": 1, \"dist_1500m\": 1, \"dist_4000m\": 2}, {\"dist_500m\": 1, \"dist_1500m\": 1, \"dist_4000m\": 10}, {\"dist_500m\": 4, \"dist_1500m\": 9, \"dist_4000m\": 30}, {\"dist_500m\": 2, \"dist_1500m\": 8, \"dist_4000m\": 112}, {\"dist_500m\": 1, \"dist_1500m\": 1, \"dist_4000m\": 1}, {\"dist_500m\": 1, \"dist_1500m\": 2, \"dist_4000m\": 25}, {\"dist_500m\": 1, \"dist_1500m\": 3, \"dist_4000m\": 6}, {\"dist_500m\": 16, \"dist_1500m\": 67, \"dist_4000m\": 124}, {\"dist_500m\": 5, \"dist_1500m\": 7, \"dist_4000m\": 24}, {\"dist_500m\": 1, \"dist_1500m\": 2, \"dist_4000m\": 46}, {\"dist_500m\": 2, \"dist_1500m\": 2, \"dist_4000m\": 7}, {\"dist_500m\": 1, \"dist_1500m\": 2, \"dist_4000m\": 6}, {\"dist_500m\": 1, \"dist_1500m\": 1, \"dist_4000m\": 8}, {\"dist_500m\": 1, \"dist_1500m\": 1, \"dist_4000m\": 1}, {\"dist_500m\": 1, \"dist_1500m\": 5, \"dist_4000m\": 9}, {\"dist_500m\": 1, \"dist_1500m\": 2, \"dist_4000m\": 2}, {\"dist_500m\": 1, \"dist_1500m\": 2, \"dist_4000m\": 7}, {\"dist_500m\": 1, \"dist_1500m\": 3, \"dist_4000m\": 15}, {\"dist_500m\": 1, \"dist_1500m\": 1, \"dist_4000m\": 3}, {\"dist_500m\": 2, \"dist_1500m\": 9, \"dist_4000m\": 18}, {\"dist_500m\": 6, \"dist_1500m\": 17, \"dist_4000m\": 47}, {\"dist_500m\": 1, \"dist_1500m\": 7, \"dist_4000m\": 15}, {\"dist_500m\": 3, \"dist_1500m\": 12, \"dist_4000m\": 59}, {\"dist_500m\": 19, \"dist_1500m\": 121, \"dist_4000m\": 309}, {\"dist_500m\": 26, \"dist_1500m\": 124, \"dist_4000m\": 309}, {\"dist_500m\": 8, \"dist_1500m\": 54, \"dist_4000m\": 117}, {\"dist_500m\": 2, \"dist_1500m\": 14, \"dist_4000m\": 30}, {\"dist_500m\": 7, \"dist_1500m\": 52, \"dist_4000m\": 121}, {\"dist_500m\": 8, \"dist_1500m\": 53, \"dist_4000m\": 117}, {\"dist_500m\": 3, \"dist_1500m\": 10, \"dist_4000m\": 22}, {\"dist_500m\": 1, \"dist_1500m\": 1, \"dist_4000m\": 7}, {\"dist_500m\": 8, \"dist_1500m\": 12, \"dist_4000m\": 106}, {\"dist_500m\": 5, \"dist_1500m\": 46, \"dist_4000m\": 102}, {\"dist_500m\": 1, \"dist_1500m\": 1, \"dist_4000m\": 3}, {\"dist_500m\": 1, \"dist_1500m\": 1, \"dist_4000m\": 2}, {\"dist_500m\": 2, \"dist_1500m\": 11, \"dist_4000m\": 121}, {\"dist_500m\": 1, \"dist_1500m\": 3, \"dist_4000m\": 13}, {\"dist_500m\": 4, \"dist_1500m\": 8, \"dist_4000m\": 19}, {\"dist_500m\": 1, \"dist_1500m\": 6, \"dist_4000m\": 23}, {\"dist_500m\": 1, \"dist_1500m\": 2, \"dist_4000m\": 10}, {\"dist_500m\": 1, \"dist_1500m\": 1, \"dist_4000m\": 1}, {\"dist_500m\": 2, \"dist_1500m\": 6, \"dist_4000m\": 15}, {\"dist_500m\": 10, \"dist_1500m\": 86, \"dist_4000m\": 357}, {\"dist_500m\": 2, \"dist_1500m\": 6, \"dist_4000m\": 23}, {\"dist_500m\": 7, \"dist_1500m\": 14, \"dist_4000m\": 27}, {\"dist_500m\": 7, \"dist_1500m\": 13, \"dist_4000m\": 72}, {\"dist_500m\": 3, \"dist_1500m\": 5, \"dist_4000m\": 17}, {\"dist_500m\": 3, \"dist_1500m\": 5, \"dist_4000m\": 16}, {\"dist_500m\": 1, \"dist_1500m\": 2, \"dist_4000m\": 5}, {\"dist_500m\": 2, \"dist_1500m\": 3, \"dist_4000m\": 7}, {\"dist_500m\": 7, \"dist_1500m\": 16, \"dist_4000m\": 119}, {\"dist_500m\": 2, \"dist_1500m\": 2, \"dist_4000m\": 7}, {\"dist_500m\": 1, \"dist_1500m\": 1, \"dist_4000m\": 2}, {\"dist_500m\": 6, \"dist_1500m\": 18, \"dist_4000m\": 19}, {\"dist_500m\": 1, \"dist_1500m\": 2, \"dist_4000m\": 12}, {\"dist_500m\": 2, \"dist_1500m\": 5, \"dist_4000m\": 10}, {\"dist_500m\": 10, \"dist_1500m\": 29, \"dist_4000m\": 75}, {\"dist_500m\": 10, \"dist_1500m\": 29, \"dist_4000m\": 75}, {\"dist_500m\": 6, \"dist_1500m\": 24, \"dist_4000m\": 50}, {\"dist_500m\": 6, \"dist_1500m\": 27, \"dist_4000m\": 50}, {\"dist_500m\": 1, \"dist_1500m\": 1, \"dist_4000m\": 3}, {\"dist_500m\": 2, \"dist_1500m\": 2, \"dist_4000m\": 2}, {\"dist_500m\": 1, \"dist_1500m\": 1, \"dist_4000m\": 1}, {\"dist_500m\": 51, \"dist_1500m\": 154, \"dist_4000m\": 306}, {\"dist_500m\": 1, \"dist_1500m\": 1, \"dist_4000m\": 5}, {\"dist_500m\": 5, \"dist_1500m\": 5, \"dist_4000m\": 5}, {\"dist_500m\": 18, \"dist_1500m\": 150, \"dist_4000m\": 310}, {\"dist_500m\": 18, \"dist_1500m\": 150, \"dist_4000m\": 310}, {\"dist_500m\": 2, \"dist_1500m\": 6, \"dist_4000m\": 37}, {\"dist_500m\": 3, \"dist_1500m\": 18, \"dist_4000m\": 58}, {\"dist_500m\": 1, \"dist_1500m\": 1, \"dist_4000m\": 1}, {\"dist_500m\": 5, \"dist_1500m\": 5, \"dist_4000m\": 5}, {\"dist_500m\": 5, \"dist_1500m\": 5, \"dist_4000m\": 5}, {\"dist_500m\": 5, \"dist_1500m\": 5, \"dist_4000m\": 5}, {\"dist_500m\": 1, \"dist_1500m\": 1, \"dist_4000m\": 1}, {\"dist_500m\": 12, \"dist_1500m\": 37, \"dist_4000m\": 40}, {\"dist_500m\": 1, \"dist_1500m\": 3, \"dist_4000m\": 12}, {\"dist_500m\": 12, \"dist_1500m\": 37, \"dist_4000m\": 40}, {\"dist_500m\": 6, \"dist_1500m\": 9, \"dist_4000m\": 10}, {\"dist_500m\": 59, \"dist_1500m\": 146, \"dist_4000m\": 304}, {\"dist_500m\": 59, \"dist_1500m\": 146, \"dist_4000m\": 304}, {\"dist_500m\": 59, \"dist_1500m\": 146, \"dist_4000m\": 304}, {\"dist_500m\": 1, \"dist_1500m\": 1, \"dist_4000m\": 3}, {\"dist_500m\": 1, \"dist_1500m\": 2, \"dist_4000m\": 10}, {\"dist_500m\": 1, \"dist_1500m\": 1, \"dist_4000m\": 4}, {\"dist_500m\": 6, \"dist_1500m\": 27, \"dist_4000m\": 50}, {\"dist_500m\": 1, \"dist_1500m\": 1, \"dist_4000m\": 7}, {\"dist_500m\": 48, \"dist_1500m\": 170, \"dist_4000m\": 307}, {\"dist_500m\": 48, \"dist_1500m\": 170, \"dist_4000m\": 307}, {\"dist_500m\": 18, \"dist_1500m\": 53, \"dist_4000m\": 122}, {\"dist_500m\": 4, \"dist_1500m\": 4, \"dist_4000m\": 6}, {\"dist_500m\": 48, \"dist_1500m\": 170, \"dist_4000m\": 307}, {\"dist_500m\": 1, \"dist_1500m\": 1, \"dist_4000m\": 3}, {\"dist_500m\": 1, \"dist_1500m\": 2, \"dist_4000m\": 18}, {\"dist_500m\": 4, \"dist_1500m\": 15, \"dist_4000m\": 107}, {\"dist_500m\": 3, \"dist_1500m\": 13, \"dist_4000m\": 33}, {\"dist_500m\": 1, \"dist_1500m\": 1, \"dist_4000m\": 1}, {\"dist_500m\": 1, \"dist_1500m\": 8, \"dist_4000m\": 50}, {\"dist_500m\": 14, \"dist_1500m\": 59, \"dist_4000m\": 100}, {\"dist_500m\": 1, \"dist_1500m\": 1, \"dist_4000m\": 1}, {\"dist_500m\": 1, \"dist_1500m\": 5, \"dist_4000m\": 15}, {\"dist_500m\": 5, \"dist_1500m\": 9, \"dist_4000m\": 40}, {\"dist_500m\": 55, \"dist_1500m\": 89, \"dist_4000m\": 111}, {\"dist_500m\": 4, \"dist_1500m\": 28, \"dist_4000m\": 131}, {\"dist_500m\": 48, \"dist_1500m\": 170, \"dist_4000m\": 307}, {\"dist_500m\": 5, \"dist_1500m\": 33, \"dist_4000m\": 82}, {\"dist_500m\": 2, \"dist_1500m\": 10, \"dist_4000m\": 23}, {\"dist_500m\": 1, \"dist_1500m\": 2, \"dist_4000m\": 4}, {\"dist_500m\": 2, \"dist_1500m\": 4, \"dist_4000m\": 27}, {\"dist_500m\": 3, \"dist_1500m\": 10, \"dist_4000m\": 29}, {\"dist_500m\": 3, \"dist_1500m\": 14, \"dist_4000m\": 83}, {\"dist_500m\": 1, \"dist_1500m\": 1, \"dist_4000m\": 2}, {\"dist_500m\": 1, \"dist_1500m\": 1, \"dist_4000m\": 14}, {\"dist_500m\": 1, \"dist_1500m\": 3, \"dist_4000m\": 12}, {\"dist_500m\": 10, \"dist_1500m\": 34, \"dist_4000m\": 75}, {\"dist_500m\": 2, \"dist_1500m\": 13, \"dist_4000m\": 28}, {\"dist_500m\": 1, \"dist_1500m\": 1, \"dist_4000m\": 1}, {\"dist_500m\": 6, \"dist_1500m\": 32, \"dist_4000m\": 97}, {\"dist_500m\": 2, \"dist_1500m\": 6, \"dist_4000m\": 14}, {\"dist_500m\": 24, \"dist_1500m\": 44, \"dist_4000m\": 75}, {\"dist_500m\": 10, \"dist_1500m\": 29, \"dist_4000m\": 75}, {\"dist_500m\": 3, \"dist_1500m\": 5, \"dist_4000m\": 17}, {\"dist_500m\": 7, \"dist_1500m\": 27, \"dist_4000m\": 80}, {\"dist_500m\": 2, \"dist_1500m\": 8, \"dist_4000m\": 24}, {\"dist_500m\": 3, \"dist_1500m\": 3, \"dist_4000m\": 13}, {\"dist_500m\": 4, \"dist_1500m\": 6, \"dist_4000m\": 24}, {\"dist_500m\": 1, \"dist_1500m\": 1, \"dist_4000m\": 1}, {\"dist_500m\": 1, \"dist_1500m\": 2, \"dist_4000m\": 3}, {\"dist_500m\": 1, \"dist_1500m\": 1, \"dist_4000m\": 4}, {\"dist_500m\": 8, \"dist_1500m\": 37, \"dist_4000m\": 103}, {\"dist_500m\": 1, \"dist_1500m\": 6, \"dist_4000m\": 12}, {\"dist_500m\": 3, \"dist_1500m\": 11, \"dist_4000m\": 25}, {\"dist_500m\": 5, \"dist_1500m\": 22, \"dist_4000m\": 88}, {\"dist_500m\": 1, \"dist_1500m\": 1, \"dist_4000m\": 1}, {\"dist_500m\": 2, \"dist_1500m\": 3, \"dist_4000m\": 13}, {\"dist_500m\": 1, \"dist_1500m\": 1, \"dist_4000m\": 1}, {\"dist_500m\": 1, \"dist_1500m\": 4, \"dist_4000m\": 17}, {\"dist_500m\": 2, \"dist_1500m\": 10, \"dist_4000m\": 44}, {\"dist_500m\": 5, \"dist_1500m\": 33, \"dist_4000m\": 82}, {\"dist_500m\": 1, \"dist_1500m\": 4, \"dist_4000m\": 26}, {\"dist_500m\": 1, \"dist_1500m\": 13, \"dist_4000m\": 15}, {\"dist_500m\": 1, \"dist_1500m\": 6, \"dist_4000m\": 17}, {\"dist_500m\": 1, \"dist_1500m\": 3, \"dist_4000m\": 14}, {\"dist_500m\": 1, \"dist_1500m\": 12, \"dist_4000m\": 74}, {\"dist_500m\": 4, \"dist_1500m\": 28, \"dist_4000m\": 131}, {\"dist_500m\": 1, \"dist_1500m\": 1, \"dist_4000m\": 4}, {\"dist_500m\": 1, \"dist_1500m\": 26, \"dist_4000m\": 57}, {\"dist_500m\": 1, \"dist_1500m\": 7, \"dist_4000m\": 15}, {\"dist_500m\": 1, \"dist_1500m\": 1, \"dist_4000m\": 2}, {\"dist_500m\": 1, \"dist_1500m\": 5, \"dist_4000m\": 18}, {\"dist_500m\": 8, \"dist_1500m\": 8, \"dist_4000m\": 12}, {\"dist_500m\": 8, \"dist_1500m\": 8, \"dist_4000m\": 8}, {\"dist_500m\": 2, \"dist_1500m\": 2, \"dist_4000m\": 3}, {\"dist_500m\": 14, \"dist_1500m\": 49, \"dist_4000m\": 101}, {\"dist_500m\": 1, \"dist_1500m\": 2, \"dist_4000m\": 3}, {\"dist_500m\": 5, \"dist_1500m\": 16, \"dist_4000m\": 69}, {\"dist_500m\": 1, \"dist_1500m\": 2, \"dist_4000m\": 18}, {\"dist_500m\": 1, \"dist_1500m\": 1, \"dist_4000m\": 5}, {\"dist_500m\": 10, \"dist_1500m\": 44, \"dist_4000m\": 306}, {\"dist_500m\": 10, \"dist_1500m\": 44, \"dist_4000m\": 306}, {\"dist_500m\": 3, \"dist_1500m\": 7, \"dist_4000m\": 25}, {\"dist_500m\": 1, \"dist_1500m\": 2, \"dist_4000m\": 3}, {\"dist_500m\": 1, \"dist_1500m\": 3, \"dist_4000m\": 3}, {\"dist_500m\": 10, \"dist_1500m\": 48, \"dist_4000m\": 305}, {\"dist_500m\": 8, \"dist_1500m\": 54, \"dist_4000m\": 118}, {\"dist_500m\": 59, \"dist_1500m\": 146, \"dist_4000m\": 304}, {\"dist_500m\": 59, \"dist_1500m\": 146, \"dist_4000m\": 304}, {\"dist_500m\": 59, \"dist_1500m\": 146, \"dist_4000m\": 304}, {\"dist_500m\": 2, \"dist_1500m\": 3, \"dist_4000m\": 9}, {\"dist_500m\": 1, \"dist_1500m\": 4, \"dist_4000m\": 15}, {\"dist_500m\": 1, \"dist_1500m\": 6, \"dist_4000m\": 31}, {\"dist_500m\": 10, \"dist_1500m\": 48, \"dist_4000m\": 305}, {\"dist_500m\": 1, \"dist_1500m\": 2, \"dist_4000m\": 5}, {\"dist_500m\": 2, \"dist_1500m\": 11, \"dist_4000m\": 72}, {\"dist_500m\": 14, \"dist_1500m\": 19, \"dist_4000m\": 108}, {\"dist_500m\": 3, \"dist_1500m\": 9, \"dist_4000m\": 28}, {\"dist_500m\": 14, \"dist_1500m\": 21, \"dist_4000m\": 110}, {\"dist_500m\": 1, \"dist_1500m\": 3, \"dist_4000m\": 21}, {\"dist_500m\": 3, \"dist_1500m\": 19, \"dist_4000m\": 34}, {\"dist_500m\": 1, \"dist_1500m\": 7, \"dist_4000m\": 30}, {\"dist_500m\": 1, \"dist_1500m\": 5, \"dist_4000m\": 10}, {\"dist_500m\": 2, \"dist_1500m\": 6, \"dist_4000m\": 19}, {\"dist_500m\": 3, \"dist_1500m\": 4, \"dist_4000m\": 28}, {\"dist_500m\": 1, \"dist_1500m\": 1, \"dist_4000m\": 4}, {\"dist_500m\": 34, \"dist_1500m\": 198, \"dist_4000m\": 322}, {\"dist_500m\": 1, \"dist_1500m\": 8, \"dist_4000m\": 29}, {\"dist_500m\": 5, \"dist_1500m\": 5, \"dist_4000m\": 5}, {\"dist_500m\": 5, \"dist_1500m\": 5, \"dist_4000m\": 5}, {\"dist_500m\": 5, \"dist_1500m\": 5, \"dist_4000m\": 5}, {\"dist_500m\": 5, \"dist_1500m\": 5, \"dist_4000m\": 5}, {\"dist_500m\": 3, \"dist_1500m\": 7, \"dist_4000m\": 58}, {\"dist_500m\": 5, \"dist_1500m\": 5, \"dist_4000m\": 5}, {\"dist_500m\": 6, \"dist_1500m\": 17, \"dist_4000m\": 116}, {\"dist_500m\": 7, \"dist_1500m\": 14, \"dist_4000m\": 27}, {\"dist_500m\": 12, \"dist_1500m\": 35, \"dist_4000m\": 82}, {\"dist_500m\": 47, \"dist_1500m\": 130, \"dist_4000m\": 320}, {\"dist_500m\": 59, \"dist_1500m\": 146, \"dist_4000m\": 304}, {\"dist_500m\": 1, \"dist_1500m\": 6, \"dist_4000m\": 37}, {\"dist_500m\": 5, \"dist_1500m\": 12, \"dist_4000m\": 74}, {\"dist_500m\": 48, \"dist_1500m\": 170, \"dist_4000m\": 307}, {\"dist_500m\": 18, \"dist_1500m\": 150, \"dist_4000m\": 310}, {\"dist_500m\": 2, \"dist_1500m\": 6, \"dist_4000m\": 51}, {\"dist_500m\": 12, \"dist_1500m\": 30, \"dist_4000m\": 40}, {\"dist_500m\": 1, \"dist_1500m\": 1, \"dist_4000m\": 1}, {\"dist_500m\": 1, \"dist_1500m\": 1, \"dist_4000m\": 2}, {\"dist_500m\": 23, \"dist_1500m\": 58, \"dist_4000m\": 102}, {\"dist_500m\": 9, \"dist_1500m\": 26, \"dist_4000m\": 103}, {\"dist_500m\": 1, \"dist_1500m\": 5, \"dist_4000m\": 20}, {\"dist_500m\": 6, \"dist_1500m\": 13, \"dist_4000m\": 63}, {\"dist_500m\": 4, \"dist_1500m\": 6, \"dist_4000m\": 20}, {\"dist_500m\": 6, \"dist_1500m\": 13, \"dist_4000m\": 61}, {\"dist_500m\": 10, \"dist_1500m\": 43, \"dist_4000m\": 132}, {\"dist_500m\": 4, \"dist_1500m\": 6, \"dist_4000m\": 10}, {\"dist_500m\": 4, \"dist_1500m\": 16, \"dist_4000m\": 65}, {\"dist_500m\": 10, \"dist_1500m\": 43, \"dist_4000m\": 130}, {\"dist_500m\": 1, \"dist_1500m\": 1, \"dist_4000m\": 2}, {\"dist_500m\": 2, \"dist_1500m\": 39, \"dist_4000m\": 135}, {\"dist_500m\": 4, \"dist_1500m\": 9, \"dist_4000m\": 26}, {\"dist_500m\": 2, \"dist_1500m\": 4, \"dist_4000m\": 7}, {\"dist_500m\": 1, \"dist_1500m\": 5, \"dist_4000m\": 15}, {\"dist_500m\": 1, \"dist_1500m\": 3, \"dist_4000m\": 11}, {\"dist_500m\": 48, \"dist_1500m\": 132, \"dist_4000m\": 303}, {\"dist_500m\": 49, \"dist_1500m\": 172, \"dist_4000m\": 308}, {\"dist_500m\": 2, \"dist_1500m\": 5, \"dist_4000m\": 8}, {\"dist_500m\": 2, \"dist_1500m\": 4, \"dist_4000m\": 4}, {\"dist_500m\": 2, \"dist_1500m\": 2, \"dist_4000m\": 3}, {\"dist_500m\": 67, \"dist_1500m\": 145, \"dist_4000m\": 304}, {\"dist_500m\": 67, \"dist_1500m\": 145, \"dist_4000m\": 304}, {\"dist_500m\": 2, \"dist_1500m\": 6, \"dist_4000m\": 13}, {\"dist_500m\": 1, \"dist_1500m\": 3, \"dist_4000m\": 13}, {\"dist_500m\": 3, \"dist_1500m\": 6, \"dist_4000m\": 14}, {\"dist_500m\": 2, \"dist_1500m\": 5, \"dist_4000m\": 11}, {\"dist_500m\": 10, \"dist_1500m\": 16, \"dist_4000m\": 19}, {\"dist_500m\": 4, \"dist_1500m\": 19, \"dist_4000m\": 64}, {\"dist_500m\": 1, \"dist_1500m\": 3, \"dist_4000m\": 20}, {\"dist_500m\": 1, \"dist_1500m\": 1, \"dist_4000m\": 3}, {\"dist_500m\": 1, \"dist_1500m\": 1, \"dist_4000m\": 1}, {\"dist_500m\": 2, \"dist_1500m\": 20, \"dist_4000m\": 90}, {\"dist_500m\": 3, \"dist_1500m\": 4, \"dist_4000m\": 12}, {\"dist_500m\": 17, \"dist_1500m\": 93, \"dist_4000m\": 108}, {\"dist_500m\": 2, \"dist_1500m\": 5, \"dist_4000m\": 6}, {\"dist_500m\": 1, \"dist_1500m\": 2, \"dist_4000m\": 3}, {\"dist_500m\": 1, \"dist_1500m\": 1, \"dist_4000m\": 1}, {\"dist_500m\": 67, \"dist_1500m\": 145, \"dist_4000m\": 304}, {\"dist_500m\": 67, \"dist_1500m\": 145, \"dist_4000m\": 304}, {\"dist_500m\": 67, \"dist_1500m\": 145, \"dist_4000m\": 304}, {\"dist_500m\": 6, \"dist_1500m\": 17, \"dist_4000m\": 47}, {\"dist_500m\": 1, \"dist_1500m\": 1, \"dist_4000m\": 1}, {\"dist_500m\": 6, \"dist_1500m\": 69, \"dist_4000m\": 129}, {\"dist_500m\": 1, \"dist_1500m\": 1, \"dist_4000m\": 3}, {\"dist_500m\": 9, \"dist_1500m\": 24, \"dist_4000m\": 34}, {\"dist_500m\": 1, \"dist_1500m\": 10, \"dist_4000m\": 35}, {\"dist_500m\": 44, \"dist_1500m\": 91, \"dist_4000m\": 111}, {\"dist_500m\": 1, \"dist_1500m\": 4, \"dist_4000m\": 14}, {\"dist_500m\": 1, \"dist_1500m\": 6, \"dist_4000m\": 15}, {\"dist_500m\": 42, \"dist_1500m\": 93, \"dist_4000m\": 110}, {\"dist_500m\": 3, \"dist_1500m\": 3, \"dist_4000m\": 6}, {\"dist_500m\": 4, \"dist_1500m\": 21, \"dist_4000m\": 57}, {\"dist_500m\": 1, \"dist_1500m\": 1, \"dist_4000m\": 5}, {\"dist_500m\": 1, \"dist_1500m\": 5, \"dist_4000m\": 26}, {\"dist_500m\": 1, \"dist_1500m\": 2, \"dist_4000m\": 19}, {\"dist_500m\": 8, \"dist_1500m\": 21, \"dist_4000m\": 125}, {\"dist_500m\": 7, \"dist_1500m\": 24, \"dist_4000m\": 128}, {\"dist_500m\": 48, \"dist_1500m\": 170, \"dist_4000m\": 307}, {\"dist_500m\": 48, \"dist_1500m\": 170, \"dist_4000m\": 307}, {\"dist_500m\": 5, \"dist_1500m\": 33, \"dist_4000m\": 82}, {\"dist_500m\": 1, \"dist_1500m\": 1, \"dist_4000m\": 9}, {\"dist_500m\": 58, \"dist_1500m\": 91, \"dist_4000m\": 111}, {\"dist_500m\": 48, \"dist_1500m\": 92, \"dist_4000m\": 111}, {\"dist_500m\": 1, \"dist_1500m\": 12, \"dist_4000m\": 43}, {\"dist_500m\": 1, \"dist_1500m\": 2, \"dist_4000m\": 15}, {\"dist_500m\": 2, \"dist_1500m\": 16, \"dist_4000m\": 66}, {\"dist_500m\": 5, \"dist_1500m\": 9, \"dist_4000m\": 19}, {\"dist_500m\": 1, \"dist_1500m\": 2, \"dist_4000m\": 7}, {\"dist_500m\": 14, \"dist_1500m\": 49, \"dist_4000m\": 102}, {\"dist_500m\": 18, \"dist_1500m\": 52, \"dist_4000m\": 123}, {\"dist_500m\": 15, \"dist_1500m\": 51, \"dist_4000m\": 125}, {\"dist_500m\": 15, \"dist_1500m\": 51, \"dist_4000m\": 125}, {\"dist_500m\": 5, \"dist_1500m\": 13, \"dist_4000m\": 39}, {\"dist_500m\": 6, \"dist_1500m\": 15, \"dist_4000m\": 36}, {\"dist_500m\": 6, \"dist_1500m\": 15, \"dist_4000m\": 33}, {\"dist_500m\": 4, \"dist_1500m\": 16, \"dist_4000m\": 34}, {\"dist_500m\": 4, \"dist_1500m\": 16, \"dist_4000m\": 33}, {\"dist_500m\": 4, \"dist_1500m\": 16, \"dist_4000m\": 34}, {\"dist_500m\": 1, \"dist_1500m\": 4, \"dist_4000m\": 38}, {\"dist_500m\": 12, \"dist_1500m\": 31, \"dist_4000m\": 40}, {\"dist_500m\": 2, \"dist_1500m\": 10, \"dist_4000m\": 50}, {\"dist_500m\": 5, \"dist_1500m\": 12, \"dist_4000m\": 28}, {\"dist_500m\": 1, \"dist_1500m\": 1, \"dist_4000m\": 2}, {\"dist_500m\": 35, \"dist_1500m\": 140, \"dist_4000m\": 308}, {\"dist_500m\": 5, \"dist_1500m\": 18, \"dist_4000m\": 19}, {\"dist_500m\": 15, \"dist_1500m\": 93, \"dist_4000m\": 109}, {\"dist_500m\": 35, \"dist_1500m\": 140, \"dist_4000m\": 308}, {\"dist_500m\": 35, \"dist_1500m\": 140, \"dist_4000m\": 308}, {\"dist_500m\": 2, \"dist_1500m\": 8, \"dist_4000m\": 16}, {\"dist_500m\": 6, \"dist_1500m\": 13, \"dist_4000m\": 63}, {\"dist_500m\": 2, \"dist_1500m\": 2, \"dist_4000m\": 2}, {\"dist_500m\": 2, \"dist_1500m\": 21, \"dist_4000m\": 134}, {\"dist_500m\": 1, \"dist_1500m\": 1, \"dist_4000m\": 1}, {\"dist_500m\": 4, \"dist_1500m\": 25, \"dist_4000m\": 97}, {\"dist_500m\": 4, \"dist_1500m\": 53, \"dist_4000m\": 151}, {\"dist_500m\": 3, \"dist_1500m\": 6, \"dist_4000m\": 13}, {\"dist_500m\": 2, \"dist_1500m\": 2, \"dist_4000m\": 2}, {\"dist_500m\": 1, \"dist_1500m\": 3, \"dist_4000m\": 7}, {\"dist_500m\": 6, \"dist_1500m\": 13, \"dist_4000m\": 61}, {\"dist_500m\": 6, \"dist_1500m\": 13, \"dist_4000m\": 61}, {\"dist_500m\": 6, \"dist_1500m\": 13, \"dist_4000m\": 62}, {\"dist_500m\": 1, \"dist_1500m\": 2, \"dist_4000m\": 9}, {\"dist_500m\": 1, \"dist_1500m\": 11, \"dist_4000m\": 101}, {\"dist_500m\": 18, \"dist_1500m\": 202, \"dist_4000m\": 320}, {\"dist_500m\": 18, \"dist_1500m\": 202, \"dist_4000m\": 320}, {\"dist_500m\": 18, \"dist_1500m\": 137, \"dist_4000m\": 310}, {\"dist_500m\": 10, \"dist_1500m\": 27, \"dist_4000m\": 103}, {\"dist_500m\": 1, \"dist_1500m\": 2, \"dist_4000m\": 7}, {\"dist_500m\": 18, \"dist_1500m\": 202, \"dist_4000m\": 320}, {\"dist_500m\": 4, \"dist_1500m\": 25, \"dist_4000m\": 101}, {\"dist_500m\": 1, \"dist_1500m\": 1, \"dist_4000m\": 1}, {\"dist_500m\": 18, \"dist_1500m\": 202, \"dist_4000m\": 320}, {\"dist_500m\": 1, \"dist_1500m\": 1, \"dist_4000m\": 2}, {\"dist_500m\": 3, \"dist_1500m\": 4, \"dist_4000m\": 6}, {\"dist_500m\": 1, \"dist_1500m\": 1, \"dist_4000m\": 3}, {\"dist_500m\": 5, \"dist_1500m\": 15, \"dist_4000m\": 78}, {\"dist_500m\": 18, \"dist_1500m\": 202, \"dist_4000m\": 320}, {\"dist_500m\": 8, \"dist_1500m\": 30, \"dist_4000m\": 75}, {\"dist_500m\": 1, \"dist_1500m\": 5, \"dist_4000m\": 14}, {\"dist_500m\": 1, \"dist_1500m\": 2, \"dist_4000m\": 12}, {\"dist_500m\": 35, \"dist_1500m\": 140, \"dist_4000m\": 308}, {\"dist_500m\": 35, \"dist_1500m\": 140, \"dist_4000m\": 308}, {\"dist_500m\": 1, \"dist_1500m\": 2, \"dist_4000m\": 5}, {\"dist_500m\": 11, \"dist_1500m\": 92, \"dist_4000m\": 108}, {\"dist_500m\": 4, \"dist_1500m\": 7, \"dist_4000m\": 29}, {\"dist_500m\": 1, \"dist_1500m\": 3, \"dist_4000m\": 6}, {\"dist_500m\": 2, \"dist_1500m\": 8, \"dist_4000m\": 28}, {\"dist_500m\": 18, \"dist_1500m\": 202, \"dist_4000m\": 320}, {\"dist_500m\": 3, \"dist_1500m\": 4, \"dist_4000m\": 103}, {\"dist_500m\": 3, \"dist_1500m\": 18, \"dist_4000m\": 65}, {\"dist_500m\": 2, \"dist_1500m\": 15, \"dist_4000m\": 133}, {\"dist_500m\": 1, \"dist_1500m\": 1, \"dist_4000m\": 4}, {\"dist_500m\": 45, \"dist_1500m\": 146, \"dist_4000m\": 309}, {\"dist_500m\": 2, \"dist_1500m\": 9, \"dist_4000m\": 23}, {\"dist_500m\": 1, \"dist_1500m\": 2, \"dist_4000m\": 12}, {\"dist_500m\": 1, \"dist_1500m\": 4, \"dist_4000m\": 16}, {\"dist_500m\": 10, \"dist_1500m\": 54, \"dist_4000m\": 128}, {\"dist_500m\": 1, \"dist_1500m\": 1, \"dist_4000m\": 5}, {\"dist_500m\": 2, \"dist_1500m\": 9, \"dist_4000m\": 32}, {\"dist_500m\": 29, \"dist_1500m\": 203, \"dist_4000m\": 314}, {\"dist_500m\": 1, \"dist_1500m\": 1, \"dist_4000m\": 12}, {\"dist_500m\": 1, \"dist_1500m\": 9, \"dist_4000m\": 10}, {\"dist_500m\": 4, \"dist_1500m\": 57, \"dist_4000m\": 148}, {\"dist_500m\": 2, \"dist_1500m\": 9, \"dist_4000m\": 21}, {\"dist_500m\": 1, \"dist_1500m\": 7, \"dist_4000m\": 98}, {\"dist_500m\": 1, \"dist_1500m\": 2, \"dist_4000m\": 4}, {\"dist_500m\": 2, \"dist_1500m\": 6, \"dist_4000m\": 12}, {\"dist_500m\": 2, \"dist_1500m\": 5, \"dist_4000m\": 16}, {\"dist_500m\": 1, \"dist_1500m\": 13, \"dist_4000m\": 71}, {\"dist_500m\": 1, \"dist_1500m\": 1, \"dist_4000m\": 13}, {\"dist_500m\": 3, \"dist_1500m\": 5, \"dist_4000m\": 20}, {\"dist_500m\": 4, \"dist_1500m\": 6, \"dist_4000m\": 10}, {\"dist_500m\": 3, \"dist_1500m\": 8, \"dist_4000m\": 34}, {\"dist_500m\": 3, \"dist_1500m\": 4, \"dist_4000m\": 17}, {\"dist_500m\": 1, \"dist_1500m\": 1, \"dist_4000m\": 1}, {\"dist_500m\": 56, \"dist_1500m\": 90, \"dist_4000m\": 111}, {\"dist_500m\": 4, \"dist_1500m\": 6, \"dist_4000m\": 9}, {\"dist_500m\": 3, \"dist_1500m\": 5, \"dist_4000m\": 15}, {\"dist_500m\": 1, \"dist_1500m\": 1, \"dist_4000m\": 1}, {\"dist_500m\": 57, \"dist_1500m\": 151, \"dist_4000m\": 304}, {\"dist_500m\": 57, \"dist_1500m\": 151, \"dist_4000m\": 304}, {\"dist_500m\": 57, \"dist_1500m\": 151, \"dist_4000m\": 304}, {\"dist_500m\": 3, \"dist_1500m\": 14, \"dist_4000m\": 65}, {\"dist_500m\": 2, \"dist_1500m\": 6, \"dist_4000m\": 29}, {\"dist_500m\": 5, \"dist_1500m\": 5, \"dist_4000m\": 5}, {\"dist_500m\": 1, \"dist_1500m\": 1, \"dist_4000m\": 3}, {\"dist_500m\": 4, \"dist_1500m\": 9, \"dist_4000m\": 18}, {\"dist_500m\": 1, \"dist_1500m\": 5, \"dist_4000m\": 9}, {\"dist_500m\": 1, \"dist_1500m\": 11, \"dist_4000m\": 43}, {\"dist_500m\": 1, \"dist_1500m\": 1, \"dist_4000m\": 1}, {\"dist_500m\": 1, \"dist_1500m\": 3, \"dist_4000m\": 23}, {\"dist_500m\": 1, \"dist_1500m\": 1, \"dist_4000m\": 1}, {\"dist_500m\": 57, \"dist_1500m\": 151, \"dist_4000m\": 304}, {\"dist_500m\": 57, \"dist_1500m\": 151, \"dist_4000m\": 304}, {\"dist_500m\": 25, \"dist_1500m\": 116, \"dist_4000m\": 339}, {\"dist_500m\": 11, \"dist_1500m\": 11, \"dist_4000m\": 11}, {\"dist_500m\": 11, \"dist_1500m\": 11, \"dist_4000m\": 11}, {\"dist_500m\": 5, \"dist_1500m\": 8, \"dist_4000m\": 23}, {\"dist_500m\": 1, \"dist_1500m\": 3, \"dist_4000m\": 17}, {\"dist_500m\": 12, \"dist_1500m\": 31, \"dist_4000m\": 40}, {\"dist_500m\": 1, \"dist_1500m\": 4, \"dist_4000m\": 17}, {\"dist_500m\": 5, \"dist_1500m\": 12, \"dist_4000m\": 32}, {\"dist_500m\": 1, \"dist_1500m\": 1, \"dist_4000m\": 2}, {\"dist_500m\": 27, \"dist_1500m\": 93, \"dist_4000m\": 110}, {\"dist_500m\": 31, \"dist_1500m\": 94, \"dist_4000m\": 110}, {\"dist_500m\": 5, \"dist_1500m\": 12, \"dist_4000m\": 13}, {\"dist_500m\": 1, \"dist_1500m\": 2, \"dist_4000m\": 13}, {\"dist_500m\": 8, \"dist_1500m\": 52, \"dist_4000m\": 118}, {\"dist_500m\": 5, \"dist_1500m\": 29, \"dist_4000m\": 136}, {\"dist_500m\": 19, \"dist_1500m\": 150, \"dist_4000m\": 325}, {\"dist_500m\": 19, \"dist_1500m\": 150, \"dist_4000m\": 325}, {\"dist_500m\": 19, \"dist_1500m\": 150, \"dist_4000m\": 325}, {\"dist_500m\": 11, \"dist_1500m\": 11, \"dist_4000m\": 11}, {\"dist_500m\": 2, \"dist_1500m\": 8, \"dist_4000m\": 32}, {\"dist_500m\": 11, \"dist_1500m\": 22, \"dist_4000m\": 116}, {\"dist_500m\": 2, \"dist_1500m\": 14, \"dist_4000m\": 47}, {\"dist_500m\": 1, \"dist_1500m\": 1, \"dist_4000m\": 5}, {\"dist_500m\": 19, \"dist_1500m\": 150, \"dist_4000m\": 325}, {\"dist_500m\": 19, \"dist_1500m\": 150, \"dist_4000m\": 325}, {\"dist_500m\": 11, \"dist_1500m\": 11, \"dist_4000m\": 11}, {\"dist_500m\": 21, \"dist_1500m\": 115, \"dist_4000m\": 351}, {\"dist_500m\": 2, \"dist_1500m\": 4, \"dist_4000m\": 30}, {\"dist_500m\": 1, \"dist_1500m\": 1, \"dist_4000m\": 18}, {\"dist_500m\": 2, \"dist_1500m\": 9, \"dist_4000m\": 59}, {\"dist_500m\": 9, \"dist_1500m\": 19, \"dist_4000m\": 33}, {\"dist_500m\": 2, \"dist_1500m\": 6, \"dist_4000m\": 18}, {\"dist_500m\": 1, \"dist_1500m\": 1, \"dist_4000m\": 1}, {\"dist_500m\": 1, \"dist_1500m\": 3, \"dist_4000m\": 12}, {\"dist_500m\": 5, \"dist_1500m\": 16, \"dist_4000m\": 45}, {\"dist_500m\": 1, \"dist_1500m\": 1, \"dist_4000m\": 6}, {\"dist_500m\": 1, \"dist_1500m\": 1, \"dist_4000m\": 1}, {\"dist_500m\": 1, \"dist_1500m\": 4, \"dist_4000m\": 13}, {\"dist_500m\": 3, \"dist_1500m\": 17, \"dist_4000m\": 82}, {\"dist_500m\": 1, \"dist_1500m\": 4, \"dist_4000m\": 11}, {\"dist_500m\": 1, \"dist_1500m\": 3, \"dist_4000m\": 9}, {\"dist_500m\": 1, \"dist_1500m\": 2, \"dist_4000m\": 3}, {\"dist_500m\": 2, \"dist_1500m\": 16, \"dist_4000m\": 134}, {\"dist_500m\": 63, \"dist_1500m\": 92, \"dist_4000m\": 111}, {\"dist_500m\": 62, \"dist_1500m\": 92, \"dist_4000m\": 111}, {\"dist_500m\": 27, \"dist_1500m\": 60, \"dist_4000m\": 101}, {\"dist_500m\": 1, \"dist_1500m\": 1, \"dist_4000m\": 1}, {\"dist_500m\": 11, \"dist_1500m\": 11, \"dist_4000m\": 11}, {\"dist_500m\": 3, \"dist_1500m\": 9, \"dist_4000m\": 24}, {\"dist_500m\": 11, \"dist_1500m\": 11, \"dist_4000m\": 11}, {\"dist_500m\": 11, \"dist_1500m\": 11, \"dist_4000m\": 11}, {\"dist_500m\": 14, \"dist_1500m\": 68, \"dist_4000m\": 102}, {\"dist_500m\": 1, \"dist_1500m\": 1, \"dist_4000m\": 10}, {\"dist_500m\": 3, \"dist_1500m\": 11, \"dist_4000m\": 30}, {\"dist_500m\": 2, \"dist_1500m\": 21, \"dist_4000m\": 134}, {\"dist_500m\": 6, \"dist_1500m\": 24, \"dist_4000m\": 50}, {\"dist_500m\": 2, \"dist_1500m\": 10, \"dist_4000m\": 10}, {\"dist_500m\": 1, \"dist_1500m\": 6, \"dist_4000m\": 19}, {\"dist_500m\": 2, \"dist_1500m\": 6, \"dist_4000m\": 27}, {\"dist_500m\": 1, \"dist_1500m\": 19, \"dist_4000m\": 90}, {\"dist_500m\": 1, \"dist_1500m\": 3, \"dist_4000m\": 29}, {\"dist_500m\": 1, \"dist_1500m\": 1, \"dist_4000m\": 1}, {\"dist_500m\": 2, \"dist_1500m\": 4, \"dist_4000m\": 66}, {\"dist_500m\": 21, \"dist_1500m\": 60, \"dist_4000m\": 102}, {\"dist_500m\": 51, \"dist_1500m\": 146, \"dist_4000m\": 303}, {\"dist_500m\": 6, \"dist_1500m\": 37, \"dist_4000m\": 93}, {\"dist_500m\": 6, \"dist_1500m\": 37, \"dist_4000m\": 93}, {\"dist_500m\": 5, \"dist_1500m\": 5, \"dist_4000m\": 5}, {\"dist_500m\": 6, \"dist_1500m\": 29, \"dist_4000m\": 134}, {\"dist_500m\": 7, \"dist_1500m\": 32, \"dist_4000m\": 182}, {\"dist_500m\": 6, \"dist_1500m\": 31, \"dist_4000m\": 39}, {\"dist_500m\": 1, \"dist_1500m\": 10, \"dist_4000m\": 58}, {\"dist_500m\": 1, \"dist_1500m\": 1, \"dist_4000m\": 2}, {\"dist_500m\": 1, \"dist_1500m\": 1, \"dist_4000m\": 2}, {\"dist_500m\": 1, \"dist_1500m\": 1, \"dist_4000m\": 1}, {\"dist_500m\": 1, \"dist_1500m\": 1, \"dist_4000m\": 7}, {\"dist_500m\": 14, \"dist_1500m\": 214, \"dist_4000m\": 311}, {\"dist_500m\": 14, \"dist_1500m\": 214, \"dist_4000m\": 311}, {\"dist_500m\": 1, \"dist_1500m\": 2, \"dist_4000m\": 8}, {\"dist_500m\": 1, \"dist_1500m\": 4, \"dist_4000m\": 8}, {\"dist_500m\": 10, \"dist_1500m\": 30, \"dist_4000m\": 240}, {\"dist_500m\": 2, \"dist_1500m\": 9, \"dist_4000m\": 32}, {\"dist_500m\": 5, \"dist_1500m\": 6, \"dist_4000m\": 6}, {\"dist_500m\": 1, \"dist_1500m\": 4, \"dist_4000m\": 9}, {\"dist_500m\": 3, \"dist_1500m\": 6, \"dist_4000m\": 11}, {\"dist_500m\": 1, \"dist_1500m\": 2, \"dist_4000m\": 3}, {\"dist_500m\": 10, \"dist_1500m\": 47, \"dist_4000m\": 85}, {\"dist_500m\": 10, \"dist_1500m\": 47, \"dist_4000m\": 85}, {\"dist_500m\": 11, \"dist_1500m\": 11, \"dist_4000m\": 11}, {\"dist_500m\": 2, \"dist_1500m\": 2, \"dist_4000m\": 7}, {\"dist_500m\": 1, \"dist_1500m\": 3, \"dist_4000m\": 9}, {\"dist_500m\": 21, \"dist_1500m\": 63, \"dist_4000m\": 123}, {\"dist_500m\": 1, \"dist_1500m\": 5, \"dist_4000m\": 26}, {\"dist_500m\": 1, \"dist_1500m\": 1, \"dist_4000m\": 1}, {\"dist_500m\": 1, \"dist_1500m\": 1, \"dist_4000m\": 1}, {\"dist_500m\": 3, \"dist_1500m\": 6, \"dist_4000m\": 33}, {\"dist_500m\": 1, \"dist_1500m\": 23, \"dist_4000m\": 75}, {\"dist_500m\": 48, \"dist_1500m\": 170, \"dist_4000m\": 307}, {\"dist_500m\": 2, \"dist_1500m\": 6, \"dist_4000m\": 25}, {\"dist_500m\": 48, \"dist_1500m\": 170, \"dist_4000m\": 307}, {\"dist_500m\": 2, \"dist_1500m\": 27, \"dist_4000m\": 132}, {\"dist_500m\": 48, \"dist_1500m\": 170, \"dist_4000m\": 307}, {\"dist_500m\": 1, \"dist_1500m\": 1, \"dist_4000m\": 2}, {\"dist_500m\": 1, \"dist_1500m\": 1, \"dist_4000m\": 3}, {\"dist_500m\": 1, \"dist_1500m\": 1, \"dist_4000m\": 20}, {\"dist_500m\": 1, \"dist_1500m\": 1, \"dist_4000m\": 1}, {\"dist_500m\": 3, \"dist_1500m\": 11, \"dist_4000m\": 25}, {\"dist_500m\": 1, \"dist_1500m\": 11, \"dist_4000m\": 67}, {\"dist_500m\": 3, \"dist_1500m\": 13, \"dist_4000m\": 108}, {\"dist_500m\": 8, \"dist_1500m\": 26, \"dist_4000m\": 130}, {\"dist_500m\": 40, \"dist_1500m\": 175, \"dist_4000m\": 309}, {\"dist_500m\": 48, \"dist_1500m\": 170, \"dist_4000m\": 307}, {\"dist_500m\": 48, \"dist_1500m\": 170, \"dist_4000m\": 307}, {\"dist_500m\": 10, \"dist_1500m\": 47, \"dist_4000m\": 85}, {\"dist_500m\": 1, \"dist_1500m\": 12, \"dist_4000m\": 36}, {\"dist_500m\": 1, \"dist_1500m\": 9, \"dist_4000m\": 35}, {\"dist_500m\": 1, \"dist_1500m\": 1, \"dist_4000m\": 5}, {\"dist_500m\": 1, \"dist_1500m\": 1, \"dist_4000m\": 1}, {\"dist_500m\": 48, \"dist_1500m\": 170, \"dist_4000m\": 307}, {\"dist_500m\": 1, \"dist_1500m\": 2, \"dist_4000m\": 2}, {\"dist_500m\": 3, \"dist_1500m\": 5, \"dist_4000m\": 18}, {\"dist_500m\": 2, \"dist_1500m\": 4, \"dist_4000m\": 17}, {\"dist_500m\": 1, \"dist_1500m\": 1, \"dist_4000m\": 5}, {\"dist_500m\": 35, \"dist_1500m\": 140, \"dist_4000m\": 308}, {\"dist_500m\": 19, \"dist_1500m\": 112, \"dist_4000m\": 348}, {\"dist_500m\": 1, \"dist_1500m\": 2, \"dist_4000m\": 5}, {\"dist_500m\": 35, \"dist_1500m\": 140, \"dist_4000m\": 308}, {\"dist_500m\": 10, \"dist_1500m\": 47, \"dist_4000m\": 85}, {\"dist_500m\": 3, \"dist_1500m\": 5, \"dist_4000m\": 13}, {\"dist_500m\": 2, \"dist_1500m\": 2, \"dist_4000m\": 11}, {\"dist_500m\": 6, \"dist_1500m\": 61, \"dist_4000m\": 102}, {\"dist_500m\": 2, \"dist_1500m\": 2, \"dist_4000m\": 2}, {\"dist_500m\": 3, \"dist_1500m\": 18, \"dist_4000m\": 34}, {\"dist_500m\": 1, \"dist_1500m\": 6, \"dist_4000m\": 18}, {\"dist_500m\": 2, \"dist_1500m\": 2, \"dist_4000m\": 17}, {\"dist_500m\": 1, \"dist_1500m\": 14, \"dist_4000m\": 237}, {\"dist_500m\": 1, \"dist_1500m\": 1, \"dist_4000m\": 1}, {\"dist_500m\": 43, \"dist_1500m\": 90, \"dist_4000m\": 111}, {\"dist_500m\": 3, \"dist_1500m\": 29, \"dist_4000m\": 277}, {\"dist_500m\": 33, \"dist_1500m\": 52, \"dist_4000m\": 134}, {\"dist_500m\": 1, \"dist_1500m\": 1, \"dist_4000m\": 1}, {\"dist_500m\": 9, \"dist_1500m\": 26, \"dist_4000m\": 102}, {\"dist_500m\": 10, \"dist_1500m\": 27, \"dist_4000m\": 102}, {\"dist_500m\": 1, \"dist_1500m\": 1, \"dist_4000m\": 2}, {\"dist_500m\": 10, \"dist_1500m\": 30, \"dist_4000m\": 237}, {\"dist_500m\": 37, \"dist_1500m\": 138, \"dist_4000m\": 315}, {\"dist_500m\": 2, \"dist_1500m\": 5, \"dist_4000m\": 13}, {\"dist_500m\": 2, \"dist_1500m\": 3, \"dist_4000m\": 23}, {\"dist_500m\": 3, \"dist_1500m\": 3, \"dist_4000m\": 14}, {\"dist_500m\": 37, \"dist_1500m\": 138, \"dist_4000m\": 315}, {\"dist_500m\": 37, \"dist_1500m\": 138, \"dist_4000m\": 315}, {\"dist_500m\": 37, \"dist_1500m\": 138, \"dist_4000m\": 315}, {\"dist_500m\": 2, \"dist_1500m\": 4, \"dist_4000m\": 35}, {\"dist_500m\": 1, \"dist_1500m\": 2, \"dist_4000m\": 2}, {\"dist_500m\": 3, \"dist_1500m\": 6, \"dist_4000m\": 11}, {\"dist_500m\": 3, \"dist_1500m\": 11, \"dist_4000m\": 32}, {\"dist_500m\": 1, \"dist_1500m\": 1, \"dist_4000m\": 2}, {\"dist_500m\": 37, \"dist_1500m\": 138, \"dist_4000m\": 315}, {\"dist_500m\": 37, \"dist_1500m\": 138, \"dist_4000m\": 315}, {\"dist_500m\": 1, \"dist_1500m\": 1, \"dist_4000m\": 1}, {\"dist_500m\": 59, \"dist_1500m\": 93, \"dist_4000m\": 111}, {\"dist_500m\": 10, \"dist_1500m\": 14, \"dist_4000m\": 19}, {\"dist_500m\": 1, \"dist_1500m\": 2, \"dist_4000m\": 21}, {\"dist_500m\": 37, \"dist_1500m\": 138, \"dist_4000m\": 315}, {\"dist_500m\": 12, \"dist_1500m\": 31, \"dist_4000m\": 40}, {\"dist_500m\": 37, \"dist_1500m\": 138, \"dist_4000m\": 315}, {\"dist_500m\": 37, \"dist_1500m\": 138, \"dist_4000m\": 315}, {\"dist_500m\": 1, \"dist_1500m\": 1, \"dist_4000m\": 1}, {\"dist_500m\": 7, \"dist_1500m\": 13, \"dist_4000m\": 72}, {\"dist_500m\": 1, \"dist_1500m\": 8, \"dist_4000m\": 15}, {\"dist_500m\": 37, \"dist_1500m\": 138, \"dist_4000m\": 315}, {\"dist_500m\": 1, \"dist_1500m\": 1, \"dist_4000m\": 2}, {\"dist_500m\": 1, \"dist_1500m\": 1, \"dist_4000m\": 3}, {\"dist_500m\": 5, \"dist_1500m\": 17, \"dist_4000m\": 33}, {\"dist_500m\": 15, \"dist_1500m\": 63, \"dist_4000m\": 100}, {\"dist_500m\": 1, \"dist_1500m\": 2, \"dist_4000m\": 3}, {\"dist_500m\": 1, \"dist_1500m\": 1, \"dist_4000m\": 10}, {\"dist_500m\": 3, \"dist_1500m\": 12, \"dist_4000m\": 48}, {\"dist_500m\": 1, \"dist_1500m\": 3, \"dist_4000m\": 6}, {\"dist_500m\": 4, \"dist_1500m\": 7, \"dist_4000m\": 25}, {\"dist_500m\": 38, \"dist_1500m\": 177, \"dist_4000m\": 311}, {\"dist_500m\": 2, \"dist_1500m\": 3, \"dist_4000m\": 15}, {\"dist_500m\": 2, \"dist_1500m\": 3, \"dist_4000m\": 10}, {\"dist_500m\": 4, \"dist_1500m\": 64, \"dist_4000m\": 114}, {\"dist_500m\": 2, \"dist_1500m\": 6, \"dist_4000m\": 29}, {\"dist_500m\": 1, \"dist_1500m\": 3, \"dist_4000m\": 12}, {\"dist_500m\": 1, \"dist_1500m\": 2, \"dist_4000m\": 22}, {\"dist_500m\": 1, \"dist_1500m\": 2, \"dist_4000m\": 4}, {\"dist_500m\": 16, \"dist_1500m\": 90, \"dist_4000m\": 108}, {\"dist_500m\": 8, \"dist_1500m\": 28, \"dist_4000m\": 75}, {\"dist_500m\": 1, \"dist_1500m\": 1, \"dist_4000m\": 32}, {\"dist_500m\": 2, \"dist_1500m\": 6, \"dist_4000m\": 20}, {\"dist_500m\": 51, \"dist_1500m\": 91, \"dist_4000m\": 111}, {\"dist_500m\": 1, \"dist_1500m\": 6, \"dist_4000m\": 23}, {\"dist_500m\": 10, \"dist_1500m\": 31, \"dist_4000m\": 75}, {\"dist_500m\": 1, \"dist_1500m\": 1, \"dist_4000m\": 1}, {\"dist_500m\": 2, \"dist_1500m\": 4, \"dist_4000m\": 27}, {\"dist_500m\": 4, \"dist_1500m\": 6, \"dist_4000m\": 31}, {\"dist_500m\": 16, \"dist_1500m\": 31, \"dist_4000m\": 76}, {\"dist_500m\": 17, \"dist_1500m\": 31, \"dist_4000m\": 77}, {\"dist_500m\": 2, \"dist_1500m\": 7, \"dist_4000m\": 22}, {\"dist_500m\": 5, \"dist_1500m\": 24, \"dist_4000m\": 70}, {\"dist_500m\": 1, \"dist_1500m\": 1, \"dist_4000m\": 8}, {\"dist_500m\": 1, \"dist_1500m\": 1, \"dist_4000m\": 3}, {\"dist_500m\": 38, \"dist_1500m\": 121, \"dist_4000m\": 302}, {\"dist_500m\": 57, \"dist_1500m\": 166, \"dist_4000m\": 307}, {\"dist_500m\": 50, \"dist_1500m\": 180, \"dist_4000m\": 308}, {\"dist_500m\": 52, \"dist_1500m\": 140, \"dist_4000m\": 304}, {\"dist_500m\": 45, \"dist_1500m\": 164, \"dist_4000m\": 306}, {\"dist_500m\": 64, \"dist_1500m\": 153, \"dist_4000m\": 308}, {\"dist_500m\": 21, \"dist_1500m\": 72, \"dist_4000m\": 123}, {\"dist_500m\": 20, \"dist_1500m\": 76, \"dist_4000m\": 125}, {\"dist_500m\": 21, \"dist_1500m\": 72, \"dist_4000m\": 123}, {\"dist_500m\": 21, \"dist_1500m\": 72, \"dist_4000m\": 123}, {\"dist_500m\": 21, \"dist_1500m\": 72, \"dist_4000m\": 123}, {\"dist_500m\": 4, \"dist_1500m\": 18, \"dist_4000m\": 57}, {\"dist_500m\": 64, \"dist_1500m\": 152, \"dist_4000m\": 305}, {\"dist_500m\": 24, \"dist_1500m\": 130, \"dist_4000m\": 298}, {\"dist_500m\": 18, \"dist_1500m\": 137, \"dist_4000m\": 309}, {\"dist_500m\": 19, \"dist_1500m\": 125, \"dist_4000m\": 298}, {\"dist_500m\": 18, \"dist_1500m\": 137, \"dist_4000m\": 308}, {\"dist_500m\": 2, \"dist_1500m\": 2, \"dist_4000m\": 12}, {\"dist_500m\": 2, \"dist_1500m\": 2, \"dist_4000m\": 14}, {\"dist_500m\": 2, \"dist_1500m\": 2, \"dist_4000m\": 3}, {\"dist_500m\": 3, \"dist_1500m\": 3, \"dist_4000m\": 15}, {\"dist_500m\": 2, \"dist_1500m\": 2, \"dist_4000m\": 3}, {\"dist_500m\": 1, \"dist_1500m\": 2, \"dist_4000m\": 20}, {\"dist_500m\": 1, \"dist_1500m\": 29, \"dist_4000m\": 103}, {\"dist_500m\": 1, \"dist_1500m\": 6, \"dist_4000m\": 108}, {\"dist_500m\": 1, \"dist_1500m\": 4, \"dist_4000m\": 5}, {\"dist_500m\": 6, \"dist_1500m\": 9, \"dist_4000m\": 10}, {\"dist_500m\": 2, \"dist_1500m\": 4, \"dist_4000m\": 9}, {\"dist_500m\": 1, \"dist_1500m\": 1, \"dist_4000m\": 5}, {\"dist_500m\": 1, \"dist_1500m\": 2, \"dist_4000m\": 5}, {\"dist_500m\": 2, \"dist_1500m\": 5, \"dist_4000m\": 6}, {\"dist_500m\": 1, \"dist_1500m\": 3, \"dist_4000m\": 18}, {\"dist_500m\": 2, \"dist_1500m\": 3, \"dist_4000m\": 7}, {\"dist_500m\": 2, \"dist_1500m\": 3, \"dist_4000m\": 7}, {\"dist_500m\": 11, \"dist_1500m\": 90, \"dist_4000m\": 318}, {\"dist_500m\": 24, \"dist_1500m\": 50, \"dist_4000m\": 101}, {\"dist_500m\": 1, \"dist_1500m\": 2, \"dist_4000m\": 3}, {\"dist_500m\": 10, \"dist_1500m\": 47, \"dist_4000m\": 85}, {\"dist_500m\": 64, \"dist_1500m\": 93, \"dist_4000m\": 111}, {\"dist_500m\": 2, \"dist_1500m\": 14, \"dist_4000m\": 61}, {\"dist_500m\": 14, \"dist_1500m\": 66, \"dist_4000m\": 311}, {\"dist_500m\": 4, \"dist_1500m\": 6, \"dist_4000m\": 110}, {\"dist_500m\": 1, \"dist_1500m\": 1, \"dist_4000m\": 3}, {\"dist_500m\": 1, \"dist_1500m\": 7, \"dist_4000m\": 31}, {\"dist_500m\": 3, \"dist_1500m\": 3, \"dist_4000m\": 15}, {\"dist_500m\": 10, \"dist_1500m\": 47, \"dist_4000m\": 85}, {\"dist_500m\": 10, \"dist_1500m\": 47, \"dist_4000m\": 85}, {\"dist_500m\": 4, \"dist_1500m\": 5, \"dist_4000m\": 6}, {\"dist_500m\": 1, \"dist_1500m\": 1, \"dist_4000m\": 1}, {\"dist_500m\": 4, \"dist_1500m\": 77, \"dist_4000m\": 101}, {\"dist_500m\": 11, \"dist_1500m\": 11, \"dist_4000m\": 26}, {\"dist_500m\": 2, \"dist_1500m\": 5, \"dist_4000m\": 5}, {\"dist_500m\": 3, \"dist_1500m\": 7, \"dist_4000m\": 37}, {\"dist_500m\": 1, \"dist_1500m\": 2, \"dist_4000m\": 2}, {\"dist_500m\": 2, \"dist_1500m\": 2, \"dist_4000m\": 2}, {\"dist_500m\": 3, \"dist_1500m\": 10, \"dist_4000m\": 41}, {\"dist_500m\": 10, \"dist_1500m\": 27, \"dist_4000m\": 102}, {\"dist_500m\": 3, \"dist_1500m\": 7, \"dist_4000m\": 17}, {\"dist_500m\": 3, \"dist_1500m\": 6, \"dist_4000m\": 17}, {\"dist_500m\": 11, \"dist_1500m\": 11, \"dist_4000m\": 26}, {\"dist_500m\": 6, \"dist_1500m\": 15, \"dist_4000m\": 118}, {\"dist_500m\": 8, \"dist_1500m\": 27, \"dist_4000m\": 129}, {\"dist_500m\": 1, \"dist_1500m\": 1, \"dist_4000m\": 1}, {\"dist_500m\": 4, \"dist_1500m\": 9, \"dist_4000m\": 54}, {\"dist_500m\": 1, \"dist_1500m\": 1, \"dist_4000m\": 5}, {\"dist_500m\": 3, \"dist_1500m\": 12, \"dist_4000m\": 50}, {\"dist_500m\": 1, \"dist_1500m\": 2, \"dist_4000m\": 5}, {\"dist_500m\": 11, \"dist_1500m\": 11, \"dist_4000m\": 26}, {\"dist_500m\": 11, \"dist_1500m\": 14, \"dist_4000m\": 26}, {\"dist_500m\": 1, \"dist_1500m\": 5, \"dist_4000m\": 23}, {\"dist_500m\": 1, \"dist_1500m\": 4, \"dist_4000m\": 5}, {\"dist_500m\": 3, \"dist_1500m\": 6, \"dist_4000m\": 11}, {\"dist_500m\": 11, \"dist_1500m\": 14, \"dist_4000m\": 26}, {\"dist_500m\": 18, \"dist_1500m\": 202, \"dist_4000m\": 320}, {\"dist_500m\": 4, \"dist_1500m\": 11, \"dist_4000m\": 24}, {\"dist_500m\": 43, \"dist_1500m\": 92, \"dist_4000m\": 111}, {\"dist_500m\": 1, \"dist_1500m\": 2, \"dist_4000m\": 16}, {\"dist_500m\": 14, \"dist_1500m\": 71, \"dist_4000m\": 311}, {\"dist_500m\": 12, \"dist_1500m\": 28, \"dist_4000m\": 40}, {\"dist_500m\": 18, \"dist_1500m\": 202, \"dist_4000m\": 320}, {\"dist_500m\": 5, \"dist_1500m\": 10, \"dist_4000m\": 23}, {\"dist_500m\": 2, \"dist_1500m\": 14, \"dist_4000m\": 57}, {\"dist_500m\": 15, \"dist_1500m\": 22, \"dist_4000m\": 123}, {\"dist_500m\": 14, \"dist_1500m\": 22, \"dist_4000m\": 124}, {\"dist_500m\": 1, \"dist_1500m\": 1, \"dist_4000m\": 9}, {\"dist_500m\": 29, \"dist_1500m\": 203, \"dist_4000m\": 314}, {\"dist_500m\": 1, \"dist_1500m\": 14, \"dist_4000m\": 242}, {\"dist_500m\": 1, \"dist_1500m\": 2, \"dist_4000m\": 8}, {\"dist_500m\": 1, \"dist_1500m\": 3, \"dist_4000m\": 12}, {\"dist_500m\": 2, \"dist_1500m\": 11, \"dist_4000m\": 49}, {\"dist_500m\": 2, \"dist_1500m\": 5, \"dist_4000m\": 13}, {\"dist_500m\": 2, \"dist_1500m\": 3, \"dist_4000m\": 16}, {\"dist_500m\": 4, \"dist_1500m\": 17, \"dist_4000m\": 51}, {\"dist_500m\": 6, \"dist_1500m\": 42, \"dist_4000m\": 102}, {\"dist_500m\": 3, \"dist_1500m\": 7, \"dist_4000m\": 12}, {\"dist_500m\": 4, \"dist_1500m\": 8, \"dist_4000m\": 36}, {\"dist_500m\": 2, \"dist_1500m\": 11, \"dist_4000m\": 65}, {\"dist_500m\": 1, \"dist_1500m\": 1, \"dist_4000m\": 1}, {\"dist_500m\": 47, \"dist_1500m\": 88, \"dist_4000m\": 111}, {\"dist_500m\": 1, \"dist_1500m\": 2, \"dist_4000m\": 4}, {\"dist_500m\": 3, \"dist_1500m\": 7, \"dist_4000m\": 29}, {\"dist_500m\": 3, \"dist_1500m\": 8, \"dist_4000m\": 18}, {\"dist_500m\": 55, \"dist_1500m\": 89, \"dist_4000m\": 111}, {\"dist_500m\": 1, \"dist_1500m\": 1, \"dist_4000m\": 1}, {\"dist_500m\": 23, \"dist_1500m\": 49, \"dist_4000m\": 75}, {\"dist_500m\": 25, \"dist_1500m\": 44, \"dist_4000m\": 75}, {\"dist_500m\": 1, \"dist_1500m\": 4, \"dist_4000m\": 17}, {\"dist_500m\": 1, \"dist_1500m\": 14, \"dist_4000m\": 47}, {\"dist_500m\": 8, \"dist_1500m\": 8, \"dist_4000m\": 12}, {\"dist_500m\": 1, \"dist_1500m\": 2, \"dist_4000m\": 8}, {\"dist_500m\": 32, \"dist_1500m\": 53, \"dist_4000m\": 133}, {\"dist_500m\": 19, \"dist_1500m\": 31, \"dist_4000m\": 76}, {\"dist_500m\": 2, \"dist_1500m\": 2, \"dist_4000m\": 2}, {\"dist_500m\": 16, \"dist_1500m\": 87, \"dist_4000m\": 314}, {\"dist_500m\": 16, \"dist_1500m\": 81, \"dist_4000m\": 310}, {\"dist_500m\": 5, \"dist_1500m\": 31, \"dist_4000m\": 40}, {\"dist_500m\": 1, \"dist_1500m\": 1, \"dist_4000m\": 1}, {\"dist_500m\": 11, \"dist_1500m\": 11, \"dist_4000m\": 26}, {\"dist_500m\": 11, \"dist_1500m\": 11, \"dist_4000m\": 26}, {\"dist_500m\": 11, \"dist_1500m\": 11, \"dist_4000m\": 26}, {\"dist_500m\": 2, \"dist_1500m\": 2, \"dist_4000m\": 6}, {\"dist_500m\": 1, \"dist_1500m\": 8, \"dist_4000m\": 21}, {\"dist_500m\": 2, \"dist_1500m\": 7, \"dist_4000m\": 18}, {\"dist_500m\": 11, \"dist_1500m\": 11, \"dist_4000m\": 11}, {\"dist_500m\": 9, \"dist_1500m\": 34, \"dist_4000m\": 76}, {\"dist_500m\": 2, \"dist_1500m\": 3, \"dist_4000m\": 39}, {\"dist_500m\": 2, \"dist_1500m\": 3, \"dist_4000m\": 5}, {\"dist_500m\": 2, \"dist_1500m\": 2, \"dist_4000m\": 19}, {\"dist_500m\": 1, \"dist_1500m\": 3, \"dist_4000m\": 11}, {\"dist_500m\": 1, \"dist_1500m\": 4, \"dist_4000m\": 7}, {\"dist_500m\": 3, \"dist_1500m\": 30, \"dist_4000m\": 84}, {\"dist_500m\": 6, \"dist_1500m\": 9, \"dist_4000m\": 13}, {\"dist_500m\": 6, \"dist_1500m\": 19, \"dist_4000m\": 33}, {\"dist_500m\": 1, \"dist_1500m\": 3, \"dist_4000m\": 6}, {\"dist_500m\": 2, \"dist_1500m\": 8, \"dist_4000m\": 18}, {\"dist_500m\": 5, \"dist_1500m\": 8, \"dist_4000m\": 19}, {\"dist_500m\": 6, \"dist_1500m\": 24, \"dist_4000m\": 117}, {\"dist_500m\": 3, \"dist_1500m\": 5, \"dist_4000m\": 5}, {\"dist_500m\": 2, \"dist_1500m\": 2, \"dist_4000m\": 16}, {\"dist_500m\": 2, \"dist_1500m\": 19, \"dist_4000m\": 99}, {\"dist_500m\": 2, \"dist_1500m\": 14, \"dist_4000m\": 71}, {\"dist_500m\": 3, \"dist_1500m\": 4, \"dist_4000m\": 11}, {\"dist_500m\": 2, \"dist_1500m\": 10, \"dist_4000m\": 37}, {\"dist_500m\": 2, \"dist_1500m\": 8, \"dist_4000m\": 23}, {\"dist_500m\": 57, \"dist_1500m\": 90, \"dist_4000m\": 111}, {\"dist_500m\": 53, \"dist_1500m\": 86, \"dist_4000m\": 111}, {\"dist_500m\": 4, \"dist_1500m\": 4, \"dist_4000m\": 6}, {\"dist_500m\": 4, \"dist_1500m\": 4, \"dist_4000m\": 6}, {\"dist_500m\": 2, \"dist_1500m\": 9, \"dist_4000m\": 24}, {\"dist_500m\": 2, \"dist_1500m\": 3, \"dist_4000m\": 12}, {\"dist_500m\": 2, \"dist_1500m\": 7, \"dist_4000m\": 15}, {\"dist_500m\": 1, \"dist_1500m\": 1, \"dist_4000m\": 2}, {\"dist_500m\": 1, \"dist_1500m\": 1, \"dist_4000m\": 1}, {\"dist_500m\": 23, \"dist_1500m\": 44, \"dist_4000m\": 75}, {\"dist_500m\": 3, \"dist_1500m\": 8, \"dist_4000m\": 25}, {\"dist_500m\": 6, \"dist_1500m\": 23, \"dist_4000m\": 100}, {\"dist_500m\": 1, \"dist_1500m\": 3, \"dist_4000m\": 9}, {\"dist_500m\": 3, \"dist_1500m\": 8, \"dist_4000m\": 19}, {\"dist_500m\": 8, \"dist_1500m\": 110, \"dist_4000m\": 306}, {\"dist_500m\": 1, \"dist_1500m\": 3, \"dist_4000m\": 29}, {\"dist_500m\": 1, \"dist_1500m\": 1, \"dist_4000m\": 1}, {\"dist_500m\": 2, \"dist_1500m\": 3, \"dist_4000m\": 5}, {\"dist_500m\": 4, \"dist_1500m\": 23, \"dist_4000m\": 100}, {\"dist_500m\": 2, \"dist_1500m\": 7, \"dist_4000m\": 17}, {\"dist_500m\": 2, \"dist_1500m\": 3, \"dist_4000m\": 12}, {\"dist_500m\": 1, \"dist_1500m\": 1, \"dist_4000m\": 1}, {\"dist_500m\": 3, \"dist_1500m\": 6, \"dist_4000m\": 14}, {\"dist_500m\": 1, \"dist_1500m\": 4, \"dist_4000m\": 24}, {\"dist_500m\": 1, \"dist_1500m\": 1, \"dist_4000m\": 8}, {\"dist_500m\": 17, \"dist_1500m\": 118, \"dist_4000m\": 307}, {\"dist_500m\": 17, \"dist_1500m\": 31, \"dist_4000m\": 77}, {\"dist_500m\": 1, \"dist_1500m\": 2, \"dist_4000m\": 2}, {\"dist_500m\": 1, \"dist_1500m\": 5, \"dist_4000m\": 11}, {\"dist_500m\": 2, \"dist_1500m\": 7, \"dist_4000m\": 17}, {\"dist_500m\": 1, \"dist_1500m\": 3, \"dist_4000m\": 4}, {\"dist_500m\": 1, \"dist_1500m\": 1, \"dist_4000m\": 5}, {\"dist_500m\": 8, \"dist_1500m\": 8, \"dist_4000m\": 8}, {\"dist_500m\": 1, \"dist_1500m\": 1, \"dist_4000m\": 10}, {\"dist_500m\": 35, \"dist_1500m\": 51, \"dist_4000m\": 152}, {\"dist_500m\": 3, \"dist_1500m\": 5, \"dist_4000m\": 19}, {\"dist_500m\": 2, \"dist_1500m\": 9, \"dist_4000m\": 26}, {\"dist_500m\": 4, \"dist_1500m\": 17, \"dist_4000m\": 53}, {\"dist_500m\": 11, \"dist_1500m\": 14, \"dist_4000m\": 26}, {\"dist_500m\": 2, \"dist_1500m\": 2, \"dist_4000m\": 6}, {\"dist_500m\": 11, \"dist_1500m\": 14, \"dist_4000m\": 26}, {\"dist_500m\": 11, \"dist_1500m\": 11, \"dist_4000m\": 26}, {\"dist_500m\": 1, \"dist_1500m\": 1, \"dist_4000m\": 3}, {\"dist_500m\": 2, \"dist_1500m\": 11, \"dist_4000m\": 88}, {\"dist_500m\": 15, \"dist_1500m\": 72, \"dist_4000m\": 307}, {\"dist_500m\": 1, \"dist_1500m\": 1, \"dist_4000m\": 3}, {\"dist_500m\": 13, \"dist_1500m\": 68, \"dist_4000m\": 102}, {\"dist_500m\": 2, \"dist_1500m\": 6, \"dist_4000m\": 10}, {\"dist_500m\": 20, \"dist_1500m\": 61, \"dist_4000m\": 124}, {\"dist_500m\": 35, \"dist_1500m\": 126, \"dist_4000m\": 310}, {\"dist_500m\": 2, \"dist_1500m\": 6, \"dist_4000m\": 17}, {\"dist_500m\": 4, \"dist_1500m\": 8, \"dist_4000m\": 28}, {\"dist_500m\": 1, \"dist_1500m\": 5, \"dist_4000m\": 19}, {\"dist_500m\": 5, \"dist_1500m\": 18, \"dist_4000m\": 74}, {\"dist_500m\": 8, \"dist_1500m\": 92, \"dist_4000m\": 104}, {\"dist_500m\": 3, \"dist_1500m\": 19, \"dist_4000m\": 56}, {\"dist_500m\": 1, \"dist_1500m\": 2, \"dist_4000m\": 2}, {\"dist_500m\": 37, \"dist_1500m\": 142, \"dist_4000m\": 316}, {\"dist_500m\": 37, \"dist_1500m\": 142, \"dist_4000m\": 316}, {\"dist_500m\": 1, \"dist_1500m\": 1, \"dist_4000m\": 6}, {\"dist_500m\": 1, \"dist_1500m\": 1, \"dist_4000m\": 9}, {\"dist_500m\": 1, \"dist_1500m\": 9, \"dist_4000m\": 24}, {\"dist_500m\": 55, \"dist_1500m\": 89, \"dist_4000m\": 111}, {\"dist_500m\": 15, \"dist_1500m\": 72, \"dist_4000m\": 307}, {\"dist_500m\": 4, \"dist_1500m\": 30, \"dist_4000m\": 74}, {\"dist_500m\": 1, \"dist_1500m\": 3, \"dist_4000m\": 15}, {\"dist_500m\": 6, \"dist_1500m\": 9, \"dist_4000m\": 28}, {\"dist_500m\": 2, \"dist_1500m\": 5, \"dist_4000m\": 15}, {\"dist_500m\": 1, \"dist_1500m\": 4, \"dist_4000m\": 27}, {\"dist_500m\": 1, \"dist_1500m\": 3, \"dist_4000m\": 18}, {\"dist_500m\": 1, \"dist_1500m\": 1, \"dist_4000m\": 1}, {\"dist_500m\": 2, \"dist_1500m\": 3, \"dist_4000m\": 19}, {\"dist_500m\": 4, \"dist_1500m\": 5, \"dist_4000m\": 5}, {\"dist_500m\": 1, \"dist_1500m\": 3, \"dist_4000m\": 3}, {\"dist_500m\": 1, \"dist_1500m\": 4, \"dist_4000m\": 12}, {\"dist_500m\": 1, \"dist_1500m\": 10, \"dist_4000m\": 53}, {\"dist_500m\": 1, \"dist_1500m\": 2, \"dist_4000m\": 20}, {\"dist_500m\": 30, \"dist_1500m\": 124, \"dist_4000m\": 340}, {\"dist_500m\": 1, \"dist_1500m\": 1, \"dist_4000m\": 4}, {\"dist_500m\": 1, \"dist_1500m\": 1, \"dist_4000m\": 6}, {\"dist_500m\": 1, \"dist_1500m\": 1, \"dist_4000m\": 1}, {\"dist_500m\": 5, \"dist_1500m\": 10, \"dist_4000m\": 41}, {\"dist_500m\": 1, \"dist_1500m\": 7, \"dist_4000m\": 19}, {\"dist_500m\": 12, \"dist_1500m\": 35, \"dist_4000m\": 82}, {\"dist_500m\": 1, \"dist_1500m\": 1, \"dist_4000m\": 1}, {\"dist_500m\": 3, \"dist_1500m\": 17, \"dist_4000m\": 66}, {\"dist_500m\": 12, \"dist_1500m\": 37, \"dist_4000m\": 40}, {\"dist_500m\": 5, \"dist_1500m\": 26, \"dist_4000m\": 87}, {\"dist_500m\": 4, \"dist_1500m\": 60, \"dist_4000m\": 110}, {\"dist_500m\": 13, \"dist_1500m\": 35, \"dist_4000m\": 81}, {\"dist_500m\": 13, \"dist_1500m\": 35, \"dist_4000m\": 81}, {\"dist_500m\": 2, \"dist_1500m\": 2, \"dist_4000m\": 5}, {\"dist_500m\": 2, \"dist_1500m\": 2, \"dist_4000m\": 2}, {\"dist_500m\": 1, \"dist_1500m\": 2, \"dist_4000m\": 5}, {\"dist_500m\": 3, \"dist_1500m\": 11, \"dist_4000m\": 48}, {\"dist_500m\": 45, \"dist_1500m\": 93, \"dist_4000m\": 110}, {\"dist_500m\": 3, \"dist_1500m\": 26, \"dist_4000m\": 84}, {\"dist_500m\": 37, \"dist_1500m\": 142, \"dist_4000m\": 316}, {\"dist_500m\": 37, \"dist_1500m\": 142, \"dist_4000m\": 316}, {\"dist_500m\": 13, \"dist_1500m\": 35, \"dist_4000m\": 81}, {\"dist_500m\": 37, \"dist_1500m\": 142, \"dist_4000m\": 316}, {\"dist_500m\": 13, \"dist_1500m\": 35, \"dist_4000m\": 81}, {\"dist_500m\": 24, \"dist_1500m\": 198, \"dist_4000m\": 310}, {\"dist_500m\": 2, \"dist_1500m\": 5, \"dist_4000m\": 54}, {\"dist_500m\": 1, \"dist_1500m\": 4, \"dist_4000m\": 12}, {\"dist_500m\": 6, \"dist_1500m\": 9, \"dist_4000m\": 27}, {\"dist_500m\": 6, \"dist_1500m\": 9, \"dist_4000m\": 28}, {\"dist_500m\": 6, \"dist_1500m\": 9, \"dist_4000m\": 26}, {\"dist_500m\": 7, \"dist_1500m\": 24, \"dist_4000m\": 34}, {\"dist_500m\": 3, \"dist_1500m\": 6, \"dist_4000m\": 15}, {\"dist_500m\": 3, \"dist_1500m\": 4, \"dist_4000m\": 12}, {\"dist_500m\": 2, \"dist_1500m\": 12, \"dist_4000m\": 43}, {\"dist_500m\": 43, \"dist_1500m\": 121, \"dist_4000m\": 302}, {\"dist_500m\": 4, \"dist_1500m\": 11, \"dist_4000m\": 23}, {\"dist_500m\": 1, \"dist_1500m\": 1, \"dist_4000m\": 3}, {\"dist_500m\": 3, \"dist_1500m\": 5, \"dist_4000m\": 8}, {\"dist_500m\": 3, \"dist_1500m\": 18, \"dist_4000m\": 84}, {\"dist_500m\": 7, \"dist_1500m\": 16, \"dist_4000m\": 40}, {\"dist_500m\": 3, \"dist_1500m\": 10, \"dist_4000m\": 51}, {\"dist_500m\": 3, \"dist_1500m\": 10, \"dist_4000m\": 52}, {\"dist_500m\": 3, \"dist_1500m\": 7, \"dist_4000m\": 39}, {\"dist_500m\": 5, \"dist_1500m\": 13, \"dist_4000m\": 80}, {\"dist_500m\": 11, \"dist_1500m\": 29, \"dist_4000m\": 232}, {\"dist_500m\": 13, \"dist_1500m\": 182, \"dist_4000m\": 311}, {\"dist_500m\": 3, \"dist_1500m\": 7, \"dist_4000m\": 20}, {\"dist_500m\": 1, \"dist_1500m\": 2, \"dist_4000m\": 23}, {\"dist_500m\": 1, \"dist_1500m\": 1, \"dist_4000m\": 1}, {\"dist_500m\": 1, \"dist_1500m\": 3, \"dist_4000m\": 12}, {\"dist_500m\": 1, \"dist_1500m\": 4, \"dist_4000m\": 5}, {\"dist_500m\": 14, \"dist_1500m\": 31, \"dist_4000m\": 76}, {\"dist_500m\": 13, \"dist_1500m\": 35, \"dist_4000m\": 81}, {\"dist_500m\": 19, \"dist_1500m\": 58, \"dist_4000m\": 102}, {\"dist_500m\": 42, \"dist_1500m\": 134, \"dist_4000m\": 306}, {\"dist_500m\": 20, \"dist_1500m\": 145, \"dist_4000m\": 299}, {\"dist_500m\": 1, \"dist_1500m\": 1, \"dist_4000m\": 1}, {\"dist_500m\": 1, \"dist_1500m\": 1, \"dist_4000m\": 5}, {\"dist_500m\": 3, \"dist_1500m\": 5, \"dist_4000m\": 5}, {\"dist_500m\": 3, \"dist_1500m\": 5, \"dist_4000m\": 5}, {\"dist_500m\": 55, \"dist_1500m\": 89, \"dist_4000m\": 111}, {\"dist_500m\": 3, \"dist_1500m\": 12, \"dist_4000m\": 69}, {\"dist_500m\": 1, \"dist_1500m\": 5, \"dist_4000m\": 22}, {\"dist_500m\": 1, \"dist_1500m\": 3, \"dist_4000m\": 39}, {\"dist_500m\": 10, \"dist_1500m\": 35, \"dist_4000m\": 75}, {\"dist_500m\": 2, \"dist_1500m\": 11, \"dist_4000m\": 24}, {\"dist_500m\": 1, \"dist_1500m\": 3, \"dist_4000m\": 10}, {\"dist_500m\": 3, \"dist_1500m\": 13, \"dist_4000m\": 72}, {\"dist_500m\": 10, \"dist_1500m\": 92, \"dist_4000m\": 105}, {\"dist_500m\": 13, \"dist_1500m\": 33, \"dist_4000m\": 76}, {\"dist_500m\": 1, \"dist_1500m\": 1, \"dist_4000m\": 1}, {\"dist_500m\": 20, \"dist_1500m\": 144, \"dist_4000m\": 299}, {\"dist_500m\": 1, \"dist_1500m\": 3, \"dist_4000m\": 9}, {\"dist_500m\": 3, \"dist_1500m\": 14, \"dist_4000m\": 80}, {\"dist_500m\": 1, \"dist_1500m\": 1, \"dist_4000m\": 1}, {\"dist_500m\": 3, \"dist_1500m\": 20, \"dist_4000m\": 148}, {\"dist_500m\": 1, \"dist_1500m\": 2, \"dist_4000m\": 9}, {\"dist_500m\": 1, \"dist_1500m\": 1, \"dist_4000m\": 2}, {\"dist_500m\": 3, \"dist_1500m\": 5, \"dist_4000m\": 12}, {\"dist_500m\": 1, \"dist_1500m\": 6, \"dist_4000m\": 11}, {\"dist_500m\": 1, \"dist_1500m\": 1, \"dist_4000m\": 1}, {\"dist_500m\": 1, \"dist_1500m\": 1, \"dist_4000m\": 5}, {\"dist_500m\": 13, \"dist_1500m\": 35, \"dist_4000m\": 81}, {\"dist_500m\": 1, \"dist_1500m\": 6, \"dist_4000m\": 10}, {\"dist_500m\": 2, \"dist_1500m\": 13, \"dist_4000m\": 34}, {\"dist_500m\": 3, \"dist_1500m\": 6, \"dist_4000m\": 15}, {\"dist_500m\": 6, \"dist_1500m\": 18, \"dist_4000m\": 66}, {\"dist_500m\": 19, \"dist_1500m\": 100, \"dist_4000m\": 305}, {\"dist_500m\": 15, \"dist_1500m\": 93, \"dist_4000m\": 302}, {\"dist_500m\": 1, \"dist_1500m\": 3, \"dist_4000m\": 26}, {\"dist_500m\": 1, \"dist_1500m\": 1, \"dist_4000m\": 21}, {\"dist_500m\": 22, \"dist_1500m\": 169, \"dist_4000m\": 328}, {\"dist_500m\": 1, \"dist_1500m\": 5, \"dist_4000m\": 32}, {\"dist_500m\": 1, \"dist_1500m\": 1, \"dist_4000m\": 15}, {\"dist_500m\": 2, \"dist_1500m\": 2, \"dist_4000m\": 3}, {\"dist_500m\": 10, \"dist_1500m\": 17, \"dist_4000m\": 19}, {\"dist_500m\": 1, \"dist_1500m\": 1, \"dist_4000m\": 3}, {\"dist_500m\": 6, \"dist_1500m\": 23, \"dist_4000m\": 101}, {\"dist_500m\": 24, \"dist_1500m\": 55, \"dist_4000m\": 126}, {\"dist_500m\": 1, \"dist_1500m\": 4, \"dist_4000m\": 18}, {\"dist_500m\": 1, \"dist_1500m\": 2, \"dist_4000m\": 6}, {\"dist_500m\": 2, \"dist_1500m\": 9, \"dist_4000m\": 32}, {\"dist_500m\": 2, \"dist_1500m\": 14, \"dist_4000m\": 50}, {\"dist_500m\": 3, \"dist_1500m\": 6, \"dist_4000m\": 19}, {\"dist_500m\": 1, \"dist_1500m\": 1, \"dist_4000m\": 8}, {\"dist_500m\": 1, \"dist_1500m\": 13, \"dist_4000m\": 20}, {\"dist_500m\": 1, \"dist_1500m\": 1, \"dist_4000m\": 1}, {\"dist_500m\": 1, \"dist_1500m\": 1, \"dist_4000m\": 1}, {\"dist_500m\": 1, \"dist_1500m\": 1, \"dist_4000m\": 7}, {\"dist_500m\": 3, \"dist_1500m\": 26, \"dist_4000m\": 67}, {\"dist_500m\": 9, \"dist_1500m\": 19, \"dist_4000m\": 33}, {\"dist_500m\": 2, \"dist_1500m\": 5, \"dist_4000m\": 21}, {\"dist_500m\": 1, \"dist_1500m\": 20, \"dist_4000m\": 129}, {\"dist_500m\": 1, \"dist_1500m\": 1, \"dist_4000m\": 2}, {\"dist_500m\": 1, \"dist_1500m\": 1, \"dist_4000m\": 4}, {\"dist_500m\": 8, \"dist_1500m\": 92, \"dist_4000m\": 105}, {\"dist_500m\": 2, \"dist_1500m\": 8, \"dist_4000m\": 15}, {\"dist_500m\": 2, \"dist_1500m\": 12, \"dist_4000m\": 55}, {\"dist_500m\": 5, \"dist_1500m\": 15, \"dist_4000m\": 19}, {\"dist_500m\": 2, \"dist_1500m\": 8, \"dist_4000m\": 28}, {\"dist_500m\": 3, \"dist_1500m\": 8, \"dist_4000m\": 18}, {\"dist_500m\": 53, \"dist_1500m\": 86, \"dist_4000m\": 111}, {\"dist_500m\": 3, \"dist_1500m\": 3, \"dist_4000m\": 6}, {\"dist_500m\": 1, \"dist_1500m\": 139, \"dist_4000m\": 312}, {\"dist_500m\": 2, \"dist_1500m\": 2, \"dist_4000m\": 2}, {\"dist_500m\": 1, \"dist_1500m\": 1, \"dist_4000m\": 1}, {\"dist_500m\": 1, \"dist_1500m\": 1, \"dist_4000m\": 2}, {\"dist_500m\": 1, \"dist_1500m\": 1, \"dist_4000m\": 9}, {\"dist_500m\": 8, \"dist_1500m\": 22, \"dist_4000m\": 106}, {\"dist_500m\": 8, \"dist_1500m\": 20, \"dist_4000m\": 107}, {\"dist_500m\": 17, \"dist_1500m\": 149, \"dist_4000m\": 308}, {\"dist_500m\": 38, \"dist_1500m\": 124, \"dist_4000m\": 303}, {\"dist_500m\": 38, \"dist_1500m\": 117, \"dist_4000m\": 302}, {\"dist_500m\": 1, \"dist_1500m\": 3, \"dist_4000m\": 8}, {\"dist_500m\": 3, \"dist_1500m\": 6, \"dist_4000m\": 19}, {\"dist_500m\": 1, \"dist_1500m\": 1, \"dist_4000m\": 2}, {\"dist_500m\": 47, \"dist_1500m\": 88, \"dist_4000m\": 111}, {\"dist_500m\": 20, \"dist_1500m\": 113, \"dist_4000m\": 347}, {\"dist_500m\": 1, \"dist_1500m\": 1, \"dist_4000m\": 3}, {\"dist_500m\": 6, \"dist_1500m\": 9, \"dist_4000m\": 28}, {\"dist_500m\": 1, \"dist_1500m\": 1, \"dist_4000m\": 6}, {\"dist_500m\": 1, \"dist_1500m\": 3, \"dist_4000m\": 27}, {\"dist_500m\": 23, \"dist_1500m\": 150, \"dist_4000m\": 344}, {\"dist_500m\": 4, \"dist_1500m\": 9, \"dist_4000m\": 31}, {\"dist_500m\": 5, \"dist_1500m\": 22, \"dist_4000m\": 32}, {\"dist_500m\": 1, \"dist_1500m\": 8, \"dist_4000m\": 13}, {\"dist_500m\": 2, \"dist_1500m\": 6, \"dist_4000m\": 36}, {\"dist_500m\": 20, \"dist_1500m\": 73, \"dist_4000m\": 122}, {\"dist_500m\": 14, \"dist_1500m\": 66, \"dist_4000m\": 122}, {\"dist_500m\": 16, \"dist_1500m\": 73, \"dist_4000m\": 122}, {\"dist_500m\": 20, \"dist_1500m\": 73, \"dist_4000m\": 122}, {\"dist_500m\": 14, \"dist_1500m\": 23, \"dist_4000m\": 124}, {\"dist_500m\": 1, \"dist_1500m\": 3, \"dist_4000m\": 10}, {\"dist_500m\": 20, \"dist_1500m\": 73, \"dist_4000m\": 122}, {\"dist_500m\": 15, \"dist_1500m\": 73, \"dist_4000m\": 122}, {\"dist_500m\": 26, \"dist_1500m\": 50, \"dist_4000m\": 172}, {\"dist_500m\": 2, \"dist_1500m\": 16, \"dist_4000m\": 57}, {\"dist_500m\": 1, \"dist_1500m\": 3, \"dist_4000m\": 32}, {\"dist_500m\": 3, \"dist_1500m\": 11, \"dist_4000m\": 97}, {\"dist_500m\": 1, \"dist_1500m\": 2, \"dist_4000m\": 10}, {\"dist_500m\": 1, \"dist_1500m\": 2, \"dist_4000m\": 2}, {\"dist_500m\": 1, \"dist_1500m\": 4, \"dist_4000m\": 33}, {\"dist_500m\": 1, \"dist_1500m\": 1, \"dist_4000m\": 6}, {\"dist_500m\": 1, \"dist_1500m\": 6, \"dist_4000m\": 18}, {\"dist_500m\": 1, \"dist_1500m\": 2, \"dist_4000m\": 4}, {\"dist_500m\": 6, \"dist_1500m\": 11, \"dist_4000m\": 80}, {\"dist_500m\": 5, \"dist_1500m\": 7, \"dist_4000m\": 41}, {\"dist_500m\": 3, \"dist_1500m\": 12, \"dist_4000m\": 96}, {\"dist_500m\": 1, \"dist_1500m\": 1, \"dist_4000m\": 1}, {\"dist_500m\": 34, \"dist_1500m\": 53, \"dist_4000m\": 133}, {\"dist_500m\": 1, \"dist_1500m\": 1, \"dist_4000m\": 3}, {\"dist_500m\": 1, \"dist_1500m\": 2, \"dist_4000m\": 6}, {\"dist_500m\": 2, \"dist_1500m\": 6, \"dist_4000m\": 21}, {\"dist_500m\": 1, \"dist_1500m\": 34, \"dist_4000m\": 105}, {\"dist_500m\": 1, \"dist_1500m\": 1, \"dist_4000m\": 1}, {\"dist_500m\": 27, \"dist_1500m\": 50, \"dist_4000m\": 75}, {\"dist_500m\": 2, \"dist_1500m\": 10, \"dist_4000m\": 203}, {\"dist_500m\": 23, \"dist_1500m\": 44, \"dist_4000m\": 75}, {\"dist_500m\": 1, \"dist_1500m\": 1, \"dist_4000m\": 2}, {\"dist_500m\": 1, \"dist_1500m\": 1, \"dist_4000m\": 1}, {\"dist_500m\": 1, \"dist_1500m\": 3, \"dist_4000m\": 10}, {\"dist_500m\": 2, \"dist_1500m\": 7, \"dist_4000m\": 34}, {\"dist_500m\": 4, \"dist_1500m\": 8, \"dist_4000m\": 36}, {\"dist_500m\": 4, \"dist_1500m\": 4, \"dist_4000m\": 4}, {\"dist_500m\": 1, \"dist_1500m\": 1, \"dist_4000m\": 2}, {\"dist_500m\": 2, \"dist_1500m\": 3, \"dist_4000m\": 5}, {\"dist_500m\": 1, \"dist_1500m\": 1, \"dist_4000m\": 1}, {\"dist_500m\": 25, \"dist_1500m\": 44, \"dist_4000m\": 75}, {\"dist_500m\": 2, \"dist_1500m\": 7, \"dist_4000m\": 13}, {\"dist_500m\": 27, \"dist_1500m\": 44, \"dist_4000m\": 75}, {\"dist_500m\": 1, \"dist_1500m\": 2, \"dist_4000m\": 3}, {\"dist_500m\": 1, \"dist_1500m\": 2, \"dist_4000m\": 10}, {\"dist_500m\": 1, \"dist_1500m\": 1, \"dist_4000m\": 7}, {\"dist_500m\": 1, \"dist_1500m\": 1, \"dist_4000m\": 1}, {\"dist_500m\": 1, \"dist_1500m\": 4, \"dist_4000m\": 15}, {\"dist_500m\": 1, \"dist_1500m\": 2, \"dist_4000m\": 7}, {\"dist_500m\": 1, \"dist_1500m\": 4, \"dist_4000m\": 11}, {\"dist_500m\": 1, \"dist_1500m\": 10, \"dist_4000m\": 47}, {\"dist_500m\": 8, \"dist_1500m\": 46, \"dist_4000m\": 308}, {\"dist_500m\": 57, \"dist_1500m\": 92, \"dist_4000m\": 111}, {\"dist_500m\": 1, \"dist_1500m\": 1, \"dist_4000m\": 1}, {\"dist_500m\": 1, \"dist_1500m\": 1, \"dist_4000m\": 10}, {\"dist_500m\": 1, \"dist_1500m\": 1, \"dist_4000m\": 8}, {\"dist_500m\": 1, \"dist_1500m\": 8, \"dist_4000m\": 25}, {\"dist_500m\": 1, \"dist_1500m\": 6, \"dist_4000m\": 17}, {\"dist_500m\": 6, \"dist_1500m\": 32, \"dist_4000m\": 102}, {\"dist_500m\": 1, \"dist_1500m\": 1, \"dist_4000m\": 1}, {\"dist_500m\": 1, \"dist_1500m\": 2, \"dist_4000m\": 11}, {\"dist_500m\": 1, \"dist_1500m\": 1, \"dist_4000m\": 1}, {\"dist_500m\": 13, \"dist_1500m\": 81, \"dist_4000m\": 313}, {\"dist_500m\": 13, \"dist_1500m\": 81, \"dist_4000m\": 313}, {\"dist_500m\": 13, \"dist_1500m\": 81, \"dist_4000m\": 313}, {\"dist_500m\": 13, \"dist_1500m\": 81, \"dist_4000m\": 313}, {\"dist_500m\": 4, \"dist_1500m\": 5, \"dist_4000m\": 16}, {\"dist_500m\": 1, \"dist_1500m\": 4, \"dist_4000m\": 18}, {\"dist_500m\": 15, \"dist_1500m\": 62, \"dist_4000m\": 100}, {\"dist_500m\": 1, \"dist_1500m\": 3, \"dist_4000m\": 7}, {\"dist_500m\": 1, \"dist_1500m\": 2, \"dist_4000m\": 10}, {\"dist_500m\": 1, \"dist_1500m\": 2, \"dist_4000m\": 2}, {\"dist_500m\": 3, \"dist_1500m\": 4, \"dist_4000m\": 11}, {\"dist_500m\": 7, \"dist_1500m\": 7, \"dist_4000m\": 7}, {\"dist_500m\": 20, \"dist_1500m\": 61, \"dist_4000m\": 122}, {\"dist_500m\": 1, \"dist_1500m\": 3, \"dist_4000m\": 25}, {\"dist_500m\": 1, \"dist_1500m\": 3, \"dist_4000m\": 12}, {\"dist_500m\": 2, \"dist_1500m\": 2, \"dist_4000m\": 11}, {\"dist_500m\": 1, \"dist_1500m\": 14, \"dist_4000m\": 88}, {\"dist_500m\": 7, \"dist_1500m\": 35, \"dist_4000m\": 102}, {\"dist_500m\": 2, \"dist_1500m\": 5, \"dist_4000m\": 10}, {\"dist_500m\": 2, \"dist_1500m\": 5, \"dist_4000m\": 34}, {\"dist_500m\": 6, \"dist_1500m\": 20, \"dist_4000m\": 48}, {\"dist_500m\": 1, \"dist_1500m\": 1, \"dist_4000m\": 1}, {\"dist_500m\": 13, \"dist_1500m\": 33, \"dist_4000m\": 76}, {\"dist_500m\": 7, \"dist_1500m\": 12, \"dist_4000m\": 13}, {\"dist_500m\": 1, \"dist_1500m\": 3, \"dist_4000m\": 6}, {\"dist_500m\": 27, \"dist_1500m\": 44, \"dist_4000m\": 75}, {\"dist_500m\": 13, \"dist_1500m\": 81, \"dist_4000m\": 313}, {\"dist_500m\": 3, \"dist_1500m\": 11, \"dist_4000m\": 24}, {\"dist_500m\": 4, \"dist_1500m\": 7, \"dist_4000m\": 110}, {\"dist_500m\": 1, \"dist_1500m\": 3, \"dist_4000m\": 10}, {\"dist_500m\": 1, \"dist_1500m\": 18, \"dist_4000m\": 112}, {\"dist_500m\": 17, \"dist_1500m\": 93, \"dist_4000m\": 108}, {\"dist_500m\": 3, \"dist_1500m\": 10, \"dist_4000m\": 45}, {\"dist_500m\": 1, \"dist_1500m\": 1, \"dist_4000m\": 1}, {\"dist_500m\": 9, \"dist_1500m\": 92, \"dist_4000m\": 105}, {\"dist_500m\": 15, \"dist_1500m\": 62, \"dist_4000m\": 100}, {\"dist_500m\": 15, \"dist_1500m\": 64, \"dist_4000m\": 100}, {\"dist_500m\": 2, \"dist_1500m\": 10, \"dist_4000m\": 29}, {\"dist_500m\": 1, \"dist_1500m\": 2, \"dist_4000m\": 11}, {\"dist_500m\": 13, \"dist_1500m\": 81, \"dist_4000m\": 313}, {\"dist_500m\": 1, \"dist_1500m\": 1, \"dist_4000m\": 4}, {\"dist_500m\": 53, \"dist_1500m\": 89, \"dist_4000m\": 111}, {\"dist_500m\": 3, \"dist_1500m\": 6, \"dist_4000m\": 18}, {\"dist_500m\": 1, \"dist_1500m\": 12, \"dist_4000m\": 65}, {\"dist_500m\": 2, \"dist_1500m\": 3, \"dist_4000m\": 11}, {\"dist_500m\": 1, \"dist_1500m\": 12, \"dist_4000m\": 44}, {\"dist_500m\": 1, \"dist_1500m\": 6, \"dist_4000m\": 71}, {\"dist_500m\": 3, \"dist_1500m\": 11, \"dist_4000m\": 22}, {\"dist_500m\": 8, \"dist_1500m\": 28, \"dist_4000m\": 131}, {\"dist_500m\": 56, \"dist_1500m\": 92, \"dist_4000m\": 111}, {\"dist_500m\": 11, \"dist_1500m\": 11, \"dist_4000m\": 11}, {\"dist_500m\": 1, \"dist_1500m\": 1, \"dist_4000m\": 2}, {\"dist_500m\": 1, \"dist_1500m\": 8, \"dist_4000m\": 46}, {\"dist_500m\": 1, \"dist_1500m\": 2, \"dist_4000m\": 8}, {\"dist_500m\": 26, \"dist_1500m\": 59, \"dist_4000m\": 101}, {\"dist_500m\": 2, \"dist_1500m\": 3, \"dist_4000m\": 16}, {\"dist_500m\": 5, \"dist_1500m\": 32, \"dist_4000m\": 151}, {\"dist_500m\": 1, \"dist_1500m\": 1, \"dist_4000m\": 1}, {\"dist_500m\": 3, \"dist_1500m\": 19, \"dist_4000m\": 88}, {\"dist_500m\": 1, \"dist_1500m\": 1, \"dist_4000m\": 2}, {\"dist_500m\": 1, \"dist_1500m\": 13, \"dist_4000m\": 20}, {\"dist_500m\": 2, \"dist_1500m\": 5, \"dist_4000m\": 7}, {\"dist_500m\": 4, \"dist_1500m\": 4, \"dist_4000m\": 4}, {\"dist_500m\": 1, \"dist_1500m\": 1, \"dist_4000m\": 3}, {\"dist_500m\": 4, \"dist_1500m\": 13, \"dist_4000m\": 40}, {\"dist_500m\": 1, \"dist_1500m\": 1, \"dist_4000m\": 7}, {\"dist_500m\": 40, \"dist_1500m\": 145, \"dist_4000m\": 332}, {\"dist_500m\": 40, \"dist_1500m\": 144, \"dist_4000m\": 331}, {\"dist_500m\": 1, \"dist_1500m\": 10, \"dist_4000m\": 29}, {\"dist_500m\": 1, \"dist_1500m\": 1, \"dist_4000m\": 2}, {\"dist_500m\": 5, \"dist_1500m\": 18, \"dist_4000m\": 64}, {\"dist_500m\": 27, \"dist_1500m\": 138, \"dist_4000m\": 342}, {\"dist_500m\": 26, \"dist_1500m\": 161, \"dist_4000m\": 333}, {\"dist_500m\": 1, \"dist_1500m\": 2, \"dist_4000m\": 2}, {\"dist_500m\": 1, \"dist_1500m\": 1, \"dist_4000m\": 12}, {\"dist_500m\": 1, \"dist_1500m\": 9, \"dist_4000m\": 45}, {\"dist_500m\": 3, \"dist_1500m\": 9, \"dist_4000m\": 29}, {\"dist_500m\": 11, \"dist_1500m\": 59, \"dist_4000m\": 125}, {\"dist_500m\": 2, \"dist_1500m\": 2, \"dist_4000m\": 2}, {\"dist_500m\": 1, \"dist_1500m\": 3, \"dist_4000m\": 33}, {\"dist_500m\": 44, \"dist_1500m\": 90, \"dist_4000m\": 111}, {\"dist_500m\": 2, \"dist_1500m\": 13, \"dist_4000m\": 61}, {\"dist_500m\": 1, \"dist_1500m\": 1, \"dist_4000m\": 3}, {\"dist_500m\": 3, \"dist_1500m\": 6, \"dist_4000m\": 16}, {\"dist_500m\": 7, \"dist_1500m\": 45, \"dist_4000m\": 103}, {\"dist_500m\": 1, \"dist_1500m\": 1, \"dist_4000m\": 13}, {\"dist_500m\": 16, \"dist_1500m\": 93, \"dist_4000m\": 109}, {\"dist_500m\": 1, \"dist_1500m\": 2, \"dist_4000m\": 4}, {\"dist_500m\": 1, \"dist_1500m\": 1, \"dist_4000m\": 4}, {\"dist_500m\": 5, \"dist_1500m\": 9, \"dist_4000m\": 20}, {\"dist_500m\": 2, \"dist_1500m\": 2, \"dist_4000m\": 2}, {\"dist_500m\": 2, \"dist_1500m\": 6, \"dist_4000m\": 20}, {\"dist_500m\": 19, \"dist_1500m\": 57, \"dist_4000m\": 125}, {\"dist_500m\": 2, \"dist_1500m\": 5, \"dist_4000m\": 19}, {\"dist_500m\": 1, \"dist_1500m\": 1, \"dist_4000m\": 6}, {\"dist_500m\": 3, \"dist_1500m\": 9, \"dist_4000m\": 14}, {\"dist_500m\": 3, \"dist_1500m\": 5, \"dist_4000m\": 18}, {\"dist_500m\": 1, \"dist_1500m\": 2, \"dist_4000m\": 16}, {\"dist_500m\": 5, \"dist_1500m\": 16, \"dist_4000m\": 69}, {\"dist_500m\": 5, \"dist_1500m\": 16, \"dist_4000m\": 69}, {\"dist_500m\": 3, \"dist_1500m\": 12, \"dist_4000m\": 52}, {\"dist_500m\": 2, \"dist_1500m\": 9, \"dist_4000m\": 14}, {\"dist_500m\": 1, \"dist_1500m\": 3, \"dist_4000m\": 13}, {\"dist_500m\": 1, \"dist_1500m\": 2, \"dist_4000m\": 4}, {\"dist_500m\": 3, \"dist_1500m\": 10, \"dist_4000m\": 14}, {\"dist_500m\": 6, \"dist_1500m\": 14, \"dist_4000m\": 45}, {\"dist_500m\": 10, \"dist_1500m\": 36, \"dist_4000m\": 301}, {\"dist_500m\": 3, \"dist_1500m\": 6, \"dist_4000m\": 24}, {\"dist_500m\": 3, \"dist_1500m\": 40, \"dist_4000m\": 102}, {\"dist_500m\": 1, \"dist_1500m\": 2, \"dist_4000m\": 12}, {\"dist_500m\": 8, \"dist_1500m\": 29, \"dist_4000m\": 75}, {\"dist_500m\": 8, \"dist_1500m\": 28, \"dist_4000m\": 75}, {\"dist_500m\": 1, \"dist_1500m\": 4, \"dist_4000m\": 19}, {\"dist_500m\": 1, \"dist_1500m\": 1, \"dist_4000m\": 6}, {\"dist_500m\": 1, \"dist_1500m\": 4, \"dist_4000m\": 23}, {\"dist_500m\": 2, \"dist_1500m\": 5, \"dist_4000m\": 6}, {\"dist_500m\": 2, \"dist_1500m\": 20, \"dist_4000m\": 51}, {\"dist_500m\": 1, \"dist_1500m\": 2, \"dist_4000m\": 17}, {\"dist_500m\": 51, \"dist_1500m\": 151, \"dist_4000m\": 304}, {\"dist_500m\": 1, \"dist_1500m\": 2, \"dist_4000m\": 8}, {\"dist_500m\": 1, \"dist_1500m\": 1, \"dist_4000m\": 1}, {\"dist_500m\": 14, \"dist_1500m\": 151, \"dist_4000m\": 325}, {\"dist_500m\": 1, \"dist_1500m\": 3, \"dist_4000m\": 15}, {\"dist_500m\": 2, \"dist_1500m\": 5, \"dist_4000m\": 32}, {\"dist_500m\": 4, \"dist_1500m\": 23, \"dist_4000m\": 101}, {\"dist_500m\": 2, \"dist_1500m\": 16, \"dist_4000m\": 110}, {\"dist_500m\": 4, \"dist_1500m\": 27, \"dist_4000m\": 139}, {\"dist_500m\": 15, \"dist_1500m\": 170, \"dist_4000m\": 332}, {\"dist_500m\": 14, \"dist_1500m\": 151, \"dist_4000m\": 325}, {\"dist_500m\": 14, \"dist_1500m\": 150, \"dist_4000m\": 341}, {\"dist_500m\": 2, \"dist_1500m\": 2, \"dist_4000m\": 5}, {\"dist_500m\": 15, \"dist_1500m\": 54, \"dist_4000m\": 306}, {\"dist_500m\": 1, \"dist_1500m\": 5, \"dist_4000m\": 13}, {\"dist_500m\": 1, \"dist_1500m\": 2, \"dist_4000m\": 6}, {\"dist_500m\": 7, \"dist_1500m\": 18, \"dist_4000m\": 73}, {\"dist_500m\": 1, \"dist_1500m\": 3, \"dist_4000m\": 4}, {\"dist_500m\": 2, \"dist_1500m\": 5, \"dist_4000m\": 15}, {\"dist_500m\": 2, \"dist_1500m\": 23, \"dist_4000m\": 270}, {\"dist_500m\": 4, \"dist_1500m\": 12, \"dist_4000m\": 44}, {\"dist_500m\": 23, \"dist_1500m\": 46, \"dist_4000m\": 75}, {\"dist_500m\": 27, \"dist_1500m\": 44, \"dist_4000m\": 75}, {\"dist_500m\": 26, \"dist_1500m\": 44, \"dist_4000m\": 75}, {\"dist_500m\": 6, \"dist_1500m\": 30, \"dist_4000m\": 76}, {\"dist_500m\": 1, \"dist_1500m\": 7, \"dist_4000m\": 27}, {\"dist_500m\": 5, \"dist_1500m\": 10, \"dist_4000m\": 19}, {\"dist_500m\": 1, \"dist_1500m\": 2, \"dist_4000m\": 22}, {\"dist_500m\": 43, \"dist_1500m\": 144, \"dist_4000m\": 303}, {\"dist_500m\": 1, \"dist_1500m\": 3, \"dist_4000m\": 6}, {\"dist_500m\": 19, \"dist_1500m\": 130, \"dist_4000m\": 311}, {\"dist_500m\": 3, \"dist_1500m\": 10, \"dist_4000m\": 53}, {\"dist_500m\": 5, \"dist_1500m\": 38, \"dist_4000m\": 105}, {\"dist_500m\": 2, \"dist_1500m\": 2, \"dist_4000m\": 3}, {\"dist_500m\": 8, \"dist_1500m\": 8, \"dist_4000m\": 13}, {\"dist_500m\": 8, \"dist_1500m\": 8, \"dist_4000m\": 12}, {\"dist_500m\": 3, \"dist_1500m\": 12, \"dist_4000m\": 53}, {\"dist_500m\": 6, \"dist_1500m\": 9, \"dist_4000m\": 10}, {\"dist_500m\": 3, \"dist_1500m\": 4, \"dist_4000m\": 70}, {\"dist_500m\": 7, \"dist_1500m\": 7, \"dist_4000m\": 7}, {\"dist_500m\": 7, \"dist_1500m\": 7, \"dist_4000m\": 7}, {\"dist_500m\": 2, \"dist_1500m\": 5, \"dist_4000m\": 68}, {\"dist_500m\": 12, \"dist_1500m\": 34, \"dist_4000m\": 40}, {\"dist_500m\": 4, \"dist_1500m\": 29, \"dist_4000m\": 140}, {\"dist_500m\": 2, \"dist_1500m\": 2, \"dist_4000m\": 2}, {\"dist_500m\": 1, \"dist_1500m\": 1, \"dist_4000m\": 1}, {\"dist_500m\": 26, \"dist_1500m\": 60, \"dist_4000m\": 101}, {\"dist_500m\": 1, \"dist_1500m\": 2, \"dist_4000m\": 10}, {\"dist_500m\": 1, \"dist_1500m\": 1, \"dist_4000m\": 3}, {\"dist_500m\": 14, \"dist_1500m\": 151, \"dist_4000m\": 325}, {\"dist_500m\": 14, \"dist_1500m\": 151, \"dist_4000m\": 325}, {\"dist_500m\": 43, \"dist_1500m\": 90, \"dist_4000m\": 111}, {\"dist_500m\": 64, \"dist_1500m\": 92, \"dist_4000m\": 111}, {\"dist_500m\": 1, \"dist_1500m\": 5, \"dist_4000m\": 12}, {\"dist_500m\": 1, \"dist_1500m\": 1, \"dist_4000m\": 1}, {\"dist_500m\": 1, \"dist_1500m\": 1, \"dist_4000m\": 3}, {\"dist_500m\": 1, \"dist_1500m\": 1, \"dist_4000m\": 4}, {\"dist_500m\": 5, \"dist_1500m\": 7, \"dist_4000m\": 38}, {\"dist_500m\": 1, \"dist_1500m\": 1, \"dist_4000m\": 3}, {\"dist_500m\": 2, \"dist_1500m\": 7, \"dist_4000m\": 19}, {\"dist_500m\": 14, \"dist_1500m\": 151, \"dist_4000m\": 325}, {\"dist_500m\": 15, \"dist_1500m\": 170, \"dist_4000m\": 332}, {\"dist_500m\": 1, \"dist_1500m\": 1, \"dist_4000m\": 4}, {\"dist_500m\": 5, \"dist_1500m\": 31, \"dist_4000m\": 70}, {\"dist_500m\": 5, \"dist_1500m\": 7, \"dist_4000m\": 51}, {\"dist_500m\": 5, \"dist_1500m\": 6, \"dist_4000m\": 39}, {\"dist_500m\": 3, \"dist_1500m\": 6, \"dist_4000m\": 14}, {\"dist_500m\": 2, \"dist_1500m\": 13, \"dist_4000m\": 92}, {\"dist_500m\": 3, \"dist_1500m\": 8, \"dist_4000m\": 23}, {\"dist_500m\": 1, \"dist_1500m\": 5, \"dist_4000m\": 25}, {\"dist_500m\": 3, \"dist_1500m\": 12, \"dist_4000m\": 30}, {\"dist_500m\": 4, \"dist_1500m\": 25, \"dist_4000m\": 126}, {\"dist_500m\": 1, \"dist_1500m\": 3, \"dist_4000m\": 10}, {\"dist_500m\": 15, \"dist_1500m\": 30, \"dist_4000m\": 76}, {\"dist_500m\": 24, \"dist_1500m\": 59, \"dist_4000m\": 129}, {\"dist_500m\": 10, \"dist_1500m\": 29, \"dist_4000m\": 75}, {\"dist_500m\": 5, \"dist_1500m\": 7, \"dist_4000m\": 38}, {\"dist_500m\": 1, \"dist_1500m\": 4, \"dist_4000m\": 8}, {\"dist_500m\": 2, \"dist_1500m\": 3, \"dist_4000m\": 15}, {\"dist_500m\": 11, \"dist_1500m\": 11, \"dist_4000m\": 11}, {\"dist_500m\": 9, \"dist_1500m\": 41, \"dist_4000m\": 131}, {\"dist_500m\": 9, \"dist_1500m\": 43, \"dist_4000m\": 131}, {\"dist_500m\": 10, \"dist_1500m\": 43, \"dist_4000m\": 129}, {\"dist_500m\": 1, \"dist_1500m\": 1, \"dist_4000m\": 1}, {\"dist_500m\": 30, \"dist_1500m\": 206, \"dist_4000m\": 321}, {\"dist_500m\": 7, \"dist_1500m\": 17, \"dist_4000m\": 74}, {\"dist_500m\": 15, \"dist_1500m\": 170, \"dist_4000m\": 332}, {\"dist_500m\": 15, \"dist_1500m\": 170, \"dist_4000m\": 332}, {\"dist_500m\": 3, \"dist_1500m\": 6, \"dist_4000m\": 34}, {\"dist_500m\": 10, \"dist_1500m\": 33, \"dist_4000m\": 122}, {\"dist_500m\": 14, \"dist_1500m\": 68, \"dist_4000m\": 121}, {\"dist_500m\": 18, \"dist_1500m\": 74, \"dist_4000m\": 122}, {\"dist_500m\": 20, \"dist_1500m\": 73, \"dist_4000m\": 122}, {\"dist_500m\": 19, \"dist_1500m\": 72, \"dist_4000m\": 122}, {\"dist_500m\": 17, \"dist_1500m\": 73, \"dist_4000m\": 122}, {\"dist_500m\": 20, \"dist_1500m\": 73, \"dist_4000m\": 122}, {\"dist_500m\": 23, \"dist_1500m\": 44, \"dist_4000m\": 75}, {\"dist_500m\": 5, \"dist_1500m\": 20, \"dist_4000m\": 33}, {\"dist_500m\": 1, \"dist_1500m\": 2, \"dist_4000m\": 2}, {\"dist_500m\": 2, \"dist_1500m\": 5, \"dist_4000m\": 26}, {\"dist_500m\": 7, \"dist_1500m\": 32, \"dist_4000m\": 62}, {\"dist_500m\": 6, \"dist_1500m\": 31, \"dist_4000m\": 62}, {\"dist_500m\": 1, \"dist_1500m\": 1, \"dist_4000m\": 6}, {\"dist_500m\": 2, \"dist_1500m\": 3, \"dist_4000m\": 11}, {\"dist_500m\": 25, \"dist_1500m\": 44, \"dist_4000m\": 75}, {\"dist_500m\": 2, \"dist_1500m\": 2, \"dist_4000m\": 2}, {\"dist_500m\": 2, \"dist_1500m\": 6, \"dist_4000m\": 13}, {\"dist_500m\": 20, \"dist_1500m\": 115, \"dist_4000m\": 305}, {\"dist_500m\": 5, \"dist_1500m\": 73, \"dist_4000m\": 319}, {\"dist_500m\": 1, \"dist_1500m\": 3, \"dist_4000m\": 13}, {\"dist_500m\": 4, \"dist_1500m\": 37, \"dist_4000m\": 106}, {\"dist_500m\": 5, \"dist_1500m\": 6, \"dist_4000m\": 18}, {\"dist_500m\": 23, \"dist_1500m\": 23, \"dist_4000m\": 23}, {\"dist_500m\": 23, \"dist_1500m\": 23, \"dist_4000m\": 23}, {\"dist_500m\": 10, \"dist_1500m\": 17, \"dist_4000m\": 19}, {\"dist_500m\": 6, \"dist_1500m\": 6, \"dist_4000m\": 18}, {\"dist_500m\": 23, \"dist_1500m\": 23, \"dist_4000m\": 23}, {\"dist_500m\": 23, \"dist_1500m\": 23, \"dist_4000m\": 23}, {\"dist_500m\": 5, \"dist_1500m\": 6, \"dist_4000m\": 18}, {\"dist_500m\": 23, \"dist_1500m\": 23, \"dist_4000m\": 23}, {\"dist_500m\": 23, \"dist_1500m\": 23, \"dist_4000m\": 23}, {\"dist_500m\": 3, \"dist_1500m\": 6, \"dist_4000m\": 19}, {\"dist_500m\": 14, \"dist_1500m\": 151, \"dist_4000m\": 325}, {\"dist_500m\": 1, \"dist_1500m\": 1, \"dist_4000m\": 1}, {\"dist_500m\": 1, \"dist_1500m\": 9, \"dist_4000m\": 47}, {\"dist_500m\": 1, \"dist_1500m\": 2, \"dist_4000m\": 2}, {\"dist_500m\": 5, \"dist_1500m\": 6, \"dist_4000m\": 18}, {\"dist_500m\": 23, \"dist_1500m\": 23, \"dist_4000m\": 23}, {\"dist_500m\": 23, \"dist_1500m\": 23, \"dist_4000m\": 23}, {\"dist_500m\": 6, \"dist_1500m\": 6, \"dist_4000m\": 19}, {\"dist_500m\": 23, \"dist_1500m\": 23, \"dist_4000m\": 23}, {\"dist_500m\": 23, \"dist_1500m\": 23, \"dist_4000m\": 23}, {\"dist_500m\": 8, \"dist_1500m\": 49, \"dist_4000m\": 308}, {\"dist_500m\": 2, \"dist_1500m\": 5, \"dist_4000m\": 37}, {\"dist_500m\": 10, \"dist_1500m\": 28, \"dist_4000m\": 102}, {\"dist_500m\": 7, \"dist_1500m\": 27, \"dist_4000m\": 103}, {\"dist_500m\": 9, \"dist_1500m\": 33, \"dist_4000m\": 102}, {\"dist_500m\": 6, \"dist_1500m\": 13, \"dist_4000m\": 105}, {\"dist_500m\": 6, \"dist_1500m\": 14, \"dist_4000m\": 99}, {\"dist_500m\": 7, \"dist_1500m\": 12, \"dist_4000m\": 106}, {\"dist_500m\": 2, \"dist_1500m\": 11, \"dist_4000m\": 83}, {\"dist_500m\": 1, \"dist_1500m\": 4, \"dist_4000m\": 14}, {\"dist_500m\": 3, \"dist_1500m\": 3, \"dist_4000m\": 3}, {\"dist_500m\": 23, \"dist_1500m\": 23, \"dist_4000m\": 23}, {\"dist_500m\": 23, \"dist_1500m\": 23, \"dist_4000m\": 23}, {\"dist_500m\": 23, \"dist_1500m\": 23, \"dist_4000m\": 23}, {\"dist_500m\": 23, \"dist_1500m\": 23, \"dist_4000m\": 23}, {\"dist_500m\": 3, \"dist_1500m\": 3, \"dist_4000m\": 3}, {\"dist_500m\": 23, \"dist_1500m\": 23, \"dist_4000m\": 23}, {\"dist_500m\": 23, \"dist_1500m\": 23, \"dist_4000m\": 23}, {\"dist_500m\": 23, \"dist_1500m\": 23, \"dist_4000m\": 23}, {\"dist_500m\": 23, \"dist_1500m\": 23, \"dist_4000m\": 23}, {\"dist_500m\": 3, \"dist_1500m\": 3, \"dist_4000m\": 3}, {\"dist_500m\": 23, \"dist_1500m\": 23, \"dist_4000m\": 23}, {\"dist_500m\": 23, \"dist_1500m\": 23, \"dist_4000m\": 23}, {\"dist_500m\": 23, \"dist_1500m\": 23, \"dist_4000m\": 23}, {\"dist_500m\": 23, \"dist_1500m\": 23, \"dist_4000m\": 23}, {\"dist_500m\": 4, \"dist_1500m\": 17, \"dist_4000m\": 33}, {\"dist_500m\": 1, \"dist_1500m\": 2, \"dist_4000m\": 5}, {\"dist_500m\": 1, \"dist_1500m\": 1, \"dist_4000m\": 2}, {\"dist_500m\": 2, \"dist_1500m\": 10, \"dist_4000m\": 36}, {\"dist_500m\": 2, \"dist_1500m\": 15, \"dist_4000m\": 73}, {\"dist_500m\": 1, \"dist_1500m\": 1, \"dist_4000m\": 1}, {\"dist_500m\": 3, \"dist_1500m\": 4, \"dist_4000m\": 9}, {\"dist_500m\": 5, \"dist_1500m\": 39, \"dist_4000m\": 93}, {\"dist_500m\": 1, \"dist_1500m\": 2, \"dist_4000m\": 14}, {\"dist_500m\": 1, \"dist_1500m\": 10, \"dist_4000m\": 31}, {\"dist_500m\": 2, \"dist_1500m\": 2, \"dist_4000m\": 2}, {\"dist_500m\": 1, \"dist_1500m\": 1, \"dist_4000m\": 1}, {\"dist_500m\": 4, \"dist_1500m\": 19, \"dist_4000m\": 62}, {\"dist_500m\": 1, \"dist_1500m\": 6, \"dist_4000m\": 19}, {\"dist_500m\": 26, \"dist_1500m\": 59, \"dist_4000m\": 101}, {\"dist_500m\": 20, \"dist_1500m\": 59, \"dist_4000m\": 101}, {\"dist_500m\": 15, \"dist_1500m\": 170, \"dist_4000m\": 332}, {\"dist_500m\": 2, \"dist_1500m\": 2, \"dist_4000m\": 2}, {\"dist_500m\": 1, \"dist_1500m\": 2, \"dist_4000m\": 36}, {\"dist_500m\": 1, \"dist_1500m\": 1, \"dist_4000m\": 1}, {\"dist_500m\": 21, \"dist_1500m\": 63, \"dist_4000m\": 124}, {\"dist_500m\": 20, \"dist_1500m\": 63, \"dist_4000m\": 122}, {\"dist_500m\": 20, \"dist_1500m\": 64, \"dist_4000m\": 122}, {\"dist_500m\": 21, \"dist_1500m\": 62, \"dist_4000m\": 122}, {\"dist_500m\": 21, \"dist_1500m\": 63, \"dist_4000m\": 123}, {\"dist_500m\": 3, \"dist_1500m\": 14, \"dist_4000m\": 18}, {\"dist_500m\": 3, \"dist_1500m\": 15, \"dist_4000m\": 18}, {\"dist_500m\": 3, \"dist_1500m\": 13, \"dist_4000m\": 18}, {\"dist_500m\": 2, \"dist_1500m\": 5, \"dist_4000m\": 6}, {\"dist_500m\": 1, \"dist_1500m\": 1, \"dist_4000m\": 1}, {\"dist_500m\": 12, \"dist_1500m\": 183, \"dist_4000m\": 311}, {\"dist_500m\": 7, \"dist_1500m\": 18, \"dist_4000m\": 72}, {\"dist_500m\": 2, \"dist_1500m\": 3, \"dist_4000m\": 11}, {\"dist_500m\": 2, \"dist_1500m\": 3, \"dist_4000m\": 7}, {\"dist_500m\": 2, \"dist_1500m\": 3, \"dist_4000m\": 4}, {\"dist_500m\": 2, \"dist_1500m\": 25, \"dist_4000m\": 144}, {\"dist_500m\": 15, \"dist_1500m\": 23, \"dist_4000m\": 120}, {\"dist_500m\": 15, \"dist_1500m\": 22, \"dist_4000m\": 123}, {\"dist_500m\": 15, \"dist_1500m\": 23, \"dist_4000m\": 120}, {\"dist_500m\": 3, \"dist_1500m\": 6, \"dist_4000m\": 11}, {\"dist_500m\": 14, \"dist_1500m\": 151, \"dist_4000m\": 325}, {\"dist_500m\": 7, \"dist_1500m\": 17, \"dist_4000m\": 74}, {\"dist_500m\": 7, \"dist_1500m\": 17, \"dist_4000m\": 74}, {\"dist_500m\": 3, \"dist_1500m\": 4, \"dist_4000m\": 6}, {\"dist_500m\": 2, \"dist_1500m\": 7, \"dist_4000m\": 38}, {\"dist_500m\": 4, \"dist_1500m\": 8, \"dist_4000m\": 34}, {\"dist_500m\": 1, \"dist_1500m\": 1, \"dist_4000m\": 11}, {\"dist_500m\": 4, \"dist_1500m\": 9, \"dist_4000m\": 18}, {\"dist_500m\": 2, \"dist_1500m\": 3, \"dist_4000m\": 11}, {\"dist_500m\": 20, \"dist_1500m\": 180, \"dist_4000m\": 309}, {\"dist_500m\": 4, \"dist_1500m\": 20, \"dist_4000m\": 58}, {\"dist_500m\": 1, \"dist_1500m\": 1, \"dist_4000m\": 5}, {\"dist_500m\": 1, \"dist_1500m\": 1, \"dist_4000m\": 1}, {\"dist_500m\": 1, \"dist_1500m\": 4, \"dist_4000m\": 13}, {\"dist_500m\": 7, \"dist_1500m\": 17, \"dist_4000m\": 74}, {\"dist_500m\": 10, \"dist_1500m\": 36, \"dist_4000m\": 301}, {\"dist_500m\": 7, \"dist_1500m\": 17, \"dist_4000m\": 74}, {\"dist_500m\": 4, \"dist_1500m\": 10, \"dist_4000m\": 10}, {\"dist_500m\": 4, \"dist_1500m\": 12, \"dist_4000m\": 53}, {\"dist_500m\": 2, \"dist_1500m\": 3, \"dist_4000m\": 7}, {\"dist_500m\": 10, \"dist_1500m\": 29, \"dist_4000m\": 75}, {\"dist_500m\": 1, \"dist_1500m\": 1, \"dist_4000m\": 10}, {\"dist_500m\": 11, \"dist_1500m\": 21, \"dist_4000m\": 34}, {\"dist_500m\": 10, \"dist_1500m\": 37, \"dist_4000m\": 75}, {\"dist_500m\": 1, \"dist_1500m\": 2, \"dist_4000m\": 3}, {\"dist_500m\": 2, \"dist_1500m\": 19, \"dist_4000m\": 59}, {\"dist_500m\": 1, \"dist_1500m\": 1, \"dist_4000m\": 7}, {\"dist_500m\": 2, \"dist_1500m\": 8, \"dist_4000m\": 56}, {\"dist_500m\": 2, \"dist_1500m\": 5, \"dist_4000m\": 15}, {\"dist_500m\": 1, \"dist_1500m\": 1, \"dist_4000m\": 5}, {\"dist_500m\": 7, \"dist_1500m\": 9, \"dist_4000m\": 10}, {\"dist_500m\": 2, \"dist_1500m\": 5, \"dist_4000m\": 7}, {\"dist_500m\": 1, \"dist_1500m\": 2, \"dist_4000m\": 15}, {\"dist_500m\": 1, \"dist_1500m\": 1, \"dist_4000m\": 2}, {\"dist_500m\": 1, \"dist_1500m\": 2, \"dist_4000m\": 4}, {\"dist_500m\": 1, \"dist_1500m\": 1, \"dist_4000m\": 1}, {\"dist_500m\": 1, \"dist_1500m\": 1, \"dist_4000m\": 2}, {\"dist_500m\": 2, \"dist_1500m\": 6, \"dist_4000m\": 15}, {\"dist_500m\": 1, \"dist_1500m\": 1, \"dist_4000m\": 1}, {\"dist_500m\": 4, \"dist_1500m\": 16, \"dist_4000m\": 42}, {\"dist_500m\": 2, \"dist_1500m\": 9, \"dist_4000m\": 18}, {\"dist_500m\": 23, \"dist_1500m\": 46, \"dist_4000m\": 75}, {\"dist_500m\": 25, \"dist_1500m\": 44, \"dist_4000m\": 75}, {\"dist_500m\": 7, \"dist_1500m\": 9, \"dist_4000m\": 10}, {\"dist_500m\": 1, \"dist_1500m\": 1, \"dist_4000m\": 1}, {\"dist_500m\": 2, \"dist_1500m\": 2, \"dist_4000m\": 3}, {\"dist_500m\": 8, \"dist_1500m\": 8, \"dist_4000m\": 8}, {\"dist_500m\": 8, \"dist_1500m\": 8, \"dist_4000m\": 8}, {\"dist_500m\": 7, \"dist_1500m\": 7, \"dist_4000m\": 7}, {\"dist_500m\": 1, \"dist_1500m\": 3, \"dist_4000m\": 13}, {\"dist_500m\": 4, \"dist_1500m\": 20, \"dist_4000m\": 58}, {\"dist_500m\": 1, \"dist_1500m\": 1, \"dist_4000m\": 3}, {\"dist_500m\": 2, \"dist_1500m\": 8, \"dist_4000m\": 27}, {\"dist_500m\": 2, \"dist_1500m\": 4, \"dist_4000m\": 82}, {\"dist_500m\": 2, \"dist_1500m\": 2, \"dist_4000m\": 6}, {\"dist_500m\": 1, \"dist_1500m\": 1, \"dist_4000m\": 7}, {\"dist_500m\": 4, \"dist_1500m\": 4, \"dist_4000m\": 4}, {\"dist_500m\": 2, \"dist_1500m\": 22, \"dist_4000m\": 57}, {\"dist_500m\": 3, \"dist_1500m\": 12, \"dist_4000m\": 22}, {\"dist_500m\": 1, \"dist_1500m\": 1, \"dist_4000m\": 1}, {\"dist_500m\": 2, \"dist_1500m\": 2, \"dist_4000m\": 2}, {\"dist_500m\": 1, \"dist_1500m\": 2, \"dist_4000m\": 6}, {\"dist_500m\": 4, \"dist_1500m\": 4, \"dist_4000m\": 4}, {\"dist_500m\": 1, \"dist_1500m\": 1, \"dist_4000m\": 1}, {\"dist_500m\": 6, \"dist_1500m\": 25, \"dist_4000m\": 94}, {\"dist_500m\": 1, \"dist_1500m\": 1, \"dist_4000m\": 7}, {\"dist_500m\": 1, \"dist_1500m\": 1, \"dist_4000m\": 3}, {\"dist_500m\": 6, \"dist_1500m\": 59, \"dist_4000m\": 119}, {\"dist_500m\": 6, \"dist_1500m\": 80, \"dist_4000m\": 310}, {\"dist_500m\": 17, \"dist_1500m\": 70, \"dist_4000m\": 122}, {\"dist_500m\": 6, \"dist_1500m\": 27, \"dist_4000m\": 76}, {\"dist_500m\": 48, \"dist_1500m\": 128, \"dist_4000m\": 303}, {\"dist_500m\": 6, \"dist_1500m\": 28, \"dist_4000m\": 75}, {\"dist_500m\": 1, \"dist_1500m\": 11, \"dist_4000m\": 168}, {\"dist_500m\": 1, \"dist_1500m\": 3, \"dist_4000m\": 29}, {\"dist_500m\": 3, \"dist_1500m\": 3, \"dist_4000m\": 11}, {\"dist_500m\": 4, \"dist_1500m\": 10, \"dist_4000m\": 13}, {\"dist_500m\": 1, \"dist_1500m\": 5, \"dist_4000m\": 19}, {\"dist_500m\": 1, \"dist_1500m\": 1, \"dist_4000m\": 3}, {\"dist_500m\": 8, \"dist_1500m\": 15, \"dist_4000m\": 42}, {\"dist_500m\": 13, \"dist_1500m\": 37, \"dist_4000m\": 40}, {\"dist_500m\": 8, \"dist_1500m\": 16, \"dist_4000m\": 41}, {\"dist_500m\": 8, \"dist_1500m\": 15, \"dist_4000m\": 43}, {\"dist_500m\": 8, \"dist_1500m\": 16, \"dist_4000m\": 40}, {\"dist_500m\": 8, \"dist_1500m\": 15, \"dist_4000m\": 43}, {\"dist_500m\": 8, \"dist_1500m\": 16, \"dist_4000m\": 40}, {\"dist_500m\": 2, \"dist_1500m\": 5, \"dist_4000m\": 11}, {\"dist_500m\": 8, \"dist_1500m\": 16, \"dist_4000m\": 40}, {\"dist_500m\": 2, \"dist_1500m\": 2, \"dist_4000m\": 26}, {\"dist_500m\": 2, \"dist_1500m\": 2, \"dist_4000m\": 2}, {\"dist_500m\": 2, \"dist_1500m\": 4, \"dist_4000m\": 92}, {\"dist_500m\": 6, \"dist_1500m\": 24, \"dist_4000m\": 50}, {\"dist_500m\": 6, \"dist_1500m\": 26, \"dist_4000m\": 50}, {\"dist_500m\": 1, \"dist_1500m\": 3, \"dist_4000m\": 12}, {\"dist_500m\": 6, \"dist_1500m\": 9, \"dist_4000m\": 28}, {\"dist_500m\": 1, \"dist_1500m\": 2, \"dist_4000m\": 2}, {\"dist_500m\": 2, \"dist_1500m\": 2, \"dist_4000m\": 2}, {\"dist_500m\": 2, \"dist_1500m\": 2, \"dist_4000m\": 2}, {\"dist_500m\": 1, \"dist_1500m\": 1, \"dist_4000m\": 1}, {\"dist_500m\": 3, \"dist_1500m\": 5, \"dist_4000m\": 6}, {\"dist_500m\": 6, \"dist_1500m\": 22, \"dist_4000m\": 49}, {\"dist_500m\": 3, \"dist_1500m\": 5, \"dist_4000m\": 6}, {\"dist_500m\": 3, \"dist_1500m\": 5, \"dist_4000m\": 6}, {\"dist_500m\": 1, \"dist_1500m\": 13, \"dist_4000m\": 60}, {\"dist_500m\": 8, \"dist_1500m\": 36, \"dist_4000m\": 107}, {\"dist_500m\": 1, \"dist_1500m\": 7, \"dist_4000m\": 37}, {\"dist_500m\": 8, \"dist_1500m\": 35, \"dist_4000m\": 106}, {\"dist_500m\": 8, \"dist_1500m\": 34, \"dist_4000m\": 106}, {\"dist_500m\": 8, \"dist_1500m\": 20, \"dist_4000m\": 103}, {\"dist_500m\": 8, \"dist_1500m\": 8, \"dist_4000m\": 12}, {\"dist_500m\": 8, \"dist_1500m\": 8, \"dist_4000m\": 12}, {\"dist_500m\": 8, \"dist_1500m\": 8, \"dist_4000m\": 8}, {\"dist_500m\": 1, \"dist_1500m\": 1, \"dist_4000m\": 1}, {\"dist_500m\": 3, \"dist_1500m\": 10, \"dist_4000m\": 22}, {\"dist_500m\": 8, \"dist_1500m\": 21, \"dist_4000m\": 104}, {\"dist_500m\": 8, \"dist_1500m\": 21, \"dist_4000m\": 103}, {\"dist_500m\": 8, \"dist_1500m\": 20, \"dist_4000m\": 104}, {\"dist_500m\": 1, \"dist_1500m\": 1, \"dist_4000m\": 1}, {\"dist_500m\": 1, \"dist_1500m\": 1, \"dist_4000m\": 2}, {\"dist_500m\": 6, \"dist_1500m\": 16, \"dist_4000m\": 70}, {\"dist_500m\": 1, \"dist_1500m\": 3, \"dist_4000m\": 18}, {\"dist_500m\": 2, \"dist_1500m\": 2, \"dist_4000m\": 11}, {\"dist_500m\": 1, \"dist_1500m\": 6, \"dist_4000m\": 10}, {\"dist_500m\": 1, \"dist_1500m\": 2, \"dist_4000m\": 3}, {\"dist_500m\": 8, \"dist_1500m\": 37, \"dist_4000m\": 103}, {\"dist_500m\": 1, \"dist_1500m\": 4, \"dist_4000m\": 15}, {\"dist_500m\": 11, \"dist_1500m\": 24, \"dist_4000m\": 34}, {\"dist_500m\": 8, \"dist_1500m\": 30, \"dist_4000m\": 75}, {\"dist_500m\": 24, \"dist_1500m\": 60, \"dist_4000m\": 101}, {\"dist_500m\": 5, \"dist_1500m\": 30, \"dist_4000m\": 138}, {\"dist_500m\": 8, \"dist_1500m\": 21, \"dist_4000m\": 104}, {\"dist_500m\": 14, \"dist_1500m\": 151, \"dist_4000m\": 325}, {\"dist_500m\": 10, \"dist_1500m\": 16, \"dist_4000m\": 19}, {\"dist_500m\": 7, \"dist_1500m\": 26, \"dist_4000m\": 94}, {\"dist_500m\": 1, \"dist_1500m\": 5, \"dist_4000m\": 20}, {\"dist_500m\": 5, \"dist_1500m\": 13, \"dist_4000m\": 22}, {\"dist_500m\": 7, \"dist_1500m\": 27, \"dist_4000m\": 94}, {\"dist_500m\": 1, \"dist_1500m\": 2, \"dist_4000m\": 3}, {\"dist_500m\": 2, \"dist_1500m\": 2, \"dist_4000m\": 9}, {\"dist_500m\": 2, \"dist_1500m\": 7, \"dist_4000m\": 32}, {\"dist_500m\": 7, \"dist_1500m\": 7, \"dist_4000m\": 7}, {\"dist_500m\": 8, \"dist_1500m\": 8, \"dist_4000m\": 12}, {\"dist_500m\": 2, \"dist_1500m\": 2, \"dist_4000m\": 2}, {\"dist_500m\": 5, \"dist_1500m\": 16, \"dist_4000m\": 69}, {\"dist_500m\": 1, \"dist_1500m\": 2, \"dist_4000m\": 2}, {\"dist_500m\": 5, \"dist_1500m\": 31, \"dist_4000m\": 299}, {\"dist_500m\": 7, \"dist_1500m\": 14, \"dist_4000m\": 72}, {\"dist_500m\": 2, \"dist_1500m\": 4, \"dist_4000m\": 9}, {\"dist_500m\": 2, \"dist_1500m\": 2, \"dist_4000m\": 8}, {\"dist_500m\": 3, \"dist_1500m\": 4, \"dist_4000m\": 10}, {\"dist_500m\": 1, \"dist_1500m\": 3, \"dist_4000m\": 7}, {\"dist_500m\": 8, \"dist_1500m\": 8, \"dist_4000m\": 13}, {\"dist_500m\": 8, \"dist_1500m\": 8, \"dist_4000m\": 8}, {\"dist_500m\": 2, \"dist_1500m\": 2, \"dist_4000m\": 27}, {\"dist_500m\": 2, \"dist_1500m\": 8, \"dist_4000m\": 104}, {\"dist_500m\": 2, \"dist_1500m\": 4, \"dist_4000m\": 34}, {\"dist_500m\": 1, \"dist_1500m\": 12, \"dist_4000m\": 377}, {\"dist_500m\": 2, \"dist_1500m\": 5, \"dist_4000m\": 28}, {\"dist_500m\": 8, \"dist_1500m\": 28, \"dist_4000m\": 75}, {\"dist_500m\": 2, \"dist_1500m\": 6, \"dist_4000m\": 34}, {\"dist_500m\": 1, \"dist_1500m\": 1, \"dist_4000m\": 1}, {\"dist_500m\": 4, \"dist_1500m\": 8, \"dist_4000m\": 29}, {\"dist_500m\": 2, \"dist_1500m\": 2, \"dist_4000m\": 8}, {\"dist_500m\": 1, \"dist_1500m\": 1, \"dist_4000m\": 1}, {\"dist_500m\": 9, \"dist_1500m\": 41, \"dist_4000m\": 108}, {\"dist_500m\": 2, \"dist_1500m\": 3, \"dist_4000m\": 16}, {\"dist_500m\": 3, \"dist_1500m\": 7, \"dist_4000m\": 42}, {\"dist_500m\": 6, \"dist_1500m\": 16, \"dist_4000m\": 119}, {\"dist_500m\": 1, \"dist_1500m\": 5, \"dist_4000m\": 12}, {\"dist_500m\": 1, \"dist_1500m\": 1, \"dist_4000m\": 2}, {\"dist_500m\": 8, \"dist_1500m\": 8, \"dist_4000m\": 8}, {\"dist_500m\": 7, \"dist_1500m\": 7, \"dist_4000m\": 7}, {\"dist_500m\": 8, \"dist_1500m\": 8, \"dist_4000m\": 8}, {\"dist_500m\": 3, \"dist_1500m\": 17, \"dist_4000m\": 26}, {\"dist_500m\": 3, \"dist_1500m\": 17, \"dist_4000m\": 26}, {\"dist_500m\": 7, \"dist_1500m\": 7, \"dist_4000m\": 7}, {\"dist_500m\": 3, \"dist_1500m\": 17, \"dist_4000m\": 26}, {\"dist_500m\": 1, \"dist_1500m\": 1, \"dist_4000m\": 1}, {\"dist_500m\": 1, \"dist_1500m\": 2, \"dist_4000m\": 4}, {\"dist_500m\": 25, \"dist_1500m\": 44, \"dist_4000m\": 75}, {\"dist_500m\": 2, \"dist_1500m\": 30, \"dist_4000m\": 74}, {\"dist_500m\": 3, \"dist_1500m\": 7, \"dist_4000m\": 32}, {\"dist_500m\": 3, \"dist_1500m\": 3, \"dist_4000m\": 11}, {\"dist_500m\": 4, \"dist_1500m\": 9, \"dist_4000m\": 19}, {\"dist_500m\": 2, \"dist_1500m\": 6, \"dist_4000m\": 25}]}}, {\"mode\": \"vega-lite\"});\n",
       "</script>"
      ],
      "text/plain": [
       "alt.Chart(...)"
      ]
     },
     "execution_count": 29,
     "metadata": {},
     "output_type": "execute_result"
    }
   ],
   "source": [
    "alt.Chart(distances_df).mark_bar().encode(x=alt.X('dist_500m',bin=alt.Bin(step=1)), y='count()')"
   ]
  },
  {
   "cell_type": "code",
   "execution_count": 30,
   "metadata": {},
   "outputs": [
    {
     "data": {
      "text/plain": [
       "2.0"
      ]
     },
     "execution_count": 30,
     "metadata": {},
     "output_type": "execute_result"
    }
   ],
   "source": [
    "distances_df.dist_500m.quantile(0.5)"
   ]
  },
  {
   "cell_type": "code",
   "execution_count": 45,
   "metadata": {},
   "outputs": [
    {
     "data": {
      "text/plain": [
       "1270"
      ]
     },
     "execution_count": 45,
     "metadata": {},
     "output_type": "execute_result"
    }
   ],
   "source": [
    "(distances_df.dist_500m > 4).sum()"
   ]
  },
  {
   "cell_type": "code",
   "execution_count": 20,
   "metadata": {},
   "outputs": [],
   "source": [
    "distances_df.to_csv(processed_dir + \"/distances_df_new.csv\", index=False)"
   ]
  },
  {
   "cell_type": "code",
   "execution_count": 53,
   "metadata": {},
   "outputs": [
    {
     "data": {
      "text/plain": [
       "array([[<AxesSubplot:title={'center':'0'}>]], dtype=object)"
      ]
     },
     "execution_count": 53,
     "metadata": {},
     "output_type": "execute_result"
    },
    {
     "data": {
      "image/png": "[encoded data removed]",
      "text/plain": [
       "<Figure size 432x288 with 1 Axes>"
      ]
     },
     "metadata": {
      "needs_background": "light"
     },
     "output_type": "display_data"
    }
   ],
   "source": [
    "pd.DataFrame(full_list).hist()"
   ]
  },
  {
   "cell_type": "code",
   "execution_count": 62,
   "metadata": {},
   "outputs": [
    {
     "data": {
      "text/plain": [
       "(18054001, 1)"
      ]
     },
     "execution_count": 62,
     "metadata": {},
     "output_type": "execute_result"
    }
   ],
   "source": [
    "temp = pd.DataFrame(full_list)\n",
    "temp.shape"
   ]
  },
  {
   "cell_type": "code",
   "execution_count": 66,
   "metadata": {},
   "outputs": [
    {
     "data": {
      "text/plain": [
       "(0.45835667500423305,\n",
       " 1.9847089954228732,\n",
       " 3.7767634670609653,\n",
       " 5.415159706303501)"
      ]
     },
     "execution_count": 66,
     "metadata": {},
     "output_type": "execute_result"
    }
   ],
   "source": [
    "temp[0].quantile(0.01), temp[0].quantile(0.1), temp[0].quantile(0.25), temp[0].quantile(0.4)"
   ]
  },
  {
   "cell_type": "markdown",
   "metadata": {},
   "source": [
    "### Other Features"
   ]
  },
  {
   "cell_type": "code",
   "execution_count": 35,
   "metadata": {},
   "outputs": [],
   "source": [
    "listings_filtered_df['name_length'] = listings_filtered_df.name.apply(len)\n",
    "# listings_filtered_df['host_verifications_no'] = listings_filtered_df.host_verifications.apply(lambda x: len(eval(x)))\n",
    "# listings_filtered_df['amenities_no'] = listings_filtered_df.amenities.apply(lambda x: len(eval(x)))"
   ]
  },
  {
   "cell_type": "markdown",
   "metadata": {
    "tags": []
   },
   "source": [
    "## Merging all Features"
   ]
  },
  {
   "cell_type": "code",
   "execution_count": 36,
   "metadata": {},
   "outputs": [],
   "source": [
    "listings_filtered_df = listings_filtered_df.drop(columns=['amenities', 'host_verifications', 'latitude', 'longitude', 'description', 'minimum_nights', 'number_of_reviews_ltm', 'host_id', 'host_listings_count', 'estimated_bookings', 'nights_per_year'])"
   ]
  },
  {
   "cell_type": "code",
   "execution_count": 37,
   "metadata": {
    "tags": []
   },
   "outputs": [
    {
     "name": "stdout",
     "output_type": "stream",
     "text": [
      "<class 'pandas.core.frame.DataFrame'>\n",
      "RangeIndex: 4249 entries, 0 to 4248\n",
      "Data columns (total 37 columns):\n",
      " #   Column                                        Non-Null Count  Dtype  \n",
      "---  ------                                        --------------  -----  \n",
      " 0   name                                          4249 non-null   object \n",
      " 1   host_response_time                            4249 non-null   object \n",
      " 2   host_response_rate                            4249 non-null   int32  \n",
      " 3   host_acceptance_rate                          4249 non-null   int32  \n",
      " 4   host_is_superhost                             4249 non-null   bool   \n",
      " 5   host_has_profile_pic                          4249 non-null   bool   \n",
      " 6   host_identity_verified                        4249 non-null   bool   \n",
      " 7   neighbourhood_group_cleansed                  4249 non-null   object \n",
      " 8   property_type                                 4249 non-null   object \n",
      " 9   room_type                                     4249 non-null   object \n",
      " 10  accommodates                                  4249 non-null   int64  \n",
      " 11  bathrooms_text                                4249 non-null   float64\n",
      " 12  bedrooms                                      4249 non-null   float64\n",
      " 13  beds                                          4249 non-null   float64\n",
      " 14  price                                         4249 non-null   float64\n",
      " 15  availability_30                               4249 non-null   int64  \n",
      " 16  availability_60                               4249 non-null   int64  \n",
      " 17  availability_90                               4249 non-null   int64  \n",
      " 18  availability_365                              4249 non-null   int64  \n",
      " 19  number_of_reviews                             4249 non-null   int64  \n",
      " 20  number_of_reviews_l30d                        4249 non-null   int64  \n",
      " 21  review_scores_rating                          4249 non-null   float64\n",
      " 22  review_scores_accuracy                        4249 non-null   float64\n",
      " 23  review_scores_cleanliness                     4249 non-null   float64\n",
      " 24  review_scores_checkin                         4249 non-null   float64\n",
      " 25  review_scores_communication                   4249 non-null   float64\n",
      " 26  review_scores_location                        4249 non-null   float64\n",
      " 27  review_scores_value                           4249 non-null   float64\n",
      " 28  calculated_host_listings_count                4249 non-null   int64  \n",
      " 29  calculated_host_listings_count_entire_homes   4249 non-null   int64  \n",
      " 30  calculated_host_listings_count_private_rooms  4249 non-null   int64  \n",
      " 31  calculated_host_listings_count_shared_rooms   4249 non-null   int64  \n",
      " 32  reviews_per_month                             4249 non-null   float64\n",
      " 33  avg_length_of_stay                            4249 non-null   int64  \n",
      " 34  occupancy_rate                                4249 non-null   float64\n",
      " 35  income_per_month                              4249 non-null   float64\n",
      " 36  name_length                                   4249 non-null   int64  \n",
      "dtypes: bool(3), float64(14), int32(2), int64(13), object(5)\n",
      "memory usage: 1.1+ MB\n"
     ]
    }
   ],
   "source": [
    "listings_filtered_df.info()"
   ]
  },
  {
   "cell_type": "code",
   "execution_count": 38,
   "metadata": {},
   "outputs": [],
   "source": [
    "listings_merged_df = pd.concat([listings_filtered_df, verifications_df, amenities_df, distances_df], axis=1)"
   ]
  },
  {
   "cell_type": "code",
   "execution_count": 39,
   "metadata": {},
   "outputs": [
    {
     "data": {
      "text/html": [
       "<div>\n",
       "<style scoped>\n",
       "    .dataframe tbody tr th:only-of-type {\n",
       "        vertical-align: middle;\n",
       "    }\n",
       "\n",
       "    .dataframe tbody tr th {\n",
       "        vertical-align: top;\n",
       "    }\n",
       "\n",
       "    .dataframe thead th {\n",
       "        text-align: right;\n",
       "    }\n",
       "</style>\n",
       "<table border=\"1\" class=\"dataframe\">\n",
       "  <thead>\n",
       "    <tr style=\"text-align: right;\">\n",
       "      <th></th>\n",
       "      <th>name</th>\n",
       "      <th>host_response_time</th>\n",
       "      <th>host_response_rate</th>\n",
       "      <th>host_acceptance_rate</th>\n",
       "      <th>host_is_superhost</th>\n",
       "      <th>host_has_profile_pic</th>\n",
       "      <th>host_identity_verified</th>\n",
       "      <th>neighbourhood_group_cleansed</th>\n",
       "      <th>property_type</th>\n",
       "      <th>room_type</th>\n",
       "      <th>accommodates</th>\n",
       "      <th>bathrooms_text</th>\n",
       "      <th>bedrooms</th>\n",
       "      <th>beds</th>\n",
       "      <th>price</th>\n",
       "      <th>availability_30</th>\n",
       "      <th>availability_60</th>\n",
       "      <th>availability_90</th>\n",
       "      <th>availability_365</th>\n",
       "      <th>number_of_reviews</th>\n",
       "      <th>number_of_reviews_l30d</th>\n",
       "      <th>review_scores_rating</th>\n",
       "      <th>review_scores_accuracy</th>\n",
       "      <th>review_scores_cleanliness</th>\n",
       "      <th>review_scores_checkin</th>\n",
       "      <th>...</th>\n",
       "      <th>amen_Bathroom_Essentials</th>\n",
       "      <th>amen_Restuarant</th>\n",
       "      <th>amen_Breakfast</th>\n",
       "      <th>amen_Gym</th>\n",
       "      <th>amen_Pool_Sauna</th>\n",
       "      <th>amen_Games</th>\n",
       "      <th>amen_Children_Babies</th>\n",
       "      <th>amen_Dryer_Washer</th>\n",
       "      <th>amen_Backyard_Garden</th>\n",
       "      <th>amen_Beach_Water_Front</th>\n",
       "      <th>amen_Pets</th>\n",
       "      <th>amen_Kitchen</th>\n",
       "      <th>amen_Kitchen_Appliances</th>\n",
       "      <th>amen_Cooking_Dishes</th>\n",
       "      <th>amen_Host_Greeting</th>\n",
       "      <th>amen_Long_Term_Stay</th>\n",
       "      <th>amen_Indoor_Fireplace</th>\n",
       "      <th>amen_Outdoor</th>\n",
       "      <th>amen_Air_Conditioning</th>\n",
       "      <th>amen_Heating</th>\n",
       "      <th>amen_Safety_Security_First_Aid</th>\n",
       "      <th>amen_Staff</th>\n",
       "      <th>dist_500m</th>\n",
       "      <th>dist_1500m</th>\n",
       "      <th>dist_4000m</th>\n",
       "    </tr>\n",
       "  </thead>\n",
       "  <tbody>\n",
       "    <tr>\n",
       "      <th>985</th>\n",
       "      <td>Beautiful French Style Home with Panoramic Views.</td>\n",
       "      <td>within a day</td>\n",
       "      <td>100</td>\n",
       "      <td>88</td>\n",
       "      <td>True</td>\n",
       "      <td>True</td>\n",
       "      <td>True</td>\n",
       "      <td>Queen Anne</td>\n",
       "      <td>Entire residential home</td>\n",
       "      <td>Entire home/apt</td>\n",
       "      <td>12</td>\n",
       "      <td>4.0</td>\n",
       "      <td>5.0</td>\n",
       "      <td>7.0</td>\n",
       "      <td>1200.0</td>\n",
       "      <td>0</td>\n",
       "      <td>0</td>\n",
       "      <td>0</td>\n",
       "      <td>0</td>\n",
       "      <td>4</td>\n",
       "      <td>0</td>\n",
       "      <td>5.00</td>\n",
       "      <td>5.00</td>\n",
       "      <td>5.00</td>\n",
       "      <td>5.00</td>\n",
       "      <td>...</td>\n",
       "      <td>1</td>\n",
       "      <td>0</td>\n",
       "      <td>1</td>\n",
       "      <td>0</td>\n",
       "      <td>1</td>\n",
       "      <td>0</td>\n",
       "      <td>0</td>\n",
       "      <td>3</td>\n",
       "      <td>0</td>\n",
       "      <td>0</td>\n",
       "      <td>0</td>\n",
       "      <td>1</td>\n",
       "      <td>0</td>\n",
       "      <td>0</td>\n",
       "      <td>0</td>\n",
       "      <td>1</td>\n",
       "      <td>1</td>\n",
       "      <td>0</td>\n",
       "      <td>1</td>\n",
       "      <td>1</td>\n",
       "      <td>3</td>\n",
       "      <td>0</td>\n",
       "      <td>1</td>\n",
       "      <td>1</td>\n",
       "      <td>6</td>\n",
       "    </tr>\n",
       "    <tr>\n",
       "      <th>1678</th>\n",
       "      <td>Quiet Relaxing Belltown Loft-Top Floor Unit - A/C</td>\n",
       "      <td>within an hour</td>\n",
       "      <td>100</td>\n",
       "      <td>97</td>\n",
       "      <td>True</td>\n",
       "      <td>True</td>\n",
       "      <td>True</td>\n",
       "      <td>Downtown</td>\n",
       "      <td>Entire loft</td>\n",
       "      <td>Entire home/apt</td>\n",
       "      <td>2</td>\n",
       "      <td>1.5</td>\n",
       "      <td>1.0</td>\n",
       "      <td>1.0</td>\n",
       "      <td>182.0</td>\n",
       "      <td>16</td>\n",
       "      <td>46</td>\n",
       "      <td>76</td>\n",
       "      <td>166</td>\n",
       "      <td>88</td>\n",
       "      <td>0</td>\n",
       "      <td>4.94</td>\n",
       "      <td>4.94</td>\n",
       "      <td>4.88</td>\n",
       "      <td>4.91</td>\n",
       "      <td>...</td>\n",
       "      <td>5</td>\n",
       "      <td>0</td>\n",
       "      <td>0</td>\n",
       "      <td>0</td>\n",
       "      <td>0</td>\n",
       "      <td>1</td>\n",
       "      <td>0</td>\n",
       "      <td>4</td>\n",
       "      <td>0</td>\n",
       "      <td>0</td>\n",
       "      <td>0</td>\n",
       "      <td>1</td>\n",
       "      <td>9</td>\n",
       "      <td>3</td>\n",
       "      <td>0</td>\n",
       "      <td>2</td>\n",
       "      <td>0</td>\n",
       "      <td>3</td>\n",
       "      <td>2</td>\n",
       "      <td>1</td>\n",
       "      <td>5</td>\n",
       "      <td>0</td>\n",
       "      <td>1</td>\n",
       "      <td>8</td>\n",
       "      <td>18</td>\n",
       "    </tr>\n",
       "    <tr>\n",
       "      <th>3820</th>\n",
       "      <td>View. Capitol Hill, monthly rental!</td>\n",
       "      <td>within a few hours</td>\n",
       "      <td>90</td>\n",
       "      <td>82</td>\n",
       "      <td>False</td>\n",
       "      <td>True</td>\n",
       "      <td>True</td>\n",
       "      <td>Capitol Hill</td>\n",
       "      <td>Entire rental unit</td>\n",
       "      <td>Entire home/apt</td>\n",
       "      <td>4</td>\n",
       "      <td>1.0</td>\n",
       "      <td>1.0</td>\n",
       "      <td>1.0</td>\n",
       "      <td>129.0</td>\n",
       "      <td>5</td>\n",
       "      <td>28</td>\n",
       "      <td>58</td>\n",
       "      <td>333</td>\n",
       "      <td>0</td>\n",
       "      <td>0</td>\n",
       "      <td>0.00</td>\n",
       "      <td>0.00</td>\n",
       "      <td>0.00</td>\n",
       "      <td>0.00</td>\n",
       "      <td>...</td>\n",
       "      <td>1</td>\n",
       "      <td>0</td>\n",
       "      <td>0</td>\n",
       "      <td>0</td>\n",
       "      <td>0</td>\n",
       "      <td>0</td>\n",
       "      <td>0</td>\n",
       "      <td>3</td>\n",
       "      <td>0</td>\n",
       "      <td>0</td>\n",
       "      <td>0</td>\n",
       "      <td>1</td>\n",
       "      <td>0</td>\n",
       "      <td>0</td>\n",
       "      <td>0</td>\n",
       "      <td>1</td>\n",
       "      <td>0</td>\n",
       "      <td>0</td>\n",
       "      <td>1</td>\n",
       "      <td>1</td>\n",
       "      <td>2</td>\n",
       "      <td>0</td>\n",
       "      <td>27</td>\n",
       "      <td>138</td>\n",
       "      <td>342</td>\n",
       "    </tr>\n",
       "    <tr>\n",
       "      <th>2940</th>\n",
       "      <td>Capital Hill Oasis</td>\n",
       "      <td>within an hour</td>\n",
       "      <td>100</td>\n",
       "      <td>93</td>\n",
       "      <td>False</td>\n",
       "      <td>True</td>\n",
       "      <td>True</td>\n",
       "      <td>Capitol Hill</td>\n",
       "      <td>Entire condominium (condo)</td>\n",
       "      <td>Entire home/apt</td>\n",
       "      <td>2</td>\n",
       "      <td>1.0</td>\n",
       "      <td>1.0</td>\n",
       "      <td>1.0</td>\n",
       "      <td>73.0</td>\n",
       "      <td>0</td>\n",
       "      <td>1</td>\n",
       "      <td>31</td>\n",
       "      <td>306</td>\n",
       "      <td>2</td>\n",
       "      <td>0</td>\n",
       "      <td>2.50</td>\n",
       "      <td>3.50</td>\n",
       "      <td>2.50</td>\n",
       "      <td>5.00</td>\n",
       "      <td>...</td>\n",
       "      <td>2</td>\n",
       "      <td>0</td>\n",
       "      <td>0</td>\n",
       "      <td>0</td>\n",
       "      <td>0</td>\n",
       "      <td>0</td>\n",
       "      <td>0</td>\n",
       "      <td>4</td>\n",
       "      <td>1</td>\n",
       "      <td>1</td>\n",
       "      <td>0</td>\n",
       "      <td>1</td>\n",
       "      <td>5</td>\n",
       "      <td>1</td>\n",
       "      <td>0</td>\n",
       "      <td>1</td>\n",
       "      <td>0</td>\n",
       "      <td>0</td>\n",
       "      <td>0</td>\n",
       "      <td>1</td>\n",
       "      <td>4</td>\n",
       "      <td>0</td>\n",
       "      <td>9</td>\n",
       "      <td>26</td>\n",
       "      <td>103</td>\n",
       "    </tr>\n",
       "    <tr>\n",
       "      <th>1845</th>\n",
       "      <td>Seaview Retreat in Seattle</td>\n",
       "      <td>within a few hours</td>\n",
       "      <td>100</td>\n",
       "      <td>90</td>\n",
       "      <td>True</td>\n",
       "      <td>True</td>\n",
       "      <td>True</td>\n",
       "      <td>Ballard</td>\n",
       "      <td>Entire guest suite</td>\n",
       "      <td>Entire home/apt</td>\n",
       "      <td>4</td>\n",
       "      <td>1.0</td>\n",
       "      <td>2.0</td>\n",
       "      <td>2.0</td>\n",
       "      <td>142.0</td>\n",
       "      <td>0</td>\n",
       "      <td>4</td>\n",
       "      <td>17</td>\n",
       "      <td>40</td>\n",
       "      <td>93</td>\n",
       "      <td>7</td>\n",
       "      <td>4.89</td>\n",
       "      <td>4.91</td>\n",
       "      <td>4.84</td>\n",
       "      <td>4.95</td>\n",
       "      <td>...</td>\n",
       "      <td>3</td>\n",
       "      <td>0</td>\n",
       "      <td>0</td>\n",
       "      <td>0</td>\n",
       "      <td>1</td>\n",
       "      <td>1</td>\n",
       "      <td>0</td>\n",
       "      <td>3</td>\n",
       "      <td>0</td>\n",
       "      <td>0</td>\n",
       "      <td>0</td>\n",
       "      <td>1</td>\n",
       "      <td>5</td>\n",
       "      <td>2</td>\n",
       "      <td>0</td>\n",
       "      <td>1</td>\n",
       "      <td>0</td>\n",
       "      <td>1</td>\n",
       "      <td>1</td>\n",
       "      <td>1</td>\n",
       "      <td>4</td>\n",
       "      <td>0</td>\n",
       "      <td>2</td>\n",
       "      <td>4</td>\n",
       "      <td>12</td>\n",
       "    </tr>\n",
       "  </tbody>\n",
       "</table>\n",
       "<p>5 rows × 81 columns</p>\n",
       "</div>"
      ],
      "text/plain": [
       "                                                   name  host_response_time  \\\n",
       "985   Beautiful French Style Home with Panoramic Views.        within a day   \n",
       "1678  Quiet Relaxing Belltown Loft-Top Floor Unit - A/C      within an hour   \n",
       "3820                View. Capitol Hill, monthly rental!  within a few hours   \n",
       "2940                                 Capital Hill Oasis      within an hour   \n",
       "1845                         Seaview Retreat in Seattle  within a few hours   \n",
       "\n",
       "      host_response_rate  host_acceptance_rate  host_is_superhost  \\\n",
       "985                  100                    88               True   \n",
       "1678                 100                    97               True   \n",
       "3820                  90                    82              False   \n",
       "2940                 100                    93              False   \n",
       "1845                 100                    90               True   \n",
       "\n",
       "      host_has_profile_pic  host_identity_verified  \\\n",
       "985                   True                    True   \n",
       "1678                  True                    True   \n",
       "3820                  True                    True   \n",
       "2940                  True                    True   \n",
       "1845                  True                    True   \n",
       "\n",
       "     neighbourhood_group_cleansed               property_type  \\\n",
       "985                    Queen Anne     Entire residential home   \n",
       "1678                     Downtown                 Entire loft   \n",
       "3820                 Capitol Hill          Entire rental unit   \n",
       "2940                 Capitol Hill  Entire condominium (condo)   \n",
       "1845                      Ballard          Entire guest suite   \n",
       "\n",
       "            room_type  accommodates  bathrooms_text  bedrooms  beds   price  \\\n",
       "985   Entire home/apt            12             4.0       5.0   7.0  1200.0   \n",
       "1678  Entire home/apt             2             1.5       1.0   1.0   182.0   \n",
       "3820  Entire home/apt             4             1.0       1.0   1.0   129.0   \n",
       "2940  Entire home/apt             2             1.0       1.0   1.0    73.0   \n",
       "1845  Entire home/apt             4             1.0       2.0   2.0   142.0   \n",
       "\n",
       "      availability_30  availability_60  availability_90  availability_365  \\\n",
       "985                 0                0                0                 0   \n",
       "1678               16               46               76               166   \n",
       "3820                5               28               58               333   \n",
       "2940                0                1               31               306   \n",
       "1845                0                4               17                40   \n",
       "\n",
       "      number_of_reviews  number_of_reviews_l30d  review_scores_rating  \\\n",
       "985                   4                       0                  5.00   \n",
       "1678                 88                       0                  4.94   \n",
       "3820                  0                       0                  0.00   \n",
       "2940                  2                       0                  2.50   \n",
       "1845                 93                       7                  4.89   \n",
       "\n",
       "      review_scores_accuracy  review_scores_cleanliness  \\\n",
       "985                     5.00                       5.00   \n",
       "1678                    4.94                       4.88   \n",
       "3820                    0.00                       0.00   \n",
       "2940                    3.50                       2.50   \n",
       "1845                    4.91                       4.84   \n",
       "\n",
       "      review_scores_checkin  ...  amen_Bathroom_Essentials  amen_Restuarant  \\\n",
       "985                    5.00  ...                         1                0   \n",
       "1678                   4.91  ...                         5                0   \n",
       "3820                   0.00  ...                         1                0   \n",
       "2940                   5.00  ...                         2                0   \n",
       "1845                   4.95  ...                         3                0   \n",
       "\n",
       "      amen_Breakfast  amen_Gym  amen_Pool_Sauna  amen_Games  \\\n",
       "985                1         0                1           0   \n",
       "1678               0         0                0           1   \n",
       "3820               0         0                0           0   \n",
       "2940               0         0                0           0   \n",
       "1845               0         0                1           1   \n",
       "\n",
       "      amen_Children_Babies  amen_Dryer_Washer  amen_Backyard_Garden  \\\n",
       "985                      0                  3                     0   \n",
       "1678                     0                  4                     0   \n",
       "3820                     0                  3                     0   \n",
       "2940                     0                  4                     1   \n",
       "1845                     0                  3                     0   \n",
       "\n",
       "      amen_Beach_Water_Front  amen_Pets  amen_Kitchen  \\\n",
       "985                        0          0             1   \n",
       "1678                       0          0             1   \n",
       "3820                       0          0             1   \n",
       "2940                       1          0             1   \n",
       "1845                       0          0             1   \n",
       "\n",
       "      amen_Kitchen_Appliances  amen_Cooking_Dishes  amen_Host_Greeting  \\\n",
       "985                         0                    0                   0   \n",
       "1678                        9                    3                   0   \n",
       "3820                        0                    0                   0   \n",
       "2940                        5                    1                   0   \n",
       "1845                        5                    2                   0   \n",
       "\n",
       "      amen_Long_Term_Stay  amen_Indoor_Fireplace  amen_Outdoor  \\\n",
       "985                     1                      1             0   \n",
       "1678                    2                      0             3   \n",
       "3820                    1                      0             0   \n",
       "2940                    1                      0             0   \n",
       "1845                    1                      0             1   \n",
       "\n",
       "      amen_Air_Conditioning  amen_Heating  amen_Safety_Security_First_Aid  \\\n",
       "985                       1             1                               3   \n",
       "1678                      2             1                               5   \n",
       "3820                      1             1                               2   \n",
       "2940                      0             1                               4   \n",
       "1845                      1             1                               4   \n",
       "\n",
       "      amen_Staff  dist_500m  dist_1500m  dist_4000m  \n",
       "985            0          1           1           6  \n",
       "1678           0          1           8          18  \n",
       "3820           0         27         138         342  \n",
       "2940           0          9          26         103  \n",
       "1845           0          2           4          12  \n",
       "\n",
       "[5 rows x 81 columns]"
      ]
     },
     "execution_count": 39,
     "metadata": {},
     "output_type": "execute_result"
    }
   ],
   "source": [
    "listings_merged_df.sample(5)"
   ]
  },
  {
   "cell_type": "code",
   "execution_count": 40,
   "metadata": {},
   "outputs": [],
   "source": [
    "listings_merged_df.to_csv(processed_dir + '/listings_merged_df.csv', index=False)"
   ]
  },
  {
   "cell_type": "code",
   "execution_count": 192,
   "metadata": {},
   "outputs": [
    {
     "data": {
      "application/vnd.jupyter.widget-view+json": {
       "model_id": "fdd67daecd354b458b49f0bbc9b1fe56",
       "version_major": 2,
       "version_minor": 0
      },
      "text/plain": [
       "Summarize dataset:   0%|          | 0/5 [00:00<?, ?it/s]"
      ]
     },
     "metadata": {},
     "output_type": "display_data"
    },
    {
     "data": {
      "application/vnd.jupyter.widget-view+json": {
       "model_id": "50138019591543509c876ec8999c4ea5",
       "version_major": 2,
       "version_minor": 0
      },
      "text/plain": [
       "Generate report structure:   0%|          | 0/1 [00:00<?, ?it/s]"
      ]
     },
     "metadata": {},
     "output_type": "display_data"
    },
    {
     "data": {
      "application/vnd.jupyter.widget-view+json": {
       "model_id": "520fbbd5c02e47938989030e0888b6c5",
       "version_major": 2,
       "version_minor": 0
      },
      "text/plain": [
       "Render HTML:   0%|          | 0/1 [00:00<?, ?it/s]"
      ]
     },
     "metadata": {},
     "output_type": "display_data"
    },
    {
     "data": {
      "application/vnd.jupyter.widget-view+json": {
       "model_id": "ed215b3a4e3c488aa0a1cdc74e8278bf",
       "version_major": 2,
       "version_minor": 0
      },
      "text/plain": [
       "Export report to file:   0%|          | 0/1 [00:00<?, ?it/s]"
      ]
     },
     "metadata": {},
     "output_type": "display_data"
    },
    {
     "name": "stdout",
     "output_type": "stream",
     "text": [
      "Wall time: 8min 14s\n"
     ]
    }
   ],
   "source": [
    "%%time\n",
    "# Evaluating cleaned dataset with Pandas Profiling\n",
    "pp.ProfileReport(listings_merged_df,\n",
    "    title=\"Cleaned Listings Report\",\n",
    "    correlations={\n",
    "        \"pearson\": {\"calculate\": True},\n",
    "        \"spearman\": {\"calculate\": True},\n",
    "        \"kendall\": {\"calculate\": False},\n",
    "        \"phi_k\": {\"calculate\": True},\n",
    "        \"cramers\": {\"calculate\": False},\n",
    "    },plot={\n",
    "        \"dpi\": 1000, \"image_format\": \"png\"\n",
    "    }, interactions={\n",
    "        \"targets\":['income_per_month', 'dist_500m', 'occupancy_rate', 'review_scores_communication']\n",
    "    }, missing_diagrams=None ,progress_bar=True).to_file(processed_dir + '/listings_merged_profile_report.html')"
   ]
  },
  {
   "cell_type": "markdown",
   "metadata": {
    "tags": []
   },
   "source": [
    "# Analysis and Modelling\n",
    "\n",
    "In this section, I attempt to answer the 4 business questions using the cleaned data"
   ]
  },
  {
   "cell_type": "code",
   "execution_count": 594,
   "metadata": {},
   "outputs": [],
   "source": [
    "def perform_permutation_test(group_1, group_2, permutations=10_000, confidence_interval=95):\n",
    "    \"\"\"\n",
    "    This method performs a permutation test to determine if the mean difference between groups is due to random variation or if it's statistically significant\n",
    "    :param group_1:\n",
    "    :param group_2:\n",
    "    :param permutations:\n",
    "    :param confidence_interval:\n",
    "    :return:\n",
    "    \"\"\"\n",
    "    print(\"Our null hypothesis: The difference in mean values is due to random chance\")\n",
    "    group_1 = list(group_1)\n",
    "    group_2 = list(group_2)\n",
    "    mean_group_1= np.mean(group_1)\n",
    "    mean_group_2= np.mean(group_2)\n",
    "    test_statistic = mean_group_1 - mean_group_2\n",
    "    print(f\"Our test statistic is {test_statistic:,.4f}\")\n",
    "    \n",
    "    full_set = group_1 + group_2\n",
    "    proportions_group_1 = len(group_1)/len(full_set)\n",
    "    print(f\"Group 1 has a proportion of {proportions_group_1:.4f}\")\n",
    "    threshold = (1-proportions_group_1)\n",
    "    \n",
    "    # We perform the permutations\n",
    "    mean_differences = []\n",
    "    for i in range(permutations):\n",
    "        # empty array to represent a random total sales w/ profile pic\n",
    "        group_1_random = []\n",
    "        # empty array to represent a random total sales w/o profile pic\n",
    "        group_2_random = []\n",
    "\n",
    "        # use a for loop to randomonly place the total sales in one of the two lists\n",
    "        for item in full_set:\n",
    "            random_value = np.random.random()\n",
    "            # randomally assinging each value to a new list\n",
    "            if random_value > threshold:\n",
    "                group_1_random.append(item)\n",
    "            elif random_value <= threshold:\n",
    "                group_2_random.append(item)\n",
    "\n",
    "        mean_group_1 = np.mean(group_1_random)\n",
    "        mean_group_2 = np.mean(group_2_random)\n",
    "        # find the itteration mean and append to our mean difference list\n",
    "        iteration_mean_difference =  mean_group_1 - mean_group_2\n",
    "        mean_differences.append(iteration_mean_difference)\n",
    "\n",
    "    # We determine the P-Value\n",
    "    total = 0\n",
    "    for mean_diff in mean_differences:\n",
    "        if mean_diff >= test_statistic:\n",
    "            total += 1\n",
    "\n",
    "    #p value calculated by calulating percentage of values greater then the mean difference\n",
    "    p_value = total / permutations\n",
    "    print(f\"The p-value for these 2 groups is {p_value:.8f}\")\n",
    "    \n",
    "    conf_interval = 1-confidence_interval/100\n",
    "    if p_value > conf_interval :\n",
    "        print(f\"We fail to reject the Null Hypothesis\")\n",
    "    else:\n",
    "        print(f\"We reject the Null Hypothesis\")\n",
    "            \n",
    "    return p_value, mean_differences"
   ]
  },
  {
   "cell_type": "code",
   "execution_count": 593,
   "metadata": {
    "tags": []
   },
   "outputs": [],
   "source": [
    "def clean_fit_linear_mod(df, response_col, cat_cols, dummy_na, test_size=.3, rand_state=42):\n",
    "    '''\n",
    "    INPUT:\n",
    "    df - a dataframe holding all the variables of interest\n",
    "    response_col - a string holding the name of the column \n",
    "    cat_cols - list of strings that are associated with names of the categorical columns\n",
    "    dummy_na - Bool holding whether you want to dummy NA vals of categorical columns or not\n",
    "    test_size - a float between [0,1] about what proportion of data should be in the test dataset\n",
    "    rand_state - an int that is provided as the random state for splitting the data into training and test \n",
    "    \n",
    "    OUTPUT:\n",
    "    test_score - float - r2 score on the test data\n",
    "    train_score - float - r2 score on the test data\n",
    "    lm_model - model object from sklearn\n",
    "    X_train, X_test, y_train, y_test - output from sklearn train test split used for optimal model\n",
    "    \n",
    "    Your function should:\n",
    "    1. Drop the rows with missing response values\n",
    "    2. Drop columns with NaN for all the values\n",
    "    3. Use create_dummy_df to dummy categorical columns\n",
    "    4. Fill the mean of the column for any missing values \n",
    "    5. Split your data into an X matrix and a response vector y\n",
    "    6. Create training and test sets of data\n",
    "    7. Instantiate a LinearRegression model with normalized data\n",
    "    8. Fit your model to the training data\n",
    "    9. Predict the response for the training data and the test data\n",
    "    10. Obtain an rsquared value for both the training and test data\n",
    "    '''\n",
    "    #Split into explanatory and response variables\n",
    "    X = df.drop(response_col, axis=1)\n",
    "    y = df[response_col]\n",
    "\n",
    "    #Split into train and test\n",
    "    X_train, X_test, y_train, y_test = train_test_split(X, y, test_size=test_size, random_state=rand_state)\n",
    "\n",
    "    lgbm = lgb.LGBMRegressor(random_state=rand_state, n_estimators=100,\n",
    "                         n_jobs=-1, verbose=1)\\\n",
    "    .fit(X_train, y_train, eval_set=[(X_test, y_test)],\n",
    "         early_stopping_rounds=10,\n",
    "         feature_name=list(df.drop(response_col, axis=1).columns),\n",
    "         categorical_feature=cat_cols)\n",
    "\n",
    "    #Predict using your model\n",
    "    y_test_preds = lgbm.predict(X_test, num_iteration=lgbm.best_iteration_)\n",
    "    y_train_preds = lgbm.predict(X_train, num_iteration=lgbm.best_iteration_)\n",
    "\n",
    "    #Score using your model\n",
    "    test_score = r2_score(y_test, y_test_preds)\n",
    "    train_score = r2_score(y_train, y_train_preds)\n",
    "\n",
    "    return test_score, train_score, lgbm, X_train, X_test, y_train, y_test\n",
    "\n",
    "def coef_weights(coefficients, X_train):\n",
    "    '''\n",
    "    INPUT:\n",
    "    coefficients - the coefficients of the linear model \n",
    "    X_train - the training data, so the column names can be used\n",
    "    OUTPUT:\n",
    "    coefs_df - a dataframe holding the coefficient, estimate, and abs(estimate)\n",
    "    \n",
    "    Provides a dataframe that can be used to understand the most influential coefficients\n",
    "    in a linear model by providing the coefficient estimates along with the name of the \n",
    "    variable attached to the coefficient.\n",
    "    '''\n",
    "    coefs_df = pd.DataFrame()\n",
    "    coefs_df['est_int'] = X_train.columns\n",
    "    coefs_df['coefs'] = lm_model.feature_importances_\n",
    "    coefs_df = coefs_df.sort_values('coefs', ascending=False)\n",
    "    return coefs_df\n"
   ]
  },
  {
   "cell_type": "markdown",
   "metadata": {
    "tags": []
   },
   "source": [
    "## Is there a significant difference between the returns of verified and non-verified host's listings in Seattle?"
   ]
  },
  {
   "cell_type": "code",
   "execution_count": 595,
   "metadata": {},
   "outputs": [
    {
     "name": "stdout",
     "output_type": "stream",
     "text": [
      "Our null hypothesis: The difference in mean values is due to random chance\n",
      "Our test statistic is 52.8465\n",
      "Group 1 has a proportion of 0.8447\n",
      "The p-value for these 2 groups is 0.21420000\n",
      "We fail to reject the Null Hypothesis\n",
      "Wall time: 17.8 s\n"
     ]
    }
   ],
   "source": [
    "%%time\n",
    "output = perform_permutation_test(listings_merged_df[listings_merged_df.host_identity_verified==True].income_per_month , listings_merged_df[listings_merged_df.host_identity_verified==False].income_per_month)"
   ]
  },
  {
   "cell_type": "code",
   "execution_count": 596,
   "metadata": {},
   "outputs": [
    {
     "name": "stdout",
     "output_type": "stream",
     "text": [
      "Our null hypothesis: The difference in mean values is due to random chance\n",
      "Our test statistic is 0.1024\n",
      "Group 1 has a proportion of 0.8447\n",
      "The p-value for these 2 groups is 0.46420000\n",
      "We fail to reject the Null Hypothesis\n",
      "Wall time: 18.3 s\n"
     ]
    }
   ],
   "source": [
    "%%time\n",
    "output = perform_permutation_test(listings_merged_df[listings_merged_df.host_identity_verified==True].occupancy_rate , listings_merged_df[listings_merged_df.host_identity_verified==False].occupancy_rate)"
   ]
  },
  {
   "cell_type": "markdown",
   "metadata": {},
   "source": [
    "There is no significant difference between the returns of Verified and Un-verified hosts in Seattle"
   ]
  },
  {
   "cell_type": "markdown",
   "metadata": {
    "tags": []
   },
   "source": [
    "## Is there a significant difference between the returns of super-Host Listings and Non-Superhost in Seattle?"
   ]
  },
  {
   "cell_type": "code",
   "execution_count": 597,
   "metadata": {},
   "outputs": [
    {
     "name": "stdout",
     "output_type": "stream",
     "text": [
      "Our null hypothesis: The difference in mean values is due to random chance\n",
      "Our test statistic is 925.8078\n",
      "Group 1 has a proportion of 0.4375\n",
      "The p-value for these 2 groups is 0.00000000\n",
      "We reject the Null Hypothesis\n",
      "Wall time: 18.4 s\n"
     ]
    }
   ],
   "source": [
    "%%time\n",
    "output = perform_permutation_test(listings_merged_df[listings_merged_df.host_is_superhost==True].income_per_month , listings_merged_df[listings_merged_df.host_is_superhost==False].income_per_month)"
   ]
  },
  {
   "cell_type": "code",
   "execution_count": 598,
   "metadata": {},
   "outputs": [
    {
     "name": "stdout",
     "output_type": "stream",
     "text": [
      "Our null hypothesis: The difference in mean values is due to random chance\n",
      "Our test statistic is 21.1007\n",
      "Group 1 has a proportion of 0.4375\n",
      "The p-value for these 2 groups is 0.00000000\n",
      "We reject the Null Hypothesis\n",
      "Wall time: 18.9 s\n"
     ]
    }
   ],
   "source": [
    "%%time\n",
    "output = perform_permutation_test(listings_merged_df[listings_merged_df.host_is_superhost==True].occupancy_rate , listings_merged_df[listings_merged_df.host_is_superhost==False].occupancy_rate)"
   ]
  },
  {
   "cell_type": "markdown",
   "metadata": {},
   "source": [
    "There is no significant difference between the returns of Verified and Un-verified hosts in Seattle"
   ]
  },
  {
   "cell_type": "markdown",
   "metadata": {
    "tags": []
   },
   "source": [
    "## Does close proximity to competition/ certain kinds of competition affect returns of surrounding AirBnB listings?\n",
    "\n",
    "Here, I define listings that have high competition around them as those with more than 57 listings within 500m of them. 57 is the 3rd Quantile of the histogram of "
   ]
  },
  {
   "cell_type": "code",
   "execution_count": 599,
   "metadata": {},
   "outputs": [],
   "source": [
    "listings_merged_df['Many_Competitors'] = None\n",
    "listings_merged_df.loc[q2_df.dist_500m > 4, 'Many_Competitors'] = True\n",
    "listings_merged_df.loc[listings_merged_df.Many_Competitors.isna(), 'Many_Competitors'] = False\n",
    "listings_merged_df.Many_Competitors = listings_merged_df.Many_Competitors.astype(bool)"
   ]
  },
  {
   "cell_type": "code",
   "execution_count": 600,
   "metadata": {},
   "outputs": [
    {
     "name": "stdout",
     "output_type": "stream",
     "text": [
      "Our null hypothesis: The difference in mean values is due to random chance\n",
      "Our test statistic is 380.2736\n",
      "Group 1 has a proportion of 0.7011\n",
      "The p-value for these 2 groups is 0.00000000\n",
      "We reject the Null Hypothesis\n",
      "Wall time: 17.8 s\n"
     ]
    }
   ],
   "source": [
    "%%time\n",
    "output = perform_permutation_test(listings_merged_df[listings_merged_df.Many_Competitors==False].income_per_month, listings_merged_df[listings_merged_df.Many_Competitors==True].income_per_month)"
   ]
  },
  {
   "cell_type": "markdown",
   "metadata": {},
   "source": [
    "It does matter. Proximity to many competitors does have an impact on the listings revenues"
   ]
  },
  {
   "cell_type": "markdown",
   "metadata": {
    "tags": []
   },
   "source": [
    "## What factors strongly contribute to the price hosts set for their listings in Seattle?"
   ]
  },
  {
   "cell_type": "code",
   "execution_count": 590,
   "metadata": {},
   "outputs": [],
   "source": [
    "modelling_df = listings_merged_df.copy()"
   ]
  },
  {
   "cell_type": "code",
   "execution_count": 591,
   "metadata": {
    "collapsed": true,
    "jupyter": {
     "outputs_hidden": true
    },
    "tags": []
   },
   "outputs": [
    {
     "data": {
      "text/plain": [
       "Index(['name', 'host_response_time', 'host_response_rate',\n",
       "       'host_acceptance_rate', 'host_is_superhost', 'host_has_profile_pic',\n",
       "       'host_identity_verified', 'neighbourhood_group_cleansed',\n",
       "       'property_type', 'room_type', 'accommodates', 'bathrooms_text',\n",
       "       'bedrooms', 'beds', 'price', 'availability_30', 'availability_60',\n",
       "       'availability_90', 'availability_365', 'number_of_reviews',\n",
       "       'number_of_reviews_l30d', 'review_scores_rating',\n",
       "       'review_scores_accuracy', 'review_scores_cleanliness',\n",
       "       'review_scores_checkin', 'review_scores_communication',\n",
       "       'review_scores_location', 'review_scores_value',\n",
       "       'calculated_host_listings_count',\n",
       "       'calculated_host_listings_count_entire_homes',\n",
       "       'calculated_host_listings_count_private_rooms',\n",
       "       'calculated_host_listings_count_shared_rooms', 'reviews_per_month',\n",
       "       'avg_length_of_stay', 'occupancy_rate', 'income_per_month',\n",
       "       'name_length', 'verif_email', 'verif_phone', 'verif_reviews',\n",
       "       'verif_jumio', 'verif_selfie', 'verif_facebook', 'verif_kba',\n",
       "       'verif_work_email', 'verif_google', 'amen_TV', 'amen_TV_Entertainment',\n",
       "       'amen_Sound_System', 'amen_WorkSpace', 'amen_Internet',\n",
       "       'amen_Paid_Parking', 'amen_Free_Parking', 'amen_Clothing_Storage',\n",
       "       'amen_Linens', 'amen_House_Keeping', 'amen_Bathroom_Essentials',\n",
       "       'amen_Restuarant', 'amen_Breakfast', 'amen_Gym', 'amen_Pool_Sauna',\n",
       "       'amen_Games', 'amen_Children_Babies', 'amen_Dryer_Washer',\n",
       "       'amen_Backyard_Garden', 'amen_Beach_Water_Front', 'amen_Pets',\n",
       "       'amen_Kitchen', 'amen_Kitchen_Appliances', 'amen_Cooking_Dishes',\n",
       "       'amen_Host_Greeting', 'amen_Long_Term_Stay', 'amen_Indoor_Fireplace',\n",
       "       'amen_Outdoor', 'amen_Air_Conditioning', 'amen_Heating',\n",
       "       'amen_Safety_Security_First_Aid', 'amen_Staff', 'dist_500m',\n",
       "       'dist_1500m', 'dist_4000m', 'Many_Competitors'],\n",
       "      dtype='object')"
      ]
     },
     "execution_count": 591,
     "metadata": {},
     "output_type": "execute_result"
    }
   ],
   "source": [
    "modelling_df.columns"
   ]
  },
  {
   "cell_type": "code",
   "execution_count": 592,
   "metadata": {
    "tags": []
   },
   "outputs": [],
   "source": [
    "modelling_df = modelling_df[['neighbourhood_group_cleansed',\n",
    "       'property_type', 'room_type', 'accommodates', 'amen_TV_Entertainment',\n",
    "       'amen_Sound_System', 'amen_WorkSpace', 'amen_Internet',\n",
    "       'amen_Paid_Parking', 'amen_Free_Parking', 'amen_Clothing_Storage',\n",
    "       'amen_Linens', 'amen_House_Keeping', 'amen_Bathroom_Essentials',\n",
    "       'amen_Restuarant', 'amen_Breakfast', 'amen_Gym', 'amen_Pool_Sauna',\n",
    "       'amen_Games', 'amen_Children_Babies', 'amen_Dryer_Washer',\n",
    "       'amen_Backyard_Garden', 'amen_Beach_Water_Front', 'amen_Pets',\n",
    "       'amen_Kitchen', 'amen_Kitchen_Appliances', 'amen_Cooking_Dishes',\n",
    "       'amen_Host_Greeting', 'amen_Long_Term_Stay', 'amen_Indoor_Fireplace',\n",
    "       'amen_Outdoor', 'amen_Air_Conditioning', 'amen_Heating',\n",
    "       'amen_Safety_Security_First_Aid', 'amen_Staff', 'dist_500m', 'price']]"
   ]
  },
  {
   "cell_type": "code",
   "execution_count": 560,
   "metadata": {},
   "outputs": [
    {
     "data": {
      "text/html": [
       "<div>\n",
       "<style scoped>\n",
       "    .dataframe tbody tr th:only-of-type {\n",
       "        vertical-align: middle;\n",
       "    }\n",
       "\n",
       "    .dataframe tbody tr th {\n",
       "        vertical-align: top;\n",
       "    }\n",
       "\n",
       "    .dataframe thead th {\n",
       "        text-align: right;\n",
       "    }\n",
       "</style>\n",
       "<table border=\"1\" class=\"dataframe\">\n",
       "  <thead>\n",
       "    <tr style=\"text-align: right;\">\n",
       "      <th></th>\n",
       "      <th>neighbourhood_group_cleansed</th>\n",
       "      <th>property_type</th>\n",
       "      <th>room_type</th>\n",
       "      <th>accommodates</th>\n",
       "      <th>amen_TV_Entertainment</th>\n",
       "      <th>amen_Sound_System</th>\n",
       "      <th>amen_WorkSpace</th>\n",
       "      <th>amen_Internet</th>\n",
       "      <th>amen_Paid_Parking</th>\n",
       "      <th>amen_Free_Parking</th>\n",
       "      <th>amen_Clothing_Storage</th>\n",
       "      <th>amen_Linens</th>\n",
       "      <th>amen_House_Keeping</th>\n",
       "      <th>amen_Bathroom_Essentials</th>\n",
       "      <th>amen_Restuarant</th>\n",
       "      <th>amen_Breakfast</th>\n",
       "      <th>amen_Gym</th>\n",
       "      <th>amen_Pool_Sauna</th>\n",
       "      <th>amen_Games</th>\n",
       "      <th>amen_Children_Babies</th>\n",
       "      <th>amen_Dryer_Washer</th>\n",
       "      <th>amen_Backyard_Garden</th>\n",
       "      <th>amen_Beach_Water_Front</th>\n",
       "      <th>amen_Pets</th>\n",
       "      <th>amen_Kitchen</th>\n",
       "      <th>amen_Kitchen_Appliances</th>\n",
       "      <th>amen_Cooking_Dishes</th>\n",
       "      <th>amen_Host_Greeting</th>\n",
       "      <th>amen_Long_Term_Stay</th>\n",
       "      <th>amen_Indoor_Fireplace</th>\n",
       "      <th>amen_Outdoor</th>\n",
       "      <th>amen_Air_Conditioning</th>\n",
       "      <th>amen_Heating</th>\n",
       "      <th>amen_Safety_Security_First_Aid</th>\n",
       "      <th>amen_Staff</th>\n",
       "      <th>dist_500m</th>\n",
       "      <th>price</th>\n",
       "    </tr>\n",
       "  </thead>\n",
       "  <tbody>\n",
       "    <tr>\n",
       "      <th>839</th>\n",
       "      <td>Capitol Hill</td>\n",
       "      <td>Entire guesthouse</td>\n",
       "      <td>Entire home/apt</td>\n",
       "      <td>2</td>\n",
       "      <td>0</td>\n",
       "      <td>0</td>\n",
       "      <td>1</td>\n",
       "      <td>1</td>\n",
       "      <td>0</td>\n",
       "      <td>2</td>\n",
       "      <td>1</td>\n",
       "      <td>0</td>\n",
       "      <td>1</td>\n",
       "      <td>2</td>\n",
       "      <td>0</td>\n",
       "      <td>0</td>\n",
       "      <td>0</td>\n",
       "      <td>0</td>\n",
       "      <td>0</td>\n",
       "      <td>0</td>\n",
       "      <td>3</td>\n",
       "      <td>0</td>\n",
       "      <td>0</td>\n",
       "      <td>0</td>\n",
       "      <td>0</td>\n",
       "      <td>3</td>\n",
       "      <td>1</td>\n",
       "      <td>0</td>\n",
       "      <td>1</td>\n",
       "      <td>0</td>\n",
       "      <td>0</td>\n",
       "      <td>0</td>\n",
       "      <td>1</td>\n",
       "      <td>5</td>\n",
       "      <td>0</td>\n",
       "      <td>1</td>\n",
       "      <td>83.0</td>\n",
       "    </tr>\n",
       "    <tr>\n",
       "      <th>2591</th>\n",
       "      <td>Capitol Hill</td>\n",
       "      <td>Entire rental unit</td>\n",
       "      <td>Entire home/apt</td>\n",
       "      <td>2</td>\n",
       "      <td>2</td>\n",
       "      <td>0</td>\n",
       "      <td>0</td>\n",
       "      <td>1</td>\n",
       "      <td>1</td>\n",
       "      <td>0</td>\n",
       "      <td>1</td>\n",
       "      <td>1</td>\n",
       "      <td>1</td>\n",
       "      <td>2</td>\n",
       "      <td>0</td>\n",
       "      <td>0</td>\n",
       "      <td>1</td>\n",
       "      <td>0</td>\n",
       "      <td>0</td>\n",
       "      <td>0</td>\n",
       "      <td>4</td>\n",
       "      <td>0</td>\n",
       "      <td>0</td>\n",
       "      <td>0</td>\n",
       "      <td>1</td>\n",
       "      <td>4</td>\n",
       "      <td>0</td>\n",
       "      <td>0</td>\n",
       "      <td>1</td>\n",
       "      <td>0</td>\n",
       "      <td>1</td>\n",
       "      <td>0</td>\n",
       "      <td>1</td>\n",
       "      <td>3</td>\n",
       "      <td>0</td>\n",
       "      <td>18</td>\n",
       "      <td>161.0</td>\n",
       "    </tr>\n",
       "    <tr>\n",
       "      <th>1356</th>\n",
       "      <td>Central Area</td>\n",
       "      <td>Entire townhouse</td>\n",
       "      <td>Entire home/apt</td>\n",
       "      <td>6</td>\n",
       "      <td>2</td>\n",
       "      <td>0</td>\n",
       "      <td>1</td>\n",
       "      <td>1</td>\n",
       "      <td>0</td>\n",
       "      <td>2</td>\n",
       "      <td>1</td>\n",
       "      <td>2</td>\n",
       "      <td>1</td>\n",
       "      <td>2</td>\n",
       "      <td>0</td>\n",
       "      <td>0</td>\n",
       "      <td>0</td>\n",
       "      <td>0</td>\n",
       "      <td>0</td>\n",
       "      <td>1</td>\n",
       "      <td>4</td>\n",
       "      <td>0</td>\n",
       "      <td>0</td>\n",
       "      <td>0</td>\n",
       "      <td>1</td>\n",
       "      <td>5</td>\n",
       "      <td>2</td>\n",
       "      <td>0</td>\n",
       "      <td>1</td>\n",
       "      <td>0</td>\n",
       "      <td>1</td>\n",
       "      <td>0</td>\n",
       "      <td>1</td>\n",
       "      <td>5</td>\n",
       "      <td>0</td>\n",
       "      <td>2</td>\n",
       "      <td>300.0</td>\n",
       "    </tr>\n",
       "    <tr>\n",
       "      <th>1200</th>\n",
       "      <td>Downtown</td>\n",
       "      <td>Entire residential home</td>\n",
       "      <td>Entire home/apt</td>\n",
       "      <td>6</td>\n",
       "      <td>2</td>\n",
       "      <td>0</td>\n",
       "      <td>1</td>\n",
       "      <td>1</td>\n",
       "      <td>0</td>\n",
       "      <td>1</td>\n",
       "      <td>0</td>\n",
       "      <td>1</td>\n",
       "      <td>1</td>\n",
       "      <td>2</td>\n",
       "      <td>0</td>\n",
       "      <td>0</td>\n",
       "      <td>1</td>\n",
       "      <td>2</td>\n",
       "      <td>0</td>\n",
       "      <td>0</td>\n",
       "      <td>4</td>\n",
       "      <td>1</td>\n",
       "      <td>0</td>\n",
       "      <td>0</td>\n",
       "      <td>1</td>\n",
       "      <td>5</td>\n",
       "      <td>1</td>\n",
       "      <td>0</td>\n",
       "      <td>1</td>\n",
       "      <td>0</td>\n",
       "      <td>1</td>\n",
       "      <td>1</td>\n",
       "      <td>1</td>\n",
       "      <td>3</td>\n",
       "      <td>0</td>\n",
       "      <td>1</td>\n",
       "      <td>246.0</td>\n",
       "    </tr>\n",
       "    <tr>\n",
       "      <th>2955</th>\n",
       "      <td>Downtown</td>\n",
       "      <td>Entire rental unit</td>\n",
       "      <td>Entire home/apt</td>\n",
       "      <td>2</td>\n",
       "      <td>0</td>\n",
       "      <td>0</td>\n",
       "      <td>1</td>\n",
       "      <td>1</td>\n",
       "      <td>0</td>\n",
       "      <td>0</td>\n",
       "      <td>1</td>\n",
       "      <td>0</td>\n",
       "      <td>1</td>\n",
       "      <td>1</td>\n",
       "      <td>0</td>\n",
       "      <td>0</td>\n",
       "      <td>0</td>\n",
       "      <td>0</td>\n",
       "      <td>0</td>\n",
       "      <td>0</td>\n",
       "      <td>3</td>\n",
       "      <td>0</td>\n",
       "      <td>0</td>\n",
       "      <td>0</td>\n",
       "      <td>1</td>\n",
       "      <td>0</td>\n",
       "      <td>0</td>\n",
       "      <td>0</td>\n",
       "      <td>1</td>\n",
       "      <td>0</td>\n",
       "      <td>0</td>\n",
       "      <td>0</td>\n",
       "      <td>1</td>\n",
       "      <td>1</td>\n",
       "      <td>0</td>\n",
       "      <td>48</td>\n",
       "      <td>354.0</td>\n",
       "    </tr>\n",
       "  </tbody>\n",
       "</table>\n",
       "</div>"
      ],
      "text/plain": [
       "     neighbourhood_group_cleansed            property_type        room_type  \\\n",
       "839                  Capitol Hill        Entire guesthouse  Entire home/apt   \n",
       "2591                 Capitol Hill       Entire rental unit  Entire home/apt   \n",
       "1356                 Central Area         Entire townhouse  Entire home/apt   \n",
       "1200                     Downtown  Entire residential home  Entire home/apt   \n",
       "2955                     Downtown       Entire rental unit  Entire home/apt   \n",
       "\n",
       "      accommodates  amen_TV_Entertainment  amen_Sound_System  amen_WorkSpace  \\\n",
       "839              2                      0                  0               1   \n",
       "2591             2                      2                  0               0   \n",
       "1356             6                      2                  0               1   \n",
       "1200             6                      2                  0               1   \n",
       "2955             2                      0                  0               1   \n",
       "\n",
       "      amen_Internet  amen_Paid_Parking  amen_Free_Parking  \\\n",
       "839               1                  0                  2   \n",
       "2591              1                  1                  0   \n",
       "1356              1                  0                  2   \n",
       "1200              1                  0                  1   \n",
       "2955              1                  0                  0   \n",
       "\n",
       "      amen_Clothing_Storage  amen_Linens  amen_House_Keeping  \\\n",
       "839                       1            0                   1   \n",
       "2591                      1            1                   1   \n",
       "1356                      1            2                   1   \n",
       "1200                      0            1                   1   \n",
       "2955                      1            0                   1   \n",
       "\n",
       "      amen_Bathroom_Essentials  amen_Restuarant  amen_Breakfast  amen_Gym  \\\n",
       "839                          2                0               0         0   \n",
       "2591                         2                0               0         1   \n",
       "1356                         2                0               0         0   \n",
       "1200                         2                0               0         1   \n",
       "2955                         1                0               0         0   \n",
       "\n",
       "      amen_Pool_Sauna  amen_Games  amen_Children_Babies  amen_Dryer_Washer  \\\n",
       "839                 0           0                     0                  3   \n",
       "2591                0           0                     0                  4   \n",
       "1356                0           0                     1                  4   \n",
       "1200                2           0                     0                  4   \n",
       "2955                0           0                     0                  3   \n",
       "\n",
       "      amen_Backyard_Garden  amen_Beach_Water_Front  amen_Pets  amen_Kitchen  \\\n",
       "839                      0                       0          0             0   \n",
       "2591                     0                       0          0             1   \n",
       "1356                     0                       0          0             1   \n",
       "1200                     1                       0          0             1   \n",
       "2955                     0                       0          0             1   \n",
       "\n",
       "      amen_Kitchen_Appliances  amen_Cooking_Dishes  amen_Host_Greeting  \\\n",
       "839                         3                    1                   0   \n",
       "2591                        4                    0                   0   \n",
       "1356                        5                    2                   0   \n",
       "1200                        5                    1                   0   \n",
       "2955                        0                    0                   0   \n",
       "\n",
       "      amen_Long_Term_Stay  amen_Indoor_Fireplace  amen_Outdoor  \\\n",
       "839                     1                      0             0   \n",
       "2591                    1                      0             1   \n",
       "1356                    1                      0             1   \n",
       "1200                    1                      0             1   \n",
       "2955                    1                      0             0   \n",
       "\n",
       "      amen_Air_Conditioning  amen_Heating  amen_Safety_Security_First_Aid  \\\n",
       "839                       0             1                               5   \n",
       "2591                      0             1                               3   \n",
       "1356                      0             1                               5   \n",
       "1200                      1             1                               3   \n",
       "2955                      0             1                               1   \n",
       "\n",
       "      amen_Staff  dist_500m  price  \n",
       "839            0          1   83.0  \n",
       "2591           0         18  161.0  \n",
       "1356           0          2  300.0  \n",
       "1200           0          1  246.0  \n",
       "2955           0         48  354.0  "
      ]
     },
     "execution_count": 560,
     "metadata": {},
     "output_type": "execute_result"
    }
   ],
   "source": [
    "modelling_df.sample(5)"
   ]
  },
  {
   "cell_type": "code",
   "execution_count": 563,
   "metadata": {},
   "outputs": [],
   "source": [
    "cat_cols_lst = list(modelling_df.select_dtypes(include=['object']).columns)\n",
    "\n",
    "mapped_dict = {}\n",
    "for col in cat_cols_lst:\n",
    "    mapped_dict[col] = LabelEncoder().fit(modelling_df[col])\n",
    "    modelling_df[col] = mapped_dict[col].transform(modelling_df[col])\n",
    "\n",
    "transformer = FunctionTransformer(np.log1p)\n",
    "modelling_df.price = transformer.fit_transform(modelling_df.price)\n",
    "modelling_df.price.hist()"
   ]
  },
  {
   "cell_type": "code",
   "execution_count": 568,
   "metadata": {
    "collapsed": true,
    "jupyter": {
     "outputs_hidden": true
    },
    "tags": []
   },
   "outputs": [
    {
     "name": "stdout",
     "output_type": "stream",
     "text": [
      "[LightGBM] [Warning] Auto-choosing row-wise multi-threading, the overhead of testing was 0.000594 seconds.\n",
      "You can set `force_row_wise=true` to remove the overhead.\n",
      "And if memory is not enough, you can set `force_col_wise=true`.\n",
      "[LightGBM] [Info] Total Bins 245\n",
      "[LightGBM] [Info] Number of data points in the train set: 2974, number of used features: 35\n",
      "[LightGBM] [Info] Start training from score 4.900312\n",
      "[1]\tvalid_0's l2: 0.349155\n",
      "Training until validation scores don't improve for 10 rounds\n",
      "[2]\tvalid_0's l2: 0.311274\n",
      "[3]\tvalid_0's l2: 0.280971\n",
      "[4]\tvalid_0's l2: 0.256103\n",
      "[5]\tvalid_0's l2: 0.235761\n",
      "[6]\tvalid_0's l2: 0.218342\n",
      "[7]\tvalid_0's l2: 0.203617\n",
      "[8]\tvalid_0's l2: 0.191808\n",
      "[9]\tvalid_0's l2: 0.182227\n",
      "[10]\tvalid_0's l2: 0.174785\n",
      "[11]\tvalid_0's l2: 0.168324\n",
      "[12]\tvalid_0's l2: 0.162802\n",
      "[13]\tvalid_0's l2: 0.158341\n",
      "[14]\tvalid_0's l2: 0.154767\n",
      "[15]\tvalid_0's l2: 0.151672\n",
      "[16]\tvalid_0's l2: 0.14918\n",
      "[17]\tvalid_0's l2: 0.147191\n",
      "[18]\tvalid_0's l2: 0.14564\n",
      "[19]\tvalid_0's l2: 0.144259\n",
      "[20]\tvalid_0's l2: 0.142561\n",
      "[21]\tvalid_0's l2: 0.141288\n",
      "[22]\tvalid_0's l2: 0.140456\n",
      "[23]\tvalid_0's l2: 0.139438\n",
      "[24]\tvalid_0's l2: 0.13846\n",
      "[25]\tvalid_0's l2: 0.137981\n",
      "[26]\tvalid_0's l2: 0.137597\n",
      "[27]\tvalid_0's l2: 0.137034\n",
      "[28]\tvalid_0's l2: 0.136537\n",
      "[29]\tvalid_0's l2: 0.136367\n",
      "[30]\tvalid_0's l2: 0.136059\n",
      "[31]\tvalid_0's l2: 0.135807\n",
      "[32]\tvalid_0's l2: 0.135304\n",
      "[33]\tvalid_0's l2: 0.134968\n",
      "[34]\tvalid_0's l2: 0.134454\n",
      "[35]\tvalid_0's l2: 0.134463\n",
      "[36]\tvalid_0's l2: 0.134083\n",
      "[37]\tvalid_0's l2: 0.134079\n",
      "[38]\tvalid_0's l2: 0.134128\n",
      "[39]\tvalid_0's l2: 0.134\n",
      "[40]\tvalid_0's l2: 0.133658\n",
      "[41]\tvalid_0's l2: 0.133575\n",
      "[42]\tvalid_0's l2: 0.133806\n",
      "[43]\tvalid_0's l2: 0.133712\n",
      "[44]\tvalid_0's l2: 0.133442\n",
      "[45]\tvalid_0's l2: 0.133286\n",
      "[46]\tvalid_0's l2: 0.13315\n",
      "[47]\tvalid_0's l2: 0.13314\n",
      "[48]\tvalid_0's l2: 0.133192\n",
      "[49]\tvalid_0's l2: 0.133237\n",
      "[50]\tvalid_0's l2: 0.133184\n",
      "[51]\tvalid_0's l2: 0.13322\n",
      "[52]\tvalid_0's l2: 0.133145\n",
      "[53]\tvalid_0's l2: 0.132884\n",
      "[54]\tvalid_0's l2: 0.132995\n",
      "[55]\tvalid_0's l2: 0.133007\n",
      "[56]\tvalid_0's l2: 0.133178\n",
      "[57]\tvalid_0's l2: 0.132869\n",
      "[58]\tvalid_0's l2: 0.132739\n",
      "[59]\tvalid_0's l2: 0.132796\n",
      "[60]\tvalid_0's l2: 0.13294\n",
      "[61]\tvalid_0's l2: 0.133143\n",
      "[62]\tvalid_0's l2: 0.133142\n",
      "[63]\tvalid_0's l2: 0.133066\n",
      "[64]\tvalid_0's l2: 0.133101\n",
      "[65]\tvalid_0's l2: 0.13319\n",
      "[66]\tvalid_0's l2: 0.13323\n",
      "[67]\tvalid_0's l2: 0.133079\n",
      "[68]\tvalid_0's l2: 0.133208\n",
      "Early stopping, best iteration is:\n",
      "[58]\tvalid_0's l2: 0.132739\n",
      "Wall time: 130 ms\n"
     ]
    },
    {
     "name": "stderr",
     "output_type": "stream",
     "text": [
      "E:\\ProgramData\\Miniconda3\\envs\\project_1_udacity\\lib\\site-packages\\lightgbm\\basic.py:1702: UserWarning: Using categorical_feature in Dataset.\n",
      "  _log_warning('Using categorical_feature in Dataset.')\n",
      "E:\\ProgramData\\Miniconda3\\envs\\project_1_udacity\\lib\\site-packages\\lightgbm\\basic.py:1706: UserWarning: categorical_feature in Dataset is overridden.\n",
      "New categorical_feature is ['neighbourhood_group_cleansed', 'property_type', 'room_type']\n",
      "  'New categorical_feature is {}'.format(sorted(list(categorical_feature))))\n",
      "E:\\ProgramData\\Miniconda3\\envs\\project_1_udacity\\lib\\site-packages\\lightgbm\\basic.py:1433: UserWarning: Overriding the parameters from Reference Dataset.\n",
      "  _log_warning('Overriding the parameters from Reference Dataset.')\n",
      "E:\\ProgramData\\Miniconda3\\envs\\project_1_udacity\\lib\\site-packages\\lightgbm\\basic.py:1245: UserWarning: categorical_column in param dict is overridden.\n",
      "  _log_warning('{} in param dict is overridden.'.format(cat_alias))\n"
     ]
    }
   ],
   "source": [
    "%%time\n",
    "#Test your function with the above dataset\n",
    "test_score, train_score, lm_model, X_train, X_test, y_train, y_test = clean_fit_linear_mod(modelling_df, 'price', cat_cols_lst, dummy_na=False, rand_state=42)"
   ]
  },
  {
   "cell_type": "code",
   "execution_count": 578,
   "metadata": {},
   "outputs": [
    {
     "name": "stdout",
     "output_type": "stream",
     "text": [
      "The rsquared on the training data was 0.7788549933253837.  The rsquared on the test data was 0.6631475265528586.\n"
     ]
    }
   ],
   "source": [
    "#Print training and testing score\n",
    "print(\"The rsquared on the training data was {}.  The rsquared on the test data was {}.\".format(train_score, test_score))"
   ]
  },
  {
   "cell_type": "code",
   "execution_count": 585,
   "metadata": {},
   "outputs": [
    {
     "data": {
      "text/html": [
       "<div>\n",
       "<style scoped>\n",
       "    .dataframe tbody tr th:only-of-type {\n",
       "        vertical-align: middle;\n",
       "    }\n",
       "\n",
       "    .dataframe tbody tr th {\n",
       "        vertical-align: top;\n",
       "    }\n",
       "\n",
       "    .dataframe thead th {\n",
       "        text-align: right;\n",
       "    }\n",
       "</style>\n",
       "<table border=\"1\" class=\"dataframe\">\n",
       "  <thead>\n",
       "    <tr style=\"text-align: right;\">\n",
       "      <th></th>\n",
       "      <th>est_int</th>\n",
       "      <th>coefs</th>\n",
       "    </tr>\n",
       "  </thead>\n",
       "  <tbody>\n",
       "    <tr>\n",
       "      <th>3</th>\n",
       "      <td>accommodates</td>\n",
       "      <td>183</td>\n",
       "    </tr>\n",
       "    <tr>\n",
       "      <th>0</th>\n",
       "      <td>neighbourhood_group_cleansed</td>\n",
       "      <td>172</td>\n",
       "    </tr>\n",
       "    <tr>\n",
       "      <th>35</th>\n",
       "      <td>dist_500m</td>\n",
       "      <td>147</td>\n",
       "    </tr>\n",
       "    <tr>\n",
       "      <th>25</th>\n",
       "      <td>amen_Kitchen_Appliances</td>\n",
       "      <td>98</td>\n",
       "    </tr>\n",
       "    <tr>\n",
       "      <th>1</th>\n",
       "      <td>property_type</td>\n",
       "      <td>97</td>\n",
       "    </tr>\n",
       "  </tbody>\n",
       "</table>\n",
       "</div>"
      ],
      "text/plain": [
       "                         est_int  coefs\n",
       "3                   accommodates    183\n",
       "0   neighbourhood_group_cleansed    172\n",
       "35                     dist_500m    147\n",
       "25       amen_Kitchen_Appliances     98\n",
       "1                  property_type     97"
      ]
     },
     "execution_count": 585,
     "metadata": {},
     "output_type": "execute_result"
    }
   ],
   "source": [
    "#Use the function\n",
    "coef_df = coef_weights(lm_model, X_train)\n",
    "coef_df.head()"
   ]
  },
  {
   "cell_type": "code",
   "execution_count": 588,
   "metadata": {},
   "outputs": [
    {
     "data": {
      "text/html": [
       "\n",
       "<div id=\"altair-viz-4c7c5c1c76c74316b93d3964e0da1bde\"></div>\n",
       "<script type=\"text/javascript\">\n",
       "  (function(spec, embedOpt){\n",
       "    let outputDiv = document.currentScript.previousElementSibling;\n",
       "    if (outputDiv.id !== \"altair-viz-4c7c5c1c76c74316b93d3964e0da1bde\") {\n",
       "      outputDiv = document.getElementById(\"altair-viz-4c7c5c1c76c74316b93d3964e0da1bde\");\n",
       "    }\n",
       "    const paths = {\n",
       "      \"vega\": \"https://cdn.jsdelivr.net/npm//vega@5?noext\",\n",
       "      \"vega-lib\": \"https://cdn.jsdelivr.net/npm//vega-lib?noext\",\n",
       "      \"vega-lite\": \"https://cdn.jsdelivr.net/npm//vega-lite@4.8.1?noext\",\n",
       "      \"vega-embed\": \"https://cdn.jsdelivr.net/npm//vega-embed@6?noext\",\n",
       "    };\n",
       "\n",
       "    function loadScript(lib) {\n",
       "      return new Promise(function(resolve, reject) {\n",
       "        var s = document.createElement('script');\n",
       "        s.src = paths[lib];\n",
       "        s.async = true;\n",
       "        s.onload = () => resolve(paths[lib]);\n",
       "        s.onerror = () => reject(`Error loading script: ${paths[lib]}`);\n",
       "        document.getElementsByTagName(\"head\")[0].appendChild(s);\n",
       "      });\n",
       "    }\n",
       "\n",
       "    function showError(err) {\n",
       "      outputDiv.innerHTML = `<div class=\"error\" style=\"color:red;\">${err}</div>`;\n",
       "      throw err;\n",
       "    }\n",
       "\n",
       "    function displayChart(vegaEmbed) {\n",
       "      vegaEmbed(outputDiv, spec, embedOpt)\n",
       "        .catch(err => showError(`Javascript Error: ${err.message}<br>This usually means there's a typo in your chart specification. See the javascript console for the full traceback.`));\n",
       "    }\n",
       "\n",
       "    if(typeof define === \"function\" && define.amd) {\n",
       "      requirejs.config({paths});\n",
       "      require([\"vega-embed\"], displayChart, err => showError(`Error loading script: ${err.message}`));\n",
       "    } else if (typeof vegaEmbed === \"function\") {\n",
       "      displayChart(vegaEmbed);\n",
       "    } else {\n",
       "      loadScript(\"vega\")\n",
       "        .then(() => loadScript(\"vega-lite\"))\n",
       "        .then(() => loadScript(\"vega-embed\"))\n",
       "        .catch(showError)\n",
       "        .then(() => displayChart(vegaEmbed));\n",
       "    }\n",
       "  })({\"config\": {\"view\": {\"continuousWidth\": 400, \"continuousHeight\": 300}}, \"data\": {\"name\": \"data-f773529f50e7e722c9c7bb52efb9833d\"}, \"mark\": \"bar\", \"encoding\": {\"x\": {\"type\": \"quantitative\", \"field\": \"coefs\"}, \"y\": {\"type\": \"nominal\", \"field\": \"est_int\", \"sort\": \"-x\"}}, \"$schema\": \"https://vega.github.io/schema/vega-lite/v4.8.1.json\", \"datasets\": {\"data-f773529f50e7e722c9c7bb52efb9833d\": [{\"est_int\": \"accommodates\", \"coefs\": 183}, {\"est_int\": \"neighbourhood_group_cleansed\", \"coefs\": 172}, {\"est_int\": \"dist_500m\", \"coefs\": 147}, {\"est_int\": \"amen_Kitchen_Appliances\", \"coefs\": 98}, {\"est_int\": \"property_type\", \"coefs\": 97}, {\"est_int\": \"amen_Dryer_Washer\", \"coefs\": 91}, {\"est_int\": \"amen_Safety_Security_First_Aid\", \"coefs\": 89}, {\"est_int\": \"amen_Outdoor\", \"coefs\": 76}, {\"est_int\": \"amen_Bathroom_Essentials\", \"coefs\": 62}, {\"est_int\": \"amen_Free_Parking\", \"coefs\": 57}, {\"est_int\": \"amen_Clothing_Storage\", \"coefs\": 56}, {\"est_int\": \"amen_House_Keeping\", \"coefs\": 52}, {\"est_int\": \"amen_Cooking_Dishes\", \"coefs\": 52}, {\"est_int\": \"amen_Air_Conditioning\", \"coefs\": 47}, {\"est_int\": \"room_type\", \"coefs\": 39}, {\"est_int\": \"amen_Linens\", \"coefs\": 38}, {\"est_int\": \"amen_Indoor_Fireplace\", \"coefs\": 37}, {\"est_int\": \"amen_TV_Entertainment\", \"coefs\": 32}, {\"est_int\": \"amen_Children_Babies\", \"coefs\": 30}, {\"est_int\": \"amen_Gym\", \"coefs\": 29}, {\"est_int\": \"amen_Host_Greeting\", \"coefs\": 28}, {\"est_int\": \"amen_Backyard_Garden\", \"coefs\": 27}, {\"est_int\": \"amen_Long_Term_Stay\", \"coefs\": 24}, {\"est_int\": \"amen_Kitchen\", \"coefs\": 24}, {\"est_int\": \"amen_Internet\", \"coefs\": 23}, {\"est_int\": \"amen_Heating\", \"coefs\": 21}, {\"est_int\": \"amen_Paid_Parking\", \"coefs\": 20}, {\"est_int\": \"amen_WorkSpace\", \"coefs\": 17}, {\"est_int\": \"amen_Pool_Sauna\", \"coefs\": 17}, {\"est_int\": \"amen_Staff\", \"coefs\": 14}, {\"est_int\": \"amen_Beach_Water_Front\", \"coefs\": 13}, {\"est_int\": \"amen_Sound_System\", \"coefs\": 11}, {\"est_int\": \"amen_Games\", \"coefs\": 10}, {\"est_int\": \"amen_Restuarant\", \"coefs\": 4}, {\"est_int\": \"amen_Breakfast\", \"coefs\": 3}, {\"est_int\": \"amen_Pets\", \"coefs\": 0}]}}, {\"mode\": \"vega-lite\"});\n",
       "</script>"
      ],
      "text/plain": [
       "alt.Chart(...)"
      ]
     },
     "execution_count": 588,
     "metadata": {},
     "output_type": "execute_result"
    }
   ],
   "source": [
    "alt.Chart(coef_df).mark_bar().encode(x=alt.X('coefs:Q'), y=alt.Y('est_int:N', sort='-x'))"
   ]
  }
 ],
 "metadata": {
  "kernelspec": {
   "display_name": "Python 3 (ipykernel)",
   "language": "python",
   "name": "python3"
  },
  "language_info": {
   "codemirror_mode": {
    "name": "ipython",
    "version": 3
   },
   "file_extension": ".py",
   "mimetype": "text/x-python",
   "name": "python",
   "nbconvert_exporter": "python",
   "pygments_lexer": "ipython3",
   "version": "3.7.3"
  },
  "toc-autonumbering": true
 },
 "nbformat": 4,
 "nbformat_minor": 4
}
